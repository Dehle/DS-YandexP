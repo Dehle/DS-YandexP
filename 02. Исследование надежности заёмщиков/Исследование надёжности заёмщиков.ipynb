{
 "cells": [
  {
   "cell_type": "markdown",
   "metadata": {},
   "source": [
    "# Исследование надёжности заёмщиков\n",
    "**Заказчик** — кредитный отдел банка.\n",
    "\n",
    "**Цель:**\n",
    "  Необходимо выяснить, влияет ли семейное положение и количество детей заёмщика на факт погашения кредита в срок. \n",
    "  \n",
    "**Входные данные от банка** — статистика о платёжеспособности клиентов в виде таблицы csv.\n",
    "\n",
    "*Результаты исследования будут учтены при построении модели **кредитного скоринга** — специальной системы, которая оценивает способность потенциального заёмщика вернуть кредит банку.*"
   ]
  },
  {
   "cell_type": "markdown",
   "metadata": {},
   "source": [
    "<a id=\"contents\"></a>\n",
    "## [План исследования](#contents)\n",
    "- [Описание данных](#data_description)\n",
    "- [Изучение общей информации](#start)\n",
    "- [Предобработка данных](#preprocessing)\n",
    " * [Обработка пропусков](#null)\n",
    " * [Замена типа данных](#replace)\n",
    " * [Обработка дубликатов](#duplicates)\n",
    " * [Лемматизация](#lemm)\n",
    " * [Категоризация данных](#category)\n",
    "- [Анализ](#analysis)\n",
    "- [Общий вывод](#general)\n"
   ]
  },
  {
   "cell_type": "markdown",
   "metadata": {},
   "source": [
    "<a id=\"data_description\"></a>\n",
    "## Описание данных\n",
    "Таблица состоит из следующих столбцов:\n",
    "- children — количество детей в семье\n",
    "- days_employed — трудовой стаж в днях\n",
    "- dob_years — возраст клиента в годах\n",
    "- education — образование клиента\n",
    "- education_id — идентификатор образования\n",
    "- family_status — семейное положение\n",
    "- family_status_id — идентификатор семейного положения\n",
    "- gender — пол клиента\n",
    "- income_type — тип занятости\n",
    "- debt — имел ли задолженность по возврату кредитов\n",
    "- total_income — доход в месяц"
   ]
  },
  {
   "cell_type": "markdown",
   "metadata": {},
   "source": [
    "<a id=\"start\"></a>\n",
    "## Изучение общей информации"
   ]
  },
  {
   "cell_type": "code",
   "execution_count": 1,
   "metadata": {},
   "outputs": [
    {
     "data": {
      "text/html": [
       "<div>\n",
       "<style scoped>\n",
       "    .dataframe tbody tr th:only-of-type {\n",
       "        vertical-align: middle;\n",
       "    }\n",
       "\n",
       "    .dataframe tbody tr th {\n",
       "        vertical-align: top;\n",
       "    }\n",
       "\n",
       "    .dataframe thead th {\n",
       "        text-align: right;\n",
       "    }\n",
       "</style>\n",
       "<table border=\"1\" class=\"dataframe\">\n",
       "  <thead>\n",
       "    <tr style=\"text-align: right;\">\n",
       "      <th></th>\n",
       "      <th>children</th>\n",
       "      <th>days_employed</th>\n",
       "      <th>dob_years</th>\n",
       "      <th>education</th>\n",
       "      <th>education_id</th>\n",
       "      <th>family_status</th>\n",
       "      <th>family_status_id</th>\n",
       "      <th>gender</th>\n",
       "      <th>income_type</th>\n",
       "      <th>debt</th>\n",
       "      <th>total_income</th>\n",
       "      <th>purpose</th>\n",
       "    </tr>\n",
       "  </thead>\n",
       "  <tbody>\n",
       "    <tr>\n",
       "      <td>0</td>\n",
       "      <td>1</td>\n",
       "      <td>-8437.673028</td>\n",
       "      <td>42</td>\n",
       "      <td>высшее</td>\n",
       "      <td>0</td>\n",
       "      <td>женат / замужем</td>\n",
       "      <td>0</td>\n",
       "      <td>F</td>\n",
       "      <td>сотрудник</td>\n",
       "      <td>0</td>\n",
       "      <td>253875.639453</td>\n",
       "      <td>покупка жилья</td>\n",
       "    </tr>\n",
       "    <tr>\n",
       "      <td>1</td>\n",
       "      <td>1</td>\n",
       "      <td>-4024.803754</td>\n",
       "      <td>36</td>\n",
       "      <td>среднее</td>\n",
       "      <td>1</td>\n",
       "      <td>женат / замужем</td>\n",
       "      <td>0</td>\n",
       "      <td>F</td>\n",
       "      <td>сотрудник</td>\n",
       "      <td>0</td>\n",
       "      <td>112080.014102</td>\n",
       "      <td>приобретение автомобиля</td>\n",
       "    </tr>\n",
       "    <tr>\n",
       "      <td>2</td>\n",
       "      <td>0</td>\n",
       "      <td>-5623.422610</td>\n",
       "      <td>33</td>\n",
       "      <td>Среднее</td>\n",
       "      <td>1</td>\n",
       "      <td>женат / замужем</td>\n",
       "      <td>0</td>\n",
       "      <td>M</td>\n",
       "      <td>сотрудник</td>\n",
       "      <td>0</td>\n",
       "      <td>145885.952297</td>\n",
       "      <td>покупка жилья</td>\n",
       "    </tr>\n",
       "    <tr>\n",
       "      <td>3</td>\n",
       "      <td>3</td>\n",
       "      <td>-4124.747207</td>\n",
       "      <td>32</td>\n",
       "      <td>среднее</td>\n",
       "      <td>1</td>\n",
       "      <td>женат / замужем</td>\n",
       "      <td>0</td>\n",
       "      <td>M</td>\n",
       "      <td>сотрудник</td>\n",
       "      <td>0</td>\n",
       "      <td>267628.550329</td>\n",
       "      <td>дополнительное образование</td>\n",
       "    </tr>\n",
       "    <tr>\n",
       "      <td>4</td>\n",
       "      <td>0</td>\n",
       "      <td>340266.072047</td>\n",
       "      <td>53</td>\n",
       "      <td>среднее</td>\n",
       "      <td>1</td>\n",
       "      <td>гражданский брак</td>\n",
       "      <td>1</td>\n",
       "      <td>F</td>\n",
       "      <td>пенсионер</td>\n",
       "      <td>0</td>\n",
       "      <td>158616.077870</td>\n",
       "      <td>сыграть свадьбу</td>\n",
       "    </tr>\n",
       "    <tr>\n",
       "      <td>5</td>\n",
       "      <td>0</td>\n",
       "      <td>-926.185831</td>\n",
       "      <td>27</td>\n",
       "      <td>высшее</td>\n",
       "      <td>0</td>\n",
       "      <td>гражданский брак</td>\n",
       "      <td>1</td>\n",
       "      <td>M</td>\n",
       "      <td>компаньон</td>\n",
       "      <td>0</td>\n",
       "      <td>255763.565419</td>\n",
       "      <td>покупка жилья</td>\n",
       "    </tr>\n",
       "    <tr>\n",
       "      <td>6</td>\n",
       "      <td>0</td>\n",
       "      <td>-2879.202052</td>\n",
       "      <td>43</td>\n",
       "      <td>высшее</td>\n",
       "      <td>0</td>\n",
       "      <td>женат / замужем</td>\n",
       "      <td>0</td>\n",
       "      <td>F</td>\n",
       "      <td>компаньон</td>\n",
       "      <td>0</td>\n",
       "      <td>240525.971920</td>\n",
       "      <td>операции с жильем</td>\n",
       "    </tr>\n",
       "    <tr>\n",
       "      <td>7</td>\n",
       "      <td>0</td>\n",
       "      <td>-152.779569</td>\n",
       "      <td>50</td>\n",
       "      <td>СРЕДНЕЕ</td>\n",
       "      <td>1</td>\n",
       "      <td>женат / замужем</td>\n",
       "      <td>0</td>\n",
       "      <td>M</td>\n",
       "      <td>сотрудник</td>\n",
       "      <td>0</td>\n",
       "      <td>135823.934197</td>\n",
       "      <td>образование</td>\n",
       "    </tr>\n",
       "    <tr>\n",
       "      <td>8</td>\n",
       "      <td>2</td>\n",
       "      <td>-6929.865299</td>\n",
       "      <td>35</td>\n",
       "      <td>ВЫСШЕЕ</td>\n",
       "      <td>0</td>\n",
       "      <td>гражданский брак</td>\n",
       "      <td>1</td>\n",
       "      <td>F</td>\n",
       "      <td>сотрудник</td>\n",
       "      <td>0</td>\n",
       "      <td>95856.832424</td>\n",
       "      <td>на проведение свадьбы</td>\n",
       "    </tr>\n",
       "    <tr>\n",
       "      <td>9</td>\n",
       "      <td>0</td>\n",
       "      <td>-2188.756445</td>\n",
       "      <td>41</td>\n",
       "      <td>среднее</td>\n",
       "      <td>1</td>\n",
       "      <td>женат / замужем</td>\n",
       "      <td>0</td>\n",
       "      <td>M</td>\n",
       "      <td>сотрудник</td>\n",
       "      <td>0</td>\n",
       "      <td>144425.938277</td>\n",
       "      <td>покупка жилья для семьи</td>\n",
       "    </tr>\n",
       "    <tr>\n",
       "      <td>10</td>\n",
       "      <td>2</td>\n",
       "      <td>-4171.483647</td>\n",
       "      <td>36</td>\n",
       "      <td>высшее</td>\n",
       "      <td>0</td>\n",
       "      <td>женат / замужем</td>\n",
       "      <td>0</td>\n",
       "      <td>M</td>\n",
       "      <td>компаньон</td>\n",
       "      <td>0</td>\n",
       "      <td>113943.491460</td>\n",
       "      <td>покупка недвижимости</td>\n",
       "    </tr>\n",
       "    <tr>\n",
       "      <td>11</td>\n",
       "      <td>0</td>\n",
       "      <td>-792.701887</td>\n",
       "      <td>40</td>\n",
       "      <td>среднее</td>\n",
       "      <td>1</td>\n",
       "      <td>женат / замужем</td>\n",
       "      <td>0</td>\n",
       "      <td>F</td>\n",
       "      <td>сотрудник</td>\n",
       "      <td>0</td>\n",
       "      <td>77069.234271</td>\n",
       "      <td>покупка коммерческой недвижимости</td>\n",
       "    </tr>\n",
       "    <tr>\n",
       "      <td>12</td>\n",
       "      <td>0</td>\n",
       "      <td>NaN</td>\n",
       "      <td>65</td>\n",
       "      <td>среднее</td>\n",
       "      <td>1</td>\n",
       "      <td>гражданский брак</td>\n",
       "      <td>1</td>\n",
       "      <td>M</td>\n",
       "      <td>пенсионер</td>\n",
       "      <td>0</td>\n",
       "      <td>NaN</td>\n",
       "      <td>сыграть свадьбу</td>\n",
       "    </tr>\n",
       "    <tr>\n",
       "      <td>13</td>\n",
       "      <td>0</td>\n",
       "      <td>-1846.641941</td>\n",
       "      <td>54</td>\n",
       "      <td>неоконченное высшее</td>\n",
       "      <td>2</td>\n",
       "      <td>женат / замужем</td>\n",
       "      <td>0</td>\n",
       "      <td>F</td>\n",
       "      <td>сотрудник</td>\n",
       "      <td>0</td>\n",
       "      <td>130458.228857</td>\n",
       "      <td>приобретение автомобиля</td>\n",
       "    </tr>\n",
       "    <tr>\n",
       "      <td>14</td>\n",
       "      <td>0</td>\n",
       "      <td>-1844.956182</td>\n",
       "      <td>56</td>\n",
       "      <td>высшее</td>\n",
       "      <td>0</td>\n",
       "      <td>гражданский брак</td>\n",
       "      <td>1</td>\n",
       "      <td>F</td>\n",
       "      <td>компаньон</td>\n",
       "      <td>1</td>\n",
       "      <td>165127.911772</td>\n",
       "      <td>покупка жилой недвижимости</td>\n",
       "    </tr>\n",
       "  </tbody>\n",
       "</table>\n",
       "</div>"
      ],
      "text/plain": [
       "    children  days_employed  dob_years            education  education_id  \\\n",
       "0          1   -8437.673028         42               высшее             0   \n",
       "1          1   -4024.803754         36              среднее             1   \n",
       "2          0   -5623.422610         33              Среднее             1   \n",
       "3          3   -4124.747207         32              среднее             1   \n",
       "4          0  340266.072047         53              среднее             1   \n",
       "5          0    -926.185831         27               высшее             0   \n",
       "6          0   -2879.202052         43               высшее             0   \n",
       "7          0    -152.779569         50              СРЕДНЕЕ             1   \n",
       "8          2   -6929.865299         35               ВЫСШЕЕ             0   \n",
       "9          0   -2188.756445         41              среднее             1   \n",
       "10         2   -4171.483647         36               высшее             0   \n",
       "11         0    -792.701887         40              среднее             1   \n",
       "12         0            NaN         65              среднее             1   \n",
       "13         0   -1846.641941         54  неоконченное высшее             2   \n",
       "14         0   -1844.956182         56               высшее             0   \n",
       "\n",
       "       family_status  family_status_id gender income_type  debt  \\\n",
       "0    женат / замужем                 0      F   сотрудник     0   \n",
       "1    женат / замужем                 0      F   сотрудник     0   \n",
       "2    женат / замужем                 0      M   сотрудник     0   \n",
       "3    женат / замужем                 0      M   сотрудник     0   \n",
       "4   гражданский брак                 1      F   пенсионер     0   \n",
       "5   гражданский брак                 1      M   компаньон     0   \n",
       "6    женат / замужем                 0      F   компаньон     0   \n",
       "7    женат / замужем                 0      M   сотрудник     0   \n",
       "8   гражданский брак                 1      F   сотрудник     0   \n",
       "9    женат / замужем                 0      M   сотрудник     0   \n",
       "10   женат / замужем                 0      M   компаньон     0   \n",
       "11   женат / замужем                 0      F   сотрудник     0   \n",
       "12  гражданский брак                 1      M   пенсионер     0   \n",
       "13   женат / замужем                 0      F   сотрудник     0   \n",
       "14  гражданский брак                 1      F   компаньон     1   \n",
       "\n",
       "     total_income                            purpose  \n",
       "0   253875.639453                      покупка жилья  \n",
       "1   112080.014102            приобретение автомобиля  \n",
       "2   145885.952297                      покупка жилья  \n",
       "3   267628.550329         дополнительное образование  \n",
       "4   158616.077870                    сыграть свадьбу  \n",
       "5   255763.565419                      покупка жилья  \n",
       "6   240525.971920                  операции с жильем  \n",
       "7   135823.934197                        образование  \n",
       "8    95856.832424              на проведение свадьбы  \n",
       "9   144425.938277            покупка жилья для семьи  \n",
       "10  113943.491460               покупка недвижимости  \n",
       "11   77069.234271  покупка коммерческой недвижимости  \n",
       "12            NaN                    сыграть свадьбу  \n",
       "13  130458.228857            приобретение автомобиля  \n",
       "14  165127.911772         покупка жилой недвижимости  "
      ]
     },
     "execution_count": 1,
     "metadata": {},
     "output_type": "execute_result"
    }
   ],
   "source": [
    "#импортируем библиотеки\n",
    "import pandas as pd \n",
    "from pymystem3 import Mystem\n",
    "from collections import Counter\n",
    "m = Mystem()\n",
    "df = pd.read_csv('/datasets/data.csv') #распакуем файл\n",
    "df.head(15) #изучим верхние строки таблицы\n"
   ]
  },
  {
   "cell_type": "code",
   "execution_count": 2,
   "metadata": {
    "scrolled": false
   },
   "outputs": [
    {
     "data": {
      "text/html": [
       "<div>\n",
       "<style scoped>\n",
       "    .dataframe tbody tr th:only-of-type {\n",
       "        vertical-align: middle;\n",
       "    }\n",
       "\n",
       "    .dataframe tbody tr th {\n",
       "        vertical-align: top;\n",
       "    }\n",
       "\n",
       "    .dataframe thead th {\n",
       "        text-align: right;\n",
       "    }\n",
       "</style>\n",
       "<table border=\"1\" class=\"dataframe\">\n",
       "  <thead>\n",
       "    <tr style=\"text-align: right;\">\n",
       "      <th></th>\n",
       "      <th>children</th>\n",
       "      <th>days_employed</th>\n",
       "      <th>dob_years</th>\n",
       "      <th>education</th>\n",
       "      <th>education_id</th>\n",
       "      <th>family_status</th>\n",
       "      <th>family_status_id</th>\n",
       "      <th>gender</th>\n",
       "      <th>income_type</th>\n",
       "      <th>debt</th>\n",
       "      <th>total_income</th>\n",
       "      <th>purpose</th>\n",
       "    </tr>\n",
       "  </thead>\n",
       "  <tbody>\n",
       "    <tr>\n",
       "      <td>21510</td>\n",
       "      <td>2</td>\n",
       "      <td>NaN</td>\n",
       "      <td>28</td>\n",
       "      <td>среднее</td>\n",
       "      <td>1</td>\n",
       "      <td>женат / замужем</td>\n",
       "      <td>0</td>\n",
       "      <td>F</td>\n",
       "      <td>сотрудник</td>\n",
       "      <td>0</td>\n",
       "      <td>NaN</td>\n",
       "      <td>приобретение автомобиля</td>\n",
       "    </tr>\n",
       "    <tr>\n",
       "      <td>21511</td>\n",
       "      <td>0</td>\n",
       "      <td>-612.569129</td>\n",
       "      <td>29</td>\n",
       "      <td>высшее</td>\n",
       "      <td>0</td>\n",
       "      <td>гражданский брак</td>\n",
       "      <td>1</td>\n",
       "      <td>F</td>\n",
       "      <td>сотрудник</td>\n",
       "      <td>1</td>\n",
       "      <td>140068.472941</td>\n",
       "      <td>покупка жилья для сдачи</td>\n",
       "    </tr>\n",
       "    <tr>\n",
       "      <td>21512</td>\n",
       "      <td>0</td>\n",
       "      <td>-165.377752</td>\n",
       "      <td>26</td>\n",
       "      <td>высшее</td>\n",
       "      <td>0</td>\n",
       "      <td>Не женат / не замужем</td>\n",
       "      <td>4</td>\n",
       "      <td>M</td>\n",
       "      <td>компаньон</td>\n",
       "      <td>0</td>\n",
       "      <td>147301.457769</td>\n",
       "      <td>получение дополнительного образования</td>\n",
       "    </tr>\n",
       "    <tr>\n",
       "      <td>21513</td>\n",
       "      <td>0</td>\n",
       "      <td>-1166.216789</td>\n",
       "      <td>35</td>\n",
       "      <td>среднее</td>\n",
       "      <td>1</td>\n",
       "      <td>женат / замужем</td>\n",
       "      <td>0</td>\n",
       "      <td>F</td>\n",
       "      <td>сотрудник</td>\n",
       "      <td>0</td>\n",
       "      <td>250986.142309</td>\n",
       "      <td>покупка жилья</td>\n",
       "    </tr>\n",
       "    <tr>\n",
       "      <td>21514</td>\n",
       "      <td>0</td>\n",
       "      <td>-280.469996</td>\n",
       "      <td>27</td>\n",
       "      <td>неоконченное высшее</td>\n",
       "      <td>2</td>\n",
       "      <td>Не женат / не замужем</td>\n",
       "      <td>4</td>\n",
       "      <td>M</td>\n",
       "      <td>компаньон</td>\n",
       "      <td>0</td>\n",
       "      <td>355988.407188</td>\n",
       "      <td>строительство недвижимости</td>\n",
       "    </tr>\n",
       "    <tr>\n",
       "      <td>21515</td>\n",
       "      <td>1</td>\n",
       "      <td>-467.685130</td>\n",
       "      <td>28</td>\n",
       "      <td>среднее</td>\n",
       "      <td>1</td>\n",
       "      <td>женат / замужем</td>\n",
       "      <td>0</td>\n",
       "      <td>F</td>\n",
       "      <td>сотрудник</td>\n",
       "      <td>1</td>\n",
       "      <td>109486.327999</td>\n",
       "      <td>заняться образованием</td>\n",
       "    </tr>\n",
       "    <tr>\n",
       "      <td>21516</td>\n",
       "      <td>0</td>\n",
       "      <td>-914.391429</td>\n",
       "      <td>42</td>\n",
       "      <td>высшее</td>\n",
       "      <td>0</td>\n",
       "      <td>женат / замужем</td>\n",
       "      <td>0</td>\n",
       "      <td>F</td>\n",
       "      <td>компаньон</td>\n",
       "      <td>0</td>\n",
       "      <td>322807.776603</td>\n",
       "      <td>покупка своего жилья</td>\n",
       "    </tr>\n",
       "    <tr>\n",
       "      <td>21517</td>\n",
       "      <td>0</td>\n",
       "      <td>-404.679034</td>\n",
       "      <td>42</td>\n",
       "      <td>высшее</td>\n",
       "      <td>0</td>\n",
       "      <td>гражданский брак</td>\n",
       "      <td>1</td>\n",
       "      <td>F</td>\n",
       "      <td>компаньон</td>\n",
       "      <td>0</td>\n",
       "      <td>178059.553491</td>\n",
       "      <td>на покупку своего автомобиля</td>\n",
       "    </tr>\n",
       "    <tr>\n",
       "      <td>21518</td>\n",
       "      <td>0</td>\n",
       "      <td>373995.710838</td>\n",
       "      <td>59</td>\n",
       "      <td>СРЕДНЕЕ</td>\n",
       "      <td>1</td>\n",
       "      <td>женат / замужем</td>\n",
       "      <td>0</td>\n",
       "      <td>F</td>\n",
       "      <td>пенсионер</td>\n",
       "      <td>0</td>\n",
       "      <td>153864.650328</td>\n",
       "      <td>сделка с автомобилем</td>\n",
       "    </tr>\n",
       "    <tr>\n",
       "      <td>21519</td>\n",
       "      <td>1</td>\n",
       "      <td>-2351.431934</td>\n",
       "      <td>37</td>\n",
       "      <td>ученая степень</td>\n",
       "      <td>4</td>\n",
       "      <td>в разводе</td>\n",
       "      <td>3</td>\n",
       "      <td>M</td>\n",
       "      <td>сотрудник</td>\n",
       "      <td>0</td>\n",
       "      <td>115949.039788</td>\n",
       "      <td>покупка коммерческой недвижимости</td>\n",
       "    </tr>\n",
       "    <tr>\n",
       "      <td>21520</td>\n",
       "      <td>1</td>\n",
       "      <td>-4529.316663</td>\n",
       "      <td>43</td>\n",
       "      <td>среднее</td>\n",
       "      <td>1</td>\n",
       "      <td>гражданский брак</td>\n",
       "      <td>1</td>\n",
       "      <td>F</td>\n",
       "      <td>компаньон</td>\n",
       "      <td>0</td>\n",
       "      <td>224791.862382</td>\n",
       "      <td>операции с жильем</td>\n",
       "    </tr>\n",
       "    <tr>\n",
       "      <td>21521</td>\n",
       "      <td>0</td>\n",
       "      <td>343937.404131</td>\n",
       "      <td>67</td>\n",
       "      <td>среднее</td>\n",
       "      <td>1</td>\n",
       "      <td>женат / замужем</td>\n",
       "      <td>0</td>\n",
       "      <td>F</td>\n",
       "      <td>пенсионер</td>\n",
       "      <td>0</td>\n",
       "      <td>155999.806512</td>\n",
       "      <td>сделка с автомобилем</td>\n",
       "    </tr>\n",
       "    <tr>\n",
       "      <td>21522</td>\n",
       "      <td>1</td>\n",
       "      <td>-2113.346888</td>\n",
       "      <td>38</td>\n",
       "      <td>среднее</td>\n",
       "      <td>1</td>\n",
       "      <td>гражданский брак</td>\n",
       "      <td>1</td>\n",
       "      <td>M</td>\n",
       "      <td>сотрудник</td>\n",
       "      <td>1</td>\n",
       "      <td>89672.561153</td>\n",
       "      <td>недвижимость</td>\n",
       "    </tr>\n",
       "    <tr>\n",
       "      <td>21523</td>\n",
       "      <td>3</td>\n",
       "      <td>-3112.481705</td>\n",
       "      <td>38</td>\n",
       "      <td>среднее</td>\n",
       "      <td>1</td>\n",
       "      <td>женат / замужем</td>\n",
       "      <td>0</td>\n",
       "      <td>M</td>\n",
       "      <td>сотрудник</td>\n",
       "      <td>1</td>\n",
       "      <td>244093.050500</td>\n",
       "      <td>на покупку своего автомобиля</td>\n",
       "    </tr>\n",
       "    <tr>\n",
       "      <td>21524</td>\n",
       "      <td>2</td>\n",
       "      <td>-1984.507589</td>\n",
       "      <td>40</td>\n",
       "      <td>среднее</td>\n",
       "      <td>1</td>\n",
       "      <td>женат / замужем</td>\n",
       "      <td>0</td>\n",
       "      <td>F</td>\n",
       "      <td>сотрудник</td>\n",
       "      <td>0</td>\n",
       "      <td>82047.418899</td>\n",
       "      <td>на покупку автомобиля</td>\n",
       "    </tr>\n",
       "  </tbody>\n",
       "</table>\n",
       "</div>"
      ],
      "text/plain": [
       "       children  days_employed  dob_years            education  education_id  \\\n",
       "21510         2            NaN         28              среднее             1   \n",
       "21511         0    -612.569129         29               высшее             0   \n",
       "21512         0    -165.377752         26               высшее             0   \n",
       "21513         0   -1166.216789         35              среднее             1   \n",
       "21514         0    -280.469996         27  неоконченное высшее             2   \n",
       "21515         1    -467.685130         28              среднее             1   \n",
       "21516         0    -914.391429         42               высшее             0   \n",
       "21517         0    -404.679034         42               высшее             0   \n",
       "21518         0  373995.710838         59              СРЕДНЕЕ             1   \n",
       "21519         1   -2351.431934         37       ученая степень             4   \n",
       "21520         1   -4529.316663         43              среднее             1   \n",
       "21521         0  343937.404131         67              среднее             1   \n",
       "21522         1   -2113.346888         38              среднее             1   \n",
       "21523         3   -3112.481705         38              среднее             1   \n",
       "21524         2   -1984.507589         40              среднее             1   \n",
       "\n",
       "               family_status  family_status_id gender income_type  debt  \\\n",
       "21510        женат / замужем                 0      F   сотрудник     0   \n",
       "21511       гражданский брак                 1      F   сотрудник     1   \n",
       "21512  Не женат / не замужем                 4      M   компаньон     0   \n",
       "21513        женат / замужем                 0      F   сотрудник     0   \n",
       "21514  Не женат / не замужем                 4      M   компаньон     0   \n",
       "21515        женат / замужем                 0      F   сотрудник     1   \n",
       "21516        женат / замужем                 0      F   компаньон     0   \n",
       "21517       гражданский брак                 1      F   компаньон     0   \n",
       "21518        женат / замужем                 0      F   пенсионер     0   \n",
       "21519              в разводе                 3      M   сотрудник     0   \n",
       "21520       гражданский брак                 1      F   компаньон     0   \n",
       "21521        женат / замужем                 0      F   пенсионер     0   \n",
       "21522       гражданский брак                 1      M   сотрудник     1   \n",
       "21523        женат / замужем                 0      M   сотрудник     1   \n",
       "21524        женат / замужем                 0      F   сотрудник     0   \n",
       "\n",
       "        total_income                                purpose  \n",
       "21510            NaN                приобретение автомобиля  \n",
       "21511  140068.472941                покупка жилья для сдачи  \n",
       "21512  147301.457769  получение дополнительного образования  \n",
       "21513  250986.142309                          покупка жилья  \n",
       "21514  355988.407188             строительство недвижимости  \n",
       "21515  109486.327999                  заняться образованием  \n",
       "21516  322807.776603                   покупка своего жилья  \n",
       "21517  178059.553491           на покупку своего автомобиля  \n",
       "21518  153864.650328                   сделка с автомобилем  \n",
       "21519  115949.039788      покупка коммерческой недвижимости  \n",
       "21520  224791.862382                      операции с жильем  \n",
       "21521  155999.806512                   сделка с автомобилем  \n",
       "21522   89672.561153                           недвижимость  \n",
       "21523  244093.050500           на покупку своего автомобиля  \n",
       "21524   82047.418899                  на покупку автомобиля  "
      ]
     },
     "execution_count": 2,
     "metadata": {},
     "output_type": "execute_result"
    }
   ],
   "source": [
    "df.tail(15) #изучим последние строки таблицы"
   ]
  },
  {
   "cell_type": "code",
   "execution_count": 3,
   "metadata": {
    "scrolled": true
   },
   "outputs": [
    {
     "name": "stdout",
     "output_type": "stream",
     "text": [
      "<class 'pandas.core.frame.DataFrame'>\n",
      "RangeIndex: 21525 entries, 0 to 21524\n",
      "Data columns (total 12 columns):\n",
      "children            21525 non-null int64\n",
      "days_employed       19351 non-null float64\n",
      "dob_years           21525 non-null int64\n",
      "education           21525 non-null object\n",
      "education_id        21525 non-null int64\n",
      "family_status       21525 non-null object\n",
      "family_status_id    21525 non-null int64\n",
      "gender              21525 non-null object\n",
      "income_type         21525 non-null object\n",
      "debt                21525 non-null int64\n",
      "total_income        19351 non-null float64\n",
      "purpose             21525 non-null object\n",
      "dtypes: float64(2), int64(5), object(5)\n",
      "memory usage: 2.0+ MB\n"
     ]
    }
   ],
   "source": [
    "df.info() #получим сведения о таблице"
   ]
  },
  {
   "cell_type": "code",
   "execution_count": 4,
   "metadata": {},
   "outputs": [
    {
     "data": {
      "text/plain": [
       "children               0\n",
       "days_employed       2174\n",
       "dob_years              0\n",
       "education              0\n",
       "education_id           0\n",
       "family_status          0\n",
       "family_status_id       0\n",
       "gender                 0\n",
       "income_type            0\n",
       "debt                   0\n",
       "total_income        2174\n",
       "purpose                0\n",
       "dtype: int64"
      ]
     },
     "execution_count": 4,
     "metadata": {},
     "output_type": "execute_result"
    }
   ],
   "source": [
    "# подсчитаем суммарное количество пропусков\n",
    "df.isnull().sum()"
   ]
  },
  {
   "cell_type": "code",
   "execution_count": 5,
   "metadata": {},
   "outputs": [
    {
     "data": {
      "text/html": [
       "<div>\n",
       "<style scoped>\n",
       "    .dataframe tbody tr th:only-of-type {\n",
       "        vertical-align: middle;\n",
       "    }\n",
       "\n",
       "    .dataframe tbody tr th {\n",
       "        vertical-align: top;\n",
       "    }\n",
       "\n",
       "    .dataframe thead th {\n",
       "        text-align: right;\n",
       "    }\n",
       "</style>\n",
       "<table border=\"1\" class=\"dataframe\">\n",
       "  <thead>\n",
       "    <tr style=\"text-align: right;\">\n",
       "      <th></th>\n",
       "      <th>children</th>\n",
       "      <th>days_employed</th>\n",
       "      <th>dob_years</th>\n",
       "      <th>education_id</th>\n",
       "      <th>family_status_id</th>\n",
       "      <th>debt</th>\n",
       "      <th>total_income</th>\n",
       "    </tr>\n",
       "  </thead>\n",
       "  <tbody>\n",
       "    <tr>\n",
       "      <td>count</td>\n",
       "      <td>21525.000000</td>\n",
       "      <td>19351.000000</td>\n",
       "      <td>21525.000000</td>\n",
       "      <td>21525.000000</td>\n",
       "      <td>21525.000000</td>\n",
       "      <td>21525.000000</td>\n",
       "      <td>1.935100e+04</td>\n",
       "    </tr>\n",
       "    <tr>\n",
       "      <td>mean</td>\n",
       "      <td>0.538908</td>\n",
       "      <td>63046.497661</td>\n",
       "      <td>43.293380</td>\n",
       "      <td>0.817236</td>\n",
       "      <td>0.972544</td>\n",
       "      <td>0.080883</td>\n",
       "      <td>1.674223e+05</td>\n",
       "    </tr>\n",
       "    <tr>\n",
       "      <td>std</td>\n",
       "      <td>1.381587</td>\n",
       "      <td>140827.311974</td>\n",
       "      <td>12.574584</td>\n",
       "      <td>0.548138</td>\n",
       "      <td>1.420324</td>\n",
       "      <td>0.272661</td>\n",
       "      <td>1.029716e+05</td>\n",
       "    </tr>\n",
       "    <tr>\n",
       "      <td>min</td>\n",
       "      <td>-1.000000</td>\n",
       "      <td>-18388.949901</td>\n",
       "      <td>0.000000</td>\n",
       "      <td>0.000000</td>\n",
       "      <td>0.000000</td>\n",
       "      <td>0.000000</td>\n",
       "      <td>2.066726e+04</td>\n",
       "    </tr>\n",
       "    <tr>\n",
       "      <td>25%</td>\n",
       "      <td>0.000000</td>\n",
       "      <td>-2747.423625</td>\n",
       "      <td>33.000000</td>\n",
       "      <td>1.000000</td>\n",
       "      <td>0.000000</td>\n",
       "      <td>0.000000</td>\n",
       "      <td>1.030532e+05</td>\n",
       "    </tr>\n",
       "    <tr>\n",
       "      <td>50%</td>\n",
       "      <td>0.000000</td>\n",
       "      <td>-1203.369529</td>\n",
       "      <td>42.000000</td>\n",
       "      <td>1.000000</td>\n",
       "      <td>0.000000</td>\n",
       "      <td>0.000000</td>\n",
       "      <td>1.450179e+05</td>\n",
       "    </tr>\n",
       "    <tr>\n",
       "      <td>75%</td>\n",
       "      <td>1.000000</td>\n",
       "      <td>-291.095954</td>\n",
       "      <td>53.000000</td>\n",
       "      <td>1.000000</td>\n",
       "      <td>1.000000</td>\n",
       "      <td>0.000000</td>\n",
       "      <td>2.034351e+05</td>\n",
       "    </tr>\n",
       "    <tr>\n",
       "      <td>max</td>\n",
       "      <td>20.000000</td>\n",
       "      <td>401755.400475</td>\n",
       "      <td>75.000000</td>\n",
       "      <td>4.000000</td>\n",
       "      <td>4.000000</td>\n",
       "      <td>1.000000</td>\n",
       "      <td>2.265604e+06</td>\n",
       "    </tr>\n",
       "  </tbody>\n",
       "</table>\n",
       "</div>"
      ],
      "text/plain": [
       "           children  days_employed     dob_years  education_id  \\\n",
       "count  21525.000000   19351.000000  21525.000000  21525.000000   \n",
       "mean       0.538908   63046.497661     43.293380      0.817236   \n",
       "std        1.381587  140827.311974     12.574584      0.548138   \n",
       "min       -1.000000  -18388.949901      0.000000      0.000000   \n",
       "25%        0.000000   -2747.423625     33.000000      1.000000   \n",
       "50%        0.000000   -1203.369529     42.000000      1.000000   \n",
       "75%        1.000000    -291.095954     53.000000      1.000000   \n",
       "max       20.000000  401755.400475     75.000000      4.000000   \n",
       "\n",
       "       family_status_id          debt  total_income  \n",
       "count      21525.000000  21525.000000  1.935100e+04  \n",
       "mean           0.972544      0.080883  1.674223e+05  \n",
       "std            1.420324      0.272661  1.029716e+05  \n",
       "min            0.000000      0.000000  2.066726e+04  \n",
       "25%            0.000000      0.000000  1.030532e+05  \n",
       "50%            0.000000      0.000000  1.450179e+05  \n",
       "75%            1.000000      0.000000  2.034351e+05  \n",
       "max            4.000000      1.000000  2.265604e+06  "
      ]
     },
     "execution_count": 5,
     "metadata": {},
     "output_type": "execute_result"
    }
   ],
   "source": [
    "df.describe() #выведем статистические сведения"
   ]
  },
  {
   "cell_type": "code",
   "execution_count": 6,
   "metadata": {},
   "outputs": [
    {
     "data": {
      "text/html": [
       "<div>\n",
       "<style scoped>\n",
       "    .dataframe tbody tr th:only-of-type {\n",
       "        vertical-align: middle;\n",
       "    }\n",
       "\n",
       "    .dataframe tbody tr th {\n",
       "        vertical-align: top;\n",
       "    }\n",
       "\n",
       "    .dataframe thead th {\n",
       "        text-align: right;\n",
       "    }\n",
       "</style>\n",
       "<table border=\"1\" class=\"dataframe\">\n",
       "  <thead>\n",
       "    <tr style=\"text-align: right;\">\n",
       "      <th></th>\n",
       "      <th>children</th>\n",
       "    </tr>\n",
       "  </thead>\n",
       "  <tbody>\n",
       "    <tr>\n",
       "      <td>0</td>\n",
       "      <td>14149</td>\n",
       "    </tr>\n",
       "    <tr>\n",
       "      <td>1</td>\n",
       "      <td>4818</td>\n",
       "    </tr>\n",
       "    <tr>\n",
       "      <td>2</td>\n",
       "      <td>2055</td>\n",
       "    </tr>\n",
       "    <tr>\n",
       "      <td>3</td>\n",
       "      <td>330</td>\n",
       "    </tr>\n",
       "    <tr>\n",
       "      <td>20</td>\n",
       "      <td>76</td>\n",
       "    </tr>\n",
       "    <tr>\n",
       "      <td>-1</td>\n",
       "      <td>47</td>\n",
       "    </tr>\n",
       "    <tr>\n",
       "      <td>4</td>\n",
       "      <td>41</td>\n",
       "    </tr>\n",
       "    <tr>\n",
       "      <td>5</td>\n",
       "      <td>9</td>\n",
       "    </tr>\n",
       "  </tbody>\n",
       "</table>\n",
       "</div>"
      ],
      "text/plain": [
       "     children\n",
       " 0      14149\n",
       " 1       4818\n",
       " 2       2055\n",
       " 3        330\n",
       " 20        76\n",
       "-1         47\n",
       " 4         41\n",
       " 5          9"
      ]
     },
     "metadata": {},
     "output_type": "display_data"
    },
    {
     "data": {
      "text/html": [
       "<div>\n",
       "<style scoped>\n",
       "    .dataframe tbody tr th:only-of-type {\n",
       "        vertical-align: middle;\n",
       "    }\n",
       "\n",
       "    .dataframe tbody tr th {\n",
       "        vertical-align: top;\n",
       "    }\n",
       "\n",
       "    .dataframe thead th {\n",
       "        text-align: right;\n",
       "    }\n",
       "</style>\n",
       "<table border=\"1\" class=\"dataframe\">\n",
       "  <thead>\n",
       "    <tr style=\"text-align: right;\">\n",
       "      <th></th>\n",
       "      <th>days_employed</th>\n",
       "    </tr>\n",
       "  </thead>\n",
       "  <tbody>\n",
       "    <tr>\n",
       "      <td>-986.927316</td>\n",
       "      <td>1</td>\n",
       "    </tr>\n",
       "    <tr>\n",
       "      <td>-7026.359174</td>\n",
       "      <td>1</td>\n",
       "    </tr>\n",
       "    <tr>\n",
       "      <td>-4236.274243</td>\n",
       "      <td>1</td>\n",
       "    </tr>\n",
       "    <tr>\n",
       "      <td>-6620.396473</td>\n",
       "      <td>1</td>\n",
       "    </tr>\n",
       "    <tr>\n",
       "      <td>-1238.560080</td>\n",
       "      <td>1</td>\n",
       "    </tr>\n",
       "    <tr>\n",
       "      <td>...</td>\n",
       "      <td>...</td>\n",
       "    </tr>\n",
       "    <tr>\n",
       "      <td>-2849.351119</td>\n",
       "      <td>1</td>\n",
       "    </tr>\n",
       "    <tr>\n",
       "      <td>-5619.328204</td>\n",
       "      <td>1</td>\n",
       "    </tr>\n",
       "    <tr>\n",
       "      <td>-448.829898</td>\n",
       "      <td>1</td>\n",
       "    </tr>\n",
       "    <tr>\n",
       "      <td>-1687.038672</td>\n",
       "      <td>1</td>\n",
       "    </tr>\n",
       "    <tr>\n",
       "      <td>-582.538413</td>\n",
       "      <td>1</td>\n",
       "    </tr>\n",
       "  </tbody>\n",
       "</table>\n",
       "<p>19351 rows × 1 columns</p>\n",
       "</div>"
      ],
      "text/plain": [
       "              days_employed\n",
       "-986.927316               1\n",
       "-7026.359174              1\n",
       "-4236.274243              1\n",
       "-6620.396473              1\n",
       "-1238.560080              1\n",
       "...                     ...\n",
       "-2849.351119              1\n",
       "-5619.328204              1\n",
       "-448.829898               1\n",
       "-1687.038672              1\n",
       "-582.538413               1\n",
       "\n",
       "[19351 rows x 1 columns]"
      ]
     },
     "metadata": {},
     "output_type": "display_data"
    },
    {
     "data": {
      "text/html": [
       "<div>\n",
       "<style scoped>\n",
       "    .dataframe tbody tr th:only-of-type {\n",
       "        vertical-align: middle;\n",
       "    }\n",
       "\n",
       "    .dataframe tbody tr th {\n",
       "        vertical-align: top;\n",
       "    }\n",
       "\n",
       "    .dataframe thead th {\n",
       "        text-align: right;\n",
       "    }\n",
       "</style>\n",
       "<table border=\"1\" class=\"dataframe\">\n",
       "  <thead>\n",
       "    <tr style=\"text-align: right;\">\n",
       "      <th></th>\n",
       "      <th>dob_years</th>\n",
       "    </tr>\n",
       "  </thead>\n",
       "  <tbody>\n",
       "    <tr>\n",
       "      <td>35</td>\n",
       "      <td>617</td>\n",
       "    </tr>\n",
       "    <tr>\n",
       "      <td>40</td>\n",
       "      <td>609</td>\n",
       "    </tr>\n",
       "    <tr>\n",
       "      <td>41</td>\n",
       "      <td>607</td>\n",
       "    </tr>\n",
       "    <tr>\n",
       "      <td>34</td>\n",
       "      <td>603</td>\n",
       "    </tr>\n",
       "    <tr>\n",
       "      <td>38</td>\n",
       "      <td>598</td>\n",
       "    </tr>\n",
       "    <tr>\n",
       "      <td>42</td>\n",
       "      <td>597</td>\n",
       "    </tr>\n",
       "    <tr>\n",
       "      <td>33</td>\n",
       "      <td>581</td>\n",
       "    </tr>\n",
       "    <tr>\n",
       "      <td>39</td>\n",
       "      <td>573</td>\n",
       "    </tr>\n",
       "    <tr>\n",
       "      <td>31</td>\n",
       "      <td>560</td>\n",
       "    </tr>\n",
       "    <tr>\n",
       "      <td>36</td>\n",
       "      <td>555</td>\n",
       "    </tr>\n",
       "    <tr>\n",
       "      <td>44</td>\n",
       "      <td>547</td>\n",
       "    </tr>\n",
       "    <tr>\n",
       "      <td>29</td>\n",
       "      <td>545</td>\n",
       "    </tr>\n",
       "    <tr>\n",
       "      <td>30</td>\n",
       "      <td>540</td>\n",
       "    </tr>\n",
       "    <tr>\n",
       "      <td>48</td>\n",
       "      <td>538</td>\n",
       "    </tr>\n",
       "    <tr>\n",
       "      <td>37</td>\n",
       "      <td>537</td>\n",
       "    </tr>\n",
       "    <tr>\n",
       "      <td>50</td>\n",
       "      <td>514</td>\n",
       "    </tr>\n",
       "    <tr>\n",
       "      <td>43</td>\n",
       "      <td>513</td>\n",
       "    </tr>\n",
       "    <tr>\n",
       "      <td>32</td>\n",
       "      <td>510</td>\n",
       "    </tr>\n",
       "    <tr>\n",
       "      <td>49</td>\n",
       "      <td>508</td>\n",
       "    </tr>\n",
       "    <tr>\n",
       "      <td>28</td>\n",
       "      <td>503</td>\n",
       "    </tr>\n",
       "    <tr>\n",
       "      <td>45</td>\n",
       "      <td>497</td>\n",
       "    </tr>\n",
       "    <tr>\n",
       "      <td>27</td>\n",
       "      <td>493</td>\n",
       "    </tr>\n",
       "    <tr>\n",
       "      <td>56</td>\n",
       "      <td>487</td>\n",
       "    </tr>\n",
       "    <tr>\n",
       "      <td>52</td>\n",
       "      <td>484</td>\n",
       "    </tr>\n",
       "    <tr>\n",
       "      <td>47</td>\n",
       "      <td>480</td>\n",
       "    </tr>\n",
       "    <tr>\n",
       "      <td>54</td>\n",
       "      <td>479</td>\n",
       "    </tr>\n",
       "    <tr>\n",
       "      <td>46</td>\n",
       "      <td>475</td>\n",
       "    </tr>\n",
       "    <tr>\n",
       "      <td>58</td>\n",
       "      <td>461</td>\n",
       "    </tr>\n",
       "    <tr>\n",
       "      <td>57</td>\n",
       "      <td>460</td>\n",
       "    </tr>\n",
       "    <tr>\n",
       "      <td>53</td>\n",
       "      <td>459</td>\n",
       "    </tr>\n",
       "    <tr>\n",
       "      <td>51</td>\n",
       "      <td>448</td>\n",
       "    </tr>\n",
       "    <tr>\n",
       "      <td>59</td>\n",
       "      <td>444</td>\n",
       "    </tr>\n",
       "    <tr>\n",
       "      <td>55</td>\n",
       "      <td>443</td>\n",
       "    </tr>\n",
       "    <tr>\n",
       "      <td>26</td>\n",
       "      <td>408</td>\n",
       "    </tr>\n",
       "    <tr>\n",
       "      <td>60</td>\n",
       "      <td>377</td>\n",
       "    </tr>\n",
       "    <tr>\n",
       "      <td>25</td>\n",
       "      <td>357</td>\n",
       "    </tr>\n",
       "    <tr>\n",
       "      <td>61</td>\n",
       "      <td>355</td>\n",
       "    </tr>\n",
       "    <tr>\n",
       "      <td>62</td>\n",
       "      <td>352</td>\n",
       "    </tr>\n",
       "    <tr>\n",
       "      <td>63</td>\n",
       "      <td>269</td>\n",
       "    </tr>\n",
       "    <tr>\n",
       "      <td>64</td>\n",
       "      <td>265</td>\n",
       "    </tr>\n",
       "    <tr>\n",
       "      <td>24</td>\n",
       "      <td>264</td>\n",
       "    </tr>\n",
       "    <tr>\n",
       "      <td>23</td>\n",
       "      <td>254</td>\n",
       "    </tr>\n",
       "    <tr>\n",
       "      <td>65</td>\n",
       "      <td>194</td>\n",
       "    </tr>\n",
       "    <tr>\n",
       "      <td>66</td>\n",
       "      <td>183</td>\n",
       "    </tr>\n",
       "    <tr>\n",
       "      <td>22</td>\n",
       "      <td>183</td>\n",
       "    </tr>\n",
       "    <tr>\n",
       "      <td>67</td>\n",
       "      <td>167</td>\n",
       "    </tr>\n",
       "    <tr>\n",
       "      <td>21</td>\n",
       "      <td>111</td>\n",
       "    </tr>\n",
       "    <tr>\n",
       "      <td>0</td>\n",
       "      <td>101</td>\n",
       "    </tr>\n",
       "    <tr>\n",
       "      <td>68</td>\n",
       "      <td>99</td>\n",
       "    </tr>\n",
       "    <tr>\n",
       "      <td>69</td>\n",
       "      <td>85</td>\n",
       "    </tr>\n",
       "    <tr>\n",
       "      <td>70</td>\n",
       "      <td>65</td>\n",
       "    </tr>\n",
       "    <tr>\n",
       "      <td>71</td>\n",
       "      <td>58</td>\n",
       "    </tr>\n",
       "    <tr>\n",
       "      <td>20</td>\n",
       "      <td>51</td>\n",
       "    </tr>\n",
       "    <tr>\n",
       "      <td>72</td>\n",
       "      <td>33</td>\n",
       "    </tr>\n",
       "    <tr>\n",
       "      <td>19</td>\n",
       "      <td>14</td>\n",
       "    </tr>\n",
       "    <tr>\n",
       "      <td>73</td>\n",
       "      <td>8</td>\n",
       "    </tr>\n",
       "    <tr>\n",
       "      <td>74</td>\n",
       "      <td>6</td>\n",
       "    </tr>\n",
       "    <tr>\n",
       "      <td>75</td>\n",
       "      <td>1</td>\n",
       "    </tr>\n",
       "  </tbody>\n",
       "</table>\n",
       "</div>"
      ],
      "text/plain": [
       "    dob_years\n",
       "35        617\n",
       "40        609\n",
       "41        607\n",
       "34        603\n",
       "38        598\n",
       "42        597\n",
       "33        581\n",
       "39        573\n",
       "31        560\n",
       "36        555\n",
       "44        547\n",
       "29        545\n",
       "30        540\n",
       "48        538\n",
       "37        537\n",
       "50        514\n",
       "43        513\n",
       "32        510\n",
       "49        508\n",
       "28        503\n",
       "45        497\n",
       "27        493\n",
       "56        487\n",
       "52        484\n",
       "47        480\n",
       "54        479\n",
       "46        475\n",
       "58        461\n",
       "57        460\n",
       "53        459\n",
       "51        448\n",
       "59        444\n",
       "55        443\n",
       "26        408\n",
       "60        377\n",
       "25        357\n",
       "61        355\n",
       "62        352\n",
       "63        269\n",
       "64        265\n",
       "24        264\n",
       "23        254\n",
       "65        194\n",
       "66        183\n",
       "22        183\n",
       "67        167\n",
       "21        111\n",
       "0         101\n",
       "68         99\n",
       "69         85\n",
       "70         65\n",
       "71         58\n",
       "20         51\n",
       "72         33\n",
       "19         14\n",
       "73          8\n",
       "74          6\n",
       "75          1"
      ]
     },
     "metadata": {},
     "output_type": "display_data"
    },
    {
     "data": {
      "text/html": [
       "<div>\n",
       "<style scoped>\n",
       "    .dataframe tbody tr th:only-of-type {\n",
       "        vertical-align: middle;\n",
       "    }\n",
       "\n",
       "    .dataframe tbody tr th {\n",
       "        vertical-align: top;\n",
       "    }\n",
       "\n",
       "    .dataframe thead th {\n",
       "        text-align: right;\n",
       "    }\n",
       "</style>\n",
       "<table border=\"1\" class=\"dataframe\">\n",
       "  <thead>\n",
       "    <tr style=\"text-align: right;\">\n",
       "      <th></th>\n",
       "      <th>education</th>\n",
       "    </tr>\n",
       "  </thead>\n",
       "  <tbody>\n",
       "    <tr>\n",
       "      <td>среднее</td>\n",
       "      <td>13750</td>\n",
       "    </tr>\n",
       "    <tr>\n",
       "      <td>высшее</td>\n",
       "      <td>4718</td>\n",
       "    </tr>\n",
       "    <tr>\n",
       "      <td>СРЕДНЕЕ</td>\n",
       "      <td>772</td>\n",
       "    </tr>\n",
       "    <tr>\n",
       "      <td>Среднее</td>\n",
       "      <td>711</td>\n",
       "    </tr>\n",
       "    <tr>\n",
       "      <td>неоконченное высшее</td>\n",
       "      <td>668</td>\n",
       "    </tr>\n",
       "    <tr>\n",
       "      <td>ВЫСШЕЕ</td>\n",
       "      <td>274</td>\n",
       "    </tr>\n",
       "    <tr>\n",
       "      <td>Высшее</td>\n",
       "      <td>268</td>\n",
       "    </tr>\n",
       "    <tr>\n",
       "      <td>начальное</td>\n",
       "      <td>250</td>\n",
       "    </tr>\n",
       "    <tr>\n",
       "      <td>Неоконченное высшее</td>\n",
       "      <td>47</td>\n",
       "    </tr>\n",
       "    <tr>\n",
       "      <td>НЕОКОНЧЕННОЕ ВЫСШЕЕ</td>\n",
       "      <td>29</td>\n",
       "    </tr>\n",
       "    <tr>\n",
       "      <td>НАЧАЛЬНОЕ</td>\n",
       "      <td>17</td>\n",
       "    </tr>\n",
       "    <tr>\n",
       "      <td>Начальное</td>\n",
       "      <td>15</td>\n",
       "    </tr>\n",
       "    <tr>\n",
       "      <td>ученая степень</td>\n",
       "      <td>4</td>\n",
       "    </tr>\n",
       "    <tr>\n",
       "      <td>УЧЕНАЯ СТЕПЕНЬ</td>\n",
       "      <td>1</td>\n",
       "    </tr>\n",
       "    <tr>\n",
       "      <td>Ученая степень</td>\n",
       "      <td>1</td>\n",
       "    </tr>\n",
       "  </tbody>\n",
       "</table>\n",
       "</div>"
      ],
      "text/plain": [
       "                     education\n",
       "среднее                  13750\n",
       "высшее                    4718\n",
       "СРЕДНЕЕ                    772\n",
       "Среднее                    711\n",
       "неоконченное высшее        668\n",
       "ВЫСШЕЕ                     274\n",
       "Высшее                     268\n",
       "начальное                  250\n",
       "Неоконченное высшее         47\n",
       "НЕОКОНЧЕННОЕ ВЫСШЕЕ         29\n",
       "НАЧАЛЬНОЕ                   17\n",
       "Начальное                   15\n",
       "ученая степень               4\n",
       "УЧЕНАЯ СТЕПЕНЬ               1\n",
       "Ученая степень               1"
      ]
     },
     "metadata": {},
     "output_type": "display_data"
    },
    {
     "data": {
      "text/html": [
       "<div>\n",
       "<style scoped>\n",
       "    .dataframe tbody tr th:only-of-type {\n",
       "        vertical-align: middle;\n",
       "    }\n",
       "\n",
       "    .dataframe tbody tr th {\n",
       "        vertical-align: top;\n",
       "    }\n",
       "\n",
       "    .dataframe thead th {\n",
       "        text-align: right;\n",
       "    }\n",
       "</style>\n",
       "<table border=\"1\" class=\"dataframe\">\n",
       "  <thead>\n",
       "    <tr style=\"text-align: right;\">\n",
       "      <th></th>\n",
       "      <th>education_id</th>\n",
       "    </tr>\n",
       "  </thead>\n",
       "  <tbody>\n",
       "    <tr>\n",
       "      <td>1</td>\n",
       "      <td>15233</td>\n",
       "    </tr>\n",
       "    <tr>\n",
       "      <td>0</td>\n",
       "      <td>5260</td>\n",
       "    </tr>\n",
       "    <tr>\n",
       "      <td>2</td>\n",
       "      <td>744</td>\n",
       "    </tr>\n",
       "    <tr>\n",
       "      <td>3</td>\n",
       "      <td>282</td>\n",
       "    </tr>\n",
       "    <tr>\n",
       "      <td>4</td>\n",
       "      <td>6</td>\n",
       "    </tr>\n",
       "  </tbody>\n",
       "</table>\n",
       "</div>"
      ],
      "text/plain": [
       "   education_id\n",
       "1         15233\n",
       "0          5260\n",
       "2           744\n",
       "3           282\n",
       "4             6"
      ]
     },
     "metadata": {},
     "output_type": "display_data"
    },
    {
     "data": {
      "text/html": [
       "<div>\n",
       "<style scoped>\n",
       "    .dataframe tbody tr th:only-of-type {\n",
       "        vertical-align: middle;\n",
       "    }\n",
       "\n",
       "    .dataframe tbody tr th {\n",
       "        vertical-align: top;\n",
       "    }\n",
       "\n",
       "    .dataframe thead th {\n",
       "        text-align: right;\n",
       "    }\n",
       "</style>\n",
       "<table border=\"1\" class=\"dataframe\">\n",
       "  <thead>\n",
       "    <tr style=\"text-align: right;\">\n",
       "      <th></th>\n",
       "      <th>family_status</th>\n",
       "    </tr>\n",
       "  </thead>\n",
       "  <tbody>\n",
       "    <tr>\n",
       "      <td>женат / замужем</td>\n",
       "      <td>12380</td>\n",
       "    </tr>\n",
       "    <tr>\n",
       "      <td>гражданский брак</td>\n",
       "      <td>4177</td>\n",
       "    </tr>\n",
       "    <tr>\n",
       "      <td>Не женат / не замужем</td>\n",
       "      <td>2813</td>\n",
       "    </tr>\n",
       "    <tr>\n",
       "      <td>в разводе</td>\n",
       "      <td>1195</td>\n",
       "    </tr>\n",
       "    <tr>\n",
       "      <td>вдовец / вдова</td>\n",
       "      <td>960</td>\n",
       "    </tr>\n",
       "  </tbody>\n",
       "</table>\n",
       "</div>"
      ],
      "text/plain": [
       "                       family_status\n",
       "женат / замужем                12380\n",
       "гражданский брак                4177\n",
       "Не женат / не замужем           2813\n",
       "в разводе                       1195\n",
       "вдовец / вдова                   960"
      ]
     },
     "metadata": {},
     "output_type": "display_data"
    },
    {
     "data": {
      "text/html": [
       "<div>\n",
       "<style scoped>\n",
       "    .dataframe tbody tr th:only-of-type {\n",
       "        vertical-align: middle;\n",
       "    }\n",
       "\n",
       "    .dataframe tbody tr th {\n",
       "        vertical-align: top;\n",
       "    }\n",
       "\n",
       "    .dataframe thead th {\n",
       "        text-align: right;\n",
       "    }\n",
       "</style>\n",
       "<table border=\"1\" class=\"dataframe\">\n",
       "  <thead>\n",
       "    <tr style=\"text-align: right;\">\n",
       "      <th></th>\n",
       "      <th>family_status_id</th>\n",
       "    </tr>\n",
       "  </thead>\n",
       "  <tbody>\n",
       "    <tr>\n",
       "      <td>0</td>\n",
       "      <td>12380</td>\n",
       "    </tr>\n",
       "    <tr>\n",
       "      <td>1</td>\n",
       "      <td>4177</td>\n",
       "    </tr>\n",
       "    <tr>\n",
       "      <td>4</td>\n",
       "      <td>2813</td>\n",
       "    </tr>\n",
       "    <tr>\n",
       "      <td>3</td>\n",
       "      <td>1195</td>\n",
       "    </tr>\n",
       "    <tr>\n",
       "      <td>2</td>\n",
       "      <td>960</td>\n",
       "    </tr>\n",
       "  </tbody>\n",
       "</table>\n",
       "</div>"
      ],
      "text/plain": [
       "   family_status_id\n",
       "0             12380\n",
       "1              4177\n",
       "4              2813\n",
       "3              1195\n",
       "2               960"
      ]
     },
     "metadata": {},
     "output_type": "display_data"
    },
    {
     "data": {
      "text/html": [
       "<div>\n",
       "<style scoped>\n",
       "    .dataframe tbody tr th:only-of-type {\n",
       "        vertical-align: middle;\n",
       "    }\n",
       "\n",
       "    .dataframe tbody tr th {\n",
       "        vertical-align: top;\n",
       "    }\n",
       "\n",
       "    .dataframe thead th {\n",
       "        text-align: right;\n",
       "    }\n",
       "</style>\n",
       "<table border=\"1\" class=\"dataframe\">\n",
       "  <thead>\n",
       "    <tr style=\"text-align: right;\">\n",
       "      <th></th>\n",
       "      <th>gender</th>\n",
       "    </tr>\n",
       "  </thead>\n",
       "  <tbody>\n",
       "    <tr>\n",
       "      <td>F</td>\n",
       "      <td>14236</td>\n",
       "    </tr>\n",
       "    <tr>\n",
       "      <td>M</td>\n",
       "      <td>7288</td>\n",
       "    </tr>\n",
       "    <tr>\n",
       "      <td>XNA</td>\n",
       "      <td>1</td>\n",
       "    </tr>\n",
       "  </tbody>\n",
       "</table>\n",
       "</div>"
      ],
      "text/plain": [
       "     gender\n",
       "F     14236\n",
       "M      7288\n",
       "XNA       1"
      ]
     },
     "metadata": {},
     "output_type": "display_data"
    },
    {
     "data": {
      "text/html": [
       "<div>\n",
       "<style scoped>\n",
       "    .dataframe tbody tr th:only-of-type {\n",
       "        vertical-align: middle;\n",
       "    }\n",
       "\n",
       "    .dataframe tbody tr th {\n",
       "        vertical-align: top;\n",
       "    }\n",
       "\n",
       "    .dataframe thead th {\n",
       "        text-align: right;\n",
       "    }\n",
       "</style>\n",
       "<table border=\"1\" class=\"dataframe\">\n",
       "  <thead>\n",
       "    <tr style=\"text-align: right;\">\n",
       "      <th></th>\n",
       "      <th>income_type</th>\n",
       "    </tr>\n",
       "  </thead>\n",
       "  <tbody>\n",
       "    <tr>\n",
       "      <td>сотрудник</td>\n",
       "      <td>11119</td>\n",
       "    </tr>\n",
       "    <tr>\n",
       "      <td>компаньон</td>\n",
       "      <td>5085</td>\n",
       "    </tr>\n",
       "    <tr>\n",
       "      <td>пенсионер</td>\n",
       "      <td>3856</td>\n",
       "    </tr>\n",
       "    <tr>\n",
       "      <td>госслужащий</td>\n",
       "      <td>1459</td>\n",
       "    </tr>\n",
       "    <tr>\n",
       "      <td>безработный</td>\n",
       "      <td>2</td>\n",
       "    </tr>\n",
       "    <tr>\n",
       "      <td>предприниматель</td>\n",
       "      <td>2</td>\n",
       "    </tr>\n",
       "    <tr>\n",
       "      <td>в декрете</td>\n",
       "      <td>1</td>\n",
       "    </tr>\n",
       "    <tr>\n",
       "      <td>студент</td>\n",
       "      <td>1</td>\n",
       "    </tr>\n",
       "  </tbody>\n",
       "</table>\n",
       "</div>"
      ],
      "text/plain": [
       "                 income_type\n",
       "сотрудник              11119\n",
       "компаньон               5085\n",
       "пенсионер               3856\n",
       "госслужащий             1459\n",
       "безработный                2\n",
       "предприниматель            2\n",
       "в декрете                  1\n",
       "студент                    1"
      ]
     },
     "metadata": {},
     "output_type": "display_data"
    },
    {
     "data": {
      "text/html": [
       "<div>\n",
       "<style scoped>\n",
       "    .dataframe tbody tr th:only-of-type {\n",
       "        vertical-align: middle;\n",
       "    }\n",
       "\n",
       "    .dataframe tbody tr th {\n",
       "        vertical-align: top;\n",
       "    }\n",
       "\n",
       "    .dataframe thead th {\n",
       "        text-align: right;\n",
       "    }\n",
       "</style>\n",
       "<table border=\"1\" class=\"dataframe\">\n",
       "  <thead>\n",
       "    <tr style=\"text-align: right;\">\n",
       "      <th></th>\n",
       "      <th>debt</th>\n",
       "    </tr>\n",
       "  </thead>\n",
       "  <tbody>\n",
       "    <tr>\n",
       "      <td>0</td>\n",
       "      <td>19784</td>\n",
       "    </tr>\n",
       "    <tr>\n",
       "      <td>1</td>\n",
       "      <td>1741</td>\n",
       "    </tr>\n",
       "  </tbody>\n",
       "</table>\n",
       "</div>"
      ],
      "text/plain": [
       "    debt\n",
       "0  19784\n",
       "1   1741"
      ]
     },
     "metadata": {},
     "output_type": "display_data"
    },
    {
     "data": {
      "text/html": [
       "<div>\n",
       "<style scoped>\n",
       "    .dataframe tbody tr th:only-of-type {\n",
       "        vertical-align: middle;\n",
       "    }\n",
       "\n",
       "    .dataframe tbody tr th {\n",
       "        vertical-align: top;\n",
       "    }\n",
       "\n",
       "    .dataframe thead th {\n",
       "        text-align: right;\n",
       "    }\n",
       "</style>\n",
       "<table border=\"1\" class=\"dataframe\">\n",
       "  <thead>\n",
       "    <tr style=\"text-align: right;\">\n",
       "      <th></th>\n",
       "      <th>total_income</th>\n",
       "    </tr>\n",
       "  </thead>\n",
       "  <tbody>\n",
       "    <tr>\n",
       "      <td>112874.418757</td>\n",
       "      <td>1</td>\n",
       "    </tr>\n",
       "    <tr>\n",
       "      <td>133912.272223</td>\n",
       "      <td>1</td>\n",
       "    </tr>\n",
       "    <tr>\n",
       "      <td>182036.676828</td>\n",
       "      <td>1</td>\n",
       "    </tr>\n",
       "    <tr>\n",
       "      <td>122421.963500</td>\n",
       "      <td>1</td>\n",
       "    </tr>\n",
       "    <tr>\n",
       "      <td>198271.837248</td>\n",
       "      <td>1</td>\n",
       "    </tr>\n",
       "    <tr>\n",
       "      <td>...</td>\n",
       "      <td>...</td>\n",
       "    </tr>\n",
       "    <tr>\n",
       "      <td>133299.194693</td>\n",
       "      <td>1</td>\n",
       "    </tr>\n",
       "    <tr>\n",
       "      <td>115080.782380</td>\n",
       "      <td>1</td>\n",
       "    </tr>\n",
       "    <tr>\n",
       "      <td>84896.781597</td>\n",
       "      <td>1</td>\n",
       "    </tr>\n",
       "    <tr>\n",
       "      <td>153838.839212</td>\n",
       "      <td>1</td>\n",
       "    </tr>\n",
       "    <tr>\n",
       "      <td>150014.128510</td>\n",
       "      <td>1</td>\n",
       "    </tr>\n",
       "  </tbody>\n",
       "</table>\n",
       "<p>19351 rows × 1 columns</p>\n",
       "</div>"
      ],
      "text/plain": [
       "               total_income\n",
       "112874.418757             1\n",
       "133912.272223             1\n",
       "182036.676828             1\n",
       "122421.963500             1\n",
       "198271.837248             1\n",
       "...                     ...\n",
       "133299.194693             1\n",
       "115080.782380             1\n",
       "84896.781597              1\n",
       "153838.839212             1\n",
       "150014.128510             1\n",
       "\n",
       "[19351 rows x 1 columns]"
      ]
     },
     "metadata": {},
     "output_type": "display_data"
    },
    {
     "data": {
      "text/html": [
       "<div>\n",
       "<style scoped>\n",
       "    .dataframe tbody tr th:only-of-type {\n",
       "        vertical-align: middle;\n",
       "    }\n",
       "\n",
       "    .dataframe tbody tr th {\n",
       "        vertical-align: top;\n",
       "    }\n",
       "\n",
       "    .dataframe thead th {\n",
       "        text-align: right;\n",
       "    }\n",
       "</style>\n",
       "<table border=\"1\" class=\"dataframe\">\n",
       "  <thead>\n",
       "    <tr style=\"text-align: right;\">\n",
       "      <th></th>\n",
       "      <th>purpose</th>\n",
       "    </tr>\n",
       "  </thead>\n",
       "  <tbody>\n",
       "    <tr>\n",
       "      <td>свадьба</td>\n",
       "      <td>797</td>\n",
       "    </tr>\n",
       "    <tr>\n",
       "      <td>на проведение свадьбы</td>\n",
       "      <td>777</td>\n",
       "    </tr>\n",
       "    <tr>\n",
       "      <td>сыграть свадьбу</td>\n",
       "      <td>774</td>\n",
       "    </tr>\n",
       "    <tr>\n",
       "      <td>операции с недвижимостью</td>\n",
       "      <td>676</td>\n",
       "    </tr>\n",
       "    <tr>\n",
       "      <td>покупка коммерческой недвижимости</td>\n",
       "      <td>664</td>\n",
       "    </tr>\n",
       "    <tr>\n",
       "      <td>покупка жилья для сдачи</td>\n",
       "      <td>653</td>\n",
       "    </tr>\n",
       "    <tr>\n",
       "      <td>операции с жильем</td>\n",
       "      <td>653</td>\n",
       "    </tr>\n",
       "    <tr>\n",
       "      <td>операции с коммерческой недвижимостью</td>\n",
       "      <td>651</td>\n",
       "    </tr>\n",
       "    <tr>\n",
       "      <td>жилье</td>\n",
       "      <td>647</td>\n",
       "    </tr>\n",
       "    <tr>\n",
       "      <td>покупка жилья</td>\n",
       "      <td>647</td>\n",
       "    </tr>\n",
       "    <tr>\n",
       "      <td>покупка жилья для семьи</td>\n",
       "      <td>641</td>\n",
       "    </tr>\n",
       "    <tr>\n",
       "      <td>строительство собственной недвижимости</td>\n",
       "      <td>635</td>\n",
       "    </tr>\n",
       "    <tr>\n",
       "      <td>недвижимость</td>\n",
       "      <td>634</td>\n",
       "    </tr>\n",
       "    <tr>\n",
       "      <td>операции со своей недвижимостью</td>\n",
       "      <td>630</td>\n",
       "    </tr>\n",
       "    <tr>\n",
       "      <td>строительство жилой недвижимости</td>\n",
       "      <td>626</td>\n",
       "    </tr>\n",
       "    <tr>\n",
       "      <td>покупка недвижимости</td>\n",
       "      <td>624</td>\n",
       "    </tr>\n",
       "    <tr>\n",
       "      <td>покупка своего жилья</td>\n",
       "      <td>620</td>\n",
       "    </tr>\n",
       "    <tr>\n",
       "      <td>строительство недвижимости</td>\n",
       "      <td>620</td>\n",
       "    </tr>\n",
       "    <tr>\n",
       "      <td>ремонт жилью</td>\n",
       "      <td>612</td>\n",
       "    </tr>\n",
       "    <tr>\n",
       "      <td>покупка жилой недвижимости</td>\n",
       "      <td>607</td>\n",
       "    </tr>\n",
       "    <tr>\n",
       "      <td>на покупку своего автомобиля</td>\n",
       "      <td>505</td>\n",
       "    </tr>\n",
       "    <tr>\n",
       "      <td>заняться высшим образованием</td>\n",
       "      <td>496</td>\n",
       "    </tr>\n",
       "    <tr>\n",
       "      <td>автомобиль</td>\n",
       "      <td>495</td>\n",
       "    </tr>\n",
       "    <tr>\n",
       "      <td>сделка с подержанным автомобилем</td>\n",
       "      <td>489</td>\n",
       "    </tr>\n",
       "    <tr>\n",
       "      <td>свой автомобиль</td>\n",
       "      <td>480</td>\n",
       "    </tr>\n",
       "    <tr>\n",
       "      <td>на покупку подержанного автомобиля</td>\n",
       "      <td>479</td>\n",
       "    </tr>\n",
       "    <tr>\n",
       "      <td>автомобили</td>\n",
       "      <td>478</td>\n",
       "    </tr>\n",
       "    <tr>\n",
       "      <td>на покупку автомобиля</td>\n",
       "      <td>472</td>\n",
       "    </tr>\n",
       "    <tr>\n",
       "      <td>дополнительное образование</td>\n",
       "      <td>462</td>\n",
       "    </tr>\n",
       "    <tr>\n",
       "      <td>приобретение автомобиля</td>\n",
       "      <td>462</td>\n",
       "    </tr>\n",
       "    <tr>\n",
       "      <td>сделка с автомобилем</td>\n",
       "      <td>455</td>\n",
       "    </tr>\n",
       "    <tr>\n",
       "      <td>высшее образование</td>\n",
       "      <td>453</td>\n",
       "    </tr>\n",
       "    <tr>\n",
       "      <td>получение дополнительного образования</td>\n",
       "      <td>447</td>\n",
       "    </tr>\n",
       "    <tr>\n",
       "      <td>образование</td>\n",
       "      <td>447</td>\n",
       "    </tr>\n",
       "    <tr>\n",
       "      <td>получение образования</td>\n",
       "      <td>443</td>\n",
       "    </tr>\n",
       "    <tr>\n",
       "      <td>профильное образование</td>\n",
       "      <td>436</td>\n",
       "    </tr>\n",
       "    <tr>\n",
       "      <td>получение высшего образования</td>\n",
       "      <td>426</td>\n",
       "    </tr>\n",
       "    <tr>\n",
       "      <td>заняться образованием</td>\n",
       "      <td>412</td>\n",
       "    </tr>\n",
       "  </tbody>\n",
       "</table>\n",
       "</div>"
      ],
      "text/plain": [
       "                                        purpose\n",
       "свадьба                                     797\n",
       "на проведение свадьбы                       777\n",
       "сыграть свадьбу                             774\n",
       "операции с недвижимостью                    676\n",
       "покупка коммерческой недвижимости           664\n",
       "покупка жилья для сдачи                     653\n",
       "операции с жильем                           653\n",
       "операции с коммерческой недвижимостью       651\n",
       "жилье                                       647\n",
       "покупка жилья                               647\n",
       "покупка жилья для семьи                     641\n",
       "строительство собственной недвижимости      635\n",
       "недвижимость                                634\n",
       "операции со своей недвижимостью             630\n",
       "строительство жилой недвижимости            626\n",
       "покупка недвижимости                        624\n",
       "покупка своего жилья                        620\n",
       "строительство недвижимости                  620\n",
       "ремонт жилью                                612\n",
       "покупка жилой недвижимости                  607\n",
       "на покупку своего автомобиля                505\n",
       "заняться высшим образованием                496\n",
       "автомобиль                                  495\n",
       "сделка с подержанным автомобилем            489\n",
       "свой автомобиль                             480\n",
       "на покупку подержанного автомобиля          479\n",
       "автомобили                                  478\n",
       "на покупку автомобиля                       472\n",
       "дополнительное образование                  462\n",
       "приобретение автомобиля                     462\n",
       "сделка с автомобилем                        455\n",
       "высшее образование                          453\n",
       "получение дополнительного образования       447\n",
       "образование                                 447\n",
       "получение образования                       443\n",
       "профильное образование                      436\n",
       "получение высшего образования               426\n",
       "заняться образованием                       412"
      ]
     },
     "metadata": {},
     "output_type": "display_data"
    }
   ],
   "source": [
    "#рассмотрим уникальные значения данных для каждого столбца и преобразуем для наглядности при помощи to_frame\n",
    "for row in df: \n",
    "    display(df[row].value_counts().to_frame())\n",
    "    "
   ]
  },
  {
   "cell_type": "markdown",
   "metadata": {},
   "source": [
    "**Вывод**"
   ]
  },
  {
   "cell_type": "markdown",
   "metadata": {},
   "source": [
    "\n",
    "- отрицательные значения в колонке days_emploed\n",
    "- разный регистр в колонке education\n",
    "- наличие пропусков в колонке days_employed, total_income\n",
    "- ошибочные значения в колонке children и в колонке gender\n",
    "- нулевые значения в колонке dob_years\n",
    "- дубликаты в целевых использованиях в колонке purpose\n",
    "\n",
    "[Наверх к оглавлению](#contents)"
   ]
  },
  {
   "cell_type": "markdown",
   "metadata": {},
   "source": [
    "<a id=\"preprocessing\"></a>\n",
    "##  Предобработка данных"
   ]
  },
  {
   "cell_type": "markdown",
   "metadata": {},
   "source": [
    "<a id=\"null\"></a>\n",
    "### Обработка пропусков"
   ]
  },
  {
   "cell_type": "code",
   "execution_count": 7,
   "metadata": {},
   "outputs": [],
   "source": [
    "#при изучении информации в колонке gender была одна строка с пропущенным значением.Исключаем её из выборки\n",
    "df = df[df['gender'] != 'XNA']\n"
   ]
  },
  {
   "cell_type": "code",
   "execution_count": 8,
   "metadata": {},
   "outputs": [
    {
     "name": "stdout",
     "output_type": "stream",
     "text": [
      "<class 'pandas.core.frame.DataFrame'>\n",
      "Int64Index: 2174 entries, 12 to 21510\n",
      "Data columns (total 12 columns):\n",
      "children            2174 non-null int64\n",
      "days_employed       0 non-null float64\n",
      "dob_years           2174 non-null int64\n",
      "education           2174 non-null object\n",
      "education_id        2174 non-null int64\n",
      "family_status       2174 non-null object\n",
      "family_status_id    2174 non-null int64\n",
      "gender              2174 non-null object\n",
      "income_type         2174 non-null object\n",
      "debt                2174 non-null int64\n",
      "total_income        0 non-null float64\n",
      "purpose             2174 non-null object\n",
      "dtypes: float64(2), int64(5), object(5)\n",
      "memory usage: 220.8+ KB\n"
     ]
    }
   ],
   "source": [
    "#найдем предполагаемые причины пропусков в колонках days_employed, total_income. \n",
    "#установим, в одинаковых ли строках отсутствуют значения.\n",
    "df[(df['days_employed'].isnull() == True) & (df['total_income'].isnull() == True)].info()"
   ]
  },
  {
   "cell_type": "code",
   "execution_count": 9,
   "metadata": {},
   "outputs": [
    {
     "data": {
      "text/plain": [
       "сотрудник          1105\n",
       "компаньон           508\n",
       "пенсионер           413\n",
       "госслужащий         147\n",
       "предприниматель       1\n",
       "Name: income_type, dtype: int64"
      ]
     },
     "execution_count": 9,
     "metadata": {},
     "output_type": "execute_result"
    }
   ],
   "source": [
    "#значения трудового стажа пропущены тогда, когда пропущены значения ежемесячного дохода.\n",
    "#проверим связан ли тип занятости с пропусками в данных\n",
    "df[(df['total_income'].isnull() == True) & (df['days_employed'].isnull() == True)]['income_type'].value_counts()"
   ]
  },
  {
   "cell_type": "code",
   "execution_count": 10,
   "metadata": {},
   "outputs": [
    {
     "data": {
      "text/plain": [
       "15905"
      ]
     },
     "execution_count": 10,
     "metadata": {},
     "output_type": "execute_result"
    }
   ],
   "source": [
    "#все пропуски находятся в разных категориях занятости, значит, будем заполнять пропуски по медианному значению каждого типа\n",
    "#для начала изучим колонку 'days_employed' более подробно:\n",
    "\n",
    "count = 0\n",
    "for num in df['days_employed']:\n",
    "    if num<0:\n",
    "        count+=1\n",
    "    \n",
    "count \n"
   ]
  },
  {
   "cell_type": "code",
   "execution_count": 11,
   "metadata": {},
   "outputs": [
    {
     "data": {
      "text/plain": [
       "'Доля отрицательных значений в колонке c количеством дней стажа: 73.89%'"
      ]
     },
     "execution_count": 11,
     "metadata": {},
     "output_type": "execute_result"
    }
   ],
   "source": [
    "#отрицательных значений в колонке 'days_employed' ~ 74%. Больше похоже на ошибку при заполнении\n",
    "\n",
    "'Доля отрицательных значений в колонке c количеством дней стажа: {:.2%}'. format(15905 / 21525)"
   ]
  },
  {
   "cell_type": "code",
   "execution_count": 12,
   "metadata": {},
   "outputs": [
    {
     "data": {
      "text/html": [
       "<div>\n",
       "<style scoped>\n",
       "    .dataframe tbody tr th:only-of-type {\n",
       "        vertical-align: middle;\n",
       "    }\n",
       "\n",
       "    .dataframe tbody tr th {\n",
       "        vertical-align: top;\n",
       "    }\n",
       "\n",
       "    .dataframe thead tr th {\n",
       "        text-align: left;\n",
       "    }\n",
       "\n",
       "    .dataframe thead tr:last-of-type th {\n",
       "        text-align: right;\n",
       "    }\n",
       "</style>\n",
       "<table border=\"1\" class=\"dataframe\">\n",
       "  <thead>\n",
       "    <tr>\n",
       "      <th></th>\n",
       "      <th colspan=\"3\" halign=\"left\">days_employed</th>\n",
       "    </tr>\n",
       "    <tr>\n",
       "      <th></th>\n",
       "      <th>count</th>\n",
       "      <th>mean</th>\n",
       "      <th>&lt;lambda_0&gt;</th>\n",
       "    </tr>\n",
       "    <tr>\n",
       "      <th>income_type</th>\n",
       "      <th></th>\n",
       "      <th></th>\n",
       "      <th></th>\n",
       "    </tr>\n",
       "  </thead>\n",
       "  <tbody>\n",
       "    <tr>\n",
       "      <td>безработный</td>\n",
       "      <td>2</td>\n",
       "      <td>366413.652744</td>\n",
       "      <td>2.0</td>\n",
       "    </tr>\n",
       "    <tr>\n",
       "      <td>в декрете</td>\n",
       "      <td>1</td>\n",
       "      <td>-3296.759962</td>\n",
       "      <td>0.0</td>\n",
       "    </tr>\n",
       "    <tr>\n",
       "      <td>госслужащий</td>\n",
       "      <td>1312</td>\n",
       "      <td>-3399.896902</td>\n",
       "      <td>0.0</td>\n",
       "    </tr>\n",
       "    <tr>\n",
       "      <td>компаньон</td>\n",
       "      <td>4576</td>\n",
       "      <td>-2111.470404</td>\n",
       "      <td>0.0</td>\n",
       "    </tr>\n",
       "    <tr>\n",
       "      <td>пенсионер</td>\n",
       "      <td>3443</td>\n",
       "      <td>365003.491245</td>\n",
       "      <td>3443.0</td>\n",
       "    </tr>\n",
       "    <tr>\n",
       "      <td>предприниматель</td>\n",
       "      <td>1</td>\n",
       "      <td>-520.848083</td>\n",
       "      <td>0.0</td>\n",
       "    </tr>\n",
       "    <tr>\n",
       "      <td>сотрудник</td>\n",
       "      <td>10014</td>\n",
       "      <td>-2326.499216</td>\n",
       "      <td>0.0</td>\n",
       "    </tr>\n",
       "    <tr>\n",
       "      <td>студент</td>\n",
       "      <td>1</td>\n",
       "      <td>-578.751554</td>\n",
       "      <td>0.0</td>\n",
       "    </tr>\n",
       "  </tbody>\n",
       "</table>\n",
       "</div>"
      ],
      "text/plain": [
       "                days_employed                          \n",
       "                        count           mean <lambda_0>\n",
       "income_type                                            \n",
       "безработный                 2  366413.652744        2.0\n",
       "в декрете                   1   -3296.759962        0.0\n",
       "госслужащий              1312   -3399.896902        0.0\n",
       "компаньон                4576   -2111.470404        0.0\n",
       "пенсионер                3443  365003.491245     3443.0\n",
       "предприниматель             1    -520.848083        0.0\n",
       "сотрудник               10014   -2326.499216        0.0\n",
       "студент                     1    -578.751554        0.0"
      ]
     },
     "execution_count": 12,
     "metadata": {},
     "output_type": "execute_result"
    }
   ],
   "source": [
    "#посчитаем количество значений > 0 по каждому типу занятости\n",
    "df_grouped = df.groupby('income_type').agg({'days_employed':['count', 'mean', lambda x: sum(x>0)]})\n",
    "df_grouped"
   ]
  },
  {
   "cell_type": "code",
   "execution_count": 13,
   "metadata": {},
   "outputs": [
    {
     "data": {
      "text/plain": [
       "count     19350.000000\n",
       "mean      66918.065141\n",
       "std      139033.698578\n",
       "min          24.141633\n",
       "25%         926.990457\n",
       "50%        2194.218768\n",
       "75%        5538.423086\n",
       "max      401755.400475\n",
       "Name: days_employed, dtype: float64"
      ]
     },
     "execution_count": 13,
     "metadata": {},
     "output_type": "execute_result"
    }
   ],
   "source": [
    "#гипотеза в ошибочном заполнении потдвердилась, отриц.значения только у работающего персонала\n",
    "#преобразуем отриц.значения\n",
    "df['days_employed'] = df['days_employed'].abs()\n",
    "df['days_employed'].describe()"
   ]
  },
  {
   "cell_type": "code",
   "execution_count": 14,
   "metadata": {},
   "outputs": [
    {
     "data": {
      "text/plain": [
       "25%    33.0\n",
       "50%    42.0\n",
       "75%    53.0\n",
       "Name: dob_years, dtype: float64"
      ]
     },
     "execution_count": 14,
     "metadata": {},
     "output_type": "execute_result"
    }
   ],
   "source": [
    "#для исправления пропущенных значений воспользуемся медианными значениями по возрасту. \n",
    "#выделяем возрастные категории клиентов: в качестве границ категорий выбраны квантили (25%, 50% и 75%).\n",
    "age_statistics = df['dob_years'].describe()\n",
    "age_statistics[4:7]"
   ]
  },
  {
   "cell_type": "code",
   "execution_count": 15,
   "metadata": {},
   "outputs": [
    {
     "data": {
      "text/html": [
       "<div>\n",
       "<style scoped>\n",
       "    .dataframe tbody tr th:only-of-type {\n",
       "        vertical-align: middle;\n",
       "    }\n",
       "\n",
       "    .dataframe tbody tr th {\n",
       "        vertical-align: top;\n",
       "    }\n",
       "\n",
       "    .dataframe thead th {\n",
       "        text-align: right;\n",
       "    }\n",
       "</style>\n",
       "<table border=\"1\" class=\"dataframe\">\n",
       "  <thead>\n",
       "    <tr style=\"text-align: right;\">\n",
       "      <th></th>\n",
       "      <th>children</th>\n",
       "      <th>days_employed</th>\n",
       "      <th>dob_years</th>\n",
       "      <th>education</th>\n",
       "      <th>education_id</th>\n",
       "      <th>family_status</th>\n",
       "      <th>family_status_id</th>\n",
       "      <th>gender</th>\n",
       "      <th>income_type</th>\n",
       "      <th>debt</th>\n",
       "      <th>total_income</th>\n",
       "      <th>purpose</th>\n",
       "      <th>age_group</th>\n",
       "    </tr>\n",
       "  </thead>\n",
       "  <tbody>\n",
       "    <tr>\n",
       "      <td>0</td>\n",
       "      <td>1</td>\n",
       "      <td>8437.673028</td>\n",
       "      <td>42</td>\n",
       "      <td>высшее</td>\n",
       "      <td>0</td>\n",
       "      <td>женат / замужем</td>\n",
       "      <td>0</td>\n",
       "      <td>F</td>\n",
       "      <td>сотрудник</td>\n",
       "      <td>0</td>\n",
       "      <td>253875.639453</td>\n",
       "      <td>покупка жилья</td>\n",
       "      <td>34-43</td>\n",
       "    </tr>\n",
       "    <tr>\n",
       "      <td>1</td>\n",
       "      <td>1</td>\n",
       "      <td>4024.803754</td>\n",
       "      <td>36</td>\n",
       "      <td>среднее</td>\n",
       "      <td>1</td>\n",
       "      <td>женат / замужем</td>\n",
       "      <td>0</td>\n",
       "      <td>F</td>\n",
       "      <td>сотрудник</td>\n",
       "      <td>0</td>\n",
       "      <td>112080.014102</td>\n",
       "      <td>приобретение автомобиля</td>\n",
       "      <td>34-43</td>\n",
       "    </tr>\n",
       "  </tbody>\n",
       "</table>\n",
       "</div>"
      ],
      "text/plain": [
       "   children  days_employed  dob_years education  education_id  \\\n",
       "0         1    8437.673028         42    высшее             0   \n",
       "1         1    4024.803754         36   среднее             1   \n",
       "\n",
       "     family_status  family_status_id gender income_type  debt   total_income  \\\n",
       "0  женат / замужем                 0      F   сотрудник     0  253875.639453   \n",
       "1  женат / замужем                 0      F   сотрудник     0  112080.014102   \n",
       "\n",
       "                   purpose age_group  \n",
       "0            покупка жилья     34-43  \n",
       "1  приобретение автомобиля     34-43  "
      ]
     },
     "execution_count": 15,
     "metadata": {},
     "output_type": "execute_result"
    }
   ],
   "source": [
    "# напишем функцию, которая принимает на вход возраст клиента и возвращает возрастную категорию\n",
    "def age_group(age):\n",
    "    if age <= age_statistics[4]: return 'до 34'\n",
    "    elif age_statistics[4] < age <= age_statistics[5]: return '34-43'\n",
    "    elif age_statistics[5] < age <= age_statistics[6]: return '43-53'\n",
    "    else: return '53+'\n",
    "    \n",
    "df['age_group'] = df['dob_years'].apply(age_group)\n",
    "df.head(2)"
   ]
  },
  {
   "cell_type": "code",
   "execution_count": 16,
   "metadata": {},
   "outputs": [
    {
     "data": {
      "text/plain": [
       "age_group\n",
       "34-43      1812.0\n",
       "43-53      2441.0\n",
       "53+      342859.0\n",
       "до 34      1147.0\n",
       "Name: days_employed, dtype: float64"
      ]
     },
     "execution_count": 16,
     "metadata": {},
     "output_type": "execute_result"
    }
   ],
   "source": [
    "#найдем медианное значение трудового стажа для каждой возрастной группы.\n",
    "medians_of_days_employed = df.groupby('age_group')['days_employed'].median()\n",
    "round(medians_of_days_employed, 0)"
   ]
  },
  {
   "cell_type": "code",
   "execution_count": 17,
   "metadata": {},
   "outputs": [],
   "source": [
    "# заменим пропущенные значения трудового стажа на медиану из возрастных категорий\n",
    "df.loc[(df['days_employed'].isnull()) & (df['age_group'] == '34-43'), 'days_employed'] = medians_of_days_employed[0]\n",
    "df.loc[(df['days_employed'].isnull()) & (df['age_group'] == '43-53'), 'days_employed'] = medians_of_days_employed[1]\n",
    "df.loc[(df['days_employed'].isnull()) & (df['age_group'] == '53+'), 'days_employed'] = medians_of_days_employed[2]\n",
    "df.loc[(df['days_employed'].isnull()) & (df['age_group'] == 'до 34'), 'days_employed'] = medians_of_days_employed[3]\n"
   ]
  },
  {
   "cell_type": "code",
   "execution_count": 18,
   "metadata": {},
   "outputs": [
    {
     "data": {
      "text/plain": [
       "income_type\n",
       "безработный        38.0\n",
       "в декрете          39.0\n",
       "госслужащий        40.0\n",
       "компаньон          39.0\n",
       "пенсионер          60.0\n",
       "предприниматель    42.5\n",
       "сотрудник          39.0\n",
       "студент            22.0\n",
       "Name: dob_years, dtype: float64"
      ]
     },
     "execution_count": 18,
     "metadata": {},
     "output_type": "execute_result"
    }
   ],
   "source": [
    "#найдем медианные значения возрастов клиентов для каждого типа занятости:\n",
    "age_medians = df.groupby('income_type')['dob_years'].median()\n",
    "age_medians"
   ]
  },
  {
   "cell_type": "code",
   "execution_count": 19,
   "metadata": {},
   "outputs": [
    {
     "data": {
      "text/plain": [
       "Series([], Name: dob_years, dtype: int64)"
      ]
     },
     "execution_count": 19,
     "metadata": {},
     "output_type": "execute_result"
    }
   ],
   "source": [
    "#заменим нулевые значения на медианы по каждому типу занятости.\n",
    "df.loc[(df['dob_years'] == 0) & (df['income_type'] == 'сотрудник'), 'dob_years'] = age_medians[6]\n",
    "df.loc[(df['dob_years'] == 0) & (df['income_type'] == 'пенсионер'), 'dob_years'] = age_medians[4]\n",
    "df.loc[(df['dob_years'] == 0) & (df['income_type'] == 'компаньон'), 'dob_years'] = age_medians[3]\n",
    "df.loc[(df['dob_years'] == 0) & (df['income_type'] == 'госслужащий'), 'dob_years'] = age_medians[2]\n",
    "\n",
    "# Проверим, все ли нули мы исправили.\n",
    "df.loc[df['dob_years'] == 0, 'dob_years'].value_counts()"
   ]
  },
  {
   "cell_type": "code",
   "execution_count": 20,
   "metadata": {},
   "outputs": [
    {
     "data": {
      "text/plain": [
       "income_type\n",
       "безработный        131340.0\n",
       "в декрете           53829.0\n",
       "госслужащий        150448.0\n",
       "компаньон          172319.0\n",
       "пенсионер          118514.0\n",
       "предприниматель    499163.0\n",
       "сотрудник          142594.0\n",
       "студент             98202.0\n",
       "Name: total_income, dtype: float64"
      ]
     },
     "execution_count": 20,
     "metadata": {},
     "output_type": "execute_result"
    }
   ],
   "source": [
    "#заменим пустые значения в ежемесячном доходе на медианные по каждому типу занятости.\n",
    "#найдем медианные уровни дохода для каждого типа занятости\n",
    "medians_total_income = df.groupby('income_type')['total_income'].median()\n",
    "round(medians_total_income)"
   ]
  },
  {
   "cell_type": "code",
   "execution_count": 21,
   "metadata": {},
   "outputs": [],
   "source": [
    "# Заменим пропущенные значения ежемесячного дохода на медианы по типам занятости.\n",
    "df.loc[(df['total_income'].isnull()) & (df['income_type'] == 'сотрудник'), 'total_income'] = medians_total_income[6]\n",
    "df.loc[(df['total_income'].isnull()) & (df['income_type'] == 'компаньон'), 'total_income'] = medians_total_income[3]\n",
    "df.loc[(df['total_income'].isnull()) & (df['income_type'] == 'пенсионер'), 'total_income'] = medians_total_income[4]\n",
    "df.loc[(df['total_income'].isnull()) & (df['income_type'] == 'госслужащий'), 'total_income'] = medians_total_income[2]\n",
    "df.loc[(df['total_income'].isnull()) & (df['income_type'] == 'предприниматель'), 'total_income'] = medians_total_income[5]"
   ]
  },
  {
   "cell_type": "code",
   "execution_count": 22,
   "metadata": {},
   "outputs": [
    {
     "name": "stdout",
     "output_type": "stream",
     "text": [
      "<class 'pandas.core.frame.DataFrame'>\n",
      "Int64Index: 21524 entries, 0 to 21524\n",
      "Data columns (total 13 columns):\n",
      "children            21524 non-null int64\n",
      "days_employed       21524 non-null float64\n",
      "dob_years           21524 non-null float64\n",
      "education           21524 non-null object\n",
      "education_id        21524 non-null int64\n",
      "family_status       21524 non-null object\n",
      "family_status_id    21524 non-null int64\n",
      "gender              21524 non-null object\n",
      "income_type         21524 non-null object\n",
      "debt                21524 non-null int64\n",
      "total_income        21524 non-null float64\n",
      "purpose             21524 non-null object\n",
      "age_group           21524 non-null object\n",
      "dtypes: float64(3), int64(4), object(6)\n",
      "memory usage: 2.9+ MB\n"
     ]
    }
   ],
   "source": [
    "df.info()"
   ]
  },
  {
   "cell_type": "code",
   "execution_count": 23,
   "metadata": {},
   "outputs": [
    {
     "data": {
      "text/plain": [
       "0    14148\n",
       "1     4865\n",
       "2     2131\n",
       "3      330\n",
       "4       41\n",
       "5        9\n",
       "Name: children, dtype: int64"
      ]
     },
     "execution_count": 23,
     "metadata": {},
     "output_type": "execute_result"
    }
   ],
   "source": [
    "#предположим, что ошибочные значения в колонке children (20)=2 и (-1)=1 и заменим их на новые \n",
    "df['children'] = df['children'].replace(20, 2)\n",
    "df['children'] = df['children'].replace(-1, 1)\n",
    "df['children'].value_counts()"
   ]
  },
  {
   "cell_type": "code",
   "execution_count": 24,
   "metadata": {},
   "outputs": [
    {
     "data": {
      "text/plain": [
       "array(['высшее', 'среднее', 'неоконченное высшее', 'начальное',\n",
       "       'ученая степень'], dtype=object)"
      ]
     },
     "execution_count": 24,
     "metadata": {},
     "output_type": "execute_result"
    }
   ],
   "source": [
    "#приведем все значения к одному регистру\n",
    "df['education'] = df['education'].str.lower()\n",
    "# в столбце education теперь 5 уникальных значений\n",
    "df['education'].unique()"
   ]
  },
  {
   "cell_type": "markdown",
   "metadata": {},
   "source": [
    "**Вывод**"
   ]
  },
  {
   "cell_type": "markdown",
   "metadata": {},
   "source": [
    "- положительные значения в колонке days_emploed;\n",
    "- регистр в колонке education единый;\n",
    "- удалено ошибочное значение в колонке gender;\n",
    "- обработаны пропущенные значения по ежемесячному доходу на основе медиан для каждого типа занятости;\n",
    "- исправлены значения нулевого возраста на медианы соответствующего типа занятости;\n",
    "- обработаны пропущенные значения в данных по трудовому стажу на основе медиан для каждой возрастной категории;\n",
    "- заменены ошибочные значения в колонке с количеством детей.\n",
    "\n",
    "[Наверх к оглавлению](#contents)"
   ]
  },
  {
   "cell_type": "markdown",
   "metadata": {},
   "source": [
    "<a id=\"replace\"></a>\n",
    "### Замена типа данных"
   ]
  },
  {
   "cell_type": "code",
   "execution_count": 25,
   "metadata": {},
   "outputs": [
    {
     "data": {
      "text/plain": [
       "children              int64\n",
       "days_employed         int64\n",
       "dob_years           float64\n",
       "education            object\n",
       "education_id          int64\n",
       "family_status        object\n",
       "family_status_id      int64\n",
       "gender               object\n",
       "income_type          object\n",
       "debt                  int64\n",
       "total_income          int64\n",
       "purpose              object\n",
       "age_group            object\n",
       "dtype: object"
      ]
     },
     "execution_count": 25,
     "metadata": {},
     "output_type": "execute_result"
    }
   ],
   "source": [
    "# изменим тип значений с вещественного на целый  для более удобного формата считывания информации c помощью функции'astype()',\n",
    "#т.к. пропущенные значения уже обработаны\n",
    "df['days_employed'] = df['days_employed'].astype('int')\n",
    "df['total_income'] = df['total_income'].astype('int')\n",
    "df.dtypes"
   ]
  },
  {
   "cell_type": "markdown",
   "metadata": {},
   "source": [
    "**Вывод**"
   ]
  },
  {
   "cell_type": "markdown",
   "metadata": {},
   "source": [
    "Таблица имеет отформатированный вид для дальнейшей работы.\n",
    "\n",
    "[Наверх к оглавлению](#contents)"
   ]
  },
  {
   "cell_type": "markdown",
   "metadata": {},
   "source": [
    "<a id=\"duplicates\"></a>\n",
    "### Обработка дубликатов"
   ]
  },
  {
   "cell_type": "code",
   "execution_count": 26,
   "metadata": {},
   "outputs": [
    {
     "data": {
      "text/plain": [
       "71"
      ]
     },
     "execution_count": 26,
     "metadata": {},
     "output_type": "execute_result"
    }
   ],
   "source": [
    "#посчитаем количество дубликатов \n",
    "df.duplicated().sum()"
   ]
  },
  {
   "cell_type": "code",
   "execution_count": 27,
   "metadata": {},
   "outputs": [
    {
     "data": {
      "text/plain": [
       "137"
      ]
     },
     "execution_count": 27,
     "metadata": {},
     "output_type": "execute_result"
    }
   ],
   "source": [
    "#найдем число идентичных строк\n",
    "df.duplicated(keep = False).sum()"
   ]
  },
  {
   "cell_type": "code",
   "execution_count": 28,
   "metadata": {},
   "outputs": [
    {
     "data": {
      "text/html": [
       "<div>\n",
       "<style scoped>\n",
       "    .dataframe tbody tr th:only-of-type {\n",
       "        vertical-align: middle;\n",
       "    }\n",
       "\n",
       "    .dataframe tbody tr th {\n",
       "        vertical-align: top;\n",
       "    }\n",
       "\n",
       "    .dataframe thead th {\n",
       "        text-align: right;\n",
       "    }\n",
       "</style>\n",
       "<table border=\"1\" class=\"dataframe\">\n",
       "  <thead>\n",
       "    <tr style=\"text-align: right;\">\n",
       "      <th></th>\n",
       "      <th>children</th>\n",
       "      <th>days_employed</th>\n",
       "      <th>dob_years</th>\n",
       "      <th>education</th>\n",
       "      <th>education_id</th>\n",
       "      <th>family_status</th>\n",
       "      <th>family_status_id</th>\n",
       "      <th>gender</th>\n",
       "      <th>income_type</th>\n",
       "      <th>debt</th>\n",
       "      <th>total_income</th>\n",
       "      <th>purpose</th>\n",
       "      <th>age_group</th>\n",
       "    </tr>\n",
       "  </thead>\n",
       "  <tbody>\n",
       "    <tr>\n",
       "      <td>7938</td>\n",
       "      <td>0</td>\n",
       "      <td>342859</td>\n",
       "      <td>71.0</td>\n",
       "      <td>среднее</td>\n",
       "      <td>1</td>\n",
       "      <td>гражданский брак</td>\n",
       "      <td>1</td>\n",
       "      <td>F</td>\n",
       "      <td>пенсионер</td>\n",
       "      <td>0</td>\n",
       "      <td>118514</td>\n",
       "      <td>на проведение свадьбы</td>\n",
       "      <td>53+</td>\n",
       "    </tr>\n",
       "    <tr>\n",
       "      <td>9604</td>\n",
       "      <td>0</td>\n",
       "      <td>342859</td>\n",
       "      <td>71.0</td>\n",
       "      <td>среднее</td>\n",
       "      <td>1</td>\n",
       "      <td>гражданский брак</td>\n",
       "      <td>1</td>\n",
       "      <td>F</td>\n",
       "      <td>пенсионер</td>\n",
       "      <td>0</td>\n",
       "      <td>118514</td>\n",
       "      <td>на проведение свадьбы</td>\n",
       "      <td>53+</td>\n",
       "    </tr>\n",
       "    <tr>\n",
       "      <td>6537</td>\n",
       "      <td>0</td>\n",
       "      <td>342859</td>\n",
       "      <td>71.0</td>\n",
       "      <td>среднее</td>\n",
       "      <td>1</td>\n",
       "      <td>гражданский брак</td>\n",
       "      <td>1</td>\n",
       "      <td>F</td>\n",
       "      <td>пенсионер</td>\n",
       "      <td>0</td>\n",
       "      <td>118514</td>\n",
       "      <td>на проведение свадьбы</td>\n",
       "      <td>53+</td>\n",
       "    </tr>\n",
       "    <tr>\n",
       "      <td>5865</td>\n",
       "      <td>0</td>\n",
       "      <td>342859</td>\n",
       "      <td>66.0</td>\n",
       "      <td>среднее</td>\n",
       "      <td>1</td>\n",
       "      <td>вдовец / вдова</td>\n",
       "      <td>2</td>\n",
       "      <td>F</td>\n",
       "      <td>пенсионер</td>\n",
       "      <td>0</td>\n",
       "      <td>118514</td>\n",
       "      <td>операции со своей недвижимостью</td>\n",
       "      <td>53+</td>\n",
       "    </tr>\n",
       "    <tr>\n",
       "      <td>9528</td>\n",
       "      <td>0</td>\n",
       "      <td>342859</td>\n",
       "      <td>66.0</td>\n",
       "      <td>среднее</td>\n",
       "      <td>1</td>\n",
       "      <td>вдовец / вдова</td>\n",
       "      <td>2</td>\n",
       "      <td>F</td>\n",
       "      <td>пенсионер</td>\n",
       "      <td>0</td>\n",
       "      <td>118514</td>\n",
       "      <td>операции со своей недвижимостью</td>\n",
       "      <td>53+</td>\n",
       "    </tr>\n",
       "  </tbody>\n",
       "</table>\n",
       "</div>"
      ],
      "text/plain": [
       "      children  days_employed  dob_years education  education_id  \\\n",
       "7938         0         342859       71.0   среднее             1   \n",
       "9604         0         342859       71.0   среднее             1   \n",
       "6537         0         342859       71.0   среднее             1   \n",
       "5865         0         342859       66.0   среднее             1   \n",
       "9528         0         342859       66.0   среднее             1   \n",
       "\n",
       "         family_status  family_status_id gender income_type  debt  \\\n",
       "7938  гражданский брак                 1      F   пенсионер     0   \n",
       "9604  гражданский брак                 1      F   пенсионер     0   \n",
       "6537  гражданский брак                 1      F   пенсионер     0   \n",
       "5865    вдовец / вдова                 2      F   пенсионер     0   \n",
       "9528    вдовец / вдова                 2      F   пенсионер     0   \n",
       "\n",
       "      total_income                          purpose age_group  \n",
       "7938        118514            на проведение свадьбы       53+  \n",
       "9604        118514            на проведение свадьбы       53+  \n",
       "6537        118514            на проведение свадьбы       53+  \n",
       "5865        118514  операции со своей недвижимостью       53+  \n",
       "9528        118514  операции со своей недвижимостью       53+  "
      ]
     },
     "execution_count": 28,
     "metadata": {},
     "output_type": "execute_result"
    }
   ],
   "source": [
    "#посмотрим как это выглядит в таблице\n",
    "df[df.duplicated(keep = False)].sort_values('dob_years', ascending = False).head()"
   ]
  },
  {
   "cell_type": "code",
   "execution_count": 29,
   "metadata": {},
   "outputs": [],
   "source": [
    "#дубликаты похожи на техническую ошибку либо ошибку при вводе данных\n",
    "#удалим идентичных строки\n",
    "df = df.drop_duplicates().reset_index(drop = True)"
   ]
  },
  {
   "cell_type": "code",
   "execution_count": 30,
   "metadata": {},
   "outputs": [
    {
     "data": {
      "text/plain": [
       "0"
      ]
     },
     "execution_count": 30,
     "metadata": {},
     "output_type": "execute_result"
    }
   ],
   "source": [
    "#проверим еще раз на наличие дубликатов\n",
    "df.duplicated().sum()"
   ]
  },
  {
   "cell_type": "markdown",
   "metadata": {},
   "source": [
    "**Вывод**"
   ]
  },
  {
   "cell_type": "markdown",
   "metadata": {},
   "source": [
    "Необходимо в дальнейшем, кто будет использовать таблицу для работы, выяснить, влияет ли человеческий фактор на дубликаты или это техническая ошибка.\n",
    "\n",
    "[Наверх к оглавлению](#contents)"
   ]
  },
  {
   "cell_type": "markdown",
   "metadata": {},
   "source": [
    "<a id=\"lemm\"></a>\n",
    "### Лемматизация"
   ]
  },
  {
   "cell_type": "code",
   "execution_count": 31,
   "metadata": {
    "scrolled": false
   },
   "outputs": [
    {
     "data": {
      "text/plain": [
       "свадьба                                   791\n",
       "на проведение свадьбы                     768\n",
       "сыграть свадьбу                           765\n",
       "операции с недвижимостью                  675\n",
       "покупка коммерческой недвижимости         661\n",
       "операции с жильем                         652\n",
       "покупка жилья для сдачи                   651\n",
       "операции с коммерческой недвижимостью     650\n",
       "жилье                                     646\n",
       "покупка жилья                             646\n",
       "покупка жилья для семьи                   638\n",
       "строительство собственной недвижимости    635\n",
       "недвижимость                              633\n",
       "операции со своей недвижимостью           627\n",
       "строительство жилой недвижимости          624\n",
       "покупка своего жилья                      620\n",
       "покупка недвижимости                      620\n",
       "строительство недвижимости                619\n",
       "ремонт жилью                              607\n",
       "покупка жилой недвижимости                606\n",
       "на покупку своего автомобиля              505\n",
       "заняться высшим образованием              496\n",
       "автомобиль                                494\n",
       "сделка с подержанным автомобилем          486\n",
       "свой автомобиль                           478\n",
       "на покупку подержанного автомобиля        478\n",
       "автомобили                                478\n",
       "на покупку автомобиля                     471\n",
       "приобретение автомобиля                   461\n",
       "дополнительное образование                460\n",
       "сделка с автомобилем                      455\n",
       "высшее образование                        452\n",
       "образование                               447\n",
       "получение дополнительного образования     446\n",
       "получение образования                     442\n",
       "профильное образование                    436\n",
       "получение высшего образования             426\n",
       "заняться образованием                     408\n",
       "Name: purpose, dtype: int64"
      ]
     },
     "execution_count": 31,
     "metadata": {},
     "output_type": "execute_result"
    }
   ],
   "source": [
    "#рассмотрим все варианты целей для кредитования\n",
    "df['purpose'].value_counts()"
   ]
  },
  {
   "cell_type": "code",
   "execution_count": 32,
   "metadata": {},
   "outputs": [
    {
     "data": {
      "text/plain": [
       "Counter({'покупка': 5896,\n",
       "         ' ': 33569,\n",
       "         'жилье': 4460,\n",
       "         '; ': 21452,\n",
       "         'приобретение': 461,\n",
       "         'автомобиль': 4306,\n",
       "         'дополнительный': 906,\n",
       "         'образование': 4013,\n",
       "         'сыграть': 765,\n",
       "         'свадьба': 2324,\n",
       "         'операция': 2604,\n",
       "         'с': 2918,\n",
       "         'на': 2222,\n",
       "         'проведение': 768,\n",
       "         'для': 1289,\n",
       "         'семья': 638,\n",
       "         'недвижимость': 6350,\n",
       "         'коммерческий': 1311,\n",
       "         'жилой': 1230,\n",
       "         'строительство': 1878,\n",
       "         'собственный': 635,\n",
       "         'подержать': 853,\n",
       "         'свой': 2230,\n",
       "         'со': 627,\n",
       "         'заниматься': 904,\n",
       "         'сделка': 941,\n",
       "         'получение': 1314,\n",
       "         'высокий': 1374,\n",
       "         'подержанный': 111,\n",
       "         'профильный': 436,\n",
       "         'сдача': 651,\n",
       "         'ремонт': 607,\n",
       "         '\\n': 1})"
      ]
     },
     "execution_count": 32,
     "metadata": {},
     "output_type": "execute_result"
    }
   ],
   "source": [
    "#Посчитаем, сколько раз упоминаются различные цели с помощью контейнера Counter из модуля collections\n",
    "#используем функцию 'join()', чтобы преобразовать перечисляемую последовательность в список\n",
    "lemmas = m.lemmatize('; '.join(df['purpose']))\n",
    "Counter(lemmas)"
   ]
  },
  {
   "cell_type": "code",
   "execution_count": 33,
   "metadata": {},
   "outputs": [
    {
     "data": {
      "text/html": [
       "<div>\n",
       "<style scoped>\n",
       "    .dataframe tbody tr th:only-of-type {\n",
       "        vertical-align: middle;\n",
       "    }\n",
       "\n",
       "    .dataframe tbody tr th {\n",
       "        vertical-align: top;\n",
       "    }\n",
       "\n",
       "    .dataframe thead th {\n",
       "        text-align: right;\n",
       "    }\n",
       "</style>\n",
       "<table border=\"1\" class=\"dataframe\">\n",
       "  <thead>\n",
       "    <tr style=\"text-align: right;\">\n",
       "      <th></th>\n",
       "      <th>children</th>\n",
       "      <th>days_employed</th>\n",
       "      <th>dob_years</th>\n",
       "      <th>education</th>\n",
       "      <th>education_id</th>\n",
       "      <th>family_status</th>\n",
       "      <th>family_status_id</th>\n",
       "      <th>gender</th>\n",
       "      <th>income_type</th>\n",
       "      <th>debt</th>\n",
       "      <th>total_income</th>\n",
       "      <th>purpose</th>\n",
       "      <th>age_group</th>\n",
       "      <th>purpose_group</th>\n",
       "    </tr>\n",
       "  </thead>\n",
       "  <tbody>\n",
       "    <tr>\n",
       "      <td>0</td>\n",
       "      <td>1</td>\n",
       "      <td>8437</td>\n",
       "      <td>42.0</td>\n",
       "      <td>высшее</td>\n",
       "      <td>0</td>\n",
       "      <td>женат / замужем</td>\n",
       "      <td>0</td>\n",
       "      <td>F</td>\n",
       "      <td>сотрудник</td>\n",
       "      <td>0</td>\n",
       "      <td>253875</td>\n",
       "      <td>покупка жилья</td>\n",
       "      <td>34-43</td>\n",
       "      <td>жилье</td>\n",
       "    </tr>\n",
       "    <tr>\n",
       "      <td>1</td>\n",
       "      <td>1</td>\n",
       "      <td>4024</td>\n",
       "      <td>36.0</td>\n",
       "      <td>среднее</td>\n",
       "      <td>1</td>\n",
       "      <td>женат / замужем</td>\n",
       "      <td>0</td>\n",
       "      <td>F</td>\n",
       "      <td>сотрудник</td>\n",
       "      <td>0</td>\n",
       "      <td>112080</td>\n",
       "      <td>приобретение автомобиля</td>\n",
       "      <td>34-43</td>\n",
       "      <td>автомобиль</td>\n",
       "    </tr>\n",
       "    <tr>\n",
       "      <td>2</td>\n",
       "      <td>0</td>\n",
       "      <td>5623</td>\n",
       "      <td>33.0</td>\n",
       "      <td>среднее</td>\n",
       "      <td>1</td>\n",
       "      <td>женат / замужем</td>\n",
       "      <td>0</td>\n",
       "      <td>M</td>\n",
       "      <td>сотрудник</td>\n",
       "      <td>0</td>\n",
       "      <td>145885</td>\n",
       "      <td>покупка жилья</td>\n",
       "      <td>до 34</td>\n",
       "      <td>жилье</td>\n",
       "    </tr>\n",
       "    <tr>\n",
       "      <td>3</td>\n",
       "      <td>3</td>\n",
       "      <td>4124</td>\n",
       "      <td>32.0</td>\n",
       "      <td>среднее</td>\n",
       "      <td>1</td>\n",
       "      <td>женат / замужем</td>\n",
       "      <td>0</td>\n",
       "      <td>M</td>\n",
       "      <td>сотрудник</td>\n",
       "      <td>0</td>\n",
       "      <td>267628</td>\n",
       "      <td>дополнительное образование</td>\n",
       "      <td>до 34</td>\n",
       "      <td>образование</td>\n",
       "    </tr>\n",
       "    <tr>\n",
       "      <td>4</td>\n",
       "      <td>0</td>\n",
       "      <td>340266</td>\n",
       "      <td>53.0</td>\n",
       "      <td>среднее</td>\n",
       "      <td>1</td>\n",
       "      <td>гражданский брак</td>\n",
       "      <td>1</td>\n",
       "      <td>F</td>\n",
       "      <td>пенсионер</td>\n",
       "      <td>0</td>\n",
       "      <td>158616</td>\n",
       "      <td>сыграть свадьбу</td>\n",
       "      <td>43-53</td>\n",
       "      <td>свадьба</td>\n",
       "    </tr>\n",
       "    <tr>\n",
       "      <td>5</td>\n",
       "      <td>0</td>\n",
       "      <td>926</td>\n",
       "      <td>27.0</td>\n",
       "      <td>высшее</td>\n",
       "      <td>0</td>\n",
       "      <td>гражданский брак</td>\n",
       "      <td>1</td>\n",
       "      <td>M</td>\n",
       "      <td>компаньон</td>\n",
       "      <td>0</td>\n",
       "      <td>255763</td>\n",
       "      <td>покупка жилья</td>\n",
       "      <td>до 34</td>\n",
       "      <td>жилье</td>\n",
       "    </tr>\n",
       "    <tr>\n",
       "      <td>6</td>\n",
       "      <td>0</td>\n",
       "      <td>2879</td>\n",
       "      <td>43.0</td>\n",
       "      <td>высшее</td>\n",
       "      <td>0</td>\n",
       "      <td>женат / замужем</td>\n",
       "      <td>0</td>\n",
       "      <td>F</td>\n",
       "      <td>компаньон</td>\n",
       "      <td>0</td>\n",
       "      <td>240525</td>\n",
       "      <td>операции с жильем</td>\n",
       "      <td>43-53</td>\n",
       "      <td>жилье</td>\n",
       "    </tr>\n",
       "    <tr>\n",
       "      <td>7</td>\n",
       "      <td>0</td>\n",
       "      <td>152</td>\n",
       "      <td>50.0</td>\n",
       "      <td>среднее</td>\n",
       "      <td>1</td>\n",
       "      <td>женат / замужем</td>\n",
       "      <td>0</td>\n",
       "      <td>M</td>\n",
       "      <td>сотрудник</td>\n",
       "      <td>0</td>\n",
       "      <td>135823</td>\n",
       "      <td>образование</td>\n",
       "      <td>43-53</td>\n",
       "      <td>образование</td>\n",
       "    </tr>\n",
       "    <tr>\n",
       "      <td>8</td>\n",
       "      <td>2</td>\n",
       "      <td>6929</td>\n",
       "      <td>35.0</td>\n",
       "      <td>высшее</td>\n",
       "      <td>0</td>\n",
       "      <td>гражданский брак</td>\n",
       "      <td>1</td>\n",
       "      <td>F</td>\n",
       "      <td>сотрудник</td>\n",
       "      <td>0</td>\n",
       "      <td>95856</td>\n",
       "      <td>на проведение свадьбы</td>\n",
       "      <td>34-43</td>\n",
       "      <td>свадьба</td>\n",
       "    </tr>\n",
       "    <tr>\n",
       "      <td>9</td>\n",
       "      <td>0</td>\n",
       "      <td>2188</td>\n",
       "      <td>41.0</td>\n",
       "      <td>среднее</td>\n",
       "      <td>1</td>\n",
       "      <td>женат / замужем</td>\n",
       "      <td>0</td>\n",
       "      <td>M</td>\n",
       "      <td>сотрудник</td>\n",
       "      <td>0</td>\n",
       "      <td>144425</td>\n",
       "      <td>покупка жилья для семьи</td>\n",
       "      <td>34-43</td>\n",
       "      <td>жилье</td>\n",
       "    </tr>\n",
       "  </tbody>\n",
       "</table>\n",
       "</div>"
      ],
      "text/plain": [
       "   children  days_employed  dob_years education  education_id  \\\n",
       "0         1           8437       42.0    высшее             0   \n",
       "1         1           4024       36.0   среднее             1   \n",
       "2         0           5623       33.0   среднее             1   \n",
       "3         3           4124       32.0   среднее             1   \n",
       "4         0         340266       53.0   среднее             1   \n",
       "5         0            926       27.0    высшее             0   \n",
       "6         0           2879       43.0    высшее             0   \n",
       "7         0            152       50.0   среднее             1   \n",
       "8         2           6929       35.0    высшее             0   \n",
       "9         0           2188       41.0   среднее             1   \n",
       "\n",
       "      family_status  family_status_id gender income_type  debt  total_income  \\\n",
       "0   женат / замужем                 0      F   сотрудник     0        253875   \n",
       "1   женат / замужем                 0      F   сотрудник     0        112080   \n",
       "2   женат / замужем                 0      M   сотрудник     0        145885   \n",
       "3   женат / замужем                 0      M   сотрудник     0        267628   \n",
       "4  гражданский брак                 1      F   пенсионер     0        158616   \n",
       "5  гражданский брак                 1      M   компаньон     0        255763   \n",
       "6   женат / замужем                 0      F   компаньон     0        240525   \n",
       "7   женат / замужем                 0      M   сотрудник     0        135823   \n",
       "8  гражданский брак                 1      F   сотрудник     0         95856   \n",
       "9   женат / замужем                 0      M   сотрудник     0        144425   \n",
       "\n",
       "                      purpose age_group purpose_group  \n",
       "0               покупка жилья     34-43         жилье  \n",
       "1     приобретение автомобиля     34-43    автомобиль  \n",
       "2               покупка жилья     до 34         жилье  \n",
       "3  дополнительное образование     до 34   образование  \n",
       "4             сыграть свадьбу     43-53       свадьба  \n",
       "5               покупка жилья     до 34         жилье  \n",
       "6           операции с жильем     43-53         жилье  \n",
       "7                 образование     43-53   образование  \n",
       "8       на проведение свадьбы     34-43       свадьба  \n",
       "9     покупка жилья для семьи     34-43         жилье  "
      ]
     },
     "execution_count": 33,
     "metadata": {},
     "output_type": "execute_result"
    }
   ],
   "source": [
    "#среди целей выделяется 6 типов. Выведем их вручную\n",
    "goal = [\"строительство\", \"образование\", \"свадьба\", \"недвижимость\", \"автомобиль\", \"жилье\"]\n",
    "\n",
    "# проведем лемматизацию,\n",
    "# одновременно заменив полученный список лемм в каждой строке на главное ключевое слово из списка категорий\n",
    "\n",
    "def lemmatize(text):\n",
    "    lemma = m.lemmatize(text)\n",
    "    for word in goal:\n",
    "        if word in lemma:\n",
    "            lemma = word\n",
    "    return lemma\n",
    "#создадим новый столбец (purpose_group) с категориями на основании результатов лемматизации\n",
    "df['purpose_group'] = df['purpose'].apply(lemmatize)        \n",
    "df.head(10)"
   ]
  },
  {
   "cell_type": "code",
   "execution_count": 34,
   "metadata": {
    "scrolled": true
   },
   "outputs": [
    {
     "data": {
      "text/plain": [
       "недвижимость     4472\n",
       "жилье            4460\n",
       "автомобиль       4306\n",
       "образование      4013\n",
       "свадьба          2324\n",
       "строительство    1878\n",
       "Name: purpose_group, dtype: int64"
      ]
     },
     "execution_count": 34,
     "metadata": {},
     "output_type": "execute_result"
    }
   ],
   "source": [
    "#посчитаем все возможные категории целей кредита\n",
    "df['purpose_group'].value_counts()"
   ]
  },
  {
   "cell_type": "code",
   "execution_count": 35,
   "metadata": {
    "scrolled": true
   },
   "outputs": [
    {
     "data": {
      "text/plain": [
       "недвижимость     8932\n",
       "автомобиль       4306\n",
       "образование      4013\n",
       "свадьба          2324\n",
       "строительство    1878\n",
       "Name: purpose_group, dtype: int64"
      ]
     },
     "execution_count": 35,
     "metadata": {},
     "output_type": "execute_result"
    }
   ],
   "source": [
    "#объединим две категории 'жилье' и 'нежвижимость' в одну\n",
    "df.loc[df['purpose_group'] == 'жилье', 'purpose_group'] = 'недвижимость'\n",
    "df['purpose_group'].value_counts()"
   ]
  },
  {
   "cell_type": "markdown",
   "metadata": {},
   "source": [
    "**Вывод**"
   ]
  },
  {
   "cell_type": "markdown",
   "metadata": {},
   "source": [
    "Выделили 5 основных категорий целевых кредитов. \n",
    "\n",
    "[Наверх к оглавлению](#contents)"
   ]
  },
  {
   "cell_type": "markdown",
   "metadata": {},
   "source": [
    "<a id=\"category\"></a>\n",
    "### Категоризация данных"
   ]
  },
  {
   "cell_type": "markdown",
   "metadata": {},
   "source": [
    "*Ранее уже были созданы столбец с категориями по целям кредита 'purpose_category' и столбец с группированием по возрасту 'age_group'. Создадим еще одну категоризацию - по доходам. Для этого воспользуемся квантилями 25%, 50% и 75%:*"
   ]
  },
  {
   "cell_type": "code",
   "execution_count": 36,
   "metadata": {},
   "outputs": [
    {
     "data": {
      "text/plain": [
       "25%    107620.0\n",
       "50%    142594.0\n",
       "75%    195818.0\n",
       "Name: total_income, dtype: float64"
      ]
     },
     "execution_count": 36,
     "metadata": {},
     "output_type": "execute_result"
    }
   ],
   "source": [
    "total_statistics = df['total_income'].describe()\n",
    "total_statistics[4:7]"
   ]
  },
  {
   "cell_type": "code",
   "execution_count": 37,
   "metadata": {},
   "outputs": [],
   "source": [
    "# создадим функцию:\n",
    "def specify_income_group(income):\n",
    "    if income <= total_statistics[4]: return 'до 107620'\n",
    "    elif total_statistics[4] < income <= total_statistics[5]: return 'от 107620 до 142594'\n",
    "    elif total_statistics[5] < income <= total_statistics[6]: return 'от 142594 до 195818'\n",
    "    else: return 'выше 195818'"
   ]
  },
  {
   "cell_type": "code",
   "execution_count": 38,
   "metadata": {},
   "outputs": [
    {
     "data": {
      "text/html": [
       "<div>\n",
       "<style scoped>\n",
       "    .dataframe tbody tr th:only-of-type {\n",
       "        vertical-align: middle;\n",
       "    }\n",
       "\n",
       "    .dataframe tbody tr th {\n",
       "        vertical-align: top;\n",
       "    }\n",
       "\n",
       "    .dataframe thead th {\n",
       "        text-align: right;\n",
       "    }\n",
       "</style>\n",
       "<table border=\"1\" class=\"dataframe\">\n",
       "  <thead>\n",
       "    <tr style=\"text-align: right;\">\n",
       "      <th></th>\n",
       "      <th>children</th>\n",
       "      <th>days_employed</th>\n",
       "      <th>dob_years</th>\n",
       "      <th>education</th>\n",
       "      <th>education_id</th>\n",
       "      <th>family_status</th>\n",
       "      <th>family_status_id</th>\n",
       "      <th>gender</th>\n",
       "      <th>income_type</th>\n",
       "      <th>debt</th>\n",
       "      <th>total_income</th>\n",
       "      <th>purpose</th>\n",
       "      <th>age_group</th>\n",
       "      <th>purpose_group</th>\n",
       "      <th>income_group</th>\n",
       "    </tr>\n",
       "  </thead>\n",
       "  <tbody>\n",
       "    <tr>\n",
       "      <td>0</td>\n",
       "      <td>1</td>\n",
       "      <td>8437</td>\n",
       "      <td>42.0</td>\n",
       "      <td>высшее</td>\n",
       "      <td>0</td>\n",
       "      <td>женат / замужем</td>\n",
       "      <td>0</td>\n",
       "      <td>F</td>\n",
       "      <td>сотрудник</td>\n",
       "      <td>0</td>\n",
       "      <td>253875</td>\n",
       "      <td>покупка жилья</td>\n",
       "      <td>34-43</td>\n",
       "      <td>недвижимость</td>\n",
       "      <td>выше 195818</td>\n",
       "    </tr>\n",
       "    <tr>\n",
       "      <td>1</td>\n",
       "      <td>1</td>\n",
       "      <td>4024</td>\n",
       "      <td>36.0</td>\n",
       "      <td>среднее</td>\n",
       "      <td>1</td>\n",
       "      <td>женат / замужем</td>\n",
       "      <td>0</td>\n",
       "      <td>F</td>\n",
       "      <td>сотрудник</td>\n",
       "      <td>0</td>\n",
       "      <td>112080</td>\n",
       "      <td>приобретение автомобиля</td>\n",
       "      <td>34-43</td>\n",
       "      <td>автомобиль</td>\n",
       "      <td>от 107620 до 142594</td>\n",
       "    </tr>\n",
       "    <tr>\n",
       "      <td>2</td>\n",
       "      <td>0</td>\n",
       "      <td>5623</td>\n",
       "      <td>33.0</td>\n",
       "      <td>среднее</td>\n",
       "      <td>1</td>\n",
       "      <td>женат / замужем</td>\n",
       "      <td>0</td>\n",
       "      <td>M</td>\n",
       "      <td>сотрудник</td>\n",
       "      <td>0</td>\n",
       "      <td>145885</td>\n",
       "      <td>покупка жилья</td>\n",
       "      <td>до 34</td>\n",
       "      <td>недвижимость</td>\n",
       "      <td>от 142594 до 195818</td>\n",
       "    </tr>\n",
       "    <tr>\n",
       "      <td>3</td>\n",
       "      <td>3</td>\n",
       "      <td>4124</td>\n",
       "      <td>32.0</td>\n",
       "      <td>среднее</td>\n",
       "      <td>1</td>\n",
       "      <td>женат / замужем</td>\n",
       "      <td>0</td>\n",
       "      <td>M</td>\n",
       "      <td>сотрудник</td>\n",
       "      <td>0</td>\n",
       "      <td>267628</td>\n",
       "      <td>дополнительное образование</td>\n",
       "      <td>до 34</td>\n",
       "      <td>образование</td>\n",
       "      <td>выше 195818</td>\n",
       "    </tr>\n",
       "    <tr>\n",
       "      <td>4</td>\n",
       "      <td>0</td>\n",
       "      <td>340266</td>\n",
       "      <td>53.0</td>\n",
       "      <td>среднее</td>\n",
       "      <td>1</td>\n",
       "      <td>гражданский брак</td>\n",
       "      <td>1</td>\n",
       "      <td>F</td>\n",
       "      <td>пенсионер</td>\n",
       "      <td>0</td>\n",
       "      <td>158616</td>\n",
       "      <td>сыграть свадьбу</td>\n",
       "      <td>43-53</td>\n",
       "      <td>свадьба</td>\n",
       "      <td>от 142594 до 195818</td>\n",
       "    </tr>\n",
       "  </tbody>\n",
       "</table>\n",
       "</div>"
      ],
      "text/plain": [
       "   children  days_employed  dob_years education  education_id  \\\n",
       "0         1           8437       42.0    высшее             0   \n",
       "1         1           4024       36.0   среднее             1   \n",
       "2         0           5623       33.0   среднее             1   \n",
       "3         3           4124       32.0   среднее             1   \n",
       "4         0         340266       53.0   среднее             1   \n",
       "\n",
       "      family_status  family_status_id gender income_type  debt  total_income  \\\n",
       "0   женат / замужем                 0      F   сотрудник     0        253875   \n",
       "1   женат / замужем                 0      F   сотрудник     0        112080   \n",
       "2   женат / замужем                 0      M   сотрудник     0        145885   \n",
       "3   женат / замужем                 0      M   сотрудник     0        267628   \n",
       "4  гражданский брак                 1      F   пенсионер     0        158616   \n",
       "\n",
       "                      purpose age_group purpose_group         income_group  \n",
       "0               покупка жилья     34-43  недвижимость          выше 195818  \n",
       "1     приобретение автомобиля     34-43    автомобиль  от 107620 до 142594  \n",
       "2               покупка жилья     до 34  недвижимость  от 142594 до 195818  \n",
       "3  дополнительное образование     до 34   образование          выше 195818  \n",
       "4             сыграть свадьбу     43-53       свадьба  от 142594 до 195818  "
      ]
     },
     "execution_count": 38,
     "metadata": {},
     "output_type": "execute_result"
    }
   ],
   "source": [
    "# применим функцию к столбцу доходов\n",
    "df['income_group'] = df['total_income'].apply(specify_income_group)\n",
    "df.head()"
   ]
  },
  {
   "cell_type": "code",
   "execution_count": 39,
   "metadata": {
    "scrolled": true
   },
   "outputs": [
    {
     "data": {
      "text/plain": [
       "от 107620 до 142594    5479\n",
       "до 107620              5364\n",
       "выше 195818            5363\n",
       "от 142594 до 195818    5247\n",
       "Name: income_group, dtype: int64"
      ]
     },
     "execution_count": 39,
     "metadata": {},
     "output_type": "execute_result"
    }
   ],
   "source": [
    "df['income_group'].value_counts() #выведем уникальные значения и их количество"
   ]
  },
  {
   "cell_type": "code",
   "execution_count": 40,
   "metadata": {},
   "outputs": [
    {
     "data": {
      "text/plain": [
       "до 34    5466\n",
       "43-53    5448\n",
       "34-43    5284\n",
       "53+      5255\n",
       "Name: age_group, dtype: int64"
      ]
     },
     "execution_count": 40,
     "metadata": {},
     "output_type": "execute_result"
    }
   ],
   "source": [
    "#продублируем категоризацию по возрасту для наглядности\n",
    "df['age_group'].value_counts()"
   ]
  },
  {
   "cell_type": "code",
   "execution_count": 41,
   "metadata": {},
   "outputs": [
    {
     "data": {
      "text/plain": [
       "недвижимость     8932\n",
       "автомобиль       4306\n",
       "образование      4013\n",
       "свадьба          2324\n",
       "строительство    1878\n",
       "Name: purpose_group, dtype: int64"
      ]
     },
     "execution_count": 41,
     "metadata": {},
     "output_type": "execute_result"
    }
   ],
   "source": [
    "# и категоризацию по цели кредита для наглядности\n",
    "df['purpose_group'].value_counts()"
   ]
  },
  {
   "cell_type": "markdown",
   "metadata": {},
   "source": [
    "**Вывод**"
   ]
  },
  {
   "cell_type": "markdown",
   "metadata": {},
   "source": [
    "\n",
    "- большим спросом пользуется кредит на недвижимость;\n",
    "- доход на запрос кредита не влияет;\n",
    "- кредиту все возрасты покорны\n",
    "\n",
    "[Наверх к оглавлению](#contents)"
   ]
  },
  {
   "cell_type": "markdown",
   "metadata": {},
   "source": [
    "<a id=\"analysis\"></a>\n",
    "## Анализ"
   ]
  },
  {
   "cell_type": "markdown",
   "metadata": {},
   "source": [
    "- Есть ли зависимость между наличием детей и возвратом кредита в срок?"
   ]
  },
  {
   "cell_type": "code",
   "execution_count": 42,
   "metadata": {},
   "outputs": [
    {
     "data": {
      "text/html": [
       "<div>\n",
       "<style scoped>\n",
       "    .dataframe tbody tr th:only-of-type {\n",
       "        vertical-align: middle;\n",
       "    }\n",
       "\n",
       "    .dataframe tbody tr th {\n",
       "        vertical-align: top;\n",
       "    }\n",
       "\n",
       "    .dataframe thead th {\n",
       "        text-align: right;\n",
       "    }\n",
       "</style>\n",
       "<table border=\"1\" class=\"dataframe\">\n",
       "  <thead>\n",
       "    <tr style=\"text-align: right;\">\n",
       "      <th>debt</th>\n",
       "      <th>0</th>\n",
       "      <th>1</th>\n",
       "      <th>ratio</th>\n",
       "    </tr>\n",
       "    <tr>\n",
       "      <th>children</th>\n",
       "      <th></th>\n",
       "      <th></th>\n",
       "      <th></th>\n",
       "    </tr>\n",
       "  </thead>\n",
       "  <tbody>\n",
       "    <tr>\n",
       "      <td>0</td>\n",
       "      <td>13027</td>\n",
       "      <td>1063</td>\n",
       "      <td>7.54</td>\n",
       "    </tr>\n",
       "    <tr>\n",
       "      <td>1</td>\n",
       "      <td>4410</td>\n",
       "      <td>445</td>\n",
       "      <td>9.17</td>\n",
       "    </tr>\n",
       "    <tr>\n",
       "      <td>2</td>\n",
       "      <td>1926</td>\n",
       "      <td>202</td>\n",
       "      <td>9.49</td>\n",
       "    </tr>\n",
       "    <tr>\n",
       "      <td>3</td>\n",
       "      <td>303</td>\n",
       "      <td>27</td>\n",
       "      <td>8.18</td>\n",
       "    </tr>\n",
       "    <tr>\n",
       "      <td>4</td>\n",
       "      <td>37</td>\n",
       "      <td>4</td>\n",
       "      <td>9.76</td>\n",
       "    </tr>\n",
       "    <tr>\n",
       "      <td>5</td>\n",
       "      <td>9</td>\n",
       "      <td>0</td>\n",
       "      <td>0.00</td>\n",
       "    </tr>\n",
       "  </tbody>\n",
       "</table>\n",
       "</div>"
      ],
      "text/plain": [
       "debt          0     1  ratio\n",
       "children                    \n",
       "0         13027  1063   7.54\n",
       "1          4410   445   9.17\n",
       "2          1926   202   9.49\n",
       "3           303    27   8.18\n",
       "4            37     4   9.76\n",
       "5             9     0   0.00"
      ]
     },
     "execution_count": 42,
     "metadata": {},
     "output_type": "execute_result"
    }
   ],
   "source": [
    "# построим сводную таблицу применив метод pivot_table\n",
    "df_pivot = df.pivot_table(index = ['children'], columns = ['debt'], values = 'age_group', aggfunc='count',fill_value=0)\n",
    "\n",
    "#создадим в таблице df_pivot новый столбец 'ratio' и сохраним в нём значение отношения имеющих задолжность к общему числу в группе\n",
    "#округлим значения при помощи метода 'round'\n",
    "df_pivot['ratio'] = round(df_pivot[1] / (df_pivot[0] + df_pivot[1]) * 100, 2)\n",
    "df_pivot"
   ]
  },
  {
   "cell_type": "markdown",
   "metadata": {},
   "source": [
    "**Вывод**"
   ]
  },
  {
   "cell_type": "markdown",
   "metadata": {},
   "source": [
    "Вероятность задолженности по выплате кредита при наличии детей увеличивается, чем их отсутствие в семье"
   ]
  },
  {
   "cell_type": "markdown",
   "metadata": {},
   "source": [
    "- Есть ли зависимость между семейным положением и возвратом кредита в срок?"
   ]
  },
  {
   "cell_type": "code",
   "execution_count": 43,
   "metadata": {},
   "outputs": [
    {
     "data": {
      "text/html": [
       "<div>\n",
       "<style scoped>\n",
       "    .dataframe tbody tr th:only-of-type {\n",
       "        vertical-align: middle;\n",
       "    }\n",
       "\n",
       "    .dataframe tbody tr th {\n",
       "        vertical-align: top;\n",
       "    }\n",
       "\n",
       "    .dataframe thead th {\n",
       "        text-align: right;\n",
       "    }\n",
       "</style>\n",
       "<table border=\"1\" class=\"dataframe\">\n",
       "  <thead>\n",
       "    <tr style=\"text-align: right;\">\n",
       "      <th>debt</th>\n",
       "      <th>0</th>\n",
       "      <th>1</th>\n",
       "      <th>ratio</th>\n",
       "    </tr>\n",
       "    <tr>\n",
       "      <th>family_status</th>\n",
       "      <th></th>\n",
       "      <th></th>\n",
       "      <th></th>\n",
       "    </tr>\n",
       "  </thead>\n",
       "  <tbody>\n",
       "    <tr>\n",
       "      <td>Не женат / не замужем</td>\n",
       "      <td>2536</td>\n",
       "      <td>274</td>\n",
       "      <td>9.75</td>\n",
       "    </tr>\n",
       "    <tr>\n",
       "      <td>гражданский брак</td>\n",
       "      <td>3762</td>\n",
       "      <td>388</td>\n",
       "      <td>9.35</td>\n",
       "    </tr>\n",
       "    <tr>\n",
       "      <td>женат / замужем</td>\n",
       "      <td>11408</td>\n",
       "      <td>931</td>\n",
       "      <td>7.55</td>\n",
       "    </tr>\n",
       "    <tr>\n",
       "      <td>в разводе</td>\n",
       "      <td>1110</td>\n",
       "      <td>85</td>\n",
       "      <td>7.11</td>\n",
       "    </tr>\n",
       "    <tr>\n",
       "      <td>вдовец / вдова</td>\n",
       "      <td>896</td>\n",
       "      <td>63</td>\n",
       "      <td>6.57</td>\n",
       "    </tr>\n",
       "  </tbody>\n",
       "</table>\n",
       "</div>"
      ],
      "text/plain": [
       "debt                       0    1  ratio\n",
       "family_status                           \n",
       "Не женат / не замужем   2536  274   9.75\n",
       "гражданский брак        3762  388   9.35\n",
       "женат / замужем        11408  931   7.55\n",
       "в разводе               1110   85   7.11\n",
       "вдовец / вдова           896   63   6.57"
      ]
     },
     "execution_count": 43,
     "metadata": {},
     "output_type": "execute_result"
    }
   ],
   "source": [
    "df_pivot1 = df.pivot_table(index = ['family_status'], columns = 'debt', values = 'gender', aggfunc = 'count')\n",
    "\n",
    "#посчитаем вероятность задолженности для каждого вида семейного положения\n",
    "df_pivot1['ratio'] = round(df_pivot1[1] / (df_pivot1[0] + df_pivot1[1]) * 100, 2)\n",
    "#применим метод 'sort_values' для наглядности\n",
    "df_pivot1.sort_values('ratio', ascending = False) "
   ]
  },
  {
   "cell_type": "markdown",
   "metadata": {},
   "source": [
    "**Вывод**"
   ]
  },
  {
   "cell_type": "markdown",
   "metadata": {},
   "source": [
    "Вероятность просрочки по кредиту у свободного от семейных уз заёмщика выше, чем у заёмщика в официальном браке, причем и гражданский брак не даёт степень надежности"
   ]
  },
  {
   "cell_type": "markdown",
   "metadata": {},
   "source": [
    "- Есть ли зависимость между уровнем дохода и возвратом кредита в срок?"
   ]
  },
  {
   "cell_type": "code",
   "execution_count": 44,
   "metadata": {},
   "outputs": [
    {
     "data": {
      "text/html": [
       "<div>\n",
       "<style scoped>\n",
       "    .dataframe tbody tr th:only-of-type {\n",
       "        vertical-align: middle;\n",
       "    }\n",
       "\n",
       "    .dataframe tbody tr th {\n",
       "        vertical-align: top;\n",
       "    }\n",
       "\n",
       "    .dataframe thead th {\n",
       "        text-align: right;\n",
       "    }\n",
       "</style>\n",
       "<table border=\"1\" class=\"dataframe\">\n",
       "  <thead>\n",
       "    <tr style=\"text-align: right;\">\n",
       "      <th>debt</th>\n",
       "      <th>0</th>\n",
       "      <th>1</th>\n",
       "      <th>ratio</th>\n",
       "    </tr>\n",
       "    <tr>\n",
       "      <th>income_group</th>\n",
       "      <th></th>\n",
       "      <th></th>\n",
       "      <th></th>\n",
       "    </tr>\n",
       "  </thead>\n",
       "  <tbody>\n",
       "    <tr>\n",
       "      <td>от 107620 до 142594</td>\n",
       "      <td>4996</td>\n",
       "      <td>483</td>\n",
       "      <td>8.82</td>\n",
       "    </tr>\n",
       "    <tr>\n",
       "      <td>от 142594 до 195818</td>\n",
       "      <td>4799</td>\n",
       "      <td>448</td>\n",
       "      <td>8.54</td>\n",
       "    </tr>\n",
       "    <tr>\n",
       "      <td>до 107620</td>\n",
       "      <td>4937</td>\n",
       "      <td>427</td>\n",
       "      <td>7.96</td>\n",
       "    </tr>\n",
       "    <tr>\n",
       "      <td>выше 195818</td>\n",
       "      <td>4980</td>\n",
       "      <td>383</td>\n",
       "      <td>7.14</td>\n",
       "    </tr>\n",
       "  </tbody>\n",
       "</table>\n",
       "</div>"
      ],
      "text/plain": [
       "debt                    0    1  ratio\n",
       "income_group                         \n",
       "от 107620 до 142594  4996  483   8.82\n",
       "от 142594 до 195818  4799  448   8.54\n",
       "до 107620            4937  427   7.96\n",
       "выше 195818          4980  383   7.14"
      ]
     },
     "execution_count": 44,
     "metadata": {},
     "output_type": "execute_result"
    }
   ],
   "source": [
    "df_pivot2 = df.pivot_table(index = ['income_group'], columns = 'debt', values = 'gender', aggfunc = 'count')\n",
    "\n",
    "# посчитаем вероятность задолженности для каждой группы доходов\n",
    "df_pivot2['ratio'] = round(df_pivot2[1] / (df_pivot2[0] + df_pivot2[1]) * 100, 2)\n",
    "df_pivot2.sort_values('ratio', ascending = False)"
   ]
  },
  {
   "cell_type": "markdown",
   "metadata": {},
   "source": [
    "\n",
    "**Вывод**"
   ]
  },
  {
   "cell_type": "markdown",
   "metadata": {},
   "source": [
    "\n",
    "    \n",
    "Вероятность задолженности по кредиту у заёмщика с доходом от 107620 рублей до 195818 рублей выше, чем у заёмщика с более высоким  и низким доходом.\n"
   ]
  },
  {
   "cell_type": "markdown",
   "metadata": {},
   "source": [
    "- Как разные цели кредита влияют на его возврат в срок?"
   ]
  },
  {
   "cell_type": "code",
   "execution_count": 45,
   "metadata": {},
   "outputs": [
    {
     "data": {
      "text/html": [
       "<div>\n",
       "<style scoped>\n",
       "    .dataframe tbody tr th:only-of-type {\n",
       "        vertical-align: middle;\n",
       "    }\n",
       "\n",
       "    .dataframe tbody tr th {\n",
       "        vertical-align: top;\n",
       "    }\n",
       "\n",
       "    .dataframe thead th {\n",
       "        text-align: right;\n",
       "    }\n",
       "</style>\n",
       "<table border=\"1\" class=\"dataframe\">\n",
       "  <thead>\n",
       "    <tr style=\"text-align: right;\">\n",
       "      <th>debt</th>\n",
       "      <th>0</th>\n",
       "      <th>1</th>\n",
       "      <th>ratio</th>\n",
       "    </tr>\n",
       "    <tr>\n",
       "      <th>purpose_group</th>\n",
       "      <th></th>\n",
       "      <th></th>\n",
       "      <th></th>\n",
       "    </tr>\n",
       "  </thead>\n",
       "  <tbody>\n",
       "    <tr>\n",
       "      <td>автомобиль</td>\n",
       "      <td>3903</td>\n",
       "      <td>403</td>\n",
       "      <td>9.36</td>\n",
       "    </tr>\n",
       "    <tr>\n",
       "      <td>образование</td>\n",
       "      <td>3643</td>\n",
       "      <td>370</td>\n",
       "      <td>9.22</td>\n",
       "    </tr>\n",
       "    <tr>\n",
       "      <td>свадьба</td>\n",
       "      <td>2138</td>\n",
       "      <td>186</td>\n",
       "      <td>8.00</td>\n",
       "    </tr>\n",
       "    <tr>\n",
       "      <td>строительство</td>\n",
       "      <td>1734</td>\n",
       "      <td>144</td>\n",
       "      <td>7.67</td>\n",
       "    </tr>\n",
       "    <tr>\n",
       "      <td>недвижимость</td>\n",
       "      <td>8294</td>\n",
       "      <td>638</td>\n",
       "      <td>7.14</td>\n",
       "    </tr>\n",
       "  </tbody>\n",
       "</table>\n",
       "</div>"
      ],
      "text/plain": [
       "debt              0    1  ratio\n",
       "purpose_group                  \n",
       "автомобиль     3903  403   9.36\n",
       "образование    3643  370   9.22\n",
       "свадьба        2138  186   8.00\n",
       "строительство  1734  144   7.67\n",
       "недвижимость   8294  638   7.14"
      ]
     },
     "execution_count": 45,
     "metadata": {},
     "output_type": "execute_result"
    }
   ],
   "source": [
    "df_pivot3 = df.pivot_table(index = ['purpose_group'], columns = 'debt', values = 'gender', aggfunc = 'count')\n",
    "\n",
    "# посчитаем вероятность задолженности для каждой группы доходов\n",
    "df_pivot3['ratio'] = round(df_pivot3[1] / (df_pivot3[0] + df_pivot3[1]) * 100, 2)\n",
    "df_pivot3.sort_values('ratio', ascending = False)"
   ]
  },
  {
   "cell_type": "markdown",
   "metadata": {},
   "source": [
    "**Вывод**"
   ]
  },
  {
   "cell_type": "markdown",
   "metadata": {},
   "source": [
    "Возможно тем, что недвижимость часто остается в залоге у банка, обусловлен низкий процент вероятности просрочки выплат по кредиту. Тогда как образование и автомобиль менее стабильны и ответственность за выплату по кредиту падает.\n",
    "\n",
    "[Наверх к оглавлению](#contents)"
   ]
  },
  {
   "cell_type": "markdown",
   "metadata": {},
   "source": [
    "<a id=\"general\"></a>\n",
    "## Общий вывод"
   ]
  },
  {
   "cell_type": "markdown",
   "metadata": {},
   "source": [
    "*В данной проектной работе были заполнены пропущенные значения, удалены дубликаты и выделены категории для целей кредита, группы по возрасту и доходу. Применили сводные таблицы для оценки критериев  возврата кредита. Провели краткий анализ всех вышеперечисленных исследований.*\n",
    "\n",
    "\n",
    "Важный этап в проверке заемщиков – оценка рисков. Клиенты с доходом ниже 107620  рублей более ответственны, чем остальные клиенты в других группах, за исключением тех, кто имеет доход выше 195818 рублей. Возможно, что это связано с более грамотным распределением своих денежных средств. Просрочки при целевом кредите на недвижимость и строительство ниже, чем на остальные цели. Наличие детей налагает на человека повышенные финансовые обязательства и, по факту, снижает его платежеспособность.  Исходя из изложенного выше, при прочих равных условиях, вероятнее, кредит выдадут человеку женатому, но без детей, нежели человеку с детьми. "
   ]
  }
 ],
 "metadata": {
  "ExecuteTimeLog": [
   {
    "duration": 827,
    "start_time": "2021-10-09T09:19:18.682Z"
   },
   {
    "duration": 89,
    "start_time": "2021-10-09T09:19:32.696Z"
   },
   {
    "duration": 78,
    "start_time": "2021-10-09T11:18:07.763Z"
   },
   {
    "duration": 74,
    "start_time": "2021-10-09T11:19:06.755Z"
   },
   {
    "duration": 75,
    "start_time": "2021-10-09T11:19:52.845Z"
   },
   {
    "duration": 20,
    "start_time": "2021-10-09T11:23:48.622Z"
   },
   {
    "duration": 86,
    "start_time": "2021-10-09T11:26:39.273Z"
   },
   {
    "duration": 31,
    "start_time": "2021-10-09T11:30:15.195Z"
   },
   {
    "duration": 77,
    "start_time": "2021-10-09T11:34:35.365Z"
   },
   {
    "duration": 23,
    "start_time": "2021-10-09T11:35:03.799Z"
   },
   {
    "duration": 79,
    "start_time": "2021-10-09T11:36:22.431Z"
   },
   {
    "duration": 23,
    "start_time": "2021-10-09T11:36:29.775Z"
   },
   {
    "duration": 14,
    "start_time": "2021-10-09T11:36:38.582Z"
   },
   {
    "duration": 86,
    "start_time": "2021-10-09T13:27:06.901Z"
   },
   {
    "duration": 28,
    "start_time": "2021-10-09T13:33:14.152Z"
   },
   {
    "duration": 30,
    "start_time": "2021-10-09T13:33:23.433Z"
   },
   {
    "duration": 16,
    "start_time": "2021-10-09T13:46:42.544Z"
   },
   {
    "duration": 300,
    "start_time": "2021-10-09T13:49:38.650Z"
   },
   {
    "duration": 47,
    "start_time": "2021-10-09T13:49:50.770Z"
   },
   {
    "duration": 25,
    "start_time": "2021-10-09T14:12:24.332Z"
   },
   {
    "duration": 23,
    "start_time": "2021-10-09T14:12:48.514Z"
   },
   {
    "duration": 85,
    "start_time": "2021-10-09T14:14:24.588Z"
   },
   {
    "duration": 26,
    "start_time": "2021-10-09T14:15:07.940Z"
   },
   {
    "duration": 81,
    "start_time": "2021-10-09T14:18:09.174Z"
   },
   {
    "duration": 23,
    "start_time": "2021-10-09T14:18:18.518Z"
   },
   {
    "duration": 85,
    "start_time": "2021-10-09T14:21:09.407Z"
   },
   {
    "duration": 56,
    "start_time": "2021-10-09T14:21:21.304Z"
   },
   {
    "duration": 209,
    "start_time": "2021-10-09T14:26:13.938Z"
   },
   {
    "duration": 214,
    "start_time": "2021-10-09T14:33:13.734Z"
   },
   {
    "duration": 14,
    "start_time": "2021-10-09T14:33:22.205Z"
   },
   {
    "duration": 7,
    "start_time": "2021-10-09T17:26:50.354Z"
   },
   {
    "duration": 291,
    "start_time": "2021-10-09T17:29:29.180Z"
   },
   {
    "duration": 5,
    "start_time": "2021-10-09T17:30:29.981Z"
   },
   {
    "duration": 6,
    "start_time": "2021-10-09T17:33:29.495Z"
   },
   {
    "duration": 222,
    "start_time": "2021-10-09T17:33:52.743Z"
   },
   {
    "duration": 7,
    "start_time": "2021-10-09T17:34:02.799Z"
   },
   {
    "duration": 42,
    "start_time": "2021-10-09T17:38:06.258Z"
   },
   {
    "duration": 239,
    "start_time": "2021-10-10T13:06:07.991Z"
   },
   {
    "duration": 192,
    "start_time": "2021-10-10T13:06:48.231Z"
   },
   {
    "duration": 274,
    "start_time": "2021-10-10T13:07:09.791Z"
   },
   {
    "duration": 199,
    "start_time": "2021-10-10T13:07:56.047Z"
   },
   {
    "duration": 191,
    "start_time": "2021-10-10T13:08:21.441Z"
   },
   {
    "duration": 235,
    "start_time": "2021-10-10T13:08:42.505Z"
   },
   {
    "duration": 677,
    "start_time": "2021-10-10T13:08:49.863Z"
   },
   {
    "duration": 21,
    "start_time": "2021-10-10T13:08:50.545Z"
   },
   {
    "duration": 14,
    "start_time": "2021-10-10T13:08:50.567Z"
   },
   {
    "duration": 11,
    "start_time": "2021-10-10T13:08:50.583Z"
   },
   {
    "duration": 59,
    "start_time": "2021-10-10T13:08:50.596Z"
   },
   {
    "duration": 60,
    "start_time": "2021-10-10T13:09:49.477Z"
   },
   {
    "duration": 15,
    "start_time": "2021-10-10T13:09:55.195Z"
   },
   {
    "duration": 356,
    "start_time": "2021-10-11T19:07:22.594Z"
   },
   {
    "duration": 863,
    "start_time": "2021-10-11T19:07:38.883Z"
   },
   {
    "duration": 23,
    "start_time": "2021-10-11T19:07:39.748Z"
   },
   {
    "duration": 33,
    "start_time": "2021-10-11T19:07:39.774Z"
   },
   {
    "duration": 14,
    "start_time": "2021-10-11T19:07:39.809Z"
   },
   {
    "duration": 63,
    "start_time": "2021-10-11T19:07:39.825Z"
   },
   {
    "duration": 41,
    "start_time": "2021-10-11T19:07:39.890Z"
   },
   {
    "duration": 33,
    "start_time": "2021-10-11T19:07:46.381Z"
   },
   {
    "duration": 39,
    "start_time": "2021-10-11T19:08:11.949Z"
   },
   {
    "duration": 62,
    "start_time": "2021-10-11T19:22:01.079Z"
   },
   {
    "duration": 107,
    "start_time": "2021-10-11T19:26:31.217Z"
   },
   {
    "duration": 339,
    "start_time": "2021-10-12T09:25:18.875Z"
   },
   {
    "duration": 302,
    "start_time": "2021-10-12T09:25:36.205Z"
   },
   {
    "duration": 107,
    "start_time": "2021-10-12T09:26:07.455Z"
   },
   {
    "duration": 285,
    "start_time": "2021-10-12T09:26:11.501Z"
   },
   {
    "duration": 340,
    "start_time": "2021-10-12T09:26:27.141Z"
   },
   {
    "duration": 296,
    "start_time": "2021-10-12T09:26:45.917Z"
   },
   {
    "duration": 745,
    "start_time": "2021-10-12T09:26:51.817Z"
   },
   {
    "duration": 20,
    "start_time": "2021-10-12T09:26:52.564Z"
   },
   {
    "duration": 16,
    "start_time": "2021-10-12T09:26:52.586Z"
   },
   {
    "duration": 18,
    "start_time": "2021-10-12T09:26:52.604Z"
   },
   {
    "duration": 40,
    "start_time": "2021-10-12T09:26:52.624Z"
   },
   {
    "duration": 57,
    "start_time": "2021-10-12T09:26:52.666Z"
   },
   {
    "duration": 70,
    "start_time": "2021-10-12T09:27:30.458Z"
   },
   {
    "duration": 70,
    "start_time": "2021-10-12T09:27:47.378Z"
   },
   {
    "duration": 2,
    "start_time": "2021-10-12T10:14:44.503Z"
   },
   {
    "duration": 5,
    "start_time": "2021-10-12T10:15:26.269Z"
   },
   {
    "duration": 4,
    "start_time": "2021-10-12T10:16:18.431Z"
   },
   {
    "duration": 8,
    "start_time": "2021-10-12T10:16:32.022Z"
   },
   {
    "duration": 7,
    "start_time": "2021-10-12T10:23:53.547Z"
   },
   {
    "duration": 8,
    "start_time": "2021-10-12T10:24:08.530Z"
   },
   {
    "duration": 14,
    "start_time": "2021-10-12T10:28:12.125Z"
   },
   {
    "duration": 13,
    "start_time": "2021-10-12T11:11:13.872Z"
   },
   {
    "duration": 8,
    "start_time": "2021-10-12T11:11:59.808Z"
   },
   {
    "duration": 10,
    "start_time": "2021-10-12T11:12:07.855Z"
   },
   {
    "duration": 364,
    "start_time": "2021-10-12T11:37:57.696Z"
   },
   {
    "duration": 9,
    "start_time": "2021-10-12T11:38:07.648Z"
   },
   {
    "duration": 7,
    "start_time": "2021-10-12T11:38:22.575Z"
   },
   {
    "duration": 13,
    "start_time": "2021-10-12T11:41:09.625Z"
   },
   {
    "duration": 994,
    "start_time": "2021-10-12T11:42:22.018Z"
   },
   {
    "duration": 12,
    "start_time": "2021-10-12T11:42:40.978Z"
   },
   {
    "duration": 25,
    "start_time": "2021-10-12T11:44:03.755Z"
   },
   {
    "duration": 283,
    "start_time": "2021-10-12T13:51:43.130Z"
   },
   {
    "duration": 117,
    "start_time": "2021-10-12T13:52:29.994Z"
   },
   {
    "duration": 91,
    "start_time": "2021-10-12T13:53:20.034Z"
   },
   {
    "duration": 97,
    "start_time": "2021-10-12T13:54:05.195Z"
   },
   {
    "duration": 7,
    "start_time": "2021-10-12T13:54:48.699Z"
   },
   {
    "duration": 7878,
    "start_time": "2021-10-12T14:15:52.254Z"
   },
   {
    "duration": 7515,
    "start_time": "2021-10-12T14:17:20.904Z"
   },
   {
    "duration": 650,
    "start_time": "2021-10-12T14:21:11.333Z"
   },
   {
    "duration": 15,
    "start_time": "2021-10-12T14:21:11.985Z"
   },
   {
    "duration": 16,
    "start_time": "2021-10-12T14:21:12.002Z"
   },
   {
    "duration": 10,
    "start_time": "2021-10-12T14:21:12.020Z"
   },
   {
    "duration": 45,
    "start_time": "2021-10-12T14:21:12.032Z"
   },
   {
    "duration": 99,
    "start_time": "2021-10-12T14:21:12.080Z"
   },
   {
    "duration": 8,
    "start_time": "2021-10-12T14:21:12.181Z"
   },
   {
    "duration": 10,
    "start_time": "2021-10-12T14:21:12.192Z"
   },
   {
    "duration": 506,
    "start_time": "2021-10-12T14:21:12.204Z"
   },
   {
    "duration": -491,
    "start_time": "2021-10-12T14:21:13.203Z"
   },
   {
    "duration": 316,
    "start_time": "2021-10-12T14:21:27.568Z"
   },
   {
    "duration": 7946,
    "start_time": "2021-10-12T14:21:56.534Z"
   },
   {
    "duration": 323,
    "start_time": "2021-10-12T14:24:37.489Z"
   },
   {
    "duration": 303,
    "start_time": "2021-10-12T14:25:41.945Z"
   },
   {
    "duration": 291,
    "start_time": "2021-10-12T14:32:17.845Z"
   },
   {
    "duration": 9,
    "start_time": "2021-10-12T14:43:18.541Z"
   },
   {
    "duration": 301,
    "start_time": "2021-10-12T14:58:12.934Z"
   },
   {
    "duration": 709,
    "start_time": "2021-10-12T14:58:23.962Z"
   },
   {
    "duration": 15,
    "start_time": "2021-10-12T14:58:24.673Z"
   },
   {
    "duration": 48,
    "start_time": "2021-10-12T14:58:24.692Z"
   },
   {
    "duration": 45,
    "start_time": "2021-10-12T14:58:24.742Z"
   },
   {
    "duration": 53,
    "start_time": "2021-10-12T14:58:24.788Z"
   },
   {
    "duration": 98,
    "start_time": "2021-10-12T14:58:24.842Z"
   },
   {
    "duration": 36,
    "start_time": "2021-10-12T14:58:24.942Z"
   },
   {
    "duration": 10,
    "start_time": "2021-10-12T14:58:24.980Z"
   },
   {
    "duration": 357,
    "start_time": "2021-10-12T14:58:24.991Z"
   },
   {
    "duration": -433,
    "start_time": "2021-10-12T14:58:25.783Z"
   },
   {
    "duration": 294,
    "start_time": "2021-10-12T14:58:32.466Z"
   },
   {
    "duration": 8,
    "start_time": "2021-10-12T15:01:48.348Z"
   },
   {
    "duration": 9,
    "start_time": "2021-10-12T15:53:04.541Z"
   },
   {
    "duration": 327,
    "start_time": "2021-10-12T15:53:55.038Z"
   },
   {
    "duration": 304,
    "start_time": "2021-10-12T15:58:16.512Z"
   },
   {
    "duration": 316,
    "start_time": "2021-10-12T16:03:22.227Z"
   },
   {
    "duration": 306,
    "start_time": "2021-10-12T16:05:25.148Z"
   },
   {
    "duration": 531,
    "start_time": "2021-10-12T16:05:34.116Z"
   },
   {
    "duration": 305,
    "start_time": "2021-10-12T16:05:41.211Z"
   },
   {
    "duration": 299,
    "start_time": "2021-10-12T16:06:05.157Z"
   },
   {
    "duration": 9,
    "start_time": "2021-10-12T16:06:19.068Z"
   },
   {
    "duration": 335,
    "start_time": "2021-10-12T16:06:57.725Z"
   },
   {
    "duration": 312,
    "start_time": "2021-10-12T16:10:14.015Z"
   },
   {
    "duration": 24,
    "start_time": "2021-10-12T16:11:24.144Z"
   },
   {
    "duration": 6,
    "start_time": "2021-10-12T16:14:27.860Z"
   },
   {
    "duration": 12,
    "start_time": "2021-10-12T16:16:47.148Z"
   },
   {
    "duration": 9,
    "start_time": "2021-10-12T16:23:11.065Z"
   },
   {
    "duration": 7,
    "start_time": "2021-10-12T16:23:49.817Z"
   },
   {
    "duration": 28,
    "start_time": "2021-10-12T16:29:34.252Z"
   },
   {
    "duration": 94,
    "start_time": "2021-10-12T16:30:33.958Z"
   },
   {
    "duration": 104,
    "start_time": "2021-10-12T16:30:40.029Z"
   },
   {
    "duration": 11,
    "start_time": "2021-10-12T16:30:53.045Z"
   },
   {
    "duration": 5,
    "start_time": "2021-10-12T16:59:03.206Z"
   },
   {
    "duration": 4,
    "start_time": "2021-10-12T16:59:24.822Z"
   },
   {
    "duration": 98,
    "start_time": "2021-10-12T16:59:54.735Z"
   },
   {
    "duration": 4,
    "start_time": "2021-10-12T17:00:22.318Z"
   },
   {
    "duration": 13,
    "start_time": "2021-10-13T16:50:48.531Z"
   },
   {
    "duration": 6,
    "start_time": "2021-10-13T16:54:28.505Z"
   },
   {
    "duration": 723,
    "start_time": "2021-10-14T08:31:43.739Z"
   },
   {
    "duration": 13,
    "start_time": "2021-10-14T08:31:51.826Z"
   },
   {
    "duration": 18,
    "start_time": "2021-10-14T08:44:28.249Z"
   },
   {
    "duration": 19,
    "start_time": "2021-10-14T08:45:03.369Z"
   },
   {
    "duration": 18,
    "start_time": "2021-10-14T12:20:20.576Z"
   },
   {
    "duration": 22,
    "start_time": "2021-10-14T12:20:44.094Z"
   },
   {
    "duration": 18,
    "start_time": "2021-10-14T12:21:41.095Z"
   },
   {
    "duration": 530,
    "start_time": "2021-10-14T13:02:44.043Z"
   },
   {
    "duration": 3,
    "start_time": "2021-10-14T13:02:55.611Z"
   },
   {
    "duration": 10,
    "start_time": "2021-10-14T13:04:56.243Z"
   },
   {
    "duration": 12,
    "start_time": "2021-10-14T13:05:17.028Z"
   },
   {
    "duration": 108,
    "start_time": "2021-10-14T13:05:37.735Z"
   },
   {
    "duration": 353,
    "start_time": "2021-10-14T13:05:44.028Z"
   },
   {
    "duration": 10,
    "start_time": "2021-10-14T13:06:09.172Z"
   },
   {
    "duration": 8784,
    "start_time": "2021-10-14T13:12:14.049Z"
   },
   {
    "duration": 8,
    "start_time": "2021-10-14T13:12:37.201Z"
   },
   {
    "duration": 390,
    "start_time": "2021-10-14T13:26:42.466Z"
   },
   {
    "duration": 438,
    "start_time": "2021-10-14T13:27:28.707Z"
   },
   {
    "duration": 340,
    "start_time": "2021-10-14T13:29:31.228Z"
   },
   {
    "duration": 332,
    "start_time": "2021-10-14T13:29:47.652Z"
   },
   {
    "duration": 9,
    "start_time": "2021-10-14T13:30:30.349Z"
   },
   {
    "duration": 405,
    "start_time": "2021-10-14T13:38:04.688Z"
   },
   {
    "duration": 860,
    "start_time": "2021-10-14T13:46:23.270Z"
   },
   {
    "duration": 244,
    "start_time": "2021-10-14T13:46:40.542Z"
   },
   {
    "duration": 238,
    "start_time": "2021-10-14T13:48:40.447Z"
   },
   {
    "duration": 8,
    "start_time": "2021-10-14T14:00:19.136Z"
   },
   {
    "duration": 335,
    "start_time": "2021-10-14T14:01:05.927Z"
   },
   {
    "duration": 593,
    "start_time": "2021-10-14T14:01:24.047Z"
   },
   {
    "duration": 8,
    "start_time": "2021-10-14T14:02:06.448Z"
   },
   {
    "duration": 366,
    "start_time": "2021-10-14T14:04:17.305Z"
   },
   {
    "duration": 338,
    "start_time": "2021-10-14T14:04:36.809Z"
   },
   {
    "duration": 28,
    "start_time": "2021-10-14T14:05:00.034Z"
   },
   {
    "duration": 8,
    "start_time": "2021-10-14T14:07:30.435Z"
   },
   {
    "duration": 330,
    "start_time": "2021-10-14T14:08:53.140Z"
   },
   {
    "duration": 21,
    "start_time": "2021-10-14T14:09:10.669Z"
   },
   {
    "duration": 11,
    "start_time": "2021-10-14T14:09:48.709Z"
   },
   {
    "duration": 19,
    "start_time": "2021-10-14T14:13:30.968Z"
   },
   {
    "duration": 348,
    "start_time": "2021-10-14T14:15:47.890Z"
   },
   {
    "duration": 7,
    "start_time": "2021-10-14T14:16:04.209Z"
   },
   {
    "duration": 8,
    "start_time": "2021-10-14T14:16:50.209Z"
   },
   {
    "duration": 319,
    "start_time": "2021-10-14T14:18:13.386Z"
   },
   {
    "duration": 22,
    "start_time": "2021-10-14T14:18:31.635Z"
   },
   {
    "duration": 12,
    "start_time": "2021-10-14T14:19:34.851Z"
   },
   {
    "duration": 8,
    "start_time": "2021-10-14T14:31:17.042Z"
   },
   {
    "duration": 355,
    "start_time": "2021-10-14T14:33:13.643Z"
   },
   {
    "duration": 15,
    "start_time": "2021-10-14T14:33:31.205Z"
   },
   {
    "duration": 3,
    "start_time": "2021-10-14T14:43:00.138Z"
   },
   {
    "duration": 4,
    "start_time": "2021-10-14T14:43:22.363Z"
   },
   {
    "duration": 7,
    "start_time": "2021-10-14T14:46:55.517Z"
   },
   {
    "duration": 24,
    "start_time": "2021-10-14T16:29:57.430Z"
   },
   {
    "duration": 20,
    "start_time": "2021-10-14T16:30:26.093Z"
   },
   {
    "duration": 112,
    "start_time": "2021-10-14T16:38:20.473Z"
   },
   {
    "duration": 17,
    "start_time": "2021-10-14T16:38:23.529Z"
   },
   {
    "duration": 470,
    "start_time": "2021-10-14T16:38:45.252Z"
   },
   {
    "duration": 343,
    "start_time": "2021-10-14T16:38:48.779Z"
   },
   {
    "duration": 335,
    "start_time": "2021-10-14T16:39:01.300Z"
   },
   {
    "duration": 693,
    "start_time": "2021-10-14T16:39:07.476Z"
   },
   {
    "duration": 12,
    "start_time": "2021-10-14T16:39:08.172Z"
   },
   {
    "duration": 11,
    "start_time": "2021-10-14T16:39:08.186Z"
   },
   {
    "duration": 9,
    "start_time": "2021-10-14T16:39:08.199Z"
   },
   {
    "duration": 31,
    "start_time": "2021-10-14T16:39:08.210Z"
   },
   {
    "duration": 92,
    "start_time": "2021-10-14T16:39:08.242Z"
   },
   {
    "duration": 8,
    "start_time": "2021-10-14T16:39:08.336Z"
   },
   {
    "duration": 38,
    "start_time": "2021-10-14T16:39:08.346Z"
   },
   {
    "duration": 9,
    "start_time": "2021-10-14T16:39:08.386Z"
   },
   {
    "duration": 8,
    "start_time": "2021-10-14T16:39:08.397Z"
   },
   {
    "duration": 8,
    "start_time": "2021-10-14T16:39:08.407Z"
   },
   {
    "duration": 20,
    "start_time": "2021-10-14T16:39:08.417Z"
   },
   {
    "duration": 38,
    "start_time": "2021-10-14T16:39:08.439Z"
   },
   {
    "duration": 8,
    "start_time": "2021-10-14T16:39:08.479Z"
   },
   {
    "duration": 592,
    "start_time": "2021-10-14T16:39:08.488Z"
   },
   {
    "duration": 9,
    "start_time": "2021-10-14T16:39:09.081Z"
   },
   {
    "duration": 19,
    "start_time": "2021-10-14T16:39:09.092Z"
   },
   {
    "duration": 8,
    "start_time": "2021-10-14T16:39:09.112Z"
   },
   {
    "duration": 22,
    "start_time": "2021-10-14T16:39:09.122Z"
   },
   {
    "duration": 35,
    "start_time": "2021-10-14T16:39:09.146Z"
   },
   {
    "duration": 20,
    "start_time": "2021-10-14T16:39:09.183Z"
   },
   {
    "duration": 10,
    "start_time": "2021-10-14T16:39:09.205Z"
   },
   {
    "duration": 8,
    "start_time": "2021-10-14T16:39:09.219Z"
   },
   {
    "duration": 55,
    "start_time": "2021-10-14T16:39:09.229Z"
   },
   {
    "duration": 8,
    "start_time": "2021-10-14T16:39:09.286Z"
   },
   {
    "duration": 18,
    "start_time": "2021-10-14T16:39:09.296Z"
   },
   {
    "duration": 15,
    "start_time": "2021-10-14T16:39:09.316Z"
   },
   {
    "duration": 16,
    "start_time": "2021-10-14T16:39:18.107Z"
   },
   {
    "duration": 25,
    "start_time": "2021-10-14T16:44:48.232Z"
   },
   {
    "duration": 2,
    "start_time": "2021-10-14T16:45:52.232Z"
   },
   {
    "duration": 20,
    "start_time": "2021-10-14T16:47:36.073Z"
   },
   {
    "duration": 16,
    "start_time": "2021-10-14T16:48:13.409Z"
   },
   {
    "duration": 57,
    "start_time": "2021-10-14T16:52:26.773Z"
   },
   {
    "duration": 7,
    "start_time": "2021-10-14T16:53:40.821Z"
   },
   {
    "duration": 431,
    "start_time": "2021-10-14T17:04:48.254Z"
   },
   {
    "duration": 3557,
    "start_time": "2021-10-14T17:05:03.188Z"
   },
   {
    "duration": 339,
    "start_time": "2021-10-14T17:06:33.429Z"
   },
   {
    "duration": 9,
    "start_time": "2021-10-14T17:06:42.006Z"
   },
   {
    "duration": 2828,
    "start_time": "2021-10-14T17:07:00.126Z"
   },
   {
    "duration": 2733,
    "start_time": "2021-10-14T17:08:07.966Z"
   },
   {
    "duration": 616,
    "start_time": "2021-10-14T17:09:23.324Z"
   },
   {
    "duration": 13,
    "start_time": "2021-10-14T17:09:23.941Z"
   },
   {
    "duration": 10,
    "start_time": "2021-10-14T17:09:23.959Z"
   },
   {
    "duration": 12,
    "start_time": "2021-10-14T17:09:23.971Z"
   },
   {
    "duration": 29,
    "start_time": "2021-10-14T17:09:23.985Z"
   },
   {
    "duration": 88,
    "start_time": "2021-10-14T17:09:24.016Z"
   },
   {
    "duration": 6,
    "start_time": "2021-10-14T17:09:24.106Z"
   },
   {
    "duration": 9,
    "start_time": "2021-10-14T17:09:24.114Z"
   },
   {
    "duration": 8,
    "start_time": "2021-10-14T17:09:24.125Z"
   },
   {
    "duration": 7,
    "start_time": "2021-10-14T17:09:24.135Z"
   },
   {
    "duration": 4,
    "start_time": "2021-10-14T17:09:24.177Z"
   },
   {
    "duration": 21,
    "start_time": "2021-10-14T17:09:24.183Z"
   },
   {
    "duration": 8,
    "start_time": "2021-10-14T17:09:24.206Z"
   },
   {
    "duration": 7,
    "start_time": "2021-10-14T17:09:24.216Z"
   },
   {
    "duration": 599,
    "start_time": "2021-10-14T17:09:24.225Z"
   },
   {
    "duration": 9,
    "start_time": "2021-10-14T17:09:24.826Z"
   },
   {
    "duration": 17,
    "start_time": "2021-10-14T17:09:24.837Z"
   },
   {
    "duration": 25,
    "start_time": "2021-10-14T17:09:24.856Z"
   },
   {
    "duration": 22,
    "start_time": "2021-10-14T17:09:24.883Z"
   },
   {
    "duration": 7,
    "start_time": "2021-10-14T17:09:24.907Z"
   },
   {
    "duration": 20,
    "start_time": "2021-10-14T17:09:24.915Z"
   },
   {
    "duration": 38,
    "start_time": "2021-10-14T17:09:24.938Z"
   },
   {
    "duration": 7,
    "start_time": "2021-10-14T17:09:24.978Z"
   },
   {
    "duration": 15,
    "start_time": "2021-10-14T17:09:24.987Z"
   },
   {
    "duration": 6,
    "start_time": "2021-10-14T17:09:25.004Z"
   },
   {
    "duration": 17,
    "start_time": "2021-10-14T17:09:25.012Z"
   },
   {
    "duration": 46,
    "start_time": "2021-10-14T17:09:25.031Z"
   },
   {
    "duration": 24,
    "start_time": "2021-10-14T17:09:25.079Z"
   },
   {
    "duration": 19,
    "start_time": "2021-10-14T17:09:25.104Z"
   },
   {
    "duration": 17,
    "start_time": "2021-10-14T17:09:25.125Z"
   },
   {
    "duration": 7,
    "start_time": "2021-10-14T17:09:25.143Z"
   },
   {
    "duration": 3249,
    "start_time": "2021-10-14T17:09:25.152Z"
   },
   {
    "duration": 2661,
    "start_time": "2021-10-14T17:09:29.263Z"
   },
   {
    "duration": 2924,
    "start_time": "2021-10-14T17:15:38.700Z"
   },
   {
    "duration": 2884,
    "start_time": "2021-10-14T17:16:52.029Z"
   },
   {
    "duration": 6,
    "start_time": "2021-10-14T17:18:34.837Z"
   },
   {
    "duration": 409,
    "start_time": "2021-10-14T17:23:34.368Z"
   },
   {
    "duration": 340,
    "start_time": "2021-10-14T17:23:41.968Z"
   },
   {
    "duration": 15,
    "start_time": "2021-10-14T17:23:55.512Z"
   },
   {
    "duration": 2810,
    "start_time": "2021-10-14T17:29:50.718Z"
   },
   {
    "duration": 7,
    "start_time": "2021-10-14T17:30:02.605Z"
   },
   {
    "duration": 2763,
    "start_time": "2021-10-14T17:30:47.622Z"
   },
   {
    "duration": 7,
    "start_time": "2021-10-14T17:30:56.405Z"
   },
   {
    "duration": 2704,
    "start_time": "2021-10-14T17:37:13.474Z"
   },
   {
    "duration": 7,
    "start_time": "2021-10-14T17:37:20.689Z"
   },
   {
    "duration": 2718,
    "start_time": "2021-10-14T17:50:21.779Z"
   },
   {
    "duration": 7,
    "start_time": "2021-10-14T17:50:27.994Z"
   },
   {
    "duration": 2751,
    "start_time": "2021-10-14T17:53:39.429Z"
   },
   {
    "duration": 393,
    "start_time": "2021-10-14T18:05:58.308Z"
   },
   {
    "duration": 9,
    "start_time": "2021-10-14T18:06:13.453Z"
   },
   {
    "duration": 1545,
    "start_time": "2021-10-14T19:24:55.816Z"
   },
   {
    "duration": 2465,
    "start_time": "2021-10-14T19:26:06.649Z"
   },
   {
    "duration": 658,
    "start_time": "2021-10-14T19:26:16.774Z"
   },
   {
    "duration": 14,
    "start_time": "2021-10-14T19:26:17.435Z"
   },
   {
    "duration": 12,
    "start_time": "2021-10-14T19:26:17.451Z"
   },
   {
    "duration": 18,
    "start_time": "2021-10-14T19:26:17.465Z"
   },
   {
    "duration": 31,
    "start_time": "2021-10-14T19:26:17.485Z"
   },
   {
    "duration": 85,
    "start_time": "2021-10-14T19:26:17.518Z"
   },
   {
    "duration": 6,
    "start_time": "2021-10-14T19:26:17.605Z"
   },
   {
    "duration": 8,
    "start_time": "2021-10-14T19:26:17.614Z"
   },
   {
    "duration": 10,
    "start_time": "2021-10-14T19:26:17.624Z"
   },
   {
    "duration": 7,
    "start_time": "2021-10-14T19:26:17.636Z"
   },
   {
    "duration": 3,
    "start_time": "2021-10-14T19:26:17.677Z"
   },
   {
    "duration": 27,
    "start_time": "2021-10-14T19:26:17.682Z"
   },
   {
    "duration": 9,
    "start_time": "2021-10-14T19:26:17.710Z"
   },
   {
    "duration": 10,
    "start_time": "2021-10-14T19:26:17.721Z"
   },
   {
    "duration": 576,
    "start_time": "2021-10-14T19:26:17.733Z"
   },
   {
    "duration": 9,
    "start_time": "2021-10-14T19:26:18.311Z"
   },
   {
    "duration": 17,
    "start_time": "2021-10-14T19:26:18.321Z"
   },
   {
    "duration": 7,
    "start_time": "2021-10-14T19:26:18.339Z"
   },
   {
    "duration": 46,
    "start_time": "2021-10-14T19:26:18.347Z"
   },
   {
    "duration": 6,
    "start_time": "2021-10-14T19:26:18.395Z"
   },
   {
    "duration": 20,
    "start_time": "2021-10-14T19:26:18.403Z"
   },
   {
    "duration": 10,
    "start_time": "2021-10-14T19:26:18.425Z"
   },
   {
    "duration": 7,
    "start_time": "2021-10-14T19:26:18.438Z"
   },
   {
    "duration": 43,
    "start_time": "2021-10-14T19:26:18.447Z"
   },
   {
    "duration": 7,
    "start_time": "2021-10-14T19:26:18.492Z"
   },
   {
    "duration": 17,
    "start_time": "2021-10-14T19:26:18.500Z"
   },
   {
    "duration": 14,
    "start_time": "2021-10-14T19:26:18.519Z"
   },
   {
    "duration": 48,
    "start_time": "2021-10-14T19:26:18.535Z"
   },
   {
    "duration": 20,
    "start_time": "2021-10-14T19:26:18.584Z"
   },
   {
    "duration": 16,
    "start_time": "2021-10-14T19:26:18.605Z"
   },
   {
    "duration": 7,
    "start_time": "2021-10-14T19:26:18.622Z"
   },
   {
    "duration": 3405,
    "start_time": "2021-10-14T19:26:18.630Z"
   },
   {
    "duration": 7,
    "start_time": "2021-10-14T19:26:22.036Z"
   },
   {
    "duration": 28,
    "start_time": "2021-10-14T19:26:22.044Z"
   },
   {
    "duration": 10,
    "start_time": "2021-10-14T19:26:22.077Z"
   },
   {
    "duration": 585,
    "start_time": "2021-10-14T19:26:22.670Z"
   },
   {
    "duration": 6,
    "start_time": "2021-10-14T19:27:43.072Z"
   },
   {
    "duration": 8,
    "start_time": "2021-10-14T19:31:43.426Z"
   },
   {
    "duration": 8,
    "start_time": "2021-10-14T19:32:55.098Z"
   },
   {
    "duration": 5,
    "start_time": "2021-10-15T08:31:39.125Z"
   },
   {
    "duration": 401,
    "start_time": "2021-10-15T08:31:46.595Z"
   },
   {
    "duration": 915,
    "start_time": "2021-10-15T08:32:06.356Z"
   },
   {
    "duration": 21,
    "start_time": "2021-10-15T08:32:07.274Z"
   },
   {
    "duration": 15,
    "start_time": "2021-10-15T08:32:07.302Z"
   },
   {
    "duration": 13,
    "start_time": "2021-10-15T08:32:07.319Z"
   },
   {
    "duration": 81,
    "start_time": "2021-10-15T08:32:07.334Z"
   },
   {
    "duration": 128,
    "start_time": "2021-10-15T08:32:07.418Z"
   },
   {
    "duration": 9,
    "start_time": "2021-10-15T08:32:07.549Z"
   },
   {
    "duration": 50,
    "start_time": "2021-10-15T08:32:07.560Z"
   },
   {
    "duration": 15,
    "start_time": "2021-10-15T08:32:07.612Z"
   },
   {
    "duration": 17,
    "start_time": "2021-10-15T08:32:07.630Z"
   },
   {
    "duration": 11,
    "start_time": "2021-10-15T08:32:07.650Z"
   },
   {
    "duration": 61,
    "start_time": "2021-10-15T08:32:07.663Z"
   },
   {
    "duration": 15,
    "start_time": "2021-10-15T08:32:07.726Z"
   },
   {
    "duration": 12,
    "start_time": "2021-10-15T08:32:07.743Z"
   },
   {
    "duration": 1088,
    "start_time": "2021-10-15T08:32:07.757Z"
   },
   {
    "duration": 14,
    "start_time": "2021-10-15T08:32:08.848Z"
   },
   {
    "duration": 47,
    "start_time": "2021-10-15T08:32:08.864Z"
   },
   {
    "duration": 10,
    "start_time": "2021-10-15T08:32:08.917Z"
   },
   {
    "duration": 33,
    "start_time": "2021-10-15T08:32:08.930Z"
   },
   {
    "duration": 38,
    "start_time": "2021-10-15T08:32:08.965Z"
   },
   {
    "duration": 32,
    "start_time": "2021-10-15T08:32:09.005Z"
   },
   {
    "duration": 15,
    "start_time": "2021-10-15T08:32:09.040Z"
   },
   {
    "duration": 44,
    "start_time": "2021-10-15T08:32:09.058Z"
   },
   {
    "duration": 22,
    "start_time": "2021-10-15T08:32:09.104Z"
   },
   {
    "duration": 9,
    "start_time": "2021-10-15T08:32:09.129Z"
   },
   {
    "duration": 27,
    "start_time": "2021-10-15T08:32:09.140Z"
   },
   {
    "duration": 25,
    "start_time": "2021-10-15T08:32:09.202Z"
   },
   {
    "duration": 39,
    "start_time": "2021-10-15T08:32:09.230Z"
   },
   {
    "duration": 57,
    "start_time": "2021-10-15T08:32:09.272Z"
   },
   {
    "duration": 24,
    "start_time": "2021-10-15T08:32:09.332Z"
   },
   {
    "duration": 10,
    "start_time": "2021-10-15T08:32:09.358Z"
   },
   {
    "duration": 4537,
    "start_time": "2021-10-15T08:32:09.370Z"
   },
   {
    "duration": 9,
    "start_time": "2021-10-15T08:32:13.910Z"
   },
   {
    "duration": 22,
    "start_time": "2021-10-15T08:32:13.921Z"
   },
   {
    "duration": 4,
    "start_time": "2021-10-15T08:32:13.945Z"
   },
   {
    "duration": 36,
    "start_time": "2021-10-15T08:32:13.951Z"
   },
   {
    "duration": 14,
    "start_time": "2021-10-15T08:32:13.989Z"
   },
   {
    "duration": 17,
    "start_time": "2021-10-15T08:32:14.005Z"
   },
   {
    "duration": 11,
    "start_time": "2021-10-15T08:32:14.024Z"
   },
   {
    "duration": 9,
    "start_time": "2021-10-15T09:12:15.184Z"
   },
   {
    "duration": 33,
    "start_time": "2021-10-15T09:20:56.341Z"
   },
   {
    "duration": 5619,
    "start_time": "2021-10-15T09:21:56.429Z"
   },
   {
    "duration": 33,
    "start_time": "2021-10-15T09:22:17.373Z"
   },
   {
    "duration": 29,
    "start_time": "2021-10-15T09:24:52.688Z"
   },
   {
    "duration": 49,
    "start_time": "2021-10-15T09:41:29.561Z"
   },
   {
    "duration": 62,
    "start_time": "2021-10-15T09:41:53.362Z"
   },
   {
    "duration": 19,
    "start_time": "2021-10-15T09:42:51.666Z"
   },
   {
    "duration": 17,
    "start_time": "2021-10-15T09:43:37.380Z"
   },
   {
    "duration": 409,
    "start_time": "2021-10-15T10:15:12.407Z"
   },
   {
    "duration": 324,
    "start_time": "2021-10-15T10:17:30.424Z"
   },
   {
    "duration": 339,
    "start_time": "2021-10-15T10:19:10.897Z"
   },
   {
    "duration": 16943,
    "start_time": "2021-10-15T10:19:20.097Z"
   },
   {
    "duration": 39,
    "start_time": "2021-10-15T10:20:35.995Z"
   },
   {
    "duration": 50,
    "start_time": "2021-10-15T10:21:54.235Z"
   },
   {
    "duration": 7755,
    "start_time": "2021-10-15T10:50:57.667Z"
   },
   {
    "duration": 884,
    "start_time": "2021-10-15T10:51:25.276Z"
   },
   {
    "duration": 22,
    "start_time": "2021-10-15T10:51:26.163Z"
   },
   {
    "duration": 25,
    "start_time": "2021-10-15T10:51:26.188Z"
   },
   {
    "duration": 13,
    "start_time": "2021-10-15T10:51:26.215Z"
   },
   {
    "duration": 73,
    "start_time": "2021-10-15T10:51:26.230Z"
   },
   {
    "duration": 131,
    "start_time": "2021-10-15T10:51:26.306Z"
   },
   {
    "duration": 8,
    "start_time": "2021-10-15T10:51:26.439Z"
   },
   {
    "duration": 14,
    "start_time": "2021-10-15T10:51:26.451Z"
   },
   {
    "duration": 11,
    "start_time": "2021-10-15T10:51:26.501Z"
   },
   {
    "duration": 12,
    "start_time": "2021-10-15T10:51:26.514Z"
   },
   {
    "duration": 11,
    "start_time": "2021-10-15T10:51:26.528Z"
   },
   {
    "duration": 60,
    "start_time": "2021-10-15T10:51:26.542Z"
   },
   {
    "duration": 15,
    "start_time": "2021-10-15T10:51:26.605Z"
   },
   {
    "duration": 13,
    "start_time": "2021-10-15T10:51:26.622Z"
   },
   {
    "duration": 1111,
    "start_time": "2021-10-15T10:51:26.637Z"
   },
   {
    "duration": 16,
    "start_time": "2021-10-15T10:51:27.751Z"
   },
   {
    "duration": 53,
    "start_time": "2021-10-15T10:51:27.770Z"
   },
   {
    "duration": 13,
    "start_time": "2021-10-15T10:51:27.825Z"
   },
   {
    "duration": 64,
    "start_time": "2021-10-15T10:51:27.841Z"
   },
   {
    "duration": 11,
    "start_time": "2021-10-15T10:51:27.908Z"
   },
   {
    "duration": 29,
    "start_time": "2021-10-15T10:51:27.921Z"
   },
   {
    "duration": 14,
    "start_time": "2021-10-15T10:51:27.952Z"
   },
   {
    "duration": 11,
    "start_time": "2021-10-15T10:51:28.003Z"
   },
   {
    "duration": 22,
    "start_time": "2021-10-15T10:51:28.017Z"
   },
   {
    "duration": 9,
    "start_time": "2021-10-15T10:51:28.041Z"
   },
   {
    "duration": 67,
    "start_time": "2021-10-15T10:51:28.052Z"
   },
   {
    "duration": 24,
    "start_time": "2021-10-15T10:51:28.121Z"
   },
   {
    "duration": 59,
    "start_time": "2021-10-15T10:51:28.147Z"
   },
   {
    "duration": 30,
    "start_time": "2021-10-15T10:51:28.208Z"
   },
   {
    "duration": 25,
    "start_time": "2021-10-15T10:51:28.241Z"
   },
   {
    "duration": 36,
    "start_time": "2021-10-15T10:51:28.269Z"
   },
   {
    "duration": 4816,
    "start_time": "2021-10-15T10:51:28.308Z"
   },
   {
    "duration": 11,
    "start_time": "2021-10-15T10:51:33.127Z"
   },
   {
    "duration": 46,
    "start_time": "2021-10-15T10:51:33.141Z"
   },
   {
    "duration": 15,
    "start_time": "2021-10-15T10:51:33.189Z"
   },
   {
    "duration": 54,
    "start_time": "2021-10-15T10:51:33.207Z"
   },
   {
    "duration": 11,
    "start_time": "2021-10-15T10:51:33.264Z"
   },
   {
    "duration": 24,
    "start_time": "2021-10-15T10:51:33.278Z"
   },
   {
    "duration": 14,
    "start_time": "2021-10-15T10:51:33.305Z"
   },
   {
    "duration": 55,
    "start_time": "2021-10-15T10:51:33.372Z"
   },
   {
    "duration": 9890,
    "start_time": "2021-10-15T10:51:43.694Z"
   },
   {
    "duration": 20,
    "start_time": "2021-10-15T10:52:00.807Z"
   },
   {
    "duration": 21,
    "start_time": "2021-10-15T10:53:46.567Z"
   },
   {
    "duration": 26,
    "start_time": "2021-10-15T10:55:22.856Z"
   },
   {
    "duration": 35,
    "start_time": "2021-10-15T10:59:17.067Z"
   },
   {
    "duration": 31,
    "start_time": "2021-10-15T11:02:08.821Z"
   },
   {
    "duration": 32,
    "start_time": "2021-10-15T11:03:20.845Z"
   },
   {
    "duration": 30,
    "start_time": "2021-10-15T11:03:29.213Z"
   },
   {
    "duration": 98,
    "start_time": "2021-10-15T11:04:43.302Z"
   },
   {
    "duration": 7718,
    "start_time": "2021-10-15T11:05:00.606Z"
   },
   {
    "duration": 50,
    "start_time": "2021-10-15T11:06:03.880Z"
   },
   {
    "duration": 8657,
    "start_time": "2021-10-15T11:06:31.359Z"
   },
   {
    "duration": 31,
    "start_time": "2021-10-15T11:06:55.600Z"
   },
   {
    "duration": 463,
    "start_time": "2021-10-15T11:08:06.089Z"
   },
   {
    "duration": 31,
    "start_time": "2021-10-15T11:08:19.913Z"
   },
   {
    "duration": 33,
    "start_time": "2021-10-15T11:09:54.195Z"
   },
   {
    "duration": 32,
    "start_time": "2021-10-15T11:10:44.586Z"
   },
   {
    "duration": 33,
    "start_time": "2021-10-15T11:11:35.434Z"
   },
   {
    "duration": 314,
    "start_time": "2021-10-15T11:37:36.588Z"
   },
   {
    "duration": 828,
    "start_time": "2021-10-15T11:37:53.727Z"
   },
   {
    "duration": 23,
    "start_time": "2021-10-15T11:37:54.559Z"
   },
   {
    "duration": 16,
    "start_time": "2021-10-15T11:37:54.600Z"
   },
   {
    "duration": 11,
    "start_time": "2021-10-15T11:37:54.619Z"
   },
   {
    "duration": 76,
    "start_time": "2021-10-15T11:37:54.633Z"
   },
   {
    "duration": 134,
    "start_time": "2021-10-15T11:37:54.712Z"
   },
   {
    "duration": 9,
    "start_time": "2021-10-15T11:37:54.848Z"
   },
   {
    "duration": 46,
    "start_time": "2021-10-15T11:37:54.860Z"
   },
   {
    "duration": 12,
    "start_time": "2021-10-15T11:37:54.909Z"
   },
   {
    "duration": 14,
    "start_time": "2021-10-15T11:37:54.923Z"
   },
   {
    "duration": 7,
    "start_time": "2021-10-15T11:37:54.940Z"
   },
   {
    "duration": 62,
    "start_time": "2021-10-15T11:37:54.949Z"
   },
   {
    "duration": 12,
    "start_time": "2021-10-15T11:37:55.013Z"
   },
   {
    "duration": 13,
    "start_time": "2021-10-15T11:37:55.027Z"
   },
   {
    "duration": 1104,
    "start_time": "2021-10-15T11:37:55.042Z"
   },
   {
    "duration": 14,
    "start_time": "2021-10-15T11:37:56.148Z"
   },
   {
    "duration": 45,
    "start_time": "2021-10-15T11:37:56.165Z"
   },
   {
    "duration": 10,
    "start_time": "2021-10-15T11:37:56.213Z"
   },
   {
    "duration": 33,
    "start_time": "2021-10-15T11:37:56.225Z"
   },
   {
    "duration": 43,
    "start_time": "2021-10-15T11:37:56.260Z"
   },
   {
    "duration": 31,
    "start_time": "2021-10-15T11:37:56.306Z"
   },
   {
    "duration": 15,
    "start_time": "2021-10-15T11:37:56.339Z"
   },
   {
    "duration": 10,
    "start_time": "2021-10-15T11:37:56.359Z"
   },
   {
    "duration": 25,
    "start_time": "2021-10-15T11:37:56.401Z"
   },
   {
    "duration": 10,
    "start_time": "2021-10-15T11:37:56.429Z"
   },
   {
    "duration": 26,
    "start_time": "2021-10-15T11:37:56.441Z"
   },
   {
    "duration": 25,
    "start_time": "2021-10-15T11:37:56.501Z"
   },
   {
    "duration": 40,
    "start_time": "2021-10-15T11:37:56.528Z"
   },
   {
    "duration": 56,
    "start_time": "2021-10-15T11:37:56.570Z"
   },
   {
    "duration": 27,
    "start_time": "2021-10-15T11:37:56.629Z"
   },
   {
    "duration": 10,
    "start_time": "2021-10-15T11:37:56.658Z"
   },
   {
    "duration": 4546,
    "start_time": "2021-10-15T11:37:56.671Z"
   },
   {
    "duration": 11,
    "start_time": "2021-10-15T11:38:01.220Z"
   },
   {
    "duration": 40,
    "start_time": "2021-10-15T11:38:01.234Z"
   },
   {
    "duration": 5,
    "start_time": "2021-10-15T11:38:01.278Z"
   },
   {
    "duration": 47,
    "start_time": "2021-10-15T11:38:01.302Z"
   },
   {
    "duration": 26,
    "start_time": "2021-10-15T11:38:01.352Z"
   },
   {
    "duration": 32,
    "start_time": "2021-10-15T11:38:01.381Z"
   },
   {
    "duration": 18,
    "start_time": "2021-10-15T11:38:01.416Z"
   },
   {
    "duration": -390,
    "start_time": "2021-10-15T11:38:02.259Z"
   },
   {
    "duration": 328,
    "start_time": "2021-10-15T11:38:09.203Z"
   },
   {
    "duration": 41,
    "start_time": "2021-10-15T11:39:19.652Z"
   },
   {
    "duration": 26,
    "start_time": "2021-10-15T11:55:34.983Z"
   },
   {
    "duration": 8613,
    "start_time": "2021-10-15T12:05:11.245Z"
   },
   {
    "duration": 31,
    "start_time": "2021-10-15T12:06:06.877Z"
   },
   {
    "duration": 48,
    "start_time": "2021-10-15T12:07:37.519Z"
   },
   {
    "duration": 30,
    "start_time": "2021-10-15T12:08:54.153Z"
   },
   {
    "duration": 33,
    "start_time": "2021-10-15T12:16:20.540Z"
   },
   {
    "duration": 33,
    "start_time": "2021-10-15T12:17:19.133Z"
   },
   {
    "duration": 34,
    "start_time": "2021-10-15T12:18:15.813Z"
   },
   {
    "duration": 33,
    "start_time": "2021-10-15T12:18:49.710Z"
   },
   {
    "duration": 34,
    "start_time": "2021-10-15T12:18:58.909Z"
   },
   {
    "duration": 32,
    "start_time": "2021-10-15T12:27:57.531Z"
   },
   {
    "duration": 34,
    "start_time": "2021-10-15T12:28:19.220Z"
   },
   {
    "duration": 34,
    "start_time": "2021-10-15T12:30:39.365Z"
   },
   {
    "duration": 33,
    "start_time": "2021-10-15T12:35:11.512Z"
   },
   {
    "duration": 32,
    "start_time": "2021-10-15T12:39:33.627Z"
   },
   {
    "duration": 33,
    "start_time": "2021-10-15T12:43:43.133Z"
   },
   {
    "duration": 32,
    "start_time": "2021-10-15T13:13:25.979Z"
   },
   {
    "duration": 32,
    "start_time": "2021-10-15T13:14:54.803Z"
   },
   {
    "duration": 838,
    "start_time": "2021-10-20T09:51:49.351Z"
   },
   {
    "duration": 1052,
    "start_time": "2021-10-20T11:22:42.872Z"
   },
   {
    "duration": 22,
    "start_time": "2021-10-20T11:22:43.928Z"
   },
   {
    "duration": 21,
    "start_time": "2021-10-20T11:22:43.953Z"
   },
   {
    "duration": 44,
    "start_time": "2021-10-20T11:22:43.977Z"
   },
   {
    "duration": 49,
    "start_time": "2021-10-20T11:22:44.024Z"
   },
   {
    "duration": 175,
    "start_time": "2021-10-20T11:22:44.076Z"
   },
   {
    "duration": 11,
    "start_time": "2021-10-20T11:22:44.254Z"
   },
   {
    "duration": 20,
    "start_time": "2021-10-20T11:22:44.270Z"
   },
   {
    "duration": 37,
    "start_time": "2021-10-20T11:22:44.294Z"
   },
   {
    "duration": 18,
    "start_time": "2021-10-20T11:22:44.334Z"
   },
   {
    "duration": 11,
    "start_time": "2021-10-20T11:22:44.355Z"
   },
   {
    "duration": 70,
    "start_time": "2021-10-20T11:22:44.369Z"
   },
   {
    "duration": 15,
    "start_time": "2021-10-20T11:22:44.442Z"
   },
   {
    "duration": 11,
    "start_time": "2021-10-20T11:22:44.460Z"
   },
   {
    "duration": 1047,
    "start_time": "2021-10-20T11:22:44.474Z"
   },
   {
    "duration": 14,
    "start_time": "2021-10-20T11:22:45.524Z"
   },
   {
    "duration": 25,
    "start_time": "2021-10-20T11:22:45.541Z"
   },
   {
    "duration": 10,
    "start_time": "2021-10-20T11:22:45.569Z"
   },
   {
    "duration": 82,
    "start_time": "2021-10-20T11:22:45.582Z"
   },
   {
    "duration": 14,
    "start_time": "2021-10-20T11:22:45.667Z"
   },
   {
    "duration": 71,
    "start_time": "2021-10-20T11:22:45.684Z"
   },
   {
    "duration": 23,
    "start_time": "2021-10-20T11:22:45.758Z"
   },
   {
    "duration": 35,
    "start_time": "2021-10-20T11:22:45.787Z"
   },
   {
    "duration": 21,
    "start_time": "2021-10-20T11:22:45.826Z"
   },
   {
    "duration": 15,
    "start_time": "2021-10-20T11:22:45.849Z"
   },
   {
    "duration": 28,
    "start_time": "2021-10-20T11:22:45.866Z"
   },
   {
    "duration": 26,
    "start_time": "2021-10-20T11:22:45.923Z"
   },
   {
    "duration": 40,
    "start_time": "2021-10-20T11:22:45.951Z"
   },
   {
    "duration": 55,
    "start_time": "2021-10-20T11:22:45.994Z"
   },
   {
    "duration": 24,
    "start_time": "2021-10-20T11:22:46.051Z"
   },
   {
    "duration": 9,
    "start_time": "2021-10-20T11:22:46.077Z"
   },
   {
    "duration": 4811,
    "start_time": "2021-10-20T11:22:46.088Z"
   },
   {
    "duration": 24,
    "start_time": "2021-10-20T11:22:50.902Z"
   },
   {
    "duration": 27,
    "start_time": "2021-10-20T11:22:50.929Z"
   },
   {
    "duration": 5,
    "start_time": "2021-10-20T11:22:50.959Z"
   },
   {
    "duration": 55,
    "start_time": "2021-10-20T11:22:50.967Z"
   },
   {
    "duration": 17,
    "start_time": "2021-10-20T11:22:51.024Z"
   },
   {
    "duration": 22,
    "start_time": "2021-10-20T11:22:51.043Z"
   },
   {
    "duration": 16,
    "start_time": "2021-10-20T11:22:51.067Z"
   },
   {
    "duration": 59,
    "start_time": "2021-10-20T11:22:51.085Z"
   },
   {
    "duration": 33,
    "start_time": "2021-10-20T11:22:51.146Z"
   },
   {
    "duration": 59,
    "start_time": "2021-10-20T11:22:51.182Z"
   },
   {
    "duration": 33,
    "start_time": "2021-10-20T11:22:51.243Z"
   },
   {
    "duration": 5,
    "start_time": "2021-10-20T11:38:50.481Z"
   },
   {
    "duration": 861,
    "start_time": "2021-10-20T11:40:47.411Z"
   },
   {
    "duration": 22,
    "start_time": "2021-10-20T11:40:48.275Z"
   },
   {
    "duration": 30,
    "start_time": "2021-10-20T11:40:48.299Z"
   },
   {
    "duration": 12,
    "start_time": "2021-10-20T11:40:48.332Z"
   },
   {
    "duration": 51,
    "start_time": "2021-10-20T11:40:48.347Z"
   },
   {
    "duration": 138,
    "start_time": "2021-10-20T11:40:48.422Z"
   },
   {
    "duration": 11,
    "start_time": "2021-10-20T11:40:48.563Z"
   },
   {
    "duration": 49,
    "start_time": "2021-10-20T11:40:48.579Z"
   },
   {
    "duration": 13,
    "start_time": "2021-10-20T11:40:48.633Z"
   },
   {
    "duration": 13,
    "start_time": "2021-10-20T11:40:48.649Z"
   },
   {
    "duration": 5,
    "start_time": "2021-10-20T11:40:48.664Z"
   },
   {
    "duration": 75,
    "start_time": "2021-10-20T11:40:48.671Z"
   },
   {
    "duration": 13,
    "start_time": "2021-10-20T11:40:48.749Z"
   },
   {
    "duration": 14,
    "start_time": "2021-10-20T11:40:48.765Z"
   },
   {
    "duration": 1063,
    "start_time": "2021-10-20T11:40:48.782Z"
   },
   {
    "duration": 16,
    "start_time": "2021-10-20T11:40:49.848Z"
   },
   {
    "duration": 61,
    "start_time": "2021-10-20T11:40:49.867Z"
   },
   {
    "duration": 14,
    "start_time": "2021-10-20T11:40:49.930Z"
   },
   {
    "duration": 34,
    "start_time": "2021-10-20T11:40:49.947Z"
   },
   {
    "duration": 44,
    "start_time": "2021-10-20T11:40:49.984Z"
   },
   {
    "duration": 34,
    "start_time": "2021-10-20T11:40:50.032Z"
   },
   {
    "duration": 18,
    "start_time": "2021-10-20T11:40:50.069Z"
   },
   {
    "duration": 11,
    "start_time": "2021-10-20T11:40:50.126Z"
   },
   {
    "duration": 23,
    "start_time": "2021-10-20T11:40:50.141Z"
   },
   {
    "duration": 11,
    "start_time": "2021-10-20T11:40:50.167Z"
   },
   {
    "duration": 26,
    "start_time": "2021-10-20T11:40:50.222Z"
   },
   {
    "duration": 24,
    "start_time": "2021-10-20T11:40:50.251Z"
   },
   {
    "duration": 77,
    "start_time": "2021-10-20T11:40:50.278Z"
   },
   {
    "duration": 28,
    "start_time": "2021-10-20T11:40:50.358Z"
   },
   {
    "duration": 44,
    "start_time": "2021-10-20T11:40:50.388Z"
   },
   {
    "duration": 10,
    "start_time": "2021-10-20T11:40:50.435Z"
   },
   {
    "duration": 4523,
    "start_time": "2021-10-20T11:40:50.447Z"
   },
   {
    "duration": 10,
    "start_time": "2021-10-20T11:40:54.973Z"
   },
   {
    "duration": 43,
    "start_time": "2021-10-20T11:40:54.986Z"
   },
   {
    "duration": 4,
    "start_time": "2021-10-20T11:40:55.032Z"
   },
   {
    "duration": 39,
    "start_time": "2021-10-20T11:40:55.039Z"
   },
   {
    "duration": 27,
    "start_time": "2021-10-20T11:40:55.080Z"
   },
   {
    "duration": 21,
    "start_time": "2021-10-20T11:40:55.110Z"
   },
   {
    "duration": 14,
    "start_time": "2021-10-20T11:40:55.133Z"
   },
   {
    "duration": 43,
    "start_time": "2021-10-20T11:40:55.150Z"
   },
   {
    "duration": 60,
    "start_time": "2021-10-20T11:40:55.196Z"
   },
   {
    "duration": 33,
    "start_time": "2021-10-20T11:40:55.258Z"
   },
   {
    "duration": 57,
    "start_time": "2021-10-20T11:40:55.294Z"
   },
   {
    "duration": 936,
    "start_time": "2021-10-20T13:22:49.674Z"
   },
   {
    "duration": 21,
    "start_time": "2021-10-20T13:22:50.613Z"
   },
   {
    "duration": 18,
    "start_time": "2021-10-20T13:22:50.638Z"
   },
   {
    "duration": 12,
    "start_time": "2021-10-20T13:22:50.659Z"
   },
   {
    "duration": 88,
    "start_time": "2021-10-20T13:22:50.674Z"
   },
   {
    "duration": 121,
    "start_time": "2021-10-20T13:22:50.764Z"
   },
   {
    "duration": 39,
    "start_time": "2021-10-20T13:22:50.889Z"
   },
   {
    "duration": 19,
    "start_time": "2021-10-20T13:22:50.935Z"
   },
   {
    "duration": 17,
    "start_time": "2021-10-20T13:22:50.958Z"
   },
   {
    "duration": 50,
    "start_time": "2021-10-20T13:22:50.978Z"
   },
   {
    "duration": 12,
    "start_time": "2021-10-20T13:22:51.032Z"
   },
   {
    "duration": 36,
    "start_time": "2021-10-20T13:22:51.047Z"
   },
   {
    "duration": 38,
    "start_time": "2021-10-20T13:22:51.086Z"
   },
   {
    "duration": 16,
    "start_time": "2021-10-20T13:22:51.127Z"
   },
   {
    "duration": 1209,
    "start_time": "2021-10-20T13:22:51.146Z"
   },
   {
    "duration": 15,
    "start_time": "2021-10-20T13:22:52.358Z"
   },
   {
    "duration": 52,
    "start_time": "2021-10-20T13:22:52.376Z"
   },
   {
    "duration": 11,
    "start_time": "2021-10-20T13:22:52.430Z"
   },
   {
    "duration": 35,
    "start_time": "2021-10-20T13:22:52.444Z"
   },
   {
    "duration": 43,
    "start_time": "2021-10-20T13:22:52.482Z"
   },
   {
    "duration": 34,
    "start_time": "2021-10-20T13:22:52.528Z"
   },
   {
    "duration": 19,
    "start_time": "2021-10-20T13:22:52.564Z"
   },
   {
    "duration": 11,
    "start_time": "2021-10-20T13:22:52.622Z"
   },
   {
    "duration": 25,
    "start_time": "2021-10-20T13:22:52.638Z"
   },
   {
    "duration": 13,
    "start_time": "2021-10-20T13:22:52.666Z"
   },
   {
    "duration": 68,
    "start_time": "2021-10-20T13:22:52.682Z"
   },
   {
    "duration": 34,
    "start_time": "2021-10-20T13:22:52.753Z"
   },
   {
    "duration": 84,
    "start_time": "2021-10-20T13:22:52.790Z"
   },
   {
    "duration": 59,
    "start_time": "2021-10-20T13:22:52.877Z"
   },
   {
    "duration": 25,
    "start_time": "2021-10-20T13:22:52.938Z"
   },
   {
    "duration": 11,
    "start_time": "2021-10-20T13:22:52.966Z"
   },
   {
    "duration": 5526,
    "start_time": "2021-10-20T13:22:52.980Z"
   },
   {
    "duration": 20,
    "start_time": "2021-10-20T13:22:58.510Z"
   },
   {
    "duration": 33,
    "start_time": "2021-10-20T13:22:58.533Z"
   },
   {
    "duration": 7,
    "start_time": "2021-10-20T13:22:58.569Z"
   },
   {
    "duration": 63,
    "start_time": "2021-10-20T13:22:58.579Z"
   },
   {
    "duration": 12,
    "start_time": "2021-10-20T13:22:58.645Z"
   },
   {
    "duration": 13,
    "start_time": "2021-10-20T13:22:58.660Z"
   },
   {
    "duration": 48,
    "start_time": "2021-10-20T13:22:58.676Z"
   },
   {
    "duration": 64,
    "start_time": "2021-10-20T13:22:58.727Z"
   },
   {
    "duration": 52,
    "start_time": "2021-10-20T13:22:58.795Z"
   },
   {
    "duration": 32,
    "start_time": "2021-10-20T13:22:58.850Z"
   },
   {
    "duration": 59,
    "start_time": "2021-10-20T13:22:58.884Z"
   },
   {
    "duration": 909,
    "start_time": "2021-10-20T13:33:07.149Z"
   },
   {
    "duration": 21,
    "start_time": "2021-10-20T13:33:08.061Z"
   },
   {
    "duration": 39,
    "start_time": "2021-10-20T13:33:08.085Z"
   },
   {
    "duration": 12,
    "start_time": "2021-10-20T13:33:08.127Z"
   },
   {
    "duration": 47,
    "start_time": "2021-10-20T13:33:08.141Z"
   },
   {
    "duration": 135,
    "start_time": "2021-10-20T13:33:08.222Z"
   },
   {
    "duration": 9,
    "start_time": "2021-10-20T13:33:08.359Z"
   },
   {
    "duration": 22,
    "start_time": "2021-10-20T13:33:08.371Z"
   },
   {
    "duration": 38,
    "start_time": "2021-10-20T13:33:08.395Z"
   },
   {
    "duration": 15,
    "start_time": "2021-10-20T13:33:08.436Z"
   },
   {
    "duration": 7,
    "start_time": "2021-10-20T13:33:08.453Z"
   },
   {
    "duration": 68,
    "start_time": "2021-10-20T13:33:08.462Z"
   },
   {
    "duration": 13,
    "start_time": "2021-10-20T13:33:08.533Z"
   },
   {
    "duration": 11,
    "start_time": "2021-10-20T13:33:08.549Z"
   },
   {
    "duration": 1080,
    "start_time": "2021-10-20T13:33:08.562Z"
   },
   {
    "duration": 15,
    "start_time": "2021-10-20T13:33:09.645Z"
   },
   {
    "duration": 26,
    "start_time": "2021-10-20T13:33:09.662Z"
   },
   {
    "duration": 38,
    "start_time": "2021-10-20T13:33:09.691Z"
   },
   {
    "duration": 33,
    "start_time": "2021-10-20T13:33:09.731Z"
   },
   {
    "duration": 13,
    "start_time": "2021-10-20T13:33:09.767Z"
   },
   {
    "duration": 69,
    "start_time": "2021-10-20T13:33:09.783Z"
   },
   {
    "duration": 19,
    "start_time": "2021-10-20T13:33:09.854Z"
   },
   {
    "duration": 11,
    "start_time": "2021-10-20T13:33:09.878Z"
   },
   {
    "duration": 21,
    "start_time": "2021-10-20T13:33:09.923Z"
   },
   {
    "duration": 10,
    "start_time": "2021-10-20T13:33:09.947Z"
   },
   {
    "duration": 67,
    "start_time": "2021-10-20T13:33:09.959Z"
   },
   {
    "duration": 27,
    "start_time": "2021-10-20T13:33:10.029Z"
   },
   {
    "duration": 65,
    "start_time": "2021-10-20T13:33:10.059Z"
   },
   {
    "duration": 29,
    "start_time": "2021-10-20T13:33:10.127Z"
   },
   {
    "duration": 24,
    "start_time": "2021-10-20T13:33:10.159Z"
   },
   {
    "duration": 43,
    "start_time": "2021-10-20T13:33:10.186Z"
   },
   {
    "duration": 4977,
    "start_time": "2021-10-20T13:33:10.232Z"
   },
   {
    "duration": 10,
    "start_time": "2021-10-20T13:33:15.223Z"
   },
   {
    "duration": 22,
    "start_time": "2021-10-20T13:33:15.235Z"
   },
   {
    "duration": 4,
    "start_time": "2021-10-20T13:33:15.261Z"
   },
   {
    "duration": 61,
    "start_time": "2021-10-20T13:33:15.268Z"
   },
   {
    "duration": 9,
    "start_time": "2021-10-20T13:33:15.331Z"
   },
   {
    "duration": 13,
    "start_time": "2021-10-20T13:33:15.342Z"
   },
   {
    "duration": 13,
    "start_time": "2021-10-20T13:33:15.357Z"
   },
   {
    "duration": 83,
    "start_time": "2021-10-20T13:33:15.372Z"
   },
   {
    "duration": 35,
    "start_time": "2021-10-20T13:33:15.458Z"
   },
   {
    "duration": 48,
    "start_time": "2021-10-20T13:33:15.495Z"
   },
   {
    "duration": 32,
    "start_time": "2021-10-20T13:33:15.546Z"
   },
   {
    "duration": 896,
    "start_time": "2021-10-21T07:15:17.947Z"
   },
   {
    "duration": 21,
    "start_time": "2021-10-21T07:15:18.847Z"
   },
   {
    "duration": 17,
    "start_time": "2021-10-21T07:15:18.871Z"
   },
   {
    "duration": 12,
    "start_time": "2021-10-21T07:15:18.890Z"
   },
   {
    "duration": 78,
    "start_time": "2021-10-21T07:15:18.905Z"
   },
   {
    "duration": 118,
    "start_time": "2021-10-21T07:15:18.985Z"
   },
   {
    "duration": 9,
    "start_time": "2021-10-21T07:15:19.105Z"
   },
   {
    "duration": 42,
    "start_time": "2021-10-21T07:15:19.117Z"
   },
   {
    "duration": 13,
    "start_time": "2021-10-21T07:15:19.162Z"
   },
   {
    "duration": 12,
    "start_time": "2021-10-21T07:15:19.177Z"
   },
   {
    "duration": 9,
    "start_time": "2021-10-21T07:15:19.192Z"
   },
   {
    "duration": 66,
    "start_time": "2021-10-21T07:15:19.203Z"
   },
   {
    "duration": 15,
    "start_time": "2021-10-21T07:15:19.272Z"
   },
   {
    "duration": 13,
    "start_time": "2021-10-21T07:15:19.289Z"
   },
   {
    "duration": 1086,
    "start_time": "2021-10-21T07:15:19.305Z"
   },
   {
    "duration": 18,
    "start_time": "2021-10-21T07:15:20.394Z"
   },
   {
    "duration": 58,
    "start_time": "2021-10-21T07:15:20.415Z"
   },
   {
    "duration": 14,
    "start_time": "2021-10-21T07:15:20.476Z"
   },
   {
    "duration": 67,
    "start_time": "2021-10-21T07:15:20.493Z"
   },
   {
    "duration": 11,
    "start_time": "2021-10-21T07:15:20.562Z"
   },
   {
    "duration": 29,
    "start_time": "2021-10-21T07:15:20.576Z"
   },
   {
    "duration": 15,
    "start_time": "2021-10-21T07:15:20.608Z"
   },
   {
    "duration": 10,
    "start_time": "2021-10-21T07:15:20.661Z"
   },
   {
    "duration": 25,
    "start_time": "2021-10-21T07:15:20.674Z"
   },
   {
    "duration": 10,
    "start_time": "2021-10-21T07:15:20.701Z"
   },
   {
    "duration": 63,
    "start_time": "2021-10-21T07:15:20.713Z"
   },
   {
    "duration": 23,
    "start_time": "2021-10-21T07:15:20.779Z"
   },
   {
    "duration": 58,
    "start_time": "2021-10-21T07:15:20.805Z"
   },
   {
    "duration": 29,
    "start_time": "2021-10-21T07:15:20.865Z"
   },
   {
    "duration": 23,
    "start_time": "2021-10-21T07:15:20.896Z"
   },
   {
    "duration": 38,
    "start_time": "2021-10-21T07:15:20.922Z"
   },
   {
    "duration": 4374,
    "start_time": "2021-10-21T07:15:20.962Z"
   },
   {
    "duration": 20,
    "start_time": "2021-10-21T07:15:25.338Z"
   },
   {
    "duration": 25,
    "start_time": "2021-10-21T07:15:25.361Z"
   },
   {
    "duration": 5,
    "start_time": "2021-10-21T07:15:25.389Z"
   },
   {
    "duration": 61,
    "start_time": "2021-10-21T07:15:25.396Z"
   },
   {
    "duration": 10,
    "start_time": "2021-10-21T07:15:25.460Z"
   },
   {
    "duration": 12,
    "start_time": "2021-10-21T07:15:25.473Z"
   },
   {
    "duration": 14,
    "start_time": "2021-10-21T07:15:25.487Z"
   },
   {
    "duration": 75,
    "start_time": "2021-10-21T07:15:25.504Z"
   },
   {
    "duration": 32,
    "start_time": "2021-10-21T07:15:25.581Z"
   },
   {
    "duration": 51,
    "start_time": "2021-10-21T07:15:25.615Z"
   },
   {
    "duration": 30,
    "start_time": "2021-10-21T07:15:25.668Z"
   },
   {
    "duration": 575,
    "start_time": "2021-10-21T10:30:28.289Z"
   },
   {
    "duration": 256,
    "start_time": "2021-10-21T10:33:26.529Z"
   },
   {
    "duration": 279,
    "start_time": "2021-10-21T10:34:59.602Z"
   },
   {
    "duration": 229,
    "start_time": "2021-10-21T10:36:30.923Z"
   },
   {
    "duration": 481,
    "start_time": "2021-10-21T10:48:07.004Z"
   },
   {
    "duration": 685,
    "start_time": "2021-10-21T10:48:24.402Z"
   },
   {
    "duration": 851,
    "start_time": "2021-10-21T11:10:02.680Z"
   },
   {
    "duration": 22,
    "start_time": "2021-10-21T11:10:03.534Z"
   },
   {
    "duration": 36,
    "start_time": "2021-10-21T11:10:03.559Z"
   },
   {
    "duration": 12,
    "start_time": "2021-10-21T11:10:03.598Z"
   },
   {
    "duration": 77,
    "start_time": "2021-10-21T11:10:03.613Z"
   },
   {
    "duration": 128,
    "start_time": "2021-10-21T11:10:03.692Z"
   },
   {
    "duration": 9,
    "start_time": "2021-10-21T11:10:03.822Z"
   },
   {
    "duration": 14,
    "start_time": "2021-10-21T11:10:03.835Z"
   },
   {
    "duration": 12,
    "start_time": "2021-10-21T11:10:03.885Z"
   },
   {
    "duration": 14,
    "start_time": "2021-10-21T11:10:03.900Z"
   },
   {
    "duration": 9,
    "start_time": "2021-10-21T11:10:03.917Z"
   },
   {
    "duration": 60,
    "start_time": "2021-10-21T11:10:03.928Z"
   },
   {
    "duration": 12,
    "start_time": "2021-10-21T11:10:03.991Z"
   },
   {
    "duration": 11,
    "start_time": "2021-10-21T11:10:04.005Z"
   },
   {
    "duration": 1013,
    "start_time": "2021-10-21T11:10:04.018Z"
   },
   {
    "duration": 14,
    "start_time": "2021-10-21T11:10:05.033Z"
   },
   {
    "duration": 45,
    "start_time": "2021-10-21T11:10:05.050Z"
   },
   {
    "duration": 12,
    "start_time": "2021-10-21T11:10:05.097Z"
   },
   {
    "duration": 33,
    "start_time": "2021-10-21T11:10:05.112Z"
   },
   {
    "duration": 39,
    "start_time": "2021-10-21T11:10:05.147Z"
   },
   {
    "duration": 31,
    "start_time": "2021-10-21T11:10:05.190Z"
   },
   {
    "duration": 17,
    "start_time": "2021-10-21T11:10:05.224Z"
   },
   {
    "duration": 44,
    "start_time": "2021-10-21T11:10:05.246Z"
   },
   {
    "duration": 25,
    "start_time": "2021-10-21T11:10:05.294Z"
   },
   {
    "duration": 10,
    "start_time": "2021-10-21T11:10:05.322Z"
   },
   {
    "duration": 60,
    "start_time": "2021-10-21T11:10:05.334Z"
   },
   {
    "duration": 23,
    "start_time": "2021-10-21T11:10:05.397Z"
   },
   {
    "duration": 60,
    "start_time": "2021-10-21T11:10:05.422Z"
   },
   {
    "duration": 29,
    "start_time": "2021-10-21T11:10:05.485Z"
   },
   {
    "duration": 23,
    "start_time": "2021-10-21T11:10:05.516Z"
   },
   {
    "duration": 9,
    "start_time": "2021-10-21T11:10:05.542Z"
   },
   {
    "duration": 415,
    "start_time": "2021-10-21T11:10:05.553Z"
   },
   {
    "duration": 803,
    "start_time": "2021-10-21T11:10:05.167Z"
   },
   {
    "duration": 801,
    "start_time": "2021-10-21T11:10:05.171Z"
   },
   {
    "duration": 799,
    "start_time": "2021-10-21T11:10:05.174Z"
   },
   {
    "duration": 797,
    "start_time": "2021-10-21T11:10:05.177Z"
   },
   {
    "duration": 795,
    "start_time": "2021-10-21T11:10:05.180Z"
   },
   {
    "duration": 794,
    "start_time": "2021-10-21T11:10:05.182Z"
   },
   {
    "duration": 787,
    "start_time": "2021-10-21T11:10:05.191Z"
   },
   {
    "duration": 785,
    "start_time": "2021-10-21T11:10:05.194Z"
   },
   {
    "duration": 783,
    "start_time": "2021-10-21T11:10:05.197Z"
   },
   {
    "duration": 782,
    "start_time": "2021-10-21T11:10:05.199Z"
   },
   {
    "duration": 780,
    "start_time": "2021-10-21T11:10:05.203Z"
   },
   {
    "duration": 779,
    "start_time": "2021-10-21T11:10:05.205Z"
   },
   {
    "duration": 315,
    "start_time": "2021-10-21T11:13:13.662Z"
   },
   {
    "duration": 876,
    "start_time": "2021-10-21T11:13:47.037Z"
   },
   {
    "duration": 290,
    "start_time": "2021-10-21T11:14:08.014Z"
   },
   {
    "duration": 76,
    "start_time": "2021-10-21T11:14:17.061Z"
   },
   {
    "duration": 6,
    "start_time": "2021-10-21T11:14:50.718Z"
   },
   {
    "duration": 6,
    "start_time": "2021-10-21T11:15:04.838Z"
   },
   {
    "duration": 860,
    "start_time": "2021-10-21T11:15:22.222Z"
   },
   {
    "duration": 6,
    "start_time": "2021-10-21T11:25:00.934Z"
   },
   {
    "duration": 292,
    "start_time": "2021-10-21T11:28:33.240Z"
   },
   {
    "duration": 897,
    "start_time": "2021-10-21T11:28:41.770Z"
   },
   {
    "duration": 34,
    "start_time": "2021-10-21T11:28:42.670Z"
   },
   {
    "duration": 32,
    "start_time": "2021-10-21T11:28:42.707Z"
   },
   {
    "duration": 13,
    "start_time": "2021-10-21T11:28:42.743Z"
   },
   {
    "duration": 65,
    "start_time": "2021-10-21T11:28:42.758Z"
   },
   {
    "duration": 127,
    "start_time": "2021-10-21T11:28:42.826Z"
   },
   {
    "duration": 9,
    "start_time": "2021-10-21T11:28:42.983Z"
   },
   {
    "duration": 32,
    "start_time": "2021-10-21T11:28:42.996Z"
   },
   {
    "duration": 14,
    "start_time": "2021-10-21T11:28:43.031Z"
   },
   {
    "duration": 34,
    "start_time": "2021-10-21T11:28:43.048Z"
   },
   {
    "duration": 14,
    "start_time": "2021-10-21T11:28:43.084Z"
   },
   {
    "duration": 33,
    "start_time": "2021-10-21T11:28:43.100Z"
   },
   {
    "duration": 13,
    "start_time": "2021-10-21T11:28:43.136Z"
   },
   {
    "duration": 38,
    "start_time": "2021-10-21T11:28:43.152Z"
   },
   {
    "duration": 1038,
    "start_time": "2021-10-21T11:28:43.192Z"
   },
   {
    "duration": 15,
    "start_time": "2021-10-21T11:28:44.232Z"
   },
   {
    "duration": 48,
    "start_time": "2021-10-21T11:28:44.249Z"
   },
   {
    "duration": 11,
    "start_time": "2021-10-21T11:28:44.299Z"
   },
   {
    "duration": 33,
    "start_time": "2021-10-21T11:28:44.312Z"
   },
   {
    "duration": 38,
    "start_time": "2021-10-21T11:28:44.348Z"
   },
   {
    "duration": 31,
    "start_time": "2021-10-21T11:28:44.389Z"
   },
   {
    "duration": 18,
    "start_time": "2021-10-21T11:28:44.422Z"
   },
   {
    "duration": 42,
    "start_time": "2021-10-21T11:28:44.446Z"
   },
   {
    "duration": 50,
    "start_time": "2021-10-21T11:28:44.492Z"
   },
   {
    "duration": 17,
    "start_time": "2021-10-21T11:28:44.544Z"
   },
   {
    "duration": 35,
    "start_time": "2021-10-21T11:28:44.564Z"
   },
   {
    "duration": 23,
    "start_time": "2021-10-21T11:28:44.602Z"
   },
   {
    "duration": 61,
    "start_time": "2021-10-21T11:28:44.627Z"
   },
   {
    "duration": 30,
    "start_time": "2021-10-21T11:28:44.690Z"
   },
   {
    "duration": 24,
    "start_time": "2021-10-21T11:28:44.723Z"
   },
   {
    "duration": 40,
    "start_time": "2021-10-21T11:28:44.750Z"
   },
   {
    "duration": 1343,
    "start_time": "2021-10-21T11:28:44.794Z"
   },
   {
    "duration": 841,
    "start_time": "2021-10-21T11:28:45.299Z"
   },
   {
    "duration": 839,
    "start_time": "2021-10-21T11:28:45.303Z"
   },
   {
    "duration": 837,
    "start_time": "2021-10-21T11:28:45.306Z"
   },
   {
    "duration": 832,
    "start_time": "2021-10-21T11:28:45.313Z"
   },
   {
    "duration": 830,
    "start_time": "2021-10-21T11:28:45.316Z"
   },
   {
    "duration": 828,
    "start_time": "2021-10-21T11:28:45.319Z"
   },
   {
    "duration": 827,
    "start_time": "2021-10-21T11:28:45.321Z"
   },
   {
    "duration": 825,
    "start_time": "2021-10-21T11:28:45.325Z"
   },
   {
    "duration": 823,
    "start_time": "2021-10-21T11:28:45.328Z"
   },
   {
    "duration": 822,
    "start_time": "2021-10-21T11:28:45.330Z"
   },
   {
    "duration": 820,
    "start_time": "2021-10-21T11:28:45.333Z"
   },
   {
    "duration": 813,
    "start_time": "2021-10-21T11:28:45.341Z"
   },
   {
    "duration": 812,
    "start_time": "2021-10-21T11:28:45.344Z"
   },
   {
    "duration": 5,
    "start_time": "2021-10-21T11:29:40.188Z"
   },
   {
    "duration": 91,
    "start_time": "2021-10-21T11:31:19.358Z"
   },
   {
    "duration": 337,
    "start_time": "2021-10-21T11:32:06.253Z"
   },
   {
    "duration": 263,
    "start_time": "2021-10-21T11:35:25.674Z"
   },
   {
    "duration": 321,
    "start_time": "2021-10-21T11:36:23.248Z"
   },
   {
    "duration": 7,
    "start_time": "2021-10-21T11:36:29.489Z"
   },
   {
    "duration": 155,
    "start_time": "2021-10-21T11:36:55.889Z"
   },
   {
    "duration": 5565,
    "start_time": "2021-10-21T11:37:14.161Z"
   },
   {
    "duration": 22,
    "start_time": "2021-10-21T11:53:12.532Z"
   },
   {
    "duration": 3582,
    "start_time": "2021-10-21T11:54:48.077Z"
   },
   {
    "duration": 2492,
    "start_time": "2021-10-21T11:55:14.333Z"
   },
   {
    "duration": 302,
    "start_time": "2021-10-21T11:56:55.918Z"
   },
   {
    "duration": 262,
    "start_time": "2021-10-21T11:57:36.423Z"
   },
   {
    "duration": 2436,
    "start_time": "2021-10-21T11:57:49.254Z"
   },
   {
    "duration": 2464,
    "start_time": "2021-10-21T11:59:41.120Z"
   },
   {
    "duration": 1522,
    "start_time": "2021-10-21T12:01:09.888Z"
   },
   {
    "duration": 192,
    "start_time": "2021-10-21T12:01:27.435Z"
   },
   {
    "duration": 348,
    "start_time": "2021-10-21T12:02:51.186Z"
   },
   {
    "duration": 2640,
    "start_time": "2021-10-21T12:04:25.963Z"
   },
   {
    "duration": 340,
    "start_time": "2021-10-21T12:06:06.459Z"
   },
   {
    "duration": 2175,
    "start_time": "2021-10-21T12:09:09.830Z"
   },
   {
    "duration": 2666,
    "start_time": "2021-10-21T12:09:54.957Z"
   },
   {
    "duration": 564,
    "start_time": "2021-10-21T12:10:48.734Z"
   },
   {
    "duration": 378,
    "start_time": "2021-10-21T12:46:15.421Z"
   },
   {
    "duration": 12,
    "start_time": "2021-10-21T12:46:23.701Z"
   },
   {
    "duration": 12,
    "start_time": "2021-10-21T13:04:09.232Z"
   },
   {
    "duration": 5,
    "start_time": "2021-10-21T13:08:26.226Z"
   },
   {
    "duration": 1880,
    "start_time": "2021-10-21T13:09:21.731Z"
   },
   {
    "duration": 4,
    "start_time": "2021-10-21T13:11:10.500Z"
   },
   {
    "duration": 997,
    "start_time": "2021-10-21T13:11:13.228Z"
   },
   {
    "duration": 8,
    "start_time": "2021-10-21T13:11:30.772Z"
   },
   {
    "duration": 1153,
    "start_time": "2021-10-21T13:12:01.440Z"
   },
   {
    "duration": 20,
    "start_time": "2021-10-21T13:12:02.595Z"
   },
   {
    "duration": 20,
    "start_time": "2021-10-21T13:12:02.618Z"
   },
   {
    "duration": 11,
    "start_time": "2021-10-21T13:12:02.640Z"
   },
   {
    "duration": 72,
    "start_time": "2021-10-21T13:12:02.653Z"
   },
   {
    "duration": 157,
    "start_time": "2021-10-21T13:12:02.727Z"
   },
   {
    "duration": 9,
    "start_time": "2021-10-21T13:12:02.887Z"
   },
   {
    "duration": 14,
    "start_time": "2021-10-21T13:12:02.900Z"
   },
   {
    "duration": 11,
    "start_time": "2021-10-21T13:12:02.917Z"
   },
   {
    "duration": 12,
    "start_time": "2021-10-21T13:12:02.930Z"
   },
   {
    "duration": 5,
    "start_time": "2021-10-21T13:12:02.983Z"
   },
   {
    "duration": 35,
    "start_time": "2021-10-21T13:12:02.990Z"
   },
   {
    "duration": 13,
    "start_time": "2021-10-21T13:12:03.027Z"
   },
   {
    "duration": 43,
    "start_time": "2021-10-21T13:12:03.042Z"
   },
   {
    "duration": 1047,
    "start_time": "2021-10-21T13:12:03.088Z"
   },
   {
    "duration": 15,
    "start_time": "2021-10-21T13:12:04.138Z"
   },
   {
    "duration": 43,
    "start_time": "2021-10-21T13:12:04.155Z"
   },
   {
    "duration": 10,
    "start_time": "2021-10-21T13:12:04.200Z"
   },
   {
    "duration": 30,
    "start_time": "2021-10-21T13:12:04.213Z"
   },
   {
    "duration": 43,
    "start_time": "2021-10-21T13:12:04.245Z"
   },
   {
    "duration": 31,
    "start_time": "2021-10-21T13:12:04.290Z"
   },
   {
    "duration": 16,
    "start_time": "2021-10-21T13:12:04.323Z"
   },
   {
    "duration": 43,
    "start_time": "2021-10-21T13:12:04.344Z"
   },
   {
    "duration": 21,
    "start_time": "2021-10-21T13:12:04.390Z"
   },
   {
    "duration": 10,
    "start_time": "2021-10-21T13:12:04.413Z"
   },
   {
    "duration": 62,
    "start_time": "2021-10-21T13:12:04.426Z"
   },
   {
    "duration": 22,
    "start_time": "2021-10-21T13:12:04.490Z"
   },
   {
    "duration": 38,
    "start_time": "2021-10-21T13:12:04.514Z"
   },
   {
    "duration": 54,
    "start_time": "2021-10-21T13:12:04.555Z"
   },
   {
    "duration": 25,
    "start_time": "2021-10-21T13:12:04.611Z"
   },
   {
    "duration": 9,
    "start_time": "2021-10-21T13:12:04.638Z"
   },
   {
    "duration": 3621,
    "start_time": "2021-10-21T13:12:04.650Z"
   },
   {
    "duration": 3741,
    "start_time": "2021-10-21T13:12:08.274Z"
   },
   {
    "duration": 9,
    "start_time": "2021-10-21T13:12:12.017Z"
   },
   {
    "duration": 26,
    "start_time": "2021-10-21T13:12:12.028Z"
   },
   {
    "duration": 33,
    "start_time": "2021-10-21T13:12:12.056Z"
   },
   {
    "duration": 4,
    "start_time": "2021-10-21T13:12:12.092Z"
   },
   {
    "duration": 1028,
    "start_time": "2021-10-21T13:12:12.099Z"
   },
   {
    "duration": 9,
    "start_time": "2021-10-21T13:12:13.130Z"
   },
   {
    "duration": 17,
    "start_time": "2021-10-21T13:12:13.141Z"
   },
   {
    "duration": 30,
    "start_time": "2021-10-21T13:12:13.161Z"
   },
   {
    "duration": 38,
    "start_time": "2021-10-21T13:12:13.193Z"
   },
   {
    "duration": 54,
    "start_time": "2021-10-21T13:12:13.234Z"
   },
   {
    "duration": 34,
    "start_time": "2021-10-21T13:12:13.291Z"
   },
   {
    "duration": 30,
    "start_time": "2021-10-21T13:12:13.327Z"
   },
   {
    "duration": 5,
    "start_time": "2021-10-21T13:18:32.241Z"
   },
   {
    "duration": 964,
    "start_time": "2021-10-21T13:18:38.362Z"
   },
   {
    "duration": 10,
    "start_time": "2021-10-21T13:18:45.355Z"
   },
   {
    "duration": 190,
    "start_time": "2021-10-21T13:20:35.106Z"
   },
   {
    "duration": 400,
    "start_time": "2021-10-21T13:20:38.771Z"
   },
   {
    "duration": 921,
    "start_time": "2021-10-21T13:30:51.570Z"
   },
   {
    "duration": 21,
    "start_time": "2021-10-21T13:30:52.494Z"
   },
   {
    "duration": 15,
    "start_time": "2021-10-21T13:30:52.522Z"
   },
   {
    "duration": 49,
    "start_time": "2021-10-21T13:30:52.540Z"
   },
   {
    "duration": 47,
    "start_time": "2021-10-21T13:30:52.592Z"
   },
   {
    "duration": 164,
    "start_time": "2021-10-21T13:30:52.642Z"
   },
   {
    "duration": 9,
    "start_time": "2021-10-21T13:30:52.810Z"
   },
   {
    "duration": 15,
    "start_time": "2021-10-21T13:30:52.823Z"
   },
   {
    "duration": 50,
    "start_time": "2021-10-21T13:30:52.841Z"
   },
   {
    "duration": 16,
    "start_time": "2021-10-21T13:30:52.893Z"
   },
   {
    "duration": 9,
    "start_time": "2021-10-21T13:30:52.912Z"
   },
   {
    "duration": 58,
    "start_time": "2021-10-21T13:30:52.924Z"
   },
   {
    "duration": 14,
    "start_time": "2021-10-21T13:30:52.985Z"
   },
   {
    "duration": 13,
    "start_time": "2021-10-21T13:30:53.002Z"
   },
   {
    "duration": 1026,
    "start_time": "2021-10-21T13:30:53.018Z"
   },
   {
    "duration": 15,
    "start_time": "2021-10-21T13:30:54.046Z"
   },
   {
    "duration": 40,
    "start_time": "2021-10-21T13:30:54.064Z"
   },
   {
    "duration": 11,
    "start_time": "2021-10-21T13:30:54.106Z"
   },
   {
    "duration": 65,
    "start_time": "2021-10-21T13:30:54.119Z"
   },
   {
    "duration": 10,
    "start_time": "2021-10-21T13:30:54.186Z"
   },
   {
    "duration": 45,
    "start_time": "2021-10-21T13:30:54.199Z"
   },
   {
    "duration": 48,
    "start_time": "2021-10-21T13:30:54.252Z"
   },
   {
    "duration": 15,
    "start_time": "2021-10-21T13:30:54.304Z"
   },
   {
    "duration": 33,
    "start_time": "2021-10-21T13:30:54.322Z"
   },
   {
    "duration": 13,
    "start_time": "2021-10-21T13:30:54.384Z"
   },
   {
    "duration": 27,
    "start_time": "2021-10-21T13:30:54.400Z"
   },
   {
    "duration": 55,
    "start_time": "2021-10-21T13:30:54.429Z"
   },
   {
    "duration": 38,
    "start_time": "2021-10-21T13:30:54.487Z"
   },
   {
    "duration": 29,
    "start_time": "2021-10-21T13:30:54.527Z"
   },
   {
    "duration": 26,
    "start_time": "2021-10-21T13:30:54.583Z"
   },
   {
    "duration": 11,
    "start_time": "2021-10-21T13:30:54.611Z"
   },
   {
    "duration": 3647,
    "start_time": "2021-10-21T13:30:54.624Z"
   },
   {
    "duration": 4344,
    "start_time": "2021-10-21T13:30:58.275Z"
   },
   {
    "duration": 10,
    "start_time": "2021-10-21T13:31:02.623Z"
   },
   {
    "duration": 32,
    "start_time": "2021-10-21T13:31:02.635Z"
   },
   {
    "duration": 12,
    "start_time": "2021-10-21T13:31:02.683Z"
   },
   {
    "duration": 8,
    "start_time": "2021-10-21T13:31:02.698Z"
   },
   {
    "duration": 1045,
    "start_time": "2021-10-21T13:31:02.708Z"
   },
   {
    "duration": 9,
    "start_time": "2021-10-21T13:31:03.756Z"
   },
   {
    "duration": 10,
    "start_time": "2021-10-21T13:31:03.782Z"
   },
   {
    "duration": 14,
    "start_time": "2021-10-21T13:31:03.794Z"
   },
   {
    "duration": 47,
    "start_time": "2021-10-21T13:31:03.811Z"
   },
   {
    "duration": 51,
    "start_time": "2021-10-21T13:31:03.882Z"
   },
   {
    "duration": 72,
    "start_time": "2021-10-21T13:31:03.937Z"
   },
   {
    "duration": 50,
    "start_time": "2021-10-21T13:31:04.013Z"
   },
   {
    "duration": 810,
    "start_time": "2021-10-21T13:55:43.918Z"
   },
   {
    "duration": 21,
    "start_time": "2021-10-21T13:55:44.731Z"
   },
   {
    "duration": 31,
    "start_time": "2021-10-21T13:55:44.758Z"
   },
   {
    "duration": 13,
    "start_time": "2021-10-21T13:55:44.792Z"
   },
   {
    "duration": 49,
    "start_time": "2021-10-21T13:55:44.807Z"
   },
   {
    "duration": 124,
    "start_time": "2021-10-21T13:55:44.888Z"
   },
   {
    "duration": 9,
    "start_time": "2021-10-21T13:55:45.016Z"
   },
   {
    "duration": 32,
    "start_time": "2021-10-21T13:55:45.028Z"
   },
   {
    "duration": 27,
    "start_time": "2021-10-21T13:55:45.063Z"
   },
   {
    "duration": 12,
    "start_time": "2021-10-21T13:55:45.093Z"
   },
   {
    "duration": 34,
    "start_time": "2021-10-21T13:55:45.108Z"
   },
   {
    "duration": 52,
    "start_time": "2021-10-21T13:55:45.145Z"
   },
   {
    "duration": 13,
    "start_time": "2021-10-21T13:55:45.200Z"
   },
   {
    "duration": 11,
    "start_time": "2021-10-21T13:55:45.215Z"
   },
   {
    "duration": 1111,
    "start_time": "2021-10-21T13:55:45.229Z"
   },
   {
    "duration": 15,
    "start_time": "2021-10-21T13:55:46.342Z"
   },
   {
    "duration": 45,
    "start_time": "2021-10-21T13:55:46.359Z"
   },
   {
    "duration": 12,
    "start_time": "2021-10-21T13:55:46.407Z"
   },
   {
    "duration": 62,
    "start_time": "2021-10-21T13:55:46.422Z"
   },
   {
    "duration": 21,
    "start_time": "2021-10-21T13:55:46.486Z"
   },
   {
    "duration": 31,
    "start_time": "2021-10-21T13:55:46.510Z"
   },
   {
    "duration": 41,
    "start_time": "2021-10-21T13:55:46.546Z"
   },
   {
    "duration": 11,
    "start_time": "2021-10-21T13:55:46.590Z"
   },
   {
    "duration": 26,
    "start_time": "2021-10-21T13:55:46.604Z"
   },
   {
    "duration": 10,
    "start_time": "2021-10-21T13:55:46.633Z"
   },
   {
    "duration": 55,
    "start_time": "2021-10-21T13:55:46.646Z"
   },
   {
    "duration": 27,
    "start_time": "2021-10-21T13:55:46.704Z"
   },
   {
    "duration": 75,
    "start_time": "2021-10-21T13:55:46.734Z"
   },
   {
    "duration": 33,
    "start_time": "2021-10-21T13:55:46.812Z"
   },
   {
    "duration": 56,
    "start_time": "2021-10-21T13:55:46.848Z"
   },
   {
    "duration": 12,
    "start_time": "2021-10-21T13:55:46.907Z"
   },
   {
    "duration": 4125,
    "start_time": "2021-10-21T13:55:46.922Z"
   },
   {
    "duration": 4142,
    "start_time": "2021-10-21T13:55:51.050Z"
   },
   {
    "duration": 13,
    "start_time": "2021-10-21T13:55:55.195Z"
   },
   {
    "duration": 32,
    "start_time": "2021-10-21T13:55:55.210Z"
   },
   {
    "duration": 42,
    "start_time": "2021-10-21T13:55:55.244Z"
   },
   {
    "duration": 5,
    "start_time": "2021-10-21T13:55:55.289Z"
   },
   {
    "duration": 1007,
    "start_time": "2021-10-21T13:55:55.297Z"
   },
   {
    "duration": 12,
    "start_time": "2021-10-21T13:55:56.307Z"
   },
   {
    "duration": 13,
    "start_time": "2021-10-21T13:55:56.322Z"
   },
   {
    "duration": 45,
    "start_time": "2021-10-21T13:55:56.338Z"
   },
   {
    "duration": 52,
    "start_time": "2021-10-21T13:55:56.386Z"
   },
   {
    "duration": 45,
    "start_time": "2021-10-21T13:55:56.441Z"
   },
   {
    "duration": 34,
    "start_time": "2021-10-21T13:55:56.489Z"
   },
   {
    "duration": 59,
    "start_time": "2021-10-21T13:55:56.525Z"
   },
   {
    "duration": 889,
    "start_time": "2021-10-21T13:57:50.468Z"
   },
   {
    "duration": 31,
    "start_time": "2021-10-21T13:57:51.360Z"
   },
   {
    "duration": 21,
    "start_time": "2021-10-21T13:57:51.394Z"
   },
   {
    "duration": 25,
    "start_time": "2021-10-21T13:57:51.418Z"
   },
   {
    "duration": 64,
    "start_time": "2021-10-21T13:57:51.445Z"
   },
   {
    "duration": 132,
    "start_time": "2021-10-21T13:57:51.512Z"
   },
   {
    "duration": 44,
    "start_time": "2021-10-21T13:57:51.647Z"
   },
   {
    "duration": 17,
    "start_time": "2021-10-21T13:57:51.696Z"
   },
   {
    "duration": 20,
    "start_time": "2021-10-21T13:57:51.718Z"
   },
   {
    "duration": 21,
    "start_time": "2021-10-21T13:57:51.741Z"
   },
   {
    "duration": 23,
    "start_time": "2021-10-21T13:57:51.764Z"
   },
   {
    "duration": 40,
    "start_time": "2021-10-21T13:57:51.789Z"
   },
   {
    "duration": 12,
    "start_time": "2021-10-21T13:57:51.832Z"
   },
   {
    "duration": 37,
    "start_time": "2021-10-21T13:57:51.847Z"
   },
   {
    "duration": 1087,
    "start_time": "2021-10-21T13:57:51.887Z"
   },
   {
    "duration": 19,
    "start_time": "2021-10-21T13:57:52.977Z"
   },
   {
    "duration": 27,
    "start_time": "2021-10-21T13:57:52.998Z"
   },
   {
    "duration": 12,
    "start_time": "2021-10-21T13:57:53.027Z"
   },
   {
    "duration": 65,
    "start_time": "2021-10-21T13:57:53.042Z"
   },
   {
    "duration": 17,
    "start_time": "2021-10-21T13:57:53.110Z"
   },
   {
    "duration": 38,
    "start_time": "2021-10-21T13:57:53.130Z"
   },
   {
    "duration": 17,
    "start_time": "2021-10-21T13:57:53.183Z"
   },
   {
    "duration": 19,
    "start_time": "2021-10-21T13:57:53.205Z"
   },
   {
    "duration": 41,
    "start_time": "2021-10-21T13:57:53.227Z"
   },
   {
    "duration": 31,
    "start_time": "2021-10-21T13:57:53.270Z"
   },
   {
    "duration": 37,
    "start_time": "2021-10-21T13:57:53.304Z"
   },
   {
    "duration": 22,
    "start_time": "2021-10-21T13:57:53.343Z"
   },
   {
    "duration": 46,
    "start_time": "2021-10-21T13:57:53.368Z"
   },
   {
    "duration": 28,
    "start_time": "2021-10-21T13:57:53.416Z"
   },
   {
    "duration": 48,
    "start_time": "2021-10-21T13:57:53.446Z"
   },
   {
    "duration": 10,
    "start_time": "2021-10-21T13:57:53.496Z"
   },
   {
    "duration": 3777,
    "start_time": "2021-10-21T13:57:53.508Z"
   },
   {
    "duration": 3832,
    "start_time": "2021-10-21T13:57:57.288Z"
   },
   {
    "duration": 10,
    "start_time": "2021-10-21T13:58:01.122Z"
   },
   {
    "duration": 30,
    "start_time": "2021-10-21T13:58:01.134Z"
   },
   {
    "duration": 26,
    "start_time": "2021-10-21T13:58:01.166Z"
   },
   {
    "duration": 11,
    "start_time": "2021-10-21T13:58:01.194Z"
   },
   {
    "duration": 1090,
    "start_time": "2021-10-21T13:58:01.208Z"
   },
   {
    "duration": 10,
    "start_time": "2021-10-21T13:58:02.301Z"
   },
   {
    "duration": 12,
    "start_time": "2021-10-21T13:58:02.314Z"
   },
   {
    "duration": 19,
    "start_time": "2021-10-21T13:58:02.329Z"
   },
   {
    "duration": 220,
    "start_time": "2021-10-21T13:58:02.350Z"
   },
   {
    "duration": 34,
    "start_time": "2021-10-21T13:58:02.572Z"
   },
   {
    "duration": 32,
    "start_time": "2021-10-21T13:58:02.608Z"
   },
   {
    "duration": 58,
    "start_time": "2021-10-21T13:58:02.642Z"
   }
  ],
  "kernelspec": {
   "display_name": "Python 3 (ipykernel)",
   "language": "python",
   "name": "python3"
  },
  "language_info": {
   "codemirror_mode": {
    "name": "ipython",
    "version": 3
   },
   "file_extension": ".py",
   "mimetype": "text/x-python",
   "name": "python",
   "nbconvert_exporter": "python",
   "pygments_lexer": "ipython3",
   "version": "3.9.13"
  },
  "toc": {
   "base_numbering": 1,
   "nav_menu": {},
   "number_sections": true,
   "sideBar": true,
   "skip_h1_title": true,
   "title_cell": "Table of Contents",
   "title_sidebar": "Contents",
   "toc_cell": false,
   "toc_position": {
    "height": "calc(100% - 180px)",
    "left": "10px",
    "top": "150px",
    "width": "408.8px"
   },
   "toc_section_display": true,
   "toc_window_display": true
  }
 },
 "nbformat": 4,
 "nbformat_minor": 2
}
