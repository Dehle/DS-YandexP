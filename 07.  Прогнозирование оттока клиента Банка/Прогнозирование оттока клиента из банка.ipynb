{
 "cells": [
  {
   "cell_type": "markdown",
   "id": "4c25f378",
   "metadata": {},
   "source": [
    "   #                       Прогноз оттока клиентов из банка \n",
    "**Заказчик** - банк  «Бета-Банк».\n",
    "\n",
    "**Цель** -  необходимо спрогнозировать, уйдёт клиент из банка в ближайшее время или нет. Построить модель с предельно большим значением F1-меры (довести метрику до 0.59).\n",
    "\n",
    "**Входные данные от Заказчика**: \n",
    "- В нашем распоряжении предоставлены исторические данные о поведении клиентов и расторжении договоров с банком: \n",
    "  - `/datasets/Churn.csv`"
   ]
  },
  {
   "cell_type": "markdown",
   "id": "de304c63",
   "metadata": {},
   "source": [
    "### Описание данных\n",
    "\n",
    "Из «Бета-Банка» стали уходить клиенты. Каждый месяц. Немного, но заметно. Банковские маркетологи посчитали: сохранять текущих клиентов дешевле, чем привлекать новых.\n",
    " Известно:\n",
    " \n",
    "**Признак**\n",
    "\n",
    "- `RowNumber` — индекс строки в данных\n",
    "- `CustomerId` — уникальный идентификатор клиента\n",
    "- `Surname` — фамилия\n",
    "- `CreditScore` — кредитный рейтинг\n",
    "- `Geography` — страна проживания\n",
    "- `Gender` — пол\n",
    "- `Age` — возраст\n",
    "- `Tenure` — сколько лет человек является клиентом банка\n",
    "- `Balance` — баланс на счёте\n",
    "- `NumOfProducts` — количество продуктов банка, используемых клиентом\n",
    "- `HasCrCard` — наличие кредитной карты\n",
    "- `IsActiveMember` — активность клиента\n",
    "- `EstimatedSalary` — предполагаемая зарплата\n",
    "\n",
    "**Целевой признак**\n",
    "\n",
    "- `Exited` — факт ухода клиента"
   ]
  },
  {
   "cell_type": "markdown",
   "id": "4dfaaa2a",
   "metadata": {},
   "source": [
    "### План исследования:\n",
    "\n",
    "- Изучение файла с данными\n",
    "- Предобработка данных\n",
    "- Исследовательский анализ \n",
    "    - исследование баланса классов, обучение модели без учёта дисбаланса.\n",
    "- Улучшение качества модели, учитывая дисбаланс классов. Обучение разных моделей в поисках лучшей.    \n",
    "- Финальное тестирование\n",
    "- Общий вывод\n"
   ]
  },
  {
   "cell_type": "markdown",
   "id": "ebc0d9c7",
   "metadata": {},
   "source": [
    "### Изучение файлов с данными.\n",
    "\n",
    "Начнем изучение наших данных с импортирования необходимых для выполнения исследования библиотек и распаковки файла."
   ]
  },
  {
   "cell_type": "code",
   "execution_count": 1,
   "id": "2dfd7fe5",
   "metadata": {},
   "outputs": [],
   "source": [
    "import pandas as pd\n",
    "import numpy as np\n",
    "import seaborn as sns\n",
    "import matplotlib.pyplot as plt\n",
    "from scipy import stats as st\n",
    "import plotly.express as px\n",
    "from pylab import rcParams\n",
    "from sklearn.tree import DecisionTreeClassifier\n",
    "from sklearn.tree import DecisionTreeRegressor\n",
    "from sklearn import tree\n",
    "from sklearn.preprocessing import StandardScaler\n",
    "from sklearn.ensemble import RandomForestRegressor\n",
    "from sklearn.ensemble import RandomForestClassifier\n",
    "from sklearn.linear_model import LinearRegression\n",
    "from sklearn.linear_model import LogisticRegression\n",
    "from sklearn.model_selection import train_test_split\n",
    "from sklearn.metrics import mean_squared_error\n",
    "from sklearn.metrics import accuracy_score, precision_score, recall_score, f1_score, roc_auc_score, confusion_matrix, precision_recall_curve\n",
    "from sklearn.utils import shuffle\n",
    "from sklearn.metrics import roc_curve \n",
    "from sklearn.metrics import classification_report\n",
    "from sklearn.dummy import DummyClassifier\n"
   ]
  },
  {
   "cell_type": "code",
   "execution_count": 2,
   "id": "dce0acc9",
   "metadata": {
    "scrolled": true
   },
   "outputs": [
    {
     "data": {
      "text/html": [
       "<div>\n",
       "<style scoped>\n",
       "    .dataframe tbody tr th:only-of-type {\n",
       "        vertical-align: middle;\n",
       "    }\n",
       "\n",
       "    .dataframe tbody tr th {\n",
       "        vertical-align: top;\n",
       "    }\n",
       "\n",
       "    .dataframe thead th {\n",
       "        text-align: right;\n",
       "    }\n",
       "</style>\n",
       "<table border=\"1\" class=\"dataframe\">\n",
       "  <thead>\n",
       "    <tr style=\"text-align: right;\">\n",
       "      <th></th>\n",
       "      <th>RowNumber</th>\n",
       "      <th>CustomerId</th>\n",
       "      <th>Surname</th>\n",
       "      <th>CreditScore</th>\n",
       "      <th>Geography</th>\n",
       "      <th>Gender</th>\n",
       "      <th>Age</th>\n",
       "      <th>Tenure</th>\n",
       "      <th>Balance</th>\n",
       "      <th>NumOfProducts</th>\n",
       "      <th>HasCrCard</th>\n",
       "      <th>IsActiveMember</th>\n",
       "      <th>EstimatedSalary</th>\n",
       "      <th>Exited</th>\n",
       "    </tr>\n",
       "  </thead>\n",
       "  <tbody>\n",
       "    <tr>\n",
       "      <th>0</th>\n",
       "      <td>1</td>\n",
       "      <td>15634602</td>\n",
       "      <td>Hargrave</td>\n",
       "      <td>619</td>\n",
       "      <td>France</td>\n",
       "      <td>Female</td>\n",
       "      <td>42</td>\n",
       "      <td>2.0</td>\n",
       "      <td>0.00</td>\n",
       "      <td>1</td>\n",
       "      <td>1</td>\n",
       "      <td>1</td>\n",
       "      <td>101348.88</td>\n",
       "      <td>1</td>\n",
       "    </tr>\n",
       "    <tr>\n",
       "      <th>1</th>\n",
       "      <td>2</td>\n",
       "      <td>15647311</td>\n",
       "      <td>Hill</td>\n",
       "      <td>608</td>\n",
       "      <td>Spain</td>\n",
       "      <td>Female</td>\n",
       "      <td>41</td>\n",
       "      <td>1.0</td>\n",
       "      <td>83807.86</td>\n",
       "      <td>1</td>\n",
       "      <td>0</td>\n",
       "      <td>1</td>\n",
       "      <td>112542.58</td>\n",
       "      <td>0</td>\n",
       "    </tr>\n",
       "    <tr>\n",
       "      <th>2</th>\n",
       "      <td>3</td>\n",
       "      <td>15619304</td>\n",
       "      <td>Onio</td>\n",
       "      <td>502</td>\n",
       "      <td>France</td>\n",
       "      <td>Female</td>\n",
       "      <td>42</td>\n",
       "      <td>8.0</td>\n",
       "      <td>159660.80</td>\n",
       "      <td>3</td>\n",
       "      <td>1</td>\n",
       "      <td>0</td>\n",
       "      <td>113931.57</td>\n",
       "      <td>1</td>\n",
       "    </tr>\n",
       "    <tr>\n",
       "      <th>3</th>\n",
       "      <td>4</td>\n",
       "      <td>15701354</td>\n",
       "      <td>Boni</td>\n",
       "      <td>699</td>\n",
       "      <td>France</td>\n",
       "      <td>Female</td>\n",
       "      <td>39</td>\n",
       "      <td>1.0</td>\n",
       "      <td>0.00</td>\n",
       "      <td>2</td>\n",
       "      <td>0</td>\n",
       "      <td>0</td>\n",
       "      <td>93826.63</td>\n",
       "      <td>0</td>\n",
       "    </tr>\n",
       "    <tr>\n",
       "      <th>4</th>\n",
       "      <td>5</td>\n",
       "      <td>15737888</td>\n",
       "      <td>Mitchell</td>\n",
       "      <td>850</td>\n",
       "      <td>Spain</td>\n",
       "      <td>Female</td>\n",
       "      <td>43</td>\n",
       "      <td>2.0</td>\n",
       "      <td>125510.82</td>\n",
       "      <td>1</td>\n",
       "      <td>1</td>\n",
       "      <td>1</td>\n",
       "      <td>79084.10</td>\n",
       "      <td>0</td>\n",
       "    </tr>\n",
       "    <tr>\n",
       "      <th>...</th>\n",
       "      <td>...</td>\n",
       "      <td>...</td>\n",
       "      <td>...</td>\n",
       "      <td>...</td>\n",
       "      <td>...</td>\n",
       "      <td>...</td>\n",
       "      <td>...</td>\n",
       "      <td>...</td>\n",
       "      <td>...</td>\n",
       "      <td>...</td>\n",
       "      <td>...</td>\n",
       "      <td>...</td>\n",
       "      <td>...</td>\n",
       "      <td>...</td>\n",
       "    </tr>\n",
       "    <tr>\n",
       "      <th>9995</th>\n",
       "      <td>9996</td>\n",
       "      <td>15606229</td>\n",
       "      <td>Obijiaku</td>\n",
       "      <td>771</td>\n",
       "      <td>France</td>\n",
       "      <td>Male</td>\n",
       "      <td>39</td>\n",
       "      <td>5.0</td>\n",
       "      <td>0.00</td>\n",
       "      <td>2</td>\n",
       "      <td>1</td>\n",
       "      <td>0</td>\n",
       "      <td>96270.64</td>\n",
       "      <td>0</td>\n",
       "    </tr>\n",
       "    <tr>\n",
       "      <th>9996</th>\n",
       "      <td>9997</td>\n",
       "      <td>15569892</td>\n",
       "      <td>Johnstone</td>\n",
       "      <td>516</td>\n",
       "      <td>France</td>\n",
       "      <td>Male</td>\n",
       "      <td>35</td>\n",
       "      <td>10.0</td>\n",
       "      <td>57369.61</td>\n",
       "      <td>1</td>\n",
       "      <td>1</td>\n",
       "      <td>1</td>\n",
       "      <td>101699.77</td>\n",
       "      <td>0</td>\n",
       "    </tr>\n",
       "    <tr>\n",
       "      <th>9997</th>\n",
       "      <td>9998</td>\n",
       "      <td>15584532</td>\n",
       "      <td>Liu</td>\n",
       "      <td>709</td>\n",
       "      <td>France</td>\n",
       "      <td>Female</td>\n",
       "      <td>36</td>\n",
       "      <td>7.0</td>\n",
       "      <td>0.00</td>\n",
       "      <td>1</td>\n",
       "      <td>0</td>\n",
       "      <td>1</td>\n",
       "      <td>42085.58</td>\n",
       "      <td>1</td>\n",
       "    </tr>\n",
       "    <tr>\n",
       "      <th>9998</th>\n",
       "      <td>9999</td>\n",
       "      <td>15682355</td>\n",
       "      <td>Sabbatini</td>\n",
       "      <td>772</td>\n",
       "      <td>Germany</td>\n",
       "      <td>Male</td>\n",
       "      <td>42</td>\n",
       "      <td>3.0</td>\n",
       "      <td>75075.31</td>\n",
       "      <td>2</td>\n",
       "      <td>1</td>\n",
       "      <td>0</td>\n",
       "      <td>92888.52</td>\n",
       "      <td>1</td>\n",
       "    </tr>\n",
       "    <tr>\n",
       "      <th>9999</th>\n",
       "      <td>10000</td>\n",
       "      <td>15628319</td>\n",
       "      <td>Walker</td>\n",
       "      <td>792</td>\n",
       "      <td>France</td>\n",
       "      <td>Female</td>\n",
       "      <td>28</td>\n",
       "      <td>NaN</td>\n",
       "      <td>130142.79</td>\n",
       "      <td>1</td>\n",
       "      <td>1</td>\n",
       "      <td>0</td>\n",
       "      <td>38190.78</td>\n",
       "      <td>0</td>\n",
       "    </tr>\n",
       "  </tbody>\n",
       "</table>\n",
       "<p>10000 rows × 14 columns</p>\n",
       "</div>"
      ],
      "text/plain": [
       "      RowNumber  CustomerId    Surname  CreditScore Geography  Gender  Age  \\\n",
       "0             1    15634602   Hargrave          619    France  Female   42   \n",
       "1             2    15647311       Hill          608     Spain  Female   41   \n",
       "2             3    15619304       Onio          502    France  Female   42   \n",
       "3             4    15701354       Boni          699    France  Female   39   \n",
       "4             5    15737888   Mitchell          850     Spain  Female   43   \n",
       "...         ...         ...        ...          ...       ...     ...  ...   \n",
       "9995       9996    15606229   Obijiaku          771    France    Male   39   \n",
       "9996       9997    15569892  Johnstone          516    France    Male   35   \n",
       "9997       9998    15584532        Liu          709    France  Female   36   \n",
       "9998       9999    15682355  Sabbatini          772   Germany    Male   42   \n",
       "9999      10000    15628319     Walker          792    France  Female   28   \n",
       "\n",
       "      Tenure    Balance  NumOfProducts  HasCrCard  IsActiveMember  \\\n",
       "0        2.0       0.00              1          1               1   \n",
       "1        1.0   83807.86              1          0               1   \n",
       "2        8.0  159660.80              3          1               0   \n",
       "3        1.0       0.00              2          0               0   \n",
       "4        2.0  125510.82              1          1               1   \n",
       "...      ...        ...            ...        ...             ...   \n",
       "9995     5.0       0.00              2          1               0   \n",
       "9996    10.0   57369.61              1          1               1   \n",
       "9997     7.0       0.00              1          0               1   \n",
       "9998     3.0   75075.31              2          1               0   \n",
       "9999     NaN  130142.79              1          1               0   \n",
       "\n",
       "      EstimatedSalary  Exited  \n",
       "0           101348.88       1  \n",
       "1           112542.58       0  \n",
       "2           113931.57       1  \n",
       "3            93826.63       0  \n",
       "4            79084.10       0  \n",
       "...               ...     ...  \n",
       "9995         96270.64       0  \n",
       "9996        101699.77       0  \n",
       "9997         42085.58       1  \n",
       "9998         92888.52       1  \n",
       "9999         38190.78       0  \n",
       "\n",
       "[10000 rows x 14 columns]"
      ]
     },
     "execution_count": 2,
     "metadata": {},
     "output_type": "execute_result"
    }
   ],
   "source": [
    "#распакуем файл\n",
    "df_churn = pd.read_csv('C:/Users/Виталий/Desktop/практикум/7 проект/Churn.csv')\n",
    "df_churn\n"
   ]
  },
  {
   "cell_type": "markdown",
   "id": "46595f1e",
   "metadata": {},
   "source": [
    "Посмотрим на краткую сводку данных"
   ]
  },
  {
   "cell_type": "code",
   "execution_count": 3,
   "id": "a41feaff",
   "metadata": {},
   "outputs": [
    {
     "name": "stdout",
     "output_type": "stream",
     "text": [
      "<class 'pandas.core.frame.DataFrame'>\n",
      "RangeIndex: 10000 entries, 0 to 9999\n",
      "Data columns (total 14 columns):\n",
      " #   Column           Non-Null Count  Dtype  \n",
      "---  ------           --------------  -----  \n",
      " 0   RowNumber        10000 non-null  int64  \n",
      " 1   CustomerId       10000 non-null  int64  \n",
      " 2   Surname          10000 non-null  object \n",
      " 3   CreditScore      10000 non-null  int64  \n",
      " 4   Geography        10000 non-null  object \n",
      " 5   Gender           10000 non-null  object \n",
      " 6   Age              10000 non-null  int64  \n",
      " 7   Tenure           9091 non-null   float64\n",
      " 8   Balance          10000 non-null  float64\n",
      " 9   NumOfProducts    10000 non-null  int64  \n",
      " 10  HasCrCard        10000 non-null  int64  \n",
      " 11  IsActiveMember   10000 non-null  int64  \n",
      " 12  EstimatedSalary  10000 non-null  float64\n",
      " 13  Exited           10000 non-null  int64  \n",
      "dtypes: float64(3), int64(8), object(3)\n",
      "memory usage: 1.1+ MB\n"
     ]
    }
   ],
   "source": [
    "df_churn.info()"
   ]
  },
  {
   "cell_type": "markdown",
   "id": "ce59195a",
   "metadata": {},
   "source": [
    "Визуализируем пропущенные значения с помощью тепловой карты в таблице и в процентном соотношении\n"
   ]
  },
  {
   "cell_type": "code",
   "execution_count": 4,
   "id": "96bc4a32",
   "metadata": {},
   "outputs": [
    {
     "data": {
      "image/png": "[encoded data removed]",
      "text/plain": [
       "<Figure size 432x288 with 2 Axes>"
      ]
     },
     "metadata": {
      "needs_background": "light"
     },
     "output_type": "display_data"
    },
    {
     "data": {
      "text/plain": [
       "RowNumber          0.00\n",
       "CustomerId         0.00\n",
       "Surname            0.00\n",
       "CreditScore        0.00\n",
       "Geography          0.00\n",
       "Gender             0.00\n",
       "Age                0.00\n",
       "Balance            0.00\n",
       "NumOfProducts      0.00\n",
       "HasCrCard          0.00\n",
       "IsActiveMember     0.00\n",
       "EstimatedSalary    0.00\n",
       "Exited             0.00\n",
       "Tenure             9.09\n",
       "dtype: float64"
      ]
     },
     "execution_count": 4,
     "metadata": {},
     "output_type": "execute_result"
    }
   ],
   "source": [
    "cols = df_churn.columns[:14]\n",
    "# определяем цвета\n",
    "# желтый - пропущенные данные, синий - не пропущенные\n",
    "colours = ['#000099', '#ffff00']\n",
    "sns.heatmap(df_churn[cols].isnull(), cmap=sns.color_palette(colours))\n",
    "plt.show()\n",
    "df_churn.isnull().sum().sort_values()/df_churn.shape[0]*100"
   ]
  },
  {
   "cell_type": "markdown",
   "id": "b89b4b59",
   "metadata": {},
   "source": [
    "**Вывод**\n",
    "\n",
    "    Датасет содержит 14 столбцов. Для дальнейшего исследования такие столбцы, как `RowNumber`, `CustomerId`, `Surname`, не потребуются, поэтому удалим их. Остальные столбцы приведем к общему регистру в наименовании.\n",
    "    Так же необходимо избавиться от пропущенных значений."
   ]
  },
  {
   "cell_type": "markdown",
   "id": "23c52bed",
   "metadata": {},
   "source": [
    "### Предобработка данных"
   ]
  },
  {
   "cell_type": "markdown",
   "id": "35455612",
   "metadata": {},
   "source": [
    "Посмотрим на наименования столбцов"
   ]
  },
  {
   "cell_type": "code",
   "execution_count": 5,
   "id": "fe62d5d4",
   "metadata": {},
   "outputs": [
    {
     "data": {
      "text/plain": [
       "Index(['RowNumber', 'CustomerId', 'Surname', 'CreditScore', 'Geography',\n",
       "       'Gender', 'Age', 'Tenure', 'Balance', 'NumOfProducts', 'HasCrCard',\n",
       "       'IsActiveMember', 'EstimatedSalary', 'Exited'],\n",
       "      dtype='object')"
      ]
     },
     "execution_count": 5,
     "metadata": {},
     "output_type": "execute_result"
    }
   ],
   "source": [
    "df_churn.columns"
   ]
  },
  {
   "cell_type": "markdown",
   "id": "de8a6459",
   "metadata": {},
   "source": [
    "Удалим столбцы, которые для анализа не так важны"
   ]
  },
  {
   "cell_type": "code",
   "execution_count": 6,
   "id": "fc272279",
   "metadata": {},
   "outputs": [
    {
     "data": {
      "text/plain": [
       "Index(['CreditScore', 'Geography', 'Gender', 'Age', 'Tenure', 'Balance',\n",
       "       'NumOfProducts', 'HasCrCard', 'IsActiveMember', 'EstimatedSalary',\n",
       "       'Exited'],\n",
       "      dtype='object')"
      ]
     },
     "execution_count": 6,
     "metadata": {},
     "output_type": "execute_result"
    }
   ],
   "source": [
    "df_churn.drop(['RowNumber', 'CustomerId', 'Surname'], axis=1, inplace=True)\n",
    "df_churn.columns"
   ]
  },
  {
   "cell_type": "markdown",
   "id": "e8e7a85d",
   "metadata": {},
   "source": [
    "Приведем к одному регистру наименования стобцов и переименуем"
   ]
  },
  {
   "cell_type": "code",
   "execution_count": 7,
   "id": "2e6e9440",
   "metadata": {},
   "outputs": [
    {
     "data": {
      "text/plain": [
       "Index(['creditscore', 'geography', 'gender', 'age', 'tenure', 'balance',\n",
       "       'numofproducts', 'hascrcard', 'isactivemember', 'estimatedsalary',\n",
       "       'exited'],\n",
       "      dtype='object')"
      ]
     },
     "execution_count": 7,
     "metadata": {},
     "output_type": "execute_result"
    }
   ],
   "source": [
    "df_churn.columns = map(str.lower, df_churn.columns)\n",
    "df_churn.columns"
   ]
  },
  {
   "cell_type": "code",
   "execution_count": 8,
   "id": "c8e4a6ef",
   "metadata": {},
   "outputs": [],
   "source": [
    "df = df_churn.rename(columns={'creditscore': 'credit_score',\n",
    "                              'numofproducts': 'num_of_products',\n",
    "                              'hascrcard': 'has_cr_card', 'isactivemember': 'is_active_member',\n",
    "                              'estimatedsalary': 'estimated_salary'})  # переименование столбцов"
   ]
  },
  {
   "cell_type": "markdown",
   "id": "4318252e",
   "metadata": {},
   "source": [
    "Проверим"
   ]
  },
  {
   "cell_type": "code",
   "execution_count": 9,
   "id": "1a503a22",
   "metadata": {},
   "outputs": [
    {
     "data": {
      "text/plain": [
       "Index(['credit_score', 'geography', 'gender', 'age', 'tenure', 'balance',\n",
       "       'num_of_products', 'has_cr_card', 'is_active_member',\n",
       "       'estimated_salary', 'exited'],\n",
       "      dtype='object')"
      ]
     },
     "execution_count": 9,
     "metadata": {},
     "output_type": "execute_result"
    }
   ],
   "source": [
    "df.columns"
   ]
  },
  {
   "cell_type": "markdown",
   "id": "10cf2472",
   "metadata": {},
   "source": [
    "Посмотрим, какие данные содержат пропуски в столбце `tenure`"
   ]
  },
  {
   "cell_type": "code",
   "execution_count": 10,
   "id": "5c1ba9e3",
   "metadata": {},
   "outputs": [
    {
     "data": {
      "text/html": [
       "<div>\n",
       "<style scoped>\n",
       "    .dataframe tbody tr th:only-of-type {\n",
       "        vertical-align: middle;\n",
       "    }\n",
       "\n",
       "    .dataframe tbody tr th {\n",
       "        vertical-align: top;\n",
       "    }\n",
       "\n",
       "    .dataframe thead th {\n",
       "        text-align: right;\n",
       "    }\n",
       "</style>\n",
       "<table border=\"1\" class=\"dataframe\">\n",
       "  <thead>\n",
       "    <tr style=\"text-align: right;\">\n",
       "      <th></th>\n",
       "      <th>credit_score</th>\n",
       "      <th>geography</th>\n",
       "      <th>gender</th>\n",
       "      <th>age</th>\n",
       "      <th>tenure</th>\n",
       "      <th>balance</th>\n",
       "      <th>num_of_products</th>\n",
       "      <th>has_cr_card</th>\n",
       "      <th>is_active_member</th>\n",
       "      <th>estimated_salary</th>\n",
       "      <th>exited</th>\n",
       "    </tr>\n",
       "  </thead>\n",
       "  <tbody>\n",
       "    <tr>\n",
       "      <th>30</th>\n",
       "      <td>591</td>\n",
       "      <td>Spain</td>\n",
       "      <td>Female</td>\n",
       "      <td>39</td>\n",
       "      <td>NaN</td>\n",
       "      <td>0.00</td>\n",
       "      <td>3</td>\n",
       "      <td>1</td>\n",
       "      <td>0</td>\n",
       "      <td>140469.38</td>\n",
       "      <td>1</td>\n",
       "    </tr>\n",
       "    <tr>\n",
       "      <th>48</th>\n",
       "      <td>550</td>\n",
       "      <td>Germany</td>\n",
       "      <td>Male</td>\n",
       "      <td>38</td>\n",
       "      <td>NaN</td>\n",
       "      <td>103391.38</td>\n",
       "      <td>1</td>\n",
       "      <td>0</td>\n",
       "      <td>1</td>\n",
       "      <td>90878.13</td>\n",
       "      <td>0</td>\n",
       "    </tr>\n",
       "    <tr>\n",
       "      <th>51</th>\n",
       "      <td>585</td>\n",
       "      <td>Germany</td>\n",
       "      <td>Male</td>\n",
       "      <td>36</td>\n",
       "      <td>NaN</td>\n",
       "      <td>146050.97</td>\n",
       "      <td>2</td>\n",
       "      <td>0</td>\n",
       "      <td>0</td>\n",
       "      <td>86424.57</td>\n",
       "      <td>0</td>\n",
       "    </tr>\n",
       "    <tr>\n",
       "      <th>53</th>\n",
       "      <td>655</td>\n",
       "      <td>Germany</td>\n",
       "      <td>Male</td>\n",
       "      <td>41</td>\n",
       "      <td>NaN</td>\n",
       "      <td>125561.97</td>\n",
       "      <td>1</td>\n",
       "      <td>0</td>\n",
       "      <td>0</td>\n",
       "      <td>164040.94</td>\n",
       "      <td>1</td>\n",
       "    </tr>\n",
       "    <tr>\n",
       "      <th>60</th>\n",
       "      <td>742</td>\n",
       "      <td>Germany</td>\n",
       "      <td>Male</td>\n",
       "      <td>35</td>\n",
       "      <td>NaN</td>\n",
       "      <td>136857.00</td>\n",
       "      <td>1</td>\n",
       "      <td>0</td>\n",
       "      <td>0</td>\n",
       "      <td>84509.57</td>\n",
       "      <td>0</td>\n",
       "    </tr>\n",
       "    <tr>\n",
       "      <th>...</th>\n",
       "      <td>...</td>\n",
       "      <td>...</td>\n",
       "      <td>...</td>\n",
       "      <td>...</td>\n",
       "      <td>...</td>\n",
       "      <td>...</td>\n",
       "      <td>...</td>\n",
       "      <td>...</td>\n",
       "      <td>...</td>\n",
       "      <td>...</td>\n",
       "      <td>...</td>\n",
       "    </tr>\n",
       "    <tr>\n",
       "      <th>9944</th>\n",
       "      <td>744</td>\n",
       "      <td>Germany</td>\n",
       "      <td>Male</td>\n",
       "      <td>41</td>\n",
       "      <td>NaN</td>\n",
       "      <td>190409.34</td>\n",
       "      <td>2</td>\n",
       "      <td>1</td>\n",
       "      <td>1</td>\n",
       "      <td>138361.48</td>\n",
       "      <td>0</td>\n",
       "    </tr>\n",
       "    <tr>\n",
       "      <th>9956</th>\n",
       "      <td>520</td>\n",
       "      <td>France</td>\n",
       "      <td>Female</td>\n",
       "      <td>46</td>\n",
       "      <td>NaN</td>\n",
       "      <td>85216.61</td>\n",
       "      <td>1</td>\n",
       "      <td>1</td>\n",
       "      <td>0</td>\n",
       "      <td>117369.52</td>\n",
       "      <td>1</td>\n",
       "    </tr>\n",
       "    <tr>\n",
       "      <th>9964</th>\n",
       "      <td>479</td>\n",
       "      <td>France</td>\n",
       "      <td>Male</td>\n",
       "      <td>34</td>\n",
       "      <td>NaN</td>\n",
       "      <td>117593.48</td>\n",
       "      <td>2</td>\n",
       "      <td>0</td>\n",
       "      <td>0</td>\n",
       "      <td>113308.29</td>\n",
       "      <td>0</td>\n",
       "    </tr>\n",
       "    <tr>\n",
       "      <th>9985</th>\n",
       "      <td>659</td>\n",
       "      <td>France</td>\n",
       "      <td>Male</td>\n",
       "      <td>36</td>\n",
       "      <td>NaN</td>\n",
       "      <td>123841.49</td>\n",
       "      <td>2</td>\n",
       "      <td>1</td>\n",
       "      <td>0</td>\n",
       "      <td>96833.00</td>\n",
       "      <td>0</td>\n",
       "    </tr>\n",
       "    <tr>\n",
       "      <th>9999</th>\n",
       "      <td>792</td>\n",
       "      <td>France</td>\n",
       "      <td>Female</td>\n",
       "      <td>28</td>\n",
       "      <td>NaN</td>\n",
       "      <td>130142.79</td>\n",
       "      <td>1</td>\n",
       "      <td>1</td>\n",
       "      <td>0</td>\n",
       "      <td>38190.78</td>\n",
       "      <td>0</td>\n",
       "    </tr>\n",
       "  </tbody>\n",
       "</table>\n",
       "<p>909 rows × 11 columns</p>\n",
       "</div>"
      ],
      "text/plain": [
       "      credit_score geography  gender  age  tenure    balance  num_of_products  \\\n",
       "30             591     Spain  Female   39     NaN       0.00                3   \n",
       "48             550   Germany    Male   38     NaN  103391.38                1   \n",
       "51             585   Germany    Male   36     NaN  146050.97                2   \n",
       "53             655   Germany    Male   41     NaN  125561.97                1   \n",
       "60             742   Germany    Male   35     NaN  136857.00                1   \n",
       "...            ...       ...     ...  ...     ...        ...              ...   \n",
       "9944           744   Germany    Male   41     NaN  190409.34                2   \n",
       "9956           520    France  Female   46     NaN   85216.61                1   \n",
       "9964           479    France    Male   34     NaN  117593.48                2   \n",
       "9985           659    France    Male   36     NaN  123841.49                2   \n",
       "9999           792    France  Female   28     NaN  130142.79                1   \n",
       "\n",
       "      has_cr_card  is_active_member  estimated_salary  exited  \n",
       "30              1                 0         140469.38       1  \n",
       "48              0                 1          90878.13       0  \n",
       "51              0                 0          86424.57       0  \n",
       "53              0                 0         164040.94       1  \n",
       "60              0                 0          84509.57       0  \n",
       "...           ...               ...               ...     ...  \n",
       "9944            1                 1         138361.48       0  \n",
       "9956            1                 0         117369.52       1  \n",
       "9964            0                 0         113308.29       0  \n",
       "9985            1                 0          96833.00       0  \n",
       "9999            1                 0          38190.78       0  \n",
       "\n",
       "[909 rows x 11 columns]"
      ]
     },
     "execution_count": 10,
     "metadata": {},
     "output_type": "execute_result"
    }
   ],
   "source": [
    "df[df['tenure'].isnull()]"
   ]
  },
  {
   "cell_type": "markdown",
   "id": "6a0221ba",
   "metadata": {},
   "source": [
    "Заменим пропущенные значения нулем, т.к. данные о том, сколько человек является клиентом банка, нам взять негде"
   ]
  },
  {
   "cell_type": "code",
   "execution_count": 11,
   "id": "55d23d65",
   "metadata": {},
   "outputs": [
    {
     "data": {
      "text/plain": [
       "credit_score        0.0\n",
       "geography           0.0\n",
       "gender              0.0\n",
       "age                 0.0\n",
       "tenure              0.0\n",
       "balance             0.0\n",
       "num_of_products     0.0\n",
       "has_cr_card         0.0\n",
       "is_active_member    0.0\n",
       "estimated_salary    0.0\n",
       "exited              0.0\n",
       "dtype: float64"
      ]
     },
     "execution_count": 11,
     "metadata": {},
     "output_type": "execute_result"
    }
   ],
   "source": [
    "df['tenure'] = df['tenure'].fillna(0)\n",
    "df.isnull().sum().sort_values()/df_churn.shape[0]*100"
   ]
  },
  {
   "cell_type": "markdown",
   "id": "04a7d6f9",
   "metadata": {},
   "source": [
    "Проверим на наличие дубликатов"
   ]
  },
  {
   "cell_type": "code",
   "execution_count": 12,
   "id": "91d36c0d",
   "metadata": {},
   "outputs": [
    {
     "data": {
      "text/plain": [
       "0"
      ]
     },
     "execution_count": 12,
     "metadata": {},
     "output_type": "execute_result"
    }
   ],
   "source": [
    "df.duplicated().sum()"
   ]
  },
  {
   "cell_type": "markdown",
   "id": "31f38a7e",
   "metadata": {},
   "source": [
    "**Вывод**\n",
    "\n",
    "    Заменили пропущенные значения нулем, привели наименования столбцов к общему регистру, проверили на наличие дубликатов.   Данные готовы к дальнейшему исследованию"
   ]
  },
  {
   "cell_type": "markdown",
   "id": "370ce61a",
   "metadata": {},
   "source": [
    "### Исследовательский анализ"
   ]
  },
  {
   "cell_type": "markdown",
   "id": "d4b83868",
   "metadata": {},
   "source": [
    "#### Подготовка признаков\n",
    "\n",
    "Посмотрим на описательную статистику данных"
   ]
  },
  {
   "cell_type": "code",
   "execution_count": 13,
   "id": "47443e1f",
   "metadata": {},
   "outputs": [
    {
     "data": {
      "text/html": [
       "<div>\n",
       "<style scoped>\n",
       "    .dataframe tbody tr th:only-of-type {\n",
       "        vertical-align: middle;\n",
       "    }\n",
       "\n",
       "    .dataframe tbody tr th {\n",
       "        vertical-align: top;\n",
       "    }\n",
       "\n",
       "    .dataframe thead th {\n",
       "        text-align: right;\n",
       "    }\n",
       "</style>\n",
       "<table border=\"1\" class=\"dataframe\">\n",
       "  <thead>\n",
       "    <tr style=\"text-align: right;\">\n",
       "      <th></th>\n",
       "      <th>credit_score</th>\n",
       "      <th>age</th>\n",
       "      <th>tenure</th>\n",
       "      <th>balance</th>\n",
       "      <th>num_of_products</th>\n",
       "      <th>has_cr_card</th>\n",
       "      <th>is_active_member</th>\n",
       "      <th>estimated_salary</th>\n",
       "      <th>exited</th>\n",
       "    </tr>\n",
       "  </thead>\n",
       "  <tbody>\n",
       "    <tr>\n",
       "      <th>count</th>\n",
       "      <td>10000.000000</td>\n",
       "      <td>10000.000000</td>\n",
       "      <td>10000.000000</td>\n",
       "      <td>10000.000000</td>\n",
       "      <td>10000.000000</td>\n",
       "      <td>10000.00000</td>\n",
       "      <td>10000.000000</td>\n",
       "      <td>10000.000000</td>\n",
       "      <td>10000.000000</td>\n",
       "    </tr>\n",
       "    <tr>\n",
       "      <th>mean</th>\n",
       "      <td>650.528800</td>\n",
       "      <td>38.921800</td>\n",
       "      <td>4.543400</td>\n",
       "      <td>76485.889288</td>\n",
       "      <td>1.530200</td>\n",
       "      <td>0.70550</td>\n",
       "      <td>0.515100</td>\n",
       "      <td>100090.239881</td>\n",
       "      <td>0.203700</td>\n",
       "    </tr>\n",
       "    <tr>\n",
       "      <th>std</th>\n",
       "      <td>96.653299</td>\n",
       "      <td>10.487806</td>\n",
       "      <td>3.111573</td>\n",
       "      <td>62397.405202</td>\n",
       "      <td>0.581654</td>\n",
       "      <td>0.45584</td>\n",
       "      <td>0.499797</td>\n",
       "      <td>57510.492818</td>\n",
       "      <td>0.402769</td>\n",
       "    </tr>\n",
       "    <tr>\n",
       "      <th>min</th>\n",
       "      <td>350.000000</td>\n",
       "      <td>18.000000</td>\n",
       "      <td>0.000000</td>\n",
       "      <td>0.000000</td>\n",
       "      <td>1.000000</td>\n",
       "      <td>0.00000</td>\n",
       "      <td>0.000000</td>\n",
       "      <td>11.580000</td>\n",
       "      <td>0.000000</td>\n",
       "    </tr>\n",
       "    <tr>\n",
       "      <th>25%</th>\n",
       "      <td>584.000000</td>\n",
       "      <td>32.000000</td>\n",
       "      <td>2.000000</td>\n",
       "      <td>0.000000</td>\n",
       "      <td>1.000000</td>\n",
       "      <td>0.00000</td>\n",
       "      <td>0.000000</td>\n",
       "      <td>51002.110000</td>\n",
       "      <td>0.000000</td>\n",
       "    </tr>\n",
       "    <tr>\n",
       "      <th>50%</th>\n",
       "      <td>652.000000</td>\n",
       "      <td>37.000000</td>\n",
       "      <td>4.000000</td>\n",
       "      <td>97198.540000</td>\n",
       "      <td>1.000000</td>\n",
       "      <td>1.00000</td>\n",
       "      <td>1.000000</td>\n",
       "      <td>100193.915000</td>\n",
       "      <td>0.000000</td>\n",
       "    </tr>\n",
       "    <tr>\n",
       "      <th>75%</th>\n",
       "      <td>718.000000</td>\n",
       "      <td>44.000000</td>\n",
       "      <td>7.000000</td>\n",
       "      <td>127644.240000</td>\n",
       "      <td>2.000000</td>\n",
       "      <td>1.00000</td>\n",
       "      <td>1.000000</td>\n",
       "      <td>149388.247500</td>\n",
       "      <td>0.000000</td>\n",
       "    </tr>\n",
       "    <tr>\n",
       "      <th>max</th>\n",
       "      <td>850.000000</td>\n",
       "      <td>92.000000</td>\n",
       "      <td>10.000000</td>\n",
       "      <td>250898.090000</td>\n",
       "      <td>4.000000</td>\n",
       "      <td>1.00000</td>\n",
       "      <td>1.000000</td>\n",
       "      <td>199992.480000</td>\n",
       "      <td>1.000000</td>\n",
       "    </tr>\n",
       "  </tbody>\n",
       "</table>\n",
       "</div>"
      ],
      "text/plain": [
       "       credit_score           age        tenure        balance  \\\n",
       "count  10000.000000  10000.000000  10000.000000   10000.000000   \n",
       "mean     650.528800     38.921800      4.543400   76485.889288   \n",
       "std       96.653299     10.487806      3.111573   62397.405202   \n",
       "min      350.000000     18.000000      0.000000       0.000000   \n",
       "25%      584.000000     32.000000      2.000000       0.000000   \n",
       "50%      652.000000     37.000000      4.000000   97198.540000   \n",
       "75%      718.000000     44.000000      7.000000  127644.240000   \n",
       "max      850.000000     92.000000     10.000000  250898.090000   \n",
       "\n",
       "       num_of_products  has_cr_card  is_active_member  estimated_salary  \\\n",
       "count     10000.000000  10000.00000      10000.000000      10000.000000   \n",
       "mean          1.530200      0.70550          0.515100     100090.239881   \n",
       "std           0.581654      0.45584          0.499797      57510.492818   \n",
       "min           1.000000      0.00000          0.000000         11.580000   \n",
       "25%           1.000000      0.00000          0.000000      51002.110000   \n",
       "50%           1.000000      1.00000          1.000000     100193.915000   \n",
       "75%           2.000000      1.00000          1.000000     149388.247500   \n",
       "max           4.000000      1.00000          1.000000     199992.480000   \n",
       "\n",
       "             exited  \n",
       "count  10000.000000  \n",
       "mean       0.203700  \n",
       "std        0.402769  \n",
       "min        0.000000  \n",
       "25%        0.000000  \n",
       "50%        0.000000  \n",
       "75%        0.000000  \n",
       "max        1.000000  "
      ]
     },
     "execution_count": 13,
     "metadata": {},
     "output_type": "execute_result"
    }
   ],
   "source": [
    "df.describe()"
   ]
  },
  {
   "cell_type": "markdown",
   "id": "674b6569",
   "metadata": {},
   "source": [
    "Избавляемся от категориальных признаков методом One hot encoder"
   ]
  },
  {
   "cell_type": "code",
   "execution_count": 14,
   "id": "764039db",
   "metadata": {},
   "outputs": [
    {
     "name": "stdout",
     "output_type": "stream",
     "text": [
      "France     5014\n",
      "Germany    2509\n",
      "Spain      2477\n",
      "Name: geography, dtype: int64\n",
      "Male      5457\n",
      "Female    4543\n",
      "Name: gender, dtype: int64\n"
     ]
    }
   ],
   "source": [
    "print(df['geography'].value_counts())\n",
    "print(df['gender'].value_counts())\n",
    "df_ohe=pd.get_dummies(df,drop_first=True)"
   ]
  },
  {
   "cell_type": "code",
   "execution_count": 15,
   "id": "f6b06210",
   "metadata": {},
   "outputs": [
    {
     "data": {
      "text/html": [
       "<div>\n",
       "<style scoped>\n",
       "    .dataframe tbody tr th:only-of-type {\n",
       "        vertical-align: middle;\n",
       "    }\n",
       "\n",
       "    .dataframe tbody tr th {\n",
       "        vertical-align: top;\n",
       "    }\n",
       "\n",
       "    .dataframe thead th {\n",
       "        text-align: right;\n",
       "    }\n",
       "</style>\n",
       "<table border=\"1\" class=\"dataframe\">\n",
       "  <thead>\n",
       "    <tr style=\"text-align: right;\">\n",
       "      <th></th>\n",
       "      <th>credit_score</th>\n",
       "      <th>age</th>\n",
       "      <th>tenure</th>\n",
       "      <th>balance</th>\n",
       "      <th>num_of_products</th>\n",
       "      <th>has_cr_card</th>\n",
       "      <th>is_active_member</th>\n",
       "      <th>estimated_salary</th>\n",
       "      <th>exited</th>\n",
       "      <th>geography_Germany</th>\n",
       "      <th>geography_Spain</th>\n",
       "      <th>gender_Male</th>\n",
       "    </tr>\n",
       "  </thead>\n",
       "  <tbody>\n",
       "    <tr>\n",
       "      <th>0</th>\n",
       "      <td>619</td>\n",
       "      <td>42</td>\n",
       "      <td>2.0</td>\n",
       "      <td>0.00</td>\n",
       "      <td>1</td>\n",
       "      <td>1</td>\n",
       "      <td>1</td>\n",
       "      <td>101348.88</td>\n",
       "      <td>1</td>\n",
       "      <td>0</td>\n",
       "      <td>0</td>\n",
       "      <td>0</td>\n",
       "    </tr>\n",
       "    <tr>\n",
       "      <th>1</th>\n",
       "      <td>608</td>\n",
       "      <td>41</td>\n",
       "      <td>1.0</td>\n",
       "      <td>83807.86</td>\n",
       "      <td>1</td>\n",
       "      <td>0</td>\n",
       "      <td>1</td>\n",
       "      <td>112542.58</td>\n",
       "      <td>0</td>\n",
       "      <td>0</td>\n",
       "      <td>1</td>\n",
       "      <td>0</td>\n",
       "    </tr>\n",
       "    <tr>\n",
       "      <th>2</th>\n",
       "      <td>502</td>\n",
       "      <td>42</td>\n",
       "      <td>8.0</td>\n",
       "      <td>159660.80</td>\n",
       "      <td>3</td>\n",
       "      <td>1</td>\n",
       "      <td>0</td>\n",
       "      <td>113931.57</td>\n",
       "      <td>1</td>\n",
       "      <td>0</td>\n",
       "      <td>0</td>\n",
       "      <td>0</td>\n",
       "    </tr>\n",
       "    <tr>\n",
       "      <th>3</th>\n",
       "      <td>699</td>\n",
       "      <td>39</td>\n",
       "      <td>1.0</td>\n",
       "      <td>0.00</td>\n",
       "      <td>2</td>\n",
       "      <td>0</td>\n",
       "      <td>0</td>\n",
       "      <td>93826.63</td>\n",
       "      <td>0</td>\n",
       "      <td>0</td>\n",
       "      <td>0</td>\n",
       "      <td>0</td>\n",
       "    </tr>\n",
       "    <tr>\n",
       "      <th>4</th>\n",
       "      <td>850</td>\n",
       "      <td>43</td>\n",
       "      <td>2.0</td>\n",
       "      <td>125510.82</td>\n",
       "      <td>1</td>\n",
       "      <td>1</td>\n",
       "      <td>1</td>\n",
       "      <td>79084.10</td>\n",
       "      <td>0</td>\n",
       "      <td>0</td>\n",
       "      <td>1</td>\n",
       "      <td>0</td>\n",
       "    </tr>\n",
       "    <tr>\n",
       "      <th>...</th>\n",
       "      <td>...</td>\n",
       "      <td>...</td>\n",
       "      <td>...</td>\n",
       "      <td>...</td>\n",
       "      <td>...</td>\n",
       "      <td>...</td>\n",
       "      <td>...</td>\n",
       "      <td>...</td>\n",
       "      <td>...</td>\n",
       "      <td>...</td>\n",
       "      <td>...</td>\n",
       "      <td>...</td>\n",
       "    </tr>\n",
       "    <tr>\n",
       "      <th>9995</th>\n",
       "      <td>771</td>\n",
       "      <td>39</td>\n",
       "      <td>5.0</td>\n",
       "      <td>0.00</td>\n",
       "      <td>2</td>\n",
       "      <td>1</td>\n",
       "      <td>0</td>\n",
       "      <td>96270.64</td>\n",
       "      <td>0</td>\n",
       "      <td>0</td>\n",
       "      <td>0</td>\n",
       "      <td>1</td>\n",
       "    </tr>\n",
       "    <tr>\n",
       "      <th>9996</th>\n",
       "      <td>516</td>\n",
       "      <td>35</td>\n",
       "      <td>10.0</td>\n",
       "      <td>57369.61</td>\n",
       "      <td>1</td>\n",
       "      <td>1</td>\n",
       "      <td>1</td>\n",
       "      <td>101699.77</td>\n",
       "      <td>0</td>\n",
       "      <td>0</td>\n",
       "      <td>0</td>\n",
       "      <td>1</td>\n",
       "    </tr>\n",
       "    <tr>\n",
       "      <th>9997</th>\n",
       "      <td>709</td>\n",
       "      <td>36</td>\n",
       "      <td>7.0</td>\n",
       "      <td>0.00</td>\n",
       "      <td>1</td>\n",
       "      <td>0</td>\n",
       "      <td>1</td>\n",
       "      <td>42085.58</td>\n",
       "      <td>1</td>\n",
       "      <td>0</td>\n",
       "      <td>0</td>\n",
       "      <td>0</td>\n",
       "    </tr>\n",
       "    <tr>\n",
       "      <th>9998</th>\n",
       "      <td>772</td>\n",
       "      <td>42</td>\n",
       "      <td>3.0</td>\n",
       "      <td>75075.31</td>\n",
       "      <td>2</td>\n",
       "      <td>1</td>\n",
       "      <td>0</td>\n",
       "      <td>92888.52</td>\n",
       "      <td>1</td>\n",
       "      <td>1</td>\n",
       "      <td>0</td>\n",
       "      <td>1</td>\n",
       "    </tr>\n",
       "    <tr>\n",
       "      <th>9999</th>\n",
       "      <td>792</td>\n",
       "      <td>28</td>\n",
       "      <td>0.0</td>\n",
       "      <td>130142.79</td>\n",
       "      <td>1</td>\n",
       "      <td>1</td>\n",
       "      <td>0</td>\n",
       "      <td>38190.78</td>\n",
       "      <td>0</td>\n",
       "      <td>0</td>\n",
       "      <td>0</td>\n",
       "      <td>0</td>\n",
       "    </tr>\n",
       "  </tbody>\n",
       "</table>\n",
       "<p>10000 rows × 12 columns</p>\n",
       "</div>"
      ],
      "text/plain": [
       "      credit_score  age  tenure    balance  num_of_products  has_cr_card  \\\n",
       "0              619   42     2.0       0.00                1            1   \n",
       "1              608   41     1.0   83807.86                1            0   \n",
       "2              502   42     8.0  159660.80                3            1   \n",
       "3              699   39     1.0       0.00                2            0   \n",
       "4              850   43     2.0  125510.82                1            1   \n",
       "...            ...  ...     ...        ...              ...          ...   \n",
       "9995           771   39     5.0       0.00                2            1   \n",
       "9996           516   35    10.0   57369.61                1            1   \n",
       "9997           709   36     7.0       0.00                1            0   \n",
       "9998           772   42     3.0   75075.31                2            1   \n",
       "9999           792   28     0.0  130142.79                1            1   \n",
       "\n",
       "      is_active_member  estimated_salary  exited  geography_Germany  \\\n",
       "0                    1         101348.88       1                  0   \n",
       "1                    1         112542.58       0                  0   \n",
       "2                    0         113931.57       1                  0   \n",
       "3                    0          93826.63       0                  0   \n",
       "4                    1          79084.10       0                  0   \n",
       "...                ...               ...     ...                ...   \n",
       "9995                 0          96270.64       0                  0   \n",
       "9996                 1         101699.77       0                  0   \n",
       "9997                 1          42085.58       1                  0   \n",
       "9998                 0          92888.52       1                  1   \n",
       "9999                 0          38190.78       0                  0   \n",
       "\n",
       "      geography_Spain  gender_Male  \n",
       "0                   0            0  \n",
       "1                   1            0  \n",
       "2                   0            0  \n",
       "3                   0            0  \n",
       "4                   1            0  \n",
       "...               ...          ...  \n",
       "9995                0            1  \n",
       "9996                0            1  \n",
       "9997                0            0  \n",
       "9998                0            1  \n",
       "9999                0            0  \n",
       "\n",
       "[10000 rows x 12 columns]"
      ]
     },
     "execution_count": 15,
     "metadata": {},
     "output_type": "execute_result"
    }
   ],
   "source": [
    "df_ohe"
   ]
  },
  {
   "cell_type": "markdown",
   "id": "a55afc6c",
   "metadata": {},
   "source": [
    "**Средние значения относительно оттока**\n",
    "\n",
    "Построим распределение признаков у тех, кто ушел и тех, кто остался."
   ]
  },
  {
   "cell_type": "code",
   "execution_count": 16,
   "id": "ff692191",
   "metadata": {},
   "outputs": [
    {
     "data": {
      "image/png": "[encoded data removed]",
      "text/plain": [
       "<Figure size 1080x360 with 2 Axes>"
      ]
     },
     "metadata": {
      "needs_background": "light"
     },
     "output_type": "display_data"
    },
    {
     "data": {
      "image/png": "[encoded data removed]",
      "text/plain": [
       "<Figure size 1080x360 with 2 Axes>"
      ]
     },
     "metadata": {
      "needs_background": "light"
     },
     "output_type": "display_data"
    },
    {
     "data": {
      "image/png": "[encoded data removed]",
      "text/plain": [
       "<Figure size 1080x360 with 2 Axes>"
      ]
     },
     "metadata": {
      "needs_background": "light"
     },
     "output_type": "display_data"
    },
    {
     "data": {
      "image/png": "[encoded data removed]",
      "text/plain": [
       "<Figure size 1080x360 with 2 Axes>"
      ]
     },
     "metadata": {
      "needs_background": "light"
     },
     "output_type": "display_data"
    },
    {
     "data": {
      "image/png": "[encoded data removed]",
      "text/plain": [
       "<Figure size 1080x360 with 2 Axes>"
      ]
     },
     "metadata": {
      "needs_background": "light"
     },
     "output_type": "display_data"
    },
    {
     "data": {
      "image/png": "[encoded data removed]",
      "text/plain": [
       "<Figure size 1080x360 with 2 Axes>"
      ]
     },
     "metadata": {
      "needs_background": "light"
     },
     "output_type": "display_data"
    },
    {
     "data": {
      "image/png": "[encoded data removed]",
      "text/plain": [
       "<Figure size 1080x360 with 2 Axes>"
      ]
     },
     "metadata": {
      "needs_background": "light"
     },
     "output_type": "display_data"
    },
    {
     "data": {
      "image/png": "[encoded data removed]",
      "text/plain": [
       "<Figure size 1080x360 with 2 Axes>"
      ]
     },
     "metadata": {
      "needs_background": "light"
     },
     "output_type": "display_data"
    },
    {
     "data": {
      "image/png": "[encoded data removed]",
      "text/plain": [
       "<Figure size 1080x360 with 2 Axes>"
      ]
     },
     "metadata": {
      "needs_background": "light"
     },
     "output_type": "display_data"
    },
    {
     "data": {
      "image/png": "[encoded data removed]",
      "text/plain": [
       "<Figure size 1080x360 with 2 Axes>"
      ]
     },
     "metadata": {
      "needs_background": "light"
     },
     "output_type": "display_data"
    },
    {
     "data": {
      "image/png": "[encoded data removed]",
      "text/plain": [
       "<Figure size 1080x360 with 2 Axes>"
      ]
     },
     "metadata": {
      "needs_background": "light"
     },
     "output_type": "display_data"
    }
   ],
   "source": [
    "columns = df_ohe.drop(['exited'], axis=1).columns\n",
    "for col in columns:\n",
    "    x1 = df_ohe[df_ohe['exited'] == 0][col]\n",
    "    x2 = df_ohe[df_ohe['exited'] == 1][col]\n",
    "    x3 = df_ohe[col]\n",
    "# plot\n",
    "    fig, axes = plt.subplots(1, 2, figsize=(15, 5), sharey=True, sharex=True)\n",
    "    fig.suptitle('Данные по столбцу: ' + col)\n",
    "    sns.histplot(x1, color=\"lightgreen\",\n",
    "                 ax=axes[0], label='No exited', kde=True)\n",
    "    sns.histplot(x2, color=\"blue\", ax=axes[0], label='exited', kde=True)\n",
    "    sns.histplot(x3, color=\"indigo\", ax=axes[1], label='All data', kde=True)\n",
    "    fig.legend(bbox_to_anchor=(0.066, 0.9),\n",
    "               loc='lower left', ncol=2, borderaxespad=0.)\n",
    "    axes[0].set(ylabel='Density')\n",
    "    axes[0].grid(axis='y', color='0.95')\n",
    "    axes[1].grid(axis='y', color='0.95')\n",
    "    plt.show()"
   ]
  },
  {
   "cell_type": "markdown",
   "id": "d0b7502d",
   "metadata": {},
   "source": [
    "По графикам можно заметить, что к оттоку более склонны женщины, а также на отток влияет возраст - уходят более возрастные клиенты."
   ]
  },
  {
   "cell_type": "code",
   "execution_count": 17,
   "id": "e2805924",
   "metadata": {},
   "outputs": [
    {
     "data": {
      "text/plain": [
       "Index(['credit_score', 'age', 'tenure', 'balance', 'num_of_products',\n",
       "       'has_cr_card', 'is_active_member', 'estimated_salary', 'exited',\n",
       "       'geography_Germany', 'geography_Spain', 'gender_Male'],\n",
       "      dtype='object')"
      ]
     },
     "execution_count": 17,
     "metadata": {},
     "output_type": "execute_result"
    }
   ],
   "source": [
    "df_ohe.columns"
   ]
  },
  {
   "cell_type": "markdown",
   "id": "942f3acc",
   "metadata": {},
   "source": [
    "Для того, чтобы определить, какие факторы больше всего влияют на отток клиентов, сформируем корреляцию по данным столбцам и отобразим на тепловой карте"
   ]
  },
  {
   "cell_type": "code",
   "execution_count": 18,
   "id": "eb24d1ed",
   "metadata": {},
   "outputs": [
    {
     "data": {
      "image/png": "[encoded data removed]",
      "text/plain": [
       "<Figure size 1080x576 with 2 Axes>"
      ]
     },
     "metadata": {
      "needs_background": "light"
     },
     "output_type": "display_data"
    },
    {
     "data": {
      "text/html": [
       "<div>\n",
       "<style scoped>\n",
       "    .dataframe tbody tr th:only-of-type {\n",
       "        vertical-align: middle;\n",
       "    }\n",
       "\n",
       "    .dataframe tbody tr th {\n",
       "        vertical-align: top;\n",
       "    }\n",
       "\n",
       "    .dataframe thead th {\n",
       "        text-align: right;\n",
       "    }\n",
       "</style>\n",
       "<table border=\"1\" class=\"dataframe\">\n",
       "  <thead>\n",
       "    <tr style=\"text-align: right;\">\n",
       "      <th></th>\n",
       "      <th>exited</th>\n",
       "      <th>credit_score</th>\n",
       "      <th>age</th>\n",
       "      <th>tenure</th>\n",
       "      <th>balance</th>\n",
       "      <th>num_of_products</th>\n",
       "      <th>has_cr_card</th>\n",
       "      <th>is_active_member</th>\n",
       "      <th>estimated_salary</th>\n",
       "      <th>geography_Germany</th>\n",
       "      <th>geography_Spain</th>\n",
       "      <th>gender_Male</th>\n",
       "    </tr>\n",
       "  </thead>\n",
       "  <tbody>\n",
       "    <tr>\n",
       "      <th>exited</th>\n",
       "      <td>1.000000</td>\n",
       "      <td>-0.027094</td>\n",
       "      <td>0.285323</td>\n",
       "      <td>-0.013319</td>\n",
       "      <td>0.118533</td>\n",
       "      <td>-0.047820</td>\n",
       "      <td>-0.007138</td>\n",
       "      <td>-0.156128</td>\n",
       "      <td>0.012097</td>\n",
       "      <td>0.173488</td>\n",
       "      <td>-0.052667</td>\n",
       "      <td>-0.106512</td>\n",
       "    </tr>\n",
       "    <tr>\n",
       "      <th>credit_score</th>\n",
       "      <td>-0.027094</td>\n",
       "      <td>1.000000</td>\n",
       "      <td>-0.003965</td>\n",
       "      <td>0.003087</td>\n",
       "      <td>0.006268</td>\n",
       "      <td>0.012238</td>\n",
       "      <td>-0.005458</td>\n",
       "      <td>0.025651</td>\n",
       "      <td>-0.001384</td>\n",
       "      <td>0.005538</td>\n",
       "      <td>0.004780</td>\n",
       "      <td>-0.002857</td>\n",
       "    </tr>\n",
       "    <tr>\n",
       "      <th>age</th>\n",
       "      <td>0.285323</td>\n",
       "      <td>-0.003965</td>\n",
       "      <td>1.000000</td>\n",
       "      <td>-0.007368</td>\n",
       "      <td>0.028308</td>\n",
       "      <td>-0.030680</td>\n",
       "      <td>-0.011721</td>\n",
       "      <td>0.085472</td>\n",
       "      <td>-0.007201</td>\n",
       "      <td>0.046897</td>\n",
       "      <td>-0.001685</td>\n",
       "      <td>-0.027544</td>\n",
       "    </tr>\n",
       "    <tr>\n",
       "      <th>tenure</th>\n",
       "      <td>-0.013319</td>\n",
       "      <td>0.003087</td>\n",
       "      <td>-0.007368</td>\n",
       "      <td>1.000000</td>\n",
       "      <td>-0.005821</td>\n",
       "      <td>0.010106</td>\n",
       "      <td>0.021387</td>\n",
       "      <td>-0.025856</td>\n",
       "      <td>0.011225</td>\n",
       "      <td>0.001676</td>\n",
       "      <td>-0.000745</td>\n",
       "      <td>0.014889</td>\n",
       "    </tr>\n",
       "    <tr>\n",
       "      <th>balance</th>\n",
       "      <td>0.118533</td>\n",
       "      <td>0.006268</td>\n",
       "      <td>0.028308</td>\n",
       "      <td>-0.005821</td>\n",
       "      <td>1.000000</td>\n",
       "      <td>-0.304180</td>\n",
       "      <td>-0.014858</td>\n",
       "      <td>-0.010084</td>\n",
       "      <td>0.012797</td>\n",
       "      <td>0.401110</td>\n",
       "      <td>-0.134892</td>\n",
       "      <td>0.012087</td>\n",
       "    </tr>\n",
       "    <tr>\n",
       "      <th>num_of_products</th>\n",
       "      <td>-0.047820</td>\n",
       "      <td>0.012238</td>\n",
       "      <td>-0.030680</td>\n",
       "      <td>0.010106</td>\n",
       "      <td>-0.304180</td>\n",
       "      <td>1.000000</td>\n",
       "      <td>0.003183</td>\n",
       "      <td>0.009612</td>\n",
       "      <td>0.014204</td>\n",
       "      <td>-0.010419</td>\n",
       "      <td>0.009039</td>\n",
       "      <td>-0.021859</td>\n",
       "    </tr>\n",
       "    <tr>\n",
       "      <th>has_cr_card</th>\n",
       "      <td>-0.007138</td>\n",
       "      <td>-0.005458</td>\n",
       "      <td>-0.011721</td>\n",
       "      <td>0.021387</td>\n",
       "      <td>-0.014858</td>\n",
       "      <td>0.003183</td>\n",
       "      <td>1.000000</td>\n",
       "      <td>-0.011866</td>\n",
       "      <td>-0.009933</td>\n",
       "      <td>0.010577</td>\n",
       "      <td>-0.013480</td>\n",
       "      <td>0.005766</td>\n",
       "    </tr>\n",
       "    <tr>\n",
       "      <th>is_active_member</th>\n",
       "      <td>-0.156128</td>\n",
       "      <td>0.025651</td>\n",
       "      <td>0.085472</td>\n",
       "      <td>-0.025856</td>\n",
       "      <td>-0.010084</td>\n",
       "      <td>0.009612</td>\n",
       "      <td>-0.011866</td>\n",
       "      <td>1.000000</td>\n",
       "      <td>-0.011421</td>\n",
       "      <td>-0.020486</td>\n",
       "      <td>0.016732</td>\n",
       "      <td>0.022544</td>\n",
       "    </tr>\n",
       "    <tr>\n",
       "      <th>estimated_salary</th>\n",
       "      <td>0.012097</td>\n",
       "      <td>-0.001384</td>\n",
       "      <td>-0.007201</td>\n",
       "      <td>0.011225</td>\n",
       "      <td>0.012797</td>\n",
       "      <td>0.014204</td>\n",
       "      <td>-0.009933</td>\n",
       "      <td>-0.011421</td>\n",
       "      <td>1.000000</td>\n",
       "      <td>0.010297</td>\n",
       "      <td>-0.006482</td>\n",
       "      <td>-0.008112</td>\n",
       "    </tr>\n",
       "    <tr>\n",
       "      <th>geography_Germany</th>\n",
       "      <td>0.173488</td>\n",
       "      <td>0.005538</td>\n",
       "      <td>0.046897</td>\n",
       "      <td>0.001676</td>\n",
       "      <td>0.401110</td>\n",
       "      <td>-0.010419</td>\n",
       "      <td>0.010577</td>\n",
       "      <td>-0.020486</td>\n",
       "      <td>0.010297</td>\n",
       "      <td>1.000000</td>\n",
       "      <td>-0.332084</td>\n",
       "      <td>-0.024628</td>\n",
       "    </tr>\n",
       "    <tr>\n",
       "      <th>geography_Spain</th>\n",
       "      <td>-0.052667</td>\n",
       "      <td>0.004780</td>\n",
       "      <td>-0.001685</td>\n",
       "      <td>-0.000745</td>\n",
       "      <td>-0.134892</td>\n",
       "      <td>0.009039</td>\n",
       "      <td>-0.013480</td>\n",
       "      <td>0.016732</td>\n",
       "      <td>-0.006482</td>\n",
       "      <td>-0.332084</td>\n",
       "      <td>1.000000</td>\n",
       "      <td>0.016889</td>\n",
       "    </tr>\n",
       "    <tr>\n",
       "      <th>gender_Male</th>\n",
       "      <td>-0.106512</td>\n",
       "      <td>-0.002857</td>\n",
       "      <td>-0.027544</td>\n",
       "      <td>0.014889</td>\n",
       "      <td>0.012087</td>\n",
       "      <td>-0.021859</td>\n",
       "      <td>0.005766</td>\n",
       "      <td>0.022544</td>\n",
       "      <td>-0.008112</td>\n",
       "      <td>-0.024628</td>\n",
       "      <td>0.016889</td>\n",
       "      <td>1.000000</td>\n",
       "    </tr>\n",
       "  </tbody>\n",
       "</table>\n",
       "</div>"
      ],
      "text/plain": [
       "                     exited  credit_score       age    tenure   balance  \\\n",
       "exited             1.000000     -0.027094  0.285323 -0.013319  0.118533   \n",
       "credit_score      -0.027094      1.000000 -0.003965  0.003087  0.006268   \n",
       "age                0.285323     -0.003965  1.000000 -0.007368  0.028308   \n",
       "tenure            -0.013319      0.003087 -0.007368  1.000000 -0.005821   \n",
       "balance            0.118533      0.006268  0.028308 -0.005821  1.000000   \n",
       "num_of_products   -0.047820      0.012238 -0.030680  0.010106 -0.304180   \n",
       "has_cr_card       -0.007138     -0.005458 -0.011721  0.021387 -0.014858   \n",
       "is_active_member  -0.156128      0.025651  0.085472 -0.025856 -0.010084   \n",
       "estimated_salary   0.012097     -0.001384 -0.007201  0.011225  0.012797   \n",
       "geography_Germany  0.173488      0.005538  0.046897  0.001676  0.401110   \n",
       "geography_Spain   -0.052667      0.004780 -0.001685 -0.000745 -0.134892   \n",
       "gender_Male       -0.106512     -0.002857 -0.027544  0.014889  0.012087   \n",
       "\n",
       "                   num_of_products  has_cr_card  is_active_member  \\\n",
       "exited                   -0.047820    -0.007138         -0.156128   \n",
       "credit_score              0.012238    -0.005458          0.025651   \n",
       "age                      -0.030680    -0.011721          0.085472   \n",
       "tenure                    0.010106     0.021387         -0.025856   \n",
       "balance                  -0.304180    -0.014858         -0.010084   \n",
       "num_of_products           1.000000     0.003183          0.009612   \n",
       "has_cr_card               0.003183     1.000000         -0.011866   \n",
       "is_active_member          0.009612    -0.011866          1.000000   \n",
       "estimated_salary          0.014204    -0.009933         -0.011421   \n",
       "geography_Germany        -0.010419     0.010577         -0.020486   \n",
       "geography_Spain           0.009039    -0.013480          0.016732   \n",
       "gender_Male              -0.021859     0.005766          0.022544   \n",
       "\n",
       "                   estimated_salary  geography_Germany  geography_Spain  \\\n",
       "exited                     0.012097           0.173488        -0.052667   \n",
       "credit_score              -0.001384           0.005538         0.004780   \n",
       "age                       -0.007201           0.046897        -0.001685   \n",
       "tenure                     0.011225           0.001676        -0.000745   \n",
       "balance                    0.012797           0.401110        -0.134892   \n",
       "num_of_products            0.014204          -0.010419         0.009039   \n",
       "has_cr_card               -0.009933           0.010577        -0.013480   \n",
       "is_active_member          -0.011421          -0.020486         0.016732   \n",
       "estimated_salary           1.000000           0.010297        -0.006482   \n",
       "geography_Germany          0.010297           1.000000        -0.332084   \n",
       "geography_Spain           -0.006482          -0.332084         1.000000   \n",
       "gender_Male               -0.008112          -0.024628         0.016889   \n",
       "\n",
       "                   gender_Male  \n",
       "exited               -0.106512  \n",
       "credit_score         -0.002857  \n",
       "age                  -0.027544  \n",
       "tenure                0.014889  \n",
       "balance               0.012087  \n",
       "num_of_products      -0.021859  \n",
       "has_cr_card           0.005766  \n",
       "is_active_member      0.022544  \n",
       "estimated_salary     -0.008112  \n",
       "geography_Germany    -0.024628  \n",
       "geography_Spain       0.016889  \n",
       "gender_Male           1.000000  "
      ]
     },
     "execution_count": 18,
     "metadata": {},
     "output_type": "execute_result"
    }
   ],
   "source": [
    "columns_corr = ['exited', 'credit_score', 'age', 'tenure', 'balance', 'num_of_products',\n",
    "                'has_cr_card', 'is_active_member', 'estimated_salary',\n",
    "                'geography_Germany', 'geography_Spain', 'gender_Male']\n",
    "# Отобразим на тепловой карте\n",
    "plt.figure(figsize=(15, 8))\n",
    "sns.heatmap(df_ohe[columns_corr].corr(), annot=True)\n",
    "plt.show()\n",
    "df_ohe[columns_corr].corr()"
   ]
  },
  {
   "cell_type": "markdown",
   "id": "addbdcb4",
   "metadata": {},
   "source": [
    "Мультиколлинеарности не обнаружено, все признаки незначительно коррелируют друг с другом. С целевой переменной `exited` больше всего коррелирует возраст, баланс на счёте, страна проживания/\n",
    "\n",
    "Выполним разделение данных на две части, основной \"features\" и \"target\"\n",
    "Разбиваем данные после OHE на четыре выборки train_features,valid_features,train_target,valid_target"
   ]
  },
  {
   "cell_type": "code",
   "execution_count": 19,
   "id": "a78f4dc2",
   "metadata": {},
   "outputs": [],
   "source": [
    "target = df_ohe['exited']  # Целевой признак\n",
    "features = df_ohe.drop(['exited'], axis=1)  # Признаки"
   ]
  },
  {
   "cell_type": "markdown",
   "id": "b3a33c4c",
   "metadata": {},
   "source": [
    "Используем функцию train_test_split для разделения основного массива данных на три выборки 20% 20% 60%\n",
    "Для начала отделим от основного массива данных 20% на тестовую выборку, для проверки моделей после обучения"
   ]
  },
  {
   "cell_type": "code",
   "execution_count": 20,
   "id": "858efcf2",
   "metadata": {},
   "outputs": [],
   "source": [
    "features_df, features_test, target_df, target_test = train_test_split(\n",
    "    features, target, test_size=0.2, random_state=12345)"
   ]
  },
  {
   "cell_type": "markdown",
   "id": "608ec8d9",
   "metadata": {},
   "source": [
    "Выполним разделение оставшегося массива данных на две части 75% и 25% для построения и обучения модели"
   ]
  },
  {
   "cell_type": "code",
   "execution_count": 21,
   "id": "bd54e1fe",
   "metadata": {},
   "outputs": [],
   "source": [
    "features_train, features_valid, target_train, target_valid = train_test_split(\n",
    "    features_df, target_df, test_size=0.25, random_state=12345)"
   ]
  },
  {
   "cell_type": "markdown",
   "id": "b25043d2",
   "metadata": {},
   "source": [
    "Проверим равномерность разделения данных при помощи функции shape"
   ]
  },
  {
   "cell_type": "code",
   "execution_count": 22,
   "id": "3cc94fd1",
   "metadata": {},
   "outputs": [
    {
     "name": "stdout",
     "output_type": "stream",
     "text": [
      "(10000, 11) (8000, 11) (2000, 11) (2000, 11) (6000, 11)\n"
     ]
    }
   ],
   "source": [
    "print(features.shape,\n",
    "      features_df.shape,\n",
    "      features_valid.shape,\n",
    "      features_test.shape,\n",
    "      features_train.shape)"
   ]
  },
  {
   "cell_type": "code",
   "execution_count": 23,
   "id": "3ce74435",
   "metadata": {},
   "outputs": [
    {
     "name": "stdout",
     "output_type": "stream",
     "text": [
      "(10000,) (8000,) (2000,) (2000,) (6000,)\n"
     ]
    }
   ],
   "source": [
    "print(target.shape,\n",
    "      target_df.shape,\n",
    "      target_valid.shape,\n",
    "      target_test.shape,\n",
    "      target_train.shape)"
   ]
  },
  {
   "cell_type": "code",
   "execution_count": 24,
   "id": "17120be9",
   "metadata": {},
   "outputs": [
    {
     "name": "stdout",
     "output_type": "stream",
     "text": [
      "Размер тренировочной выборки- 20%\n",
      "Размер валидационной выборки - 60%\n",
      "Размер тестовой выборки - 20%\n"
     ]
    }
   ],
   "source": [
    "print(\n",
    "    'Размер тренировочной выборки- {:.0%}'.format(target_valid.shape[0]/target.shape[0]))\n",
    "print(\n",
    "    'Размер валидационной выборки - {:.0%}'.format(target_train.shape[0]/target.shape[0]))\n",
    "print(\n",
    "    'Размер тестовой выборки - {:.0%}'.format(target_test.shape[0]/target.shape[0]))"
   ]
  },
  {
   "cell_type": "markdown",
   "id": "b532ac9c",
   "metadata": {},
   "source": [
    "Приведём данные столбцов `credit_score`, `age`, `tenure`,\n",
    "           `balance`, `num_of_products`, `estimated_salary` к одному масштабу"
   ]
  },
  {
   "cell_type": "code",
   "execution_count": 25,
   "id": "f1477846",
   "metadata": {},
   "outputs": [],
   "source": [
    "numeric = ['credit_score', 'age', 'tenure',\n",
    "           'balance', 'num_of_products', 'estimated_salary']"
   ]
  },
  {
   "cell_type": "code",
   "execution_count": 26,
   "id": "7ea6f0ef",
   "metadata": {
    "scrolled": true
   },
   "outputs": [
    {
     "name": "stderr",
     "output_type": "stream",
     "text": [
      "C:\\anaconda3\\lib\\site-packages\\pandas\\core\\frame.py:3678: SettingWithCopyWarning: \n",
      "A value is trying to be set on a copy of a slice from a DataFrame.\n",
      "Try using .loc[row_indexer,col_indexer] = value instead\n",
      "\n",
      "See the caveats in the documentation: https://pandas.pydata.org/pandas-docs/stable/user_guide/indexing.html#returning-a-view-versus-a-copy\n",
      "  self[col] = igetitem(value, i)\n",
      "C:\\anaconda3\\lib\\site-packages\\pandas\\core\\frame.py:3678: SettingWithCopyWarning: \n",
      "A value is trying to be set on a copy of a slice from a DataFrame.\n",
      "Try using .loc[row_indexer,col_indexer] = value instead\n",
      "\n",
      "See the caveats in the documentation: https://pandas.pydata.org/pandas-docs/stable/user_guide/indexing.html#returning-a-view-versus-a-copy\n",
      "  self[col] = igetitem(value, i)\n",
      "C:\\anaconda3\\lib\\site-packages\\pandas\\core\\frame.py:3678: SettingWithCopyWarning: \n",
      "A value is trying to be set on a copy of a slice from a DataFrame.\n",
      "Try using .loc[row_indexer,col_indexer] = value instead\n",
      "\n",
      "See the caveats in the documentation: https://pandas.pydata.org/pandas-docs/stable/user_guide/indexing.html#returning-a-view-versus-a-copy\n",
      "  self[col] = igetitem(value, i)\n"
     ]
    }
   ],
   "source": [
    "scaler = StandardScaler()\n",
    "scaler.fit(features_df[numeric])\n",
    "features_train[numeric] = scaler.transform(features_train[numeric])\n",
    "features_valid[numeric] = scaler.transform(features_valid[numeric])\n",
    "features_test[numeric] = scaler.transform(features_test[numeric])\n",
    "pd.options.mode.chained_assignment = None"
   ]
  },
  {
   "cell_type": "markdown",
   "id": "1024527d",
   "metadata": {},
   "source": [
    "Проверим равномерность распределения"
   ]
  },
  {
   "cell_type": "code",
   "execution_count": 27,
   "id": "76ad1b81",
   "metadata": {},
   "outputs": [
    {
     "name": "stdout",
     "output_type": "stream",
     "text": [
      "(6000, 11)\n",
      "(2000, 11)\n",
      "(2000, 11)\n"
     ]
    },
    {
     "data": {
      "text/html": [
       "<div>\n",
       "<style scoped>\n",
       "    .dataframe tbody tr th:only-of-type {\n",
       "        vertical-align: middle;\n",
       "    }\n",
       "\n",
       "    .dataframe tbody tr th {\n",
       "        vertical-align: top;\n",
       "    }\n",
       "\n",
       "    .dataframe thead th {\n",
       "        text-align: right;\n",
       "    }\n",
       "</style>\n",
       "<table border=\"1\" class=\"dataframe\">\n",
       "  <thead>\n",
       "    <tr style=\"text-align: right;\">\n",
       "      <th></th>\n",
       "      <th>credit_score</th>\n",
       "      <th>age</th>\n",
       "      <th>tenure</th>\n",
       "      <th>balance</th>\n",
       "      <th>num_of_products</th>\n",
       "      <th>has_cr_card</th>\n",
       "      <th>is_active_member</th>\n",
       "      <th>estimated_salary</th>\n",
       "      <th>geography_Germany</th>\n",
       "      <th>geography_Spain</th>\n",
       "      <th>gender_Male</th>\n",
       "    </tr>\n",
       "  </thead>\n",
       "  <tbody>\n",
       "    <tr>\n",
       "      <th>492</th>\n",
       "      <td>-0.121761</td>\n",
       "      <td>-0.083605</td>\n",
       "      <td>-0.175851</td>\n",
       "      <td>0.085871</td>\n",
       "      <td>0.811234</td>\n",
       "      <td>0</td>\n",
       "      <td>1</td>\n",
       "      <td>0.324543</td>\n",
       "      <td>0</td>\n",
       "      <td>0</td>\n",
       "      <td>0</td>\n",
       "    </tr>\n",
       "    <tr>\n",
       "      <th>6655</th>\n",
       "      <td>-0.999865</td>\n",
       "      <td>0.486915</td>\n",
       "      <td>-1.459730</td>\n",
       "      <td>0.145977</td>\n",
       "      <td>-0.899779</td>\n",
       "      <td>1</td>\n",
       "      <td>1</td>\n",
       "      <td>-0.731865</td>\n",
       "      <td>0</td>\n",
       "      <td>0</td>\n",
       "      <td>1</td>\n",
       "    </tr>\n",
       "    <tr>\n",
       "      <th>4287</th>\n",
       "      <td>0.653037</td>\n",
       "      <td>1.342695</td>\n",
       "      <td>-1.138760</td>\n",
       "      <td>0.367572</td>\n",
       "      <td>-0.899779</td>\n",
       "      <td>1</td>\n",
       "      <td>1</td>\n",
       "      <td>-0.481728</td>\n",
       "      <td>1</td>\n",
       "      <td>0</td>\n",
       "      <td>1</td>\n",
       "    </tr>\n",
       "    <tr>\n",
       "      <th>42</th>\n",
       "      <td>-0.979204</td>\n",
       "      <td>2.103389</td>\n",
       "      <td>-0.817791</td>\n",
       "      <td>0.660267</td>\n",
       "      <td>-0.899779</td>\n",
       "      <td>1</td>\n",
       "      <td>1</td>\n",
       "      <td>-0.106029</td>\n",
       "      <td>0</td>\n",
       "      <td>0</td>\n",
       "      <td>0</td>\n",
       "    </tr>\n",
       "    <tr>\n",
       "      <th>8178</th>\n",
       "      <td>0.580723</td>\n",
       "      <td>0.677088</td>\n",
       "      <td>0.787058</td>\n",
       "      <td>0.821325</td>\n",
       "      <td>0.811234</td>\n",
       "      <td>1</td>\n",
       "      <td>1</td>\n",
       "      <td>0.793552</td>\n",
       "      <td>0</td>\n",
       "      <td>0</td>\n",
       "      <td>0</td>\n",
       "    </tr>\n",
       "  </tbody>\n",
       "</table>\n",
       "</div>"
      ],
      "text/plain": [
       "      credit_score       age    tenure   balance  num_of_products  \\\n",
       "492      -0.121761 -0.083605 -0.175851  0.085871         0.811234   \n",
       "6655     -0.999865  0.486915 -1.459730  0.145977        -0.899779   \n",
       "4287      0.653037  1.342695 -1.138760  0.367572        -0.899779   \n",
       "42       -0.979204  2.103389 -0.817791  0.660267        -0.899779   \n",
       "8178      0.580723  0.677088  0.787058  0.821325         0.811234   \n",
       "\n",
       "      has_cr_card  is_active_member  estimated_salary  geography_Germany  \\\n",
       "492             0                 1          0.324543                  0   \n",
       "6655            1                 1         -0.731865                  0   \n",
       "4287            1                 1         -0.481728                  1   \n",
       "42              1                 1         -0.106029                  0   \n",
       "8178            1                 1          0.793552                  0   \n",
       "\n",
       "      geography_Spain  gender_Male  \n",
       "492                 0            0  \n",
       "6655                0            1  \n",
       "4287                0            1  \n",
       "42                  0            0  \n",
       "8178                0            0  "
      ]
     },
     "execution_count": 27,
     "metadata": {},
     "output_type": "execute_result"
    }
   ],
   "source": [
    "print(features_train.shape)\n",
    "print(features_valid.shape)\n",
    "print(features_test.shape)\n",
    "features_train.head()"
   ]
  },
  {
   "cell_type": "markdown",
   "id": "a2fb4976",
   "metadata": {},
   "source": [
    "**Вывод**\n",
    "\n",
    "Объёмы данных из нашей таблицы распределены верно, согласно требованиям (60/20/20). Неоднородные данные приведены к одному масштабу. Посмотрим как ведут себя модели на наших даных."
   ]
  },
  {
   "cell_type": "markdown",
   "id": "1f1bbc1c",
   "metadata": {},
   "source": [
    "#### Выбор моделей без учёта дисбаланса\n",
    "\n",
    "Визуализируем процент оттока\n"
   ]
  },
  {
   "cell_type": "code",
   "execution_count": 28,
   "id": "c8e166a3",
   "metadata": {
    "scrolled": true
   },
   "outputs": [
    {
     "data": {
      "image/png": "[encoded data removed]",
      "text/plain": [
       "<Figure size 432x432 with 1 Axes>"
      ]
     },
     "metadata": {},
     "output_type": "display_data"
    }
   ],
   "source": [
    "sizes = df_ohe['exited'].value_counts(sort=True)\n",
    "colors = ['#0072BD', \"#ff0000\"]\n",
    "labels = '', '% оттока'\n",
    "explode = (0, 0.1)\n",
    "rcParams['figure.figsize'] = 6, 6\n",
    "\n",
    "# Plot\n",
    "plt.pie(sizes, explode=explode, colors=colors, labels=labels,\n",
    "        autopct='%1.1f%%', shadow=True, startangle=270, textprops={'fontsize': 16})\n",
    "\n",
    "plt.title('Процент оттока клиентов из банка', fontdict={'fontsize': 20})\n",
    "plt.show()"
   ]
  },
  {
   "cell_type": "markdown",
   "id": "13f5f915",
   "metadata": {},
   "source": [
    "Наблюдается сильный дисбаланс классов. Модель может испытывать проблемы с порогом точности/полноты. При подборе гиперпараметров надо учесть баланс классов."
   ]
  },
  {
   "cell_type": "markdown",
   "id": "69573e5e",
   "metadata": {},
   "source": [
    "#### Выбор моделей без учёта дисбаланса\n",
    "\n",
    "Определим функцию, которая будет выводить метрики"
   ]
  },
  {
   "cell_type": "code",
   "execution_count": 29,
   "id": "d7bd2437",
   "metadata": {},
   "outputs": [],
   "source": [
    "def print_all_metrics(target_valid, predictions, probabilities, title = 'Метрики классификации'):\n",
    "    print(title)\n",
    "    print('\\tAccuracy: {:.2f}'.format(accuracy_score(target_valid, predictions)))\n",
    "    print('\\tPrecision: {:.2f}'.format(precision_score(target_valid, predictions)))\n",
    "    print('\\tRecall: {:.2f}'.format(recall_score(target_valid, predictions)))\n",
    "    print('\\tF1: {:.2f}'.format(f1_score(target_valid, predictions)))\n",
    "    print('\\tROC_AUC: {:.2f}'.format(roc_auc_score(target_valid, probabilities)))"
   ]
  },
  {
   "cell_type": "markdown",
   "id": "c822a260",
   "metadata": {},
   "source": [
    "**LogisticRegression**\n",
    "\n",
    "Зададим алгоритм для модели **логистической регрессии**"
   ]
  },
  {
   "cell_type": "code",
   "execution_count": 30,
   "id": "11db0a67",
   "metadata": {},
   "outputs": [
    {
     "name": "stdout",
     "output_type": "stream",
     "text": [
      "Наилучшее качество модели 0.82\n",
      "Wall time: 23 ms\n"
     ]
    }
   ],
   "source": [
    "%%time\n",
    "\n",
    "lr_model = LogisticRegression(random_state=12345, solver='liblinear')\n",
    "# обучим модель\n",
    "lr_model.fit(features_train, target_train)\n",
    "# воспользуемся уже обученной моделью, чтобы сделать прогнозы\n",
    "lr_result = lr_model.score(features_valid, target_valid)\n",
    "lr_predictions = lr_model.predict(features_valid)\n",
    "lr_probabilities = lr_model.predict_proba(features_valid)[:, 1]\n",
    "print('Наилучшее качество модели {:.2f}'.format(lr_result))"
   ]
  },
  {
   "cell_type": "markdown",
   "id": "c9c6fee8",
   "metadata": {},
   "source": [
    "**DecisionTreeClassifier**\n",
    "\n",
    "Выберем лучшие гипрепараметры для модели **Дерево решений**"
   ]
  },
  {
   "cell_type": "code",
   "execution_count": 31,
   "id": "84652d2a",
   "metadata": {},
   "outputs": [
    {
     "name": "stdout",
     "output_type": "stream",
     "text": [
      "Наилучшее качество модели 0.86 с максимальной глубиной 7\n",
      "Wall time: 1.37 s\n"
     ]
    }
   ],
   "source": [
    "%%time\n",
    "\n",
    "best_model_dt = None\n",
    "best_result_dt = 0\n",
    "best_depth_dt = 0\n",
    "for depth in range(1, 90, 2):\n",
    "    tree_model = DecisionTreeClassifier(max_depth=depth, random_state=12345)\n",
    "    tree_model.fit(features_train, target_train)\n",
    "    result_dt = tree_model.score(features_valid, target_valid)\n",
    "    if result_dt > best_result_dt:\n",
    "        best_model_dt = tree_model\n",
    "        best_result_dt = result_dt\n",
    "\n",
    "        best_depth_dt = depth\n",
    "\n",
    "print('Наилучшее качество модели {:.2f} с максимальной глубиной {}'.format(\n",
    "    best_result_dt, best_depth_dt))"
   ]
  },
  {
   "cell_type": "code",
   "execution_count": 32,
   "id": "e99973af",
   "metadata": {},
   "outputs": [],
   "source": [
    "# Модель на основе алгоритма решающего дерева\n",
    "tree_model = DecisionTreeClassifier(max_depth=7, random_state=12345)\n",
    "tree_model.fit(features_train, target_train)\n",
    "tree_predictions = tree_model.predict(features_valid)\n",
    "tree_probabilities = tree_model.predict_proba(features_valid)[:, 1]"
   ]
  },
  {
   "cell_type": "markdown",
   "id": "1a2e108c",
   "metadata": {},
   "source": [
    "**RandomForestClassifier**\n",
    "\n",
    "Выберем лучшие гипрепараметры для модели **Cлучайный лес**"
   ]
  },
  {
   "cell_type": "code",
   "execution_count": 33,
   "id": "7e640820",
   "metadata": {},
   "outputs": [
    {
     "name": "stdout",
     "output_type": "stream",
     "text": [
      "Наилучшее качество модели 0.87 при количестве деревьев 40 с максимальной глубиной 13\n",
      "Wall time: 32.5 s\n"
     ]
    }
   ],
   "source": [
    "%%time\n",
    "\n",
    "best_est_rf = 0\n",
    "best_model_rf = None\n",
    "best_result_rf = 0\n",
    "best_depth_rf = 0\n",
    "for est in range(10, 60, 10):\n",
    "    for depth in range(1, 60, 2):\n",
    "\n",
    "        rf_model = RandomForestClassifier(\n",
    "            random_state=12345, n_estimators=est, max_depth=depth)\n",
    "        rf_model.fit(features_train, target_train)\n",
    "        result_rf = rf_model.score(features_valid, target_valid)\n",
    "        if result_rf > best_result_rf:\n",
    "            best_model_rf = rf_model\n",
    "            best_result_rf = result_rf\n",
    "            best_est_rf = est\n",
    "            best_depth_rf = depth\n",
    "\n",
    "print('Наилучшее качество модели {:.2f} при количестве деревьев {} с максимальной глубиной {}'.format(\n",
    "    best_result_rf, best_est_rf, best_depth_rf))"
   ]
  },
  {
   "cell_type": "code",
   "execution_count": 34,
   "id": "855b1c03",
   "metadata": {},
   "outputs": [],
   "source": [
    "# Модель на основе алгоритма случайного леса\n",
    "rf_model = RandomForestClassifier(\n",
    "    max_depth=13, n_estimators=40, random_state=12345)\n",
    "rf_model.fit(features_train, target_train)\n",
    "rf_predictions = rf_model.predict(features_valid)\n",
    "rf_probabilities = rf_model.predict_proba(features_valid)[:, 1]"
   ]
  },
  {
   "cell_type": "markdown",
   "id": "1899c360",
   "metadata": {},
   "source": [
    "Выведем все метрики"
   ]
  },
  {
   "cell_type": "code",
   "execution_count": 35,
   "id": "fd66ad2e",
   "metadata": {},
   "outputs": [
    {
     "name": "stdout",
     "output_type": "stream",
     "text": [
      "Метрики для модели логистической регрессии:\n",
      "\tAccuracy: 0.82\n",
      "\tPrecision: 0.58\n",
      "\tRecall: 0.21\n",
      "\tF1: 0.31\n",
      "\tROC_AUC: 0.77\n",
      "Метрики для модели дерева решений:\n",
      "\tAccuracy: 0.86\n",
      "\tPrecision: 0.72\n",
      "\tRecall: 0.45\n",
      "\tF1: 0.55\n",
      "\tROC_AUC: 0.83\n",
      "Метрики для модели случайного леса:\n",
      "\tAccuracy: 0.87\n",
      "\tPrecision: 0.77\n",
      "\tRecall: 0.46\n",
      "\tF1: 0.57\n",
      "\tROC_AUC: 0.84\n"
     ]
    }
   ],
   "source": [
    "print_all_metrics(target_valid, lr_predictions, lr_probabilities,\n",
    "                  title='Метрики для модели логистической регрессии:')\n",
    "print_all_metrics(target_valid, tree_predictions,\n",
    "                  tree_probabilities, title='Метрики для модели дерева решений:')\n",
    "print_all_metrics(target_valid, rf_predictions, rf_probabilities,\n",
    "                  title='Метрики для модели случайного леса:')"
   ]
  },
  {
   "cell_type": "markdown",
   "id": "dc5fd83c",
   "metadata": {},
   "source": [
    "Матрица предсказаний наилучшей модели без учёта дисбаланса данных"
   ]
  },
  {
   "cell_type": "code",
   "execution_count": 36,
   "id": "606506a1",
   "metadata": {},
   "outputs": [
    {
     "name": "stdout",
     "output_type": "stream",
     "text": [
      "[[1541   68]\n",
      " [ 217  174]]\n"
     ]
    }
   ],
   "source": [
    "print(confusion_matrix(target_valid, tree_predictions))"
   ]
  },
  {
   "cell_type": "markdown",
   "id": "4d0dbc30",
   "metadata": {},
   "source": [
    "Посмотрим, какой из признаков в модели Случайный лес наиболее важный\n",
    "\n"
   ]
  },
  {
   "cell_type": "code",
   "execution_count": 37,
   "id": "f176a80e",
   "metadata": {},
   "outputs": [
    {
     "data": {
      "text/html": [
       "<div>\n",
       "<style scoped>\n",
       "    .dataframe tbody tr th:only-of-type {\n",
       "        vertical-align: middle;\n",
       "    }\n",
       "\n",
       "    .dataframe tbody tr th {\n",
       "        vertical-align: top;\n",
       "    }\n",
       "\n",
       "    .dataframe thead th {\n",
       "        text-align: right;\n",
       "    }\n",
       "</style>\n",
       "<table border=\"1\" class=\"dataframe\">\n",
       "  <thead>\n",
       "    <tr style=\"text-align: right;\">\n",
       "      <th></th>\n",
       "      <th>feature</th>\n",
       "      <th>importance</th>\n",
       "    </tr>\n",
       "  </thead>\n",
       "  <tbody>\n",
       "    <tr>\n",
       "      <th>1</th>\n",
       "      <td>age</td>\n",
       "      <td>0.258372</td>\n",
       "    </tr>\n",
       "    <tr>\n",
       "      <th>4</th>\n",
       "      <td>num_of_products</td>\n",
       "      <td>0.154351</td>\n",
       "    </tr>\n",
       "    <tr>\n",
       "      <th>3</th>\n",
       "      <td>balance</td>\n",
       "      <td>0.135183</td>\n",
       "    </tr>\n",
       "    <tr>\n",
       "      <th>0</th>\n",
       "      <td>credit_score</td>\n",
       "      <td>0.125894</td>\n",
       "    </tr>\n",
       "    <tr>\n",
       "      <th>7</th>\n",
       "      <td>estimated_salary</td>\n",
       "      <td>0.125164</td>\n",
       "    </tr>\n",
       "    <tr>\n",
       "      <th>2</th>\n",
       "      <td>tenure</td>\n",
       "      <td>0.066626</td>\n",
       "    </tr>\n",
       "    <tr>\n",
       "      <th>6</th>\n",
       "      <td>is_active_member</td>\n",
       "      <td>0.050615</td>\n",
       "    </tr>\n",
       "    <tr>\n",
       "      <th>8</th>\n",
       "      <td>geography_Germany</td>\n",
       "      <td>0.037571</td>\n",
       "    </tr>\n",
       "    <tr>\n",
       "      <th>10</th>\n",
       "      <td>gender_Male</td>\n",
       "      <td>0.019139</td>\n",
       "    </tr>\n",
       "    <tr>\n",
       "      <th>5</th>\n",
       "      <td>has_cr_card</td>\n",
       "      <td>0.015300</td>\n",
       "    </tr>\n",
       "    <tr>\n",
       "      <th>9</th>\n",
       "      <td>geography_Spain</td>\n",
       "      <td>0.011784</td>\n",
       "    </tr>\n",
       "  </tbody>\n",
       "</table>\n",
       "</div>"
      ],
      "text/plain": [
       "              feature  importance\n",
       "1                 age    0.258372\n",
       "4     num_of_products    0.154351\n",
       "3             balance    0.135183\n",
       "0        credit_score    0.125894\n",
       "7    estimated_salary    0.125164\n",
       "2              tenure    0.066626\n",
       "6    is_active_member    0.050615\n",
       "8   geography_Germany    0.037571\n",
       "10        gender_Male    0.019139\n",
       "5         has_cr_card    0.015300\n",
       "9     geography_Spain    0.011784"
      ]
     },
     "execution_count": 37,
     "metadata": {},
     "output_type": "execute_result"
    }
   ],
   "source": [
    "importances = pd.DataFrame(\n",
    "    {'feature': features.columns, 'importance': rf_model.feature_importances_})\n",
    "importances.sort_values(by='importance', ascending=False)"
   ]
  },
  {
   "cell_type": "markdown",
   "id": "d39f652c",
   "metadata": {},
   "source": [
    "Визуализуируем значимость признаков"
   ]
  },
  {
   "cell_type": "code",
   "execution_count": 38,
   "id": "ca7c1852",
   "metadata": {},
   "outputs": [
    {
     "data": {
      "text/plain": [
       "<Figure size 864x432 with 0 Axes>"
      ]
     },
     "execution_count": 38,
     "metadata": {},
     "output_type": "execute_result"
    },
    {
     "data": {
      "image/png": "[encoded data removed]",
      "text/plain": [
       "<Figure size 864x432 with 1 Axes>"
      ]
     },
     "metadata": {
      "needs_background": "light"
     },
     "output_type": "display_data"
    },
    {
     "data": {
      "text/plain": [
       "<Figure size 864x432 with 0 Axes>"
      ]
     },
     "metadata": {},
     "output_type": "display_data"
    }
   ],
   "source": [
    "feature_imp=pd.Series(rf_model.feature_importances_, index=features.columns).sort_values(ascending=False)\n",
    "plt.figure(figsize=(12,6))\n",
    "sns.barplot(x=feature_imp, y=feature_imp.index)\n",
    "plt.xlabel('Variable Significance Score')\n",
    "plt.ylabel('Variables')\n",
    "plt.title(\"\")\n",
    "plt.figure(figsize=(12,6))"
   ]
  },
  {
   "cell_type": "markdown",
   "id": "f7ca3e26",
   "metadata": {},
   "source": [
    "**Вывод**\n",
    "\n",
    "Рассматривая данные с дисбалансом тремя моделями можно сделать вывод, что самая лучшая модель оказалась модель Случайного леса, в то время как Логистическая регрессия не справилась с требованием и при высоком accuracy, значение F1 оказалось равным '0.31'. Но до требуемого значения меры F1 более 0,59 нам ещё далеко. Узнаем на сколько качественно распределены данные в этих выборках в следующей главе.\n",
    "Самый важный признак для модели Случайного леса  - age(возраст), как и определили выше. Модель можно использовать, например, для сравнения прогнозного значения продуктов и фактического. Тем, у кого прогнозное значение больше, можно предложить новый продукт. С помощью модели также можно предотвратить отток тех, кому она предсказывает уход, но клиент еще не успел."
   ]
  },
  {
   "cell_type": "markdown",
   "id": "157ce392",
   "metadata": {},
   "source": [
    "### Улучшение качества модели, учитывая дисбаланс классов. \n",
    "\n",
    "#### Обучение разных моделей в поисках лучшей\n",
    "\n",
    "\n",
    "Первый способ улучшить качество модели, учитывая дисбаланс классов, это установить параметр модели - balanced\n",
    "\n",
    "**LogisticRegression**"
   ]
  },
  {
   "cell_type": "code",
   "execution_count": 39,
   "id": "0e922dd8",
   "metadata": {},
   "outputs": [],
   "source": [
    "# зададим алгоритм для модели логистической регрессии\n",
    "lr_model_b = LogisticRegression(\n",
    "    random_state=12345, solver='liblinear', class_weight='balanced')\n",
    "# обучим модель\n",
    "lr_model_b.fit(features_train, target_train)\n",
    "# воспользуемся уже обученной моделью, чтобы сделать прогнозы\n",
    "lr_predictions_b = lr_model_b.predict(features_valid)\n",
    "lr_probabilities_b = lr_model_b.predict_proba(features_valid)[:, 1]"
   ]
  },
  {
   "cell_type": "markdown",
   "id": "26e8ca97",
   "metadata": {},
   "source": [
    "**DecisionTree**"
   ]
  },
  {
   "cell_type": "code",
   "execution_count": 40,
   "id": "69c258c4",
   "metadata": {},
   "outputs": [],
   "source": [
    "# Модель на основе алгоритма решающего дерева\n",
    "tree_model_b = DecisionTreeClassifier(\n",
    "    max_depth=7, random_state=12345, class_weight='balanced')\n",
    "\n",
    "tree_model_b.fit(features_train, target_train)\n",
    "tree_predictions_b = tree_model_b.predict(features_valid)\n",
    "tree_probabilities_b = tree_model_b.predict_proba(features_valid)[:, 1]"
   ]
  },
  {
   "cell_type": "markdown",
   "id": "aef94cd7",
   "metadata": {},
   "source": [
    "**RandomForest**"
   ]
  },
  {
   "cell_type": "code",
   "execution_count": 41,
   "id": "1cac62b3",
   "metadata": {},
   "outputs": [],
   "source": [
    "# Модель на основе алгоритма случайного леса\n",
    "rf_model_b = RandomForestClassifier(\n",
    "    max_depth=13, n_estimators=40, random_state=12345, class_weight='balanced')\n",
    "\n",
    "rf_model_b.fit(features_train, target_train)\n",
    "rf_predictions_b = rf_model_b.predict(features_valid)\n",
    "rf_probabilities_b = rf_model_b.predict_proba(features_valid)[:, 1]"
   ]
  },
  {
   "cell_type": "markdown",
   "id": "6fb4f710",
   "metadata": {},
   "source": [
    "Выведем все метрики"
   ]
  },
  {
   "cell_type": "code",
   "execution_count": 42,
   "id": "9ee4836a",
   "metadata": {},
   "outputs": [
    {
     "name": "stdout",
     "output_type": "stream",
     "text": [
      "Метрики для модели логистической регрессии c балансом:\n",
      "\tAccuracy: 0.71\n",
      "\tPrecision: 0.37\n",
      "\tRecall: 0.68\n",
      "\tF1: 0.48\n",
      "\tROC_AUC: 0.77\n",
      "Метрики для модели дерева решений с балансом:\n",
      "\tAccuracy: 0.78\n",
      "\tPrecision: 0.46\n",
      "\tRecall: 0.70\n",
      "\tF1: 0.55\n",
      "\tROC_AUC: 0.80\n",
      "Метрики для модели случайного леса  с балансом:\n",
      "\tAccuracy: 0.87\n",
      "\tPrecision: 0.72\n",
      "\tRecall: 0.53\n",
      "\tF1: 0.61\n",
      "\tROC_AUC: 0.84\n"
     ]
    }
   ],
   "source": [
    "print_all_metrics(target_valid, lr_predictions_b, lr_probabilities_b,\n",
    "                  title='Метрики для модели логистической регрессии c балансом:')\n",
    "print_all_metrics(target_valid, tree_predictions_b,\n",
    "                  tree_probabilities_b, title='Метрики для модели дерева решений с балансом:')\n",
    "print_all_metrics(target_valid, rf_predictions_b, rf_probabilities_b,\n",
    "                  title='Метрики для модели случайного леса  с балансом:')"
   ]
  },
  {
   "cell_type": "markdown",
   "id": "80586bef",
   "metadata": {},
   "source": [
    "Второй способ борьбы с дисбалансом данных - увеличение и уменьшение количества  классов\n",
    "\n",
    "Создадим функцию, для увеличения выборки по первому [1] классу данных и уменьшению выборки по нулевому [0] классу"
   ]
  },
  {
   "cell_type": "code",
   "execution_count": 43,
   "id": "4f5a9383",
   "metadata": {},
   "outputs": [],
   "source": [
    "def down_up_sample(features, target, fraction, repeat):\n",
    "    features_zeros = features[target == 0]\n",
    "    features_ones = features[target == 1]\n",
    "    target_zeros = target[target == 0]\n",
    "    target_ones = target[target == 1]\n",
    "\n",
    "    features_down_up = pd.concat([features_zeros.sample(\n",
    "        frac=fraction, random_state=12345)] + [features_ones]*repeat)\n",
    "    target_down_up = pd.concat([target_zeros.sample(\n",
    "        frac=fraction, random_state=12345)] + [target_ones]*repeat)\n",
    "\n",
    "    features_down_up_sampled, target_down_up_sampled = shuffle(\n",
    "        features_down_up, target_down_up, random_state=12345)\n",
    "\n",
    "    return features_down_up_sampled, target_down_up_sampled\n",
    "\n",
    "\n",
    "features_upsampled, target_upsampled = down_up_sample(\n",
    "    features_train, target_train, 0.5, 2)"
   ]
  },
  {
   "cell_type": "markdown",
   "id": "f23b638e",
   "metadata": {},
   "source": [
    "Проверим баланс распределения классов"
   ]
  },
  {
   "cell_type": "code",
   "execution_count": 44,
   "id": "76d29c82",
   "metadata": {},
   "outputs": [
    {
     "data": {
      "image/png": "[encoded data removed]",
      "text/plain": [
       "<Figure size 396x396 with 1 Axes>"
      ]
     },
     "metadata": {},
     "output_type": "display_data"
    }
   ],
   "source": [
    "colors = ['#0072BD', \"#ff0000\"]\n",
    "target_upsampled.value_counts(normalize=True).plot(kind='pie', figsize=[\n",
    "    5.5, 5.5], legend=False, autopct='%1.1f%%', colors=colors, labels=['Клиент не потерян, класс [0]', 'Потеря клиента, класс [1]'])\n",
    "plt.title('Баланс распределения классов в данных')\n",
    "# plt.xlabel('Класс')\n",
    "plt.ylabel('')\n",
    "plt.show()"
   ]
  },
  {
   "cell_type": "markdown",
   "id": "8ebe8eb3",
   "metadata": {},
   "source": [
    "Проверим данные на наших моделях\n",
    "\n",
    "\n",
    "**LogisticRegression**"
   ]
  },
  {
   "cell_type": "code",
   "execution_count": 45,
   "id": "21bd905f",
   "metadata": {},
   "outputs": [],
   "source": [
    "# зададим алгоритм для модели логистической регрессии\n",
    "lr_model_d = LogisticRegression(random_state=12345, solver='liblinear')\n",
    "# обучим модель\n",
    "lr_model_d.fit(features_upsampled, target_upsampled)\n",
    "# воспользуемся уже обученной моделью, чтобы сделать прогнозы\n",
    "lr_predictions_d = lr_model_d.predict(features_valid)\n",
    "lr_probabilities_d = lr_model_d.predict_proba(features_valid)[:, 1]"
   ]
  },
  {
   "cell_type": "markdown",
   "id": "594557ec",
   "metadata": {},
   "source": [
    "**DecisionTree**"
   ]
  },
  {
   "cell_type": "code",
   "execution_count": 46,
   "id": "971cbfb4",
   "metadata": {},
   "outputs": [],
   "source": [
    "# Модель на основе алгоритма решающего дерева\n",
    "tree_model_d = DecisionTreeClassifier(max_depth=6, random_state=12345)\n",
    "tree_model_d.fit(features_upsampled, target_upsampled)\n",
    "tree_predictions_d = tree_model_d.predict(features_valid)\n",
    "tree_probabilities_d = tree_model_d.predict_proba(features_valid)[:, 1]"
   ]
  },
  {
   "cell_type": "markdown",
   "id": "e81ec92c",
   "metadata": {},
   "source": [
    "**RandomForest**"
   ]
  },
  {
   "cell_type": "code",
   "execution_count": 47,
   "id": "abaa4a3f",
   "metadata": {},
   "outputs": [
    {
     "name": "stdout",
     "output_type": "stream",
     "text": [
      "Наилучшее качество модели 0.81 при количестве деревьев 20 с максимальной глубиной 19\n"
     ]
    }
   ],
   "source": [
    "best_est = 0\n",
    "best_model = None\n",
    "best_result = 0\n",
    "best_depth = 0\n",
    "for est in range(10, 60, 10):\n",
    "    for depth in range(1, 60, 2):\n",
    "\n",
    "        rf_model_ = RandomForestClassifier(\n",
    "            random_state=12345, n_estimators=est, max_depth=depth)\n",
    "        rf_model_.fit(features_upsampled, target_upsampled)\n",
    "        result_rf_ = rf_model_.score(features_valid, target_valid)\n",
    "        if result_rf_ > best_result:\n",
    "            best_model = rf_model_\n",
    "            best_result = result_rf_\n",
    "            best_est = est\n",
    "            best_depth = depth\n",
    "\n",
    "print('Наилучшее качество модели {:.2f} при количестве деревьев {} с максимальной глубиной {}'.format(\n",
    "    best_result, best_est, best_depth))"
   ]
  },
  {
   "cell_type": "code",
   "execution_count": 48,
   "id": "68d71431",
   "metadata": {},
   "outputs": [],
   "source": [
    "# Модель на основе алгоритма случайного леса\n",
    "rf_model_d = RandomForestClassifier(\n",
    "    max_depth=19, n_estimators=20, random_state=12345)\n",
    "rf_model_d.fit(features_upsampled, target_upsampled)\n",
    "rf_predictions_d = rf_model_d.predict(features_valid)\n",
    "rf_probabilities_d = rf_model_d.predict_proba(features_valid)[:, 1]"
   ]
  },
  {
   "cell_type": "markdown",
   "id": "60028847",
   "metadata": {},
   "source": [
    "Выведем все метрики"
   ]
  },
  {
   "cell_type": "code",
   "execution_count": 49,
   "id": "20127cc3",
   "metadata": {},
   "outputs": [
    {
     "name": "stdout",
     "output_type": "stream",
     "text": [
      "Метрики для модели логистической регрессии:\n",
      "\tAccuracy: 0.70\n",
      "\tPrecision: 0.36\n",
      "\tRecall: 0.69\n",
      "\tF1: 0.47\n",
      "\tROC_AUC: 0.77\n",
      "Метрики для модели дерева решений:\n",
      "\tAccuracy: 0.77\n",
      "\tPrecision: 0.44\n",
      "\tRecall: 0.75\n",
      "\tF1: 0.56\n",
      "\tROC_AUC: 0.81\n",
      "Метрики для модели случайного леса:\n",
      "\tAccuracy: 0.81\n",
      "\tPrecision: 0.51\n",
      "\tRecall: 0.64\n",
      "\tF1: 0.57\n",
      "\tROC_AUC: 0.83\n"
     ]
    }
   ],
   "source": [
    "print_all_metrics(target_valid, lr_predictions_d, lr_probabilities_d,\n",
    "                  title='Метрики для модели логистической регрессии:')\n",
    "print_all_metrics(target_valid, tree_predictions_d,\n",
    "                  tree_probabilities_d, title='Метрики для модели дерева решений:')\n",
    "print_all_metrics(target_valid, rf_predictions_d, rf_probabilities_d,\n",
    "                  title='Метрики для модели случайного леса:')"
   ]
  },
  {
   "cell_type": "markdown",
   "id": "c454da23",
   "metadata": {},
   "source": [
    "Матрица предсказаний наилучшей модели c учётом дисбаланса данных"
   ]
  },
  {
   "cell_type": "code",
   "execution_count": 50,
   "id": "627a046d",
   "metadata": {},
   "outputs": [
    {
     "name": "stdout",
     "output_type": "stream",
     "text": [
      "[[1371  238]\n",
      " [ 142  249]]\n"
     ]
    }
   ],
   "source": [
    "print(confusion_matrix(target_valid, rf_predictions_d))"
   ]
  },
  {
   "cell_type": "markdown",
   "id": "d77e766d",
   "metadata": {},
   "source": [
    "**Вывод**\n",
    "\n",
    "По результату сравнения трёх моделей лучшей моделью по показателю метрики F1 показала себя модель Случайный лес(RandomForest) со значением F1=0.61 при установке параметра \"balanced\", а при уменьшении и увеличении классов - F1=0.57. Для дальнейшего тестирования выберем способ для регулировки дисбаланса с установкой параметра \"balanced\""
   ]
  },
  {
   "cell_type": "markdown",
   "id": "763e35ec",
   "metadata": {},
   "source": [
    "#### Определим порог классификации для модели RandomForest"
   ]
  },
  {
   "cell_type": "code",
   "execution_count": 51,
   "id": "ab2b9def",
   "metadata": {},
   "outputs": [
    {
     "name": "stdout",
     "output_type": "stream",
     "text": [
      "Вероятность положительного класса: [0.27554328 0.62527746 0.08073967 0.69887577 0.71497744]\n"
     ]
    }
   ],
   "source": [
    "print(\"Вероятность положительного класса:\", rf_probabilities_b[:5])"
   ]
  },
  {
   "cell_type": "markdown",
   "id": "48979cc9",
   "metadata": {},
   "source": [
    "Переберем значения порогов от 0 до 0.7 с шагом 0.02. Найдём для каждого значения точность и полноту"
   ]
  },
  {
   "cell_type": "code",
   "execution_count": 52,
   "id": "4374de03",
   "metadata": {},
   "outputs": [
    {
     "name": "stdout",
     "output_type": "stream",
     "text": [
      "Порог = 0.00 | Точность = 0.196, Полнота = 1.000, F1 = 0.328\n",
      "Порог = 0.02 | Точность = 0.205, Полнота = 0.992, F1 = 0.340\n",
      "Порог = 0.04 | Точность = 0.222, Полнота = 0.980, F1 = 0.362\n",
      "Порог = 0.06 | Точность = 0.238, Полнота = 0.967, F1 = 0.382\n",
      "Порог = 0.08 | Точность = 0.255, Полнота = 0.959, F1 = 0.403\n",
      "Порог = 0.10 | Точность = 0.272, Полнота = 0.939, F1 = 0.421\n",
      "Порог = 0.12 | Точность = 0.291, Полнота = 0.921, F1 = 0.443\n",
      "Порог = 0.14 | Точность = 0.313, Полнота = 0.910, F1 = 0.466\n",
      "Порог = 0.16 | Точность = 0.335, Полнота = 0.887, F1 = 0.486\n",
      "Порог = 0.18 | Точность = 0.353, Полнота = 0.864, F1 = 0.501\n",
      "Порог = 0.20 | Точность = 0.367, Полнота = 0.831, F1 = 0.509\n",
      "Порог = 0.22 | Точность = 0.391, Полнота = 0.813, F1 = 0.528\n",
      "Порог = 0.24 | Точность = 0.406, Полнота = 0.785, F1 = 0.535\n",
      "Порог = 0.26 | Точность = 0.429, Полнота = 0.762, F1 = 0.549\n",
      "Порог = 0.28 | Точность = 0.446, Полнота = 0.734, F1 = 0.555\n",
      "Порог = 0.30 | Точность = 0.477, Полнота = 0.726, F1 = 0.575\n",
      "Порог = 0.32 | Точность = 0.496, Полнота = 0.696, F1 = 0.579\n",
      "Порог = 0.34 | Точность = 0.514, Полнота = 0.678, F1 = 0.584\n",
      "Порог = 0.36 | Точность = 0.523, Полнота = 0.652, F1 = 0.580\n",
      "Порог = 0.38 | Точность = 0.552, Полнота = 0.634, F1 = 0.590\n",
      "Порог = 0.40 | Точность = 0.564, Полнота = 0.619, F1 = 0.590\n",
      "Порог = 0.42 | Точность = 0.590, Полнота = 0.606, F1 = 0.598\n",
      "Порог = 0.44 | Точность = 0.614, Полнота = 0.581, F1 = 0.597\n",
      "Порог = 0.46 | Точность = 0.648, Полнота = 0.555, F1 = 0.598\n",
      "Порог = 0.48 | Точность = 0.673, Полнота = 0.542, F1 = 0.601\n",
      "Порог = 0.50 | Точность = 0.715, Полнота = 0.527, F1 = 0.607\n",
      "Порог = 0.52 | Точность = 0.725, Полнота = 0.499, F1 = 0.591\n",
      "Порог = 0.54 | Точность = 0.746, Полнота = 0.473, F1 = 0.579\n",
      "Порог = 0.56 | Точность = 0.756, Полнота = 0.460, F1 = 0.572\n",
      "Порог = 0.58 | Точность = 0.767, Полнота = 0.445, F1 = 0.563\n",
      "Порог = 0.60 | Точность = 0.802, Полнота = 0.435, F1 = 0.564\n",
      "Порог = 0.62 | Точность = 0.827, Полнота = 0.404, F1 = 0.543\n",
      "Порог = 0.64 | Точность = 0.819, Полнота = 0.371, F1 = 0.511\n",
      "Порог = 0.66 | Точность = 0.822, Полнота = 0.355, F1 = 0.496\n",
      "Порог = 0.68 | Точность = 0.831, Полнота = 0.327, F1 = 0.470\n"
     ]
    }
   ],
   "source": [
    "for threshold in np.arange(0, 0.7, 0.02):\n",
    "    predicted_valid = rf_probabilities_b > threshold\n",
    "    precision = precision_score(target_valid, predicted_valid)\n",
    "    recall = recall_score(target_valid, predicted_valid)\n",
    "    f1 = f1_score(target_valid, predicted_valid)\n",
    "    print(\"Порог = {:.2f} | Точность = {:.3f}, Полнота = {:.3f}, F1 = {:.3f}\".format(\n",
    "        threshold, precision, recall, f1))"
   ]
  },
  {
   "cell_type": "markdown",
   "id": "8afae83c",
   "metadata": {},
   "source": [
    "Изобразим на графике, как выглядят значения метрик при изменении порога."
   ]
  },
  {
   "cell_type": "code",
   "execution_count": 53,
   "id": "6d5c9a2e",
   "metadata": {},
   "outputs": [
    {
     "data": {
      "image/png": "[encoded data removed]",
      "text/plain": [
       "<Figure size 360x360 with 1 Axes>"
      ]
     },
     "metadata": {
      "needs_background": "light"
     },
     "output_type": "display_data"
    }
   ],
   "source": [
    "precision, recall, thresholds = precision_recall_curve(target_valid, rf_probabilities_b)\n",
    "plt.figure(figsize=(5, 5))\n",
    "plt.step(recall, precision, where='post')\n",
    "plt.xlabel('Recall')\n",
    "plt.ylabel('Precision')\n",
    "plt.ylim([0.0, 1.05])\n",
    "plt.xlim([0.0, 1.0])\n",
    "plt.title('Кривая Precision-Recall')\n",
    "plt.show() "
   ]
  },
  {
   "cell_type": "markdown",
   "id": "d6b3b51d",
   "metadata": {},
   "source": [
    "Пороговое значение 0,5 выглядит наиболее оптимальным для нашей модели"
   ]
  },
  {
   "cell_type": "code",
   "execution_count": 54,
   "id": "000f64cb",
   "metadata": {},
   "outputs": [
    {
     "data": {
      "text/plain": [
       "(2000,)"
      ]
     },
     "execution_count": 54,
     "metadata": {},
     "output_type": "execute_result"
    }
   ],
   "source": [
    "predicted_rf_threshold = (rf_probabilities_b > 0.5)*1\n",
    "predicted_rf_threshold.shape"
   ]
  },
  {
   "cell_type": "markdown",
   "id": "926be2bc",
   "metadata": {},
   "source": [
    "Выведем метрики"
   ]
  },
  {
   "cell_type": "code",
   "execution_count": 55,
   "id": "19c396d5",
   "metadata": {},
   "outputs": [
    {
     "name": "stdout",
     "output_type": "stream",
     "text": [
      "              precision    recall  f1-score   support\n",
      "\n",
      "           0       0.89      0.95      0.92      1609\n",
      "           1       0.72      0.53      0.61       391\n",
      "\n",
      "    accuracy                           0.87      2000\n",
      "   macro avg       0.80      0.74      0.76      2000\n",
      "weighted avg       0.86      0.87      0.86      2000\n",
      "\n"
     ]
    }
   ],
   "source": [
    "f1_random_forest_t = f1_score(target_valid, predicted_rf_threshold)\n",
    "print(classification_report(target_valid, predicted_rf_threshold))"
   ]
  },
  {
   "cell_type": "markdown",
   "id": "5a346cf7",
   "metadata": {},
   "source": [
    "#### Исследование метрики AUC-ROC\n"
   ]
  },
  {
   "cell_type": "code",
   "execution_count": 56,
   "id": "92459a32",
   "metadata": {},
   "outputs": [
    {
     "data": {
      "image/png": "[encoded data removed]",
      "text/plain": [
       "<Figure size 432x432 with 1 Axes>"
      ]
     },
     "metadata": {
      "needs_background": "light"
     },
     "output_type": "display_data"
    }
   ],
   "source": [
    "fpr, tpr, thresholds = roc_curve(target_valid, rf_probabilities_b)\n",
    "auc_roc = roc_auc_score(target_valid, rf_probabilities_b)\n",
    "plt.plot(fpr, tpr)\n",
    "plt.plot([0, 1], [0, 1], linestyle='--')\n",
    "plt.xlim([-0.01, 1.01])\n",
    "plt.ylim([-0.01, 1.01])\n",
    "plt.text(0.2, 0.52, 'ROC-AUC = {:.2f}'.format(auc_roc))\n",
    "plt.xlabel('False Positive Rate')\n",
    "plt.ylabel('True Positive Rate')\n",
    "plt.title('ROC-кривая')\n",
    "plt.show()"
   ]
  },
  {
   "cell_type": "markdown",
   "id": "6bc09037",
   "metadata": {},
   "source": [
    "Наша модель RandomForest достаточно сильно отличается от случайной. Это видно по высоте кривой. Площадь под ROC-кривой — AUC-ROC=0.84, тогда как площадь случайно модели равна 0.5."
   ]
  },
  {
   "cell_type": "markdown",
   "id": "2158c571",
   "metadata": {},
   "source": [
    "**Вывод**\n",
    "\n",
    "Увеличение и уменьшение классов в выборке в целом  не показал лучшие результаты по улучшению метрики F1, а  лучшее влияние оказал параметр сlass_weight='balanced'. При увеличении и уменьшении классов в выборке полнота и точность у модели Случайный лес уменьшилась и увеличилась соответственно по сравнению с применением параметра 'balanced' \n",
    "\n",
    "Лучшей моделью на валидационной выборке можно легко назвать Random Forest, еще до учета дисбаланса это модель выдает на 0.1+ лучше показатель F1 и также имеет самый высокий AUC_ROC в 0.84 и для нее лучшей балансировкой  со значением f1=0.61 стала установка параметра \"balanced\"."
   ]
  },
  {
   "cell_type": "markdown",
   "id": "52e7e7fd",
   "metadata": {},
   "source": [
    "### Финальное тестирование\n",
    "\n",
    "Протестируем нашу лучшую модель Случайный лес (RandomForest)"
   ]
  },
  {
   "cell_type": "code",
   "execution_count": 57,
   "id": "8dc587c7",
   "metadata": {},
   "outputs": [
    {
     "name": "stdout",
     "output_type": "stream",
     "text": [
      "Метрики для модели случайного леса с балансом:\n",
      "\tAccuracy: 0.85\n",
      "\tPrecision: 0.70\n",
      "\tRecall: 0.51\n",
      "\tF1: 0.59\n",
      "\tROC_AUC: 0.85\n"
     ]
    }
   ],
   "source": [
    "model_test = RandomForestClassifier(\n",
    "    max_depth=13, n_estimators=40, random_state=12345, class_weight='balanced')\n",
    "\n",
    "model_test.fit(features_train, target_train)\n",
    "predictions_test = model_test.predict(features_test)\n",
    "probabilities_test = model_test.predict_proba(features_test)[:, 1]\n",
    "\n",
    "print_all_metrics(target_test, predictions_test, probabilities_test,\n",
    "                  title='Метрики для модели случайного леса с балансом:')"
   ]
  },
  {
   "cell_type": "markdown",
   "id": "df64ff82",
   "metadata": {},
   "source": [
    "Исследование метрики AUC-ROC для тестовой модели"
   ]
  },
  {
   "cell_type": "code",
   "execution_count": 58,
   "id": "5e9501e1",
   "metadata": {},
   "outputs": [
    {
     "data": {
      "image/png": "[encoded data removed]",
      "text/plain": [
       "<Figure size 432x432 with 1 Axes>"
      ]
     },
     "metadata": {
      "needs_background": "light"
     },
     "output_type": "display_data"
    }
   ],
   "source": [
    "fpr, tpr, thresholds = roc_curve(target_test, probabilities_test)\n",
    "auc_roc = roc_auc_score(target_test, probabilities_test)\n",
    "plt.plot(fpr, tpr)\n",
    "plt.plot([0, 1], [0, 1], linestyle='--')\n",
    "plt.xlim([-0.01, 1.01])\n",
    "plt.ylim([-0.01, 1.01])\n",
    "plt.text(0.2, 0.52, 'ROC-AUC = {:.2f}'.format(auc_roc))\n",
    "plt.xlabel('False Positive Rate')\n",
    "plt.ylabel('True Positive Rate')\n",
    "plt.title('ROC-кривая')\n",
    "plt.show()"
   ]
  },
  {
   "cell_type": "markdown",
   "id": "803e4f3e",
   "metadata": {},
   "source": [
    "Наша тестовая модель RandomForest достаточно сильно отличается от случайной. Это видно по высоте кривой. Площадь под ROC-кривой — AUC-ROC=0.85, тогда как площадь случайно модели равна 0.5."
   ]
  },
  {
   "cell_type": "markdown",
   "id": "b8718c7a",
   "metadata": {},
   "source": [
    "Проверим тестовую модель на адекватность  при помощи DummyClassifier"
   ]
  },
  {
   "cell_type": "code",
   "execution_count": 59,
   "id": "02ead2f2",
   "metadata": {},
   "outputs": [
    {
     "name": "stdout",
     "output_type": "stream",
     "text": [
      "F1 константной модели: 0.00\n",
      "Accuracy константной модели: 1.00\n"
     ]
    }
   ],
   "source": [
    "dummy_clf = DummyClassifier(strategy=\"most_frequent\",random_state=12345)\n",
    "dummy_clf.fit(features_test, target_test)\n",
    "\n",
    "predict_dummy = dummy_clf.predict(features_test)\n",
    "f1_dummy = f1_score(target_test,predict_dummy)\n",
    "accurcy_dummy = dummy_clf.score(target_test,predict_dummy)\n",
    "print('F1 константной модели: {:.2f}'.format(f1_dummy))\n",
    "print('Accuracy константной модели: {:.2f}'.format(accurcy_dummy))"
   ]
  },
  {
   "cell_type": "markdown",
   "id": "fb8bf03f",
   "metadata": {},
   "source": [
    "**Вывод**\n",
    "\n",
    " На тестовой выборке наша модель показала, что способна давать предсказания с качестовом accuracy = 0.85 при этом держать показатель меры F1 на уровне 0.59. \n",
    "Для проверки адекватности нашей модели мы провели сравнение с константной моделью DummyClassifier, где при значении accuracy = 1, значение меры F1 = 0.0, что говорит о том, что наша модель прошла проверку на адекватность.\n"
   ]
  },
  {
   "cell_type": "markdown",
   "id": "fc13404c",
   "metadata": {},
   "source": [
    "### Общий вывод"
   ]
  },
  {
   "cell_type": "code",
   "execution_count": 60,
   "id": "e98e7773",
   "metadata": {},
   "outputs": [
    {
     "data": {
      "text/html": [
       "<div>\n",
       "<style scoped>\n",
       "    .dataframe tbody tr th:only-of-type {\n",
       "        vertical-align: middle;\n",
       "    }\n",
       "\n",
       "    .dataframe tbody tr th {\n",
       "        vertical-align: top;\n",
       "    }\n",
       "\n",
       "    .dataframe thead th {\n",
       "        text-align: right;\n",
       "    }\n",
       "</style>\n",
       "<table border=\"1\" class=\"dataframe\">\n",
       "  <thead>\n",
       "    <tr style=\"text-align: right;\">\n",
       "      <th></th>\n",
       "      <th>LogisticRegression_balanced</th>\n",
       "      <th>DecisionTree_balanced</th>\n",
       "      <th>RandomForest_balanced</th>\n",
       "      <th>RandomForest_balanced_test</th>\n",
       "    </tr>\n",
       "  </thead>\n",
       "  <tbody>\n",
       "    <tr>\n",
       "      <th>Accuracy</th>\n",
       "      <td>0.71</td>\n",
       "      <td>0.78</td>\n",
       "      <td>0.87</td>\n",
       "      <td>0.85</td>\n",
       "    </tr>\n",
       "    <tr>\n",
       "      <th>Precision</th>\n",
       "      <td>0.37</td>\n",
       "      <td>0.46</td>\n",
       "      <td>0.72</td>\n",
       "      <td>0.70</td>\n",
       "    </tr>\n",
       "    <tr>\n",
       "      <th>Recall</th>\n",
       "      <td>0.68</td>\n",
       "      <td>0.70</td>\n",
       "      <td>0.53</td>\n",
       "      <td>0.51</td>\n",
       "    </tr>\n",
       "    <tr>\n",
       "      <th>F1</th>\n",
       "      <td>0.48</td>\n",
       "      <td>0.55</td>\n",
       "      <td>0.61</td>\n",
       "      <td>0.59</td>\n",
       "    </tr>\n",
       "    <tr>\n",
       "      <th>ROC_AUC</th>\n",
       "      <td>0.77</td>\n",
       "      <td>0.80</td>\n",
       "      <td>0.84</td>\n",
       "      <td>0.85</td>\n",
       "    </tr>\n",
       "  </tbody>\n",
       "</table>\n",
       "</div>"
      ],
      "text/plain": [
       "           LogisticRegression_balanced  DecisionTree_balanced  \\\n",
       "Accuracy                          0.71                   0.78   \n",
       "Precision                         0.37                   0.46   \n",
       "Recall                            0.68                   0.70   \n",
       "F1                                0.48                   0.55   \n",
       "ROC_AUC                           0.77                   0.80   \n",
       "\n",
       "           RandomForest_balanced  RandomForest_balanced_test  \n",
       "Accuracy                    0.87                        0.85  \n",
       "Precision                   0.72                        0.70  \n",
       "Recall                      0.53                        0.51  \n",
       "F1                          0.61                        0.59  \n",
       "ROC_AUC                     0.84                        0.85  "
      ]
     },
     "execution_count": 60,
     "metadata": {},
     "output_type": "execute_result"
    }
   ],
   "source": [
    "rezult = {'LogisticRegression_balanced': np.array([0.71, 0.37, 0.68, 0.48, 0.77]), 'DecisionTree_balanced': np.array(\n",
    "    [0.78, 0.46, 0.70, 0.55, 0.80]), 'RandomForest_balanced': np.array(\n",
    "    [0.87, 0.72, 0.53, 0.61, 0.84]), 'RandomForest_balanced_test': np.array(\n",
    "    [0.85, 0.70, 0.51, 0.59, 0.85])}\n",
    "rezult_df = pd.DataFrame(\n",
    "    rezult, index=['Accuracy', 'Precision', 'Recall', 'F1', 'ROC_AUC'])\n",
    "rezult_df"
   ]
  },
  {
   "cell_type": "markdown",
   "id": "222ca0d1",
   "metadata": {},
   "source": [
    "Целью исследования была задача создать модели, предсказывающей поведение клиентов: уйдёт клиент из банка в ближайшее время или нет. В нашем распоряжении были исторические данные о поведении клиентов и расторжении договоров с банком.\n",
    "\n",
    "На этапе подготовки данных для обучения моделей была проведена работа по изучению качества данных и баланса распределения классов. Так же были применены способы приведения разномерных данных к одному масштабу для более качественного обучения наших моделей.\n",
    "\n",
    "В ходе проверки трех различных алгоритмов машинного обучения мы исследовали различные способы устранения дисбаланса  с применением циклов по подбору гиперпараметров по каждой модели в отдельности. Наилучшей оказалась модель RandomForest(как видно из таблицы) со следующими параметрами: количество деревьев 40, глубина 13, а также c интересующим нас показателем F1 = 0.61, и показали отношение показателей True Positve и False Positive на графике, на котором наша модель имеет показатель ROC-AUC = 0.84.\n",
    "\n",
    "В завершении выбора наилучшей модели, мы дополнительно проверили на адекватность нашу тестовую модель, доказав, что модель вменяема.\n",
    "\n"
   ]
  }
 ],
 "metadata": {
  "kernelspec": {
   "display_name": "Python 3 (ipykernel)",
   "language": "python",
   "name": "python3"
  },
  "language_info": {
   "codemirror_mode": {
    "name": "ipython",
    "version": 3
   },
   "file_extension": ".py",
   "mimetype": "text/x-python",
   "name": "python",
   "nbconvert_exporter": "python",
   "pygments_lexer": "ipython3",
   "version": "3.9.7"
  },
  "toc": {
   "base_numbering": "1",
   "nav_menu": {},
   "number_sections": true,
   "sideBar": true,
   "skip_h1_title": true,
   "title_cell": "Table of Contents",
   "title_sidebar": "Содержание",
   "toc_cell": false,
   "toc_position": {
    "height": "calc(100% - 180px)",
    "left": "10px",
    "top": "150px",
    "width": "384px"
   },
   "toc_section_display": true,
   "toc_window_display": false
  }
 },
 "nbformat": 4,
 "nbformat_minor": 5
}
