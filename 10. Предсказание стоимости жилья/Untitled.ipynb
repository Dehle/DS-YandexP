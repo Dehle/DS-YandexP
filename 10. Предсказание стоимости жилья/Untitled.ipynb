{
 "cells": [
  {
   "cell_type": "markdown",
   "id": "0be367c6",
   "metadata": {},
   "source": [
    "# YandexP-DS\n",
    "Проекты, выполненные в рамках программы \"Data science\" Яндекс.Практикум:\n",
    "Краткое описание проектов и ссылки:\n",
    "| |Название проекта|Краткое описание, задачи проекта|Навыки и инструменты|\n",
    "|-----|-----|-----|-----|\n",
    "|1.| [Исследование предпочтений пользователей: музыка больших городов](https://github.com/Dehle/YandexP-DS.git) | Определение предпочтений слушателей музыки в зависимости от дня недели и города | Pandas |\n",
    "|2.| [Исследование надёжности заёмщиков — анализ банковских данных](https://github.com/Dehle/YandexP-DS.git) | Как влияет семейное положение и количество детей клиента на факт возврата кредита в срок? | предобработка данных, Python, Pandas, PyMystem3, лемматизация, SciPy, Matplotlib, Seaborn, SciKitLearn, numpy |\n",
    "|3.| [Продажа квартир в Санкт-Петербурге — анализ рынка недвижимости](https://github.com/Dehle/YandexP-DS.git) | Определение рыночной стоимости объектов недвижимости и типичных параметры квартир для построения автоматизированной системы определения цен во избежание мошенничества и аномалий | Python, Pandas, Matplotlib, исследовательский анализ данных, визуализация данных, предобработка данных, math |\n",
    "|4.| [Исследование данных о российском кинопрокате](https://github.com/Dehle/YandexP-DS.git) | Изучение рынка российского кинопроката и выявление текущих трендов, в частности, интерес зрителей к фильмам с   государственной поддержкой | Python, Pandas, Matplotlib, pymystem3, seaborn, исследовательский анализ данных, визуализация данных, предобработка данных|\n",
    "|5.| [Определение выгодного тарифа для телеком компании](https://github.com/Dehle/YandexP-DS.git) | На основе данных клиентов оператора сотовой связи проанализировать поведение клиентов и поиск оптимального тарифа. | Python, Pandas, Matplotlib, SciPy, проверка статистических гипотез, описательная статистика|\n",
    "|6.| [Классификаиция клиентов телеком компании](https://github.com/Dehle/YandexP-DS.git) | Построить  для оператора сотовой связи систему, способную проанализировать поведение клиентов, использующих архивные тарифы, и предложить пользователям один из новых тарифов. | Pandas, sklearn, numpy, Seaborn, Matplotlib, math, машинное обучение |\n",
    "|7.| [Отток клиентов банка]([https://github.com/Dehle/YandexP-DS.git](https://github.com/Dehle/YandexP-DS/main/churn of bank's clients.ipynb)) | Построить модель удержание старых или привлечение новых клиентов банка | Pandas, Matplotlib, Seaborn, numpy, sklearn, math, машинное обучение \n",
    "|8.| [Анализ прибыльности региона для добычи нефти](https://https://github.com/Dehle/YandexP-DS.git) | Построить модель машинного обучения, которая поможет определить регион, где добыча принесет наибольшую прибыль с наименьшим риском убытков | Pandas, sklearn, math, numpy, Seaborn, Matplotlib, SciPy, Bootstrap, машинное обучение |\n",
    "|9.| [Прогноз отмены бронирования в отеле](https://https://github.com/Dehle/YandexP-DS.git) | Анализ бронирования в отеле с разработкой системы, которая предсказывает отказ от брони  с наименьшим риском убытков | Pandas, sklearn, math, numpy, Seaborn, Matplotlib, sklearn, pandas_profiling, scipy, машинное обучение |\n",
    "|10.| [Предсказание стоимости жилья](https://https://github.com/Dehle/YandexP-DS.git) |  Предсказать медианную стоимость дома в жилом массиве — median_house_value. Обучить модель и сделать предсказания на тестовой выборке. Для оценки качества модели использовать метрики RMSE, MAE и R2 | Pandas, pyspark, , numpy, Seaborn, Matplotlib,  pandas_profiling, scipy, машинное обучение |\n",
    "|11.| [Разработка алгоритма для защиты данных](https://github.com/Dehle/YandexP-DS.git) | Разработать метод преобразования данных для защиты личной информации клиентов страховой компании | Pandas, Seaborn, numpy, sklearn, машинное обучение |"
   ]
  }
 ],
 "metadata": {
  "kernelspec": {
   "display_name": "Python 3 (ipykernel)",
   "language": "python",
   "name": "python3"
  },
  "language_info": {
   "codemirror_mode": {
    "name": "ipython",
    "version": 3
   },
   "file_extension": ".py",
   "mimetype": "text/x-python",
   "name": "python",
   "nbconvert_exporter": "python",
   "pygments_lexer": "ipython3",
   "version": "3.9.7"
  },
  "toc": {
   "base_numbering": 1,
   "nav_menu": {},
   "number_sections": true,
   "sideBar": true,
   "skip_h1_title": false,
   "title_cell": "Table of Contents",
   "title_sidebar": "Contents",
   "toc_cell": false,
   "toc_position": {},
   "toc_section_display": true,
   "toc_window_display": false
  }
 },
 "nbformat": 4,
 "nbformat_minor": 5
}
