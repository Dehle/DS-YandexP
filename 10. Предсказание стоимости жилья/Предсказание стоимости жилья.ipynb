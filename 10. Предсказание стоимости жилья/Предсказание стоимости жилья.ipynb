{
 "cells": [
  {
   "cell_type": "markdown",
   "id": "GEqQaHzsZ_bA",
   "metadata": {
    "id": "GEqQaHzsZ_bA"
   },
   "source": [
    "## Предсказание стоимости жилья\n",
    "\n",
    "\n",
    "\n",
    "В колонках датасета содержатся следующие данные:\n",
    "\n",
    "- `longitude` — широта;\n",
    "- `latitude` — долгота;\n",
    "- `housing_median_age` — медианный возраст жителей жилого массива;\n",
    "- `total_rooms` — общее количество комнат в домах жилого массива;\n",
    "- `total_bedrooms` — общее количество спален в домах жилого массива;\n",
    "- `population` — количество человек, которые проживают в жилом массиве;\n",
    "- `households` — количество домовладений в жилом массиве;\n",
    "- `median_income` — медианный доход жителей жилого массива;\n",
    "- `median_house_value` — медианная стоимость дома в жилом массиве;\n",
    "- `ocean_proximity` — близость к океану.\n",
    "\n",
    "**Цель проекта:**\n",
    "В проекте  необходимо обучить модель линейной регрессии на данных о жилье в Калифорнии в 1990 году. На основе данных нужно предсказать медианную стоимость дома в жилом массиве — median_house_value. Обучить модель и сделать предсказания на тестовой выборке. Для оценки качества модели использовать метрики RMSE, MAE и R2."
   ]
  },
  {
   "cell_type": "markdown",
   "id": "ad5f182c",
   "metadata": {},
   "source": [
    "**План выполнения проекта:**\n",
    " - Инициализировать локальную Spark-сессию.\n",
    " - Прочитать содержимое файла /datasets/housing.csv.\n",
    " - Вывести типы данных колонок датасета. Использовать методы pySpark.\n",
    " - Выполнить предобработку данных:\n",
    " - Исследовать данные на наличие пропусков и заполнить их, выбрав значения по своему усмотрению.\n",
    " - Преобразовать колонку с категориальными значениями техникой One hot encoding.\n",
    " - Построить две модели линейной регрессии на разных наборах данных:\n",
    "   - используя все данные из файла;\n",
    "   - используя только числовые переменные, исключив категориальные.\n",
    " - Для построения модели использовать оценщик LinearRegression из библиотеки MLlib.\n",
    " - Сравнить результаты работы линейной регрессии на двух наборах данных по метрикам RMSE, MAE и R2. Сделать выводы."
   ]
  },
  {
   "cell_type": "markdown",
   "id": "53871372",
   "metadata": {
    "id": "53871372"
   },
   "source": [
    "# Подготовка данных"
   ]
  },
  {
   "cell_type": "markdown",
   "id": "3f7eb70f",
   "metadata": {},
   "source": [
    "Импортируем нужные библиотеки"
   ]
  },
  {
   "cell_type": "code",
   "execution_count": 1,
   "id": "df92e3ec",
   "metadata": {
    "id": "df92e3ec",
    "scrolled": true
   },
   "outputs": [],
   "source": [
    "import pandas as pd \n",
    "import numpy as np\n",
    "import pyspark as ps\n",
    "from pyspark.sql import SparkSession\n",
    "from pyspark.sql.types import *\n",
    "import pyspark.sql.functions as F\n",
    "from pyspark.sql.functions import concat,col\n",
    "from pyspark.ml.feature import StringIndexer, VectorAssembler, StandardScaler\n",
    "from pyspark.ml.regression import LinearRegression\n",
    "import seaborn as sns\n",
    "from pyspark.ml.feature import OneHotEncoder \n",
    "import matplotlib.pyplot as plt\n",
    "from pyspark.mllib.evaluation import RegressionMetrics\n",
    "from pyspark.ml.tuning import CrossValidator, ParamGridBuilder\n",
    "from pyspark.ml.evaluation import RegressionEvaluator\n",
    "import matplotlib.image as mpimg  \n",
    "from pyspark.ml.linalg import Vectors\n",
    "from pyspark.ml.stat import Correlation\n",
    "RANDOM_SEED = 12345\n",
    "\n",
    "import warnings\n",
    "warnings.filterwarnings(action=\"ignore\", module=\"scipy\", message=\"^internal gelsd\")"
   ]
  },
  {
   "cell_type": "markdown",
   "id": "1d797dbe",
   "metadata": {},
   "source": [
    "Инициализируем локальную Spark-сессию"
   ]
  },
  {
   "cell_type": "code",
   "execution_count": 2,
   "id": "a7c45318",
   "metadata": {},
   "outputs": [
    {
     "name": "stderr",
     "output_type": "stream",
     "text": [
      "log4j:ERROR Could not read configuration file from URL [file:/opt/conda/lib/python3.9/site-packages/pyspark/conf/log4j.properties].\n",
      "java.io.FileNotFoundException: /opt/conda/lib/python3.9/site-packages/pyspark/conf/log4j.properties (Permission denied)\n",
      "\tat java.io.FileInputStream.open0(Native Method)\n",
      "\tat java.io.FileInputStream.open(FileInputStream.java:195)\n",
      "\tat java.io.FileInputStream.<init>(FileInputStream.java:138)\n",
      "\tat java.io.FileInputStream.<init>(FileInputStream.java:93)\n",
      "\tat sun.net.www.protocol.file.FileURLConnection.connect(FileURLConnection.java:90)\n",
      "\tat sun.net.www.protocol.file.FileURLConnection.getInputStream(FileURLConnection.java:188)\n",
      "\tat org.apache.log4j.PropertyConfigurator.doConfigure(PropertyConfigurator.java:557)\n",
      "\tat org.apache.log4j.helpers.OptionConverter.selectAndConfigure(OptionConverter.java:526)\n",
      "\tat org.apache.log4j.LogManager.<clinit>(LogManager.java:127)\n",
      "\tat org.slf4j.impl.Log4jLoggerFactory.<init>(Log4jLoggerFactory.java:66)\n",
      "\tat org.slf4j.impl.StaticLoggerBinder.<init>(StaticLoggerBinder.java:72)\n",
      "\tat org.slf4j.impl.StaticLoggerBinder.<clinit>(StaticLoggerBinder.java:45)\n",
      "\tat org.apache.spark.internal.Logging$.org$apache$spark$internal$Logging$$isLog4j12(Logging.scala:222)\n",
      "\tat org.apache.spark.internal.Logging.initializeLogging(Logging.scala:127)\n",
      "\tat org.apache.spark.internal.Logging.initializeLogIfNecessary(Logging.scala:111)\n",
      "\tat org.apache.spark.internal.Logging.initializeLogIfNecessary$(Logging.scala:105)\n",
      "\tat org.apache.spark.deploy.SparkSubmit.initializeLogIfNecessary(SparkSubmit.scala:75)\n",
      "\tat org.apache.spark.deploy.SparkSubmit.doSubmit(SparkSubmit.scala:83)\n",
      "\tat org.apache.spark.deploy.SparkSubmit$$anon$2.doSubmit(SparkSubmit.scala:1007)\n",
      "\tat org.apache.spark.deploy.SparkSubmit$.main(SparkSubmit.scala:1016)\n",
      "\tat org.apache.spark.deploy.SparkSubmit.main(SparkSubmit.scala)\n",
      "log4j:ERROR Ignoring configuration file [file:/opt/conda/lib/python3.9/site-packages/pyspark/conf/log4j.properties].\n",
      "22/05/28 07:24:42 WARN NativeCodeLoader: Unable to load native-hadoop library for your platform... using builtin-java classes where applicable\n",
      "Using Spark's default log4j profile: org/apache/spark/log4j-defaults.properties\n",
      "Setting default log level to \"WARN\".\n",
      "To adjust logging level use sc.setLogLevel(newLevel). For SparkR, use setLogLevel(newLevel).\n"
     ]
    }
   ],
   "source": [
    "spark = SparkSession.builder \\\n",
    "                    .master(\"local\") \\\n",
    "                    .appName(\"EDA California Housing\") \\\n",
    "                    .getOrCreate()"
   ]
  },
  {
   "cell_type": "code",
   "execution_count": 3,
   "id": "2625ee58",
   "metadata": {
    "scrolled": false
   },
   "outputs": [
    {
     "name": "stderr",
     "output_type": "stream",
     "text": [
      "[Stage 1:>                                                          (0 + 1) / 1]\r"
     ]
    },
    {
     "name": "stdout",
     "output_type": "stream",
     "text": [
      "root\n",
      " |-- longitude: double (nullable = true)\n",
      " |-- latitude: double (nullable = true)\n",
      " |-- housing_median_age: double (nullable = true)\n",
      " |-- total_rooms: double (nullable = true)\n",
      " |-- total_bedrooms: double (nullable = true)\n",
      " |-- population: double (nullable = true)\n",
      " |-- households: double (nullable = true)\n",
      " |-- median_income: double (nullable = true)\n",
      " |-- median_house_value: double (nullable = true)\n",
      " |-- ocean_proximity: string (nullable = true)\n",
      "\n"
     ]
    },
    {
     "name": "stderr",
     "output_type": "stream",
     "text": [
      "                                                                                \r"
     ]
    }
   ],
   "source": [
    "df_housing = spark.read.load('/datasets/housing.csv', format=\"csv\", sep=\",\", inferSchema=True, header=\"true\")\n",
    "df_housing.printSchema()"
   ]
  },
  {
   "cell_type": "markdown",
   "id": "c71697f3",
   "metadata": {},
   "source": [
    "Выведем типы данных колонок датасета. Используем для этого метод pySpark dtypes:"
   ]
  },
  {
   "cell_type": "code",
   "execution_count": 4,
   "id": "a2bd6017",
   "metadata": {},
   "outputs": [
    {
     "name": "stdout",
     "output_type": "stream",
     "text": [
      "               column    type\n",
      "0           longitude  double\n",
      "1            latitude  double\n",
      "2  housing_median_age  double\n",
      "3         total_rooms  double\n",
      "4      total_bedrooms  double\n",
      "5          population  double\n",
      "6          households  double\n",
      "7       median_income  double\n",
      "8  median_house_value  double\n",
      "9     ocean_proximity  string\n"
     ]
    }
   ],
   "source": [
    "print(pd.DataFrame(df_housing.dtypes, columns=['column', 'type']))"
   ]
  },
  {
   "cell_type": "markdown",
   "id": "7ad2ee16",
   "metadata": {},
   "source": [
    "В большинстве колонок хранятся количественные данные, кроме одной — `ocean_proximity`. Она хранит категориальные значения.\n",
    "\n",
    "Выведем 5 строк полученного датафрейма"
   ]
  },
  {
   "cell_type": "code",
   "execution_count": 5,
   "id": "24a6caff",
   "metadata": {},
   "outputs": [
    {
     "name": "stdout",
     "output_type": "stream",
     "text": [
      "+---------+--------+------------------+-----------+--------------+----------+----------+-------------+------------------+---------------+\n",
      "|longitude|latitude|housing_median_age|total_rooms|total_bedrooms|population|households|median_income|median_house_value|ocean_proximity|\n",
      "+---------+--------+------------------+-----------+--------------+----------+----------+-------------+------------------+---------------+\n",
      "|  -122.23|   37.88|              41.0|      880.0|         129.0|     322.0|     126.0|       8.3252|          452600.0|       NEAR BAY|\n",
      "|  -122.22|   37.86|              21.0|     7099.0|        1106.0|    2401.0|    1138.0|       8.3014|          358500.0|       NEAR BAY|\n",
      "|  -122.24|   37.85|              52.0|     1467.0|         190.0|     496.0|     177.0|       7.2574|          352100.0|       NEAR BAY|\n",
      "|  -122.25|   37.85|              52.0|     1274.0|         235.0|     558.0|     219.0|       5.6431|          341300.0|       NEAR BAY|\n",
      "|  -122.25|   37.85|              52.0|     1627.0|         280.0|     565.0|     259.0|       3.8462|          342200.0|       NEAR BAY|\n",
      "+---------+--------+------------------+-----------+--------------+----------+----------+-------------+------------------+---------------+\n",
      "only showing top 5 rows\n",
      "\n"
     ]
    }
   ],
   "source": [
    "df_housing.show(5)"
   ]
  },
  {
   "cell_type": "markdown",
   "id": "f123097c",
   "metadata": {},
   "source": [
    "Представим результат в виде таблицы pandas. Выведем с помощью метода describe() базовые описательные статистики."
   ]
  },
  {
   "cell_type": "code",
   "execution_count": 6,
   "id": "fcbb1ca1",
   "metadata": {
    "scrolled": true
   },
   "outputs": [
    {
     "data": {
      "text/html": [
       "<div>\n",
       "<style scoped>\n",
       "    .dataframe tbody tr th:only-of-type {\n",
       "        vertical-align: middle;\n",
       "    }\n",
       "\n",
       "    .dataframe tbody tr th {\n",
       "        vertical-align: top;\n",
       "    }\n",
       "\n",
       "    .dataframe thead th {\n",
       "        text-align: right;\n",
       "    }\n",
       "</style>\n",
       "<table border=\"1\" class=\"dataframe\">\n",
       "  <thead>\n",
       "    <tr style=\"text-align: right;\">\n",
       "      <th></th>\n",
       "      <th>count</th>\n",
       "      <th>mean</th>\n",
       "      <th>std</th>\n",
       "      <th>min</th>\n",
       "      <th>25%</th>\n",
       "      <th>50%</th>\n",
       "      <th>75%</th>\n",
       "      <th>max</th>\n",
       "    </tr>\n",
       "  </thead>\n",
       "  <tbody>\n",
       "    <tr>\n",
       "      <th>longitude</th>\n",
       "      <td>20640.0</td>\n",
       "      <td>-119.569704</td>\n",
       "      <td>2.003532</td>\n",
       "      <td>-124.3500</td>\n",
       "      <td>-121.8000</td>\n",
       "      <td>-118.4900</td>\n",
       "      <td>-118.01000</td>\n",
       "      <td>-114.3100</td>\n",
       "    </tr>\n",
       "    <tr>\n",
       "      <th>latitude</th>\n",
       "      <td>20640.0</td>\n",
       "      <td>35.631861</td>\n",
       "      <td>2.135952</td>\n",
       "      <td>32.5400</td>\n",
       "      <td>33.9300</td>\n",
       "      <td>34.2600</td>\n",
       "      <td>37.71000</td>\n",
       "      <td>41.9500</td>\n",
       "    </tr>\n",
       "    <tr>\n",
       "      <th>housing_median_age</th>\n",
       "      <td>20640.0</td>\n",
       "      <td>28.639486</td>\n",
       "      <td>12.585558</td>\n",
       "      <td>1.0000</td>\n",
       "      <td>18.0000</td>\n",
       "      <td>29.0000</td>\n",
       "      <td>37.00000</td>\n",
       "      <td>52.0000</td>\n",
       "    </tr>\n",
       "    <tr>\n",
       "      <th>total_rooms</th>\n",
       "      <td>20640.0</td>\n",
       "      <td>2635.763081</td>\n",
       "      <td>2181.615252</td>\n",
       "      <td>2.0000</td>\n",
       "      <td>1447.7500</td>\n",
       "      <td>2127.0000</td>\n",
       "      <td>3148.00000</td>\n",
       "      <td>39320.0000</td>\n",
       "    </tr>\n",
       "    <tr>\n",
       "      <th>total_bedrooms</th>\n",
       "      <td>20433.0</td>\n",
       "      <td>537.870553</td>\n",
       "      <td>421.385070</td>\n",
       "      <td>1.0000</td>\n",
       "      <td>296.0000</td>\n",
       "      <td>435.0000</td>\n",
       "      <td>647.00000</td>\n",
       "      <td>6445.0000</td>\n",
       "    </tr>\n",
       "    <tr>\n",
       "      <th>population</th>\n",
       "      <td>20640.0</td>\n",
       "      <td>1425.476744</td>\n",
       "      <td>1132.462122</td>\n",
       "      <td>3.0000</td>\n",
       "      <td>787.0000</td>\n",
       "      <td>1166.0000</td>\n",
       "      <td>1725.00000</td>\n",
       "      <td>35682.0000</td>\n",
       "    </tr>\n",
       "    <tr>\n",
       "      <th>households</th>\n",
       "      <td>20640.0</td>\n",
       "      <td>499.539680</td>\n",
       "      <td>382.329753</td>\n",
       "      <td>1.0000</td>\n",
       "      <td>280.0000</td>\n",
       "      <td>409.0000</td>\n",
       "      <td>605.00000</td>\n",
       "      <td>6082.0000</td>\n",
       "    </tr>\n",
       "    <tr>\n",
       "      <th>median_income</th>\n",
       "      <td>20640.0</td>\n",
       "      <td>3.870671</td>\n",
       "      <td>1.899822</td>\n",
       "      <td>0.4999</td>\n",
       "      <td>2.5634</td>\n",
       "      <td>3.5348</td>\n",
       "      <td>4.74325</td>\n",
       "      <td>15.0001</td>\n",
       "    </tr>\n",
       "    <tr>\n",
       "      <th>median_house_value</th>\n",
       "      <td>20640.0</td>\n",
       "      <td>206855.816909</td>\n",
       "      <td>115395.615874</td>\n",
       "      <td>14999.0000</td>\n",
       "      <td>119600.0000</td>\n",
       "      <td>179700.0000</td>\n",
       "      <td>264725.00000</td>\n",
       "      <td>500001.0000</td>\n",
       "    </tr>\n",
       "  </tbody>\n",
       "</table>\n",
       "</div>"
      ],
      "text/plain": [
       "                      count           mean            std         min  \\\n",
       "longitude           20640.0    -119.569704       2.003532   -124.3500   \n",
       "latitude            20640.0      35.631861       2.135952     32.5400   \n",
       "housing_median_age  20640.0      28.639486      12.585558      1.0000   \n",
       "total_rooms         20640.0    2635.763081    2181.615252      2.0000   \n",
       "total_bedrooms      20433.0     537.870553     421.385070      1.0000   \n",
       "population          20640.0    1425.476744    1132.462122      3.0000   \n",
       "households          20640.0     499.539680     382.329753      1.0000   \n",
       "median_income       20640.0       3.870671       1.899822      0.4999   \n",
       "median_house_value  20640.0  206855.816909  115395.615874  14999.0000   \n",
       "\n",
       "                            25%          50%           75%          max  \n",
       "longitude             -121.8000    -118.4900    -118.01000    -114.3100  \n",
       "latitude                33.9300      34.2600      37.71000      41.9500  \n",
       "housing_median_age      18.0000      29.0000      37.00000      52.0000  \n",
       "total_rooms           1447.7500    2127.0000    3148.00000   39320.0000  \n",
       "total_bedrooms         296.0000     435.0000     647.00000    6445.0000  \n",
       "population             787.0000    1166.0000    1725.00000   35682.0000  \n",
       "households             280.0000     409.0000     605.00000    6082.0000  \n",
       "median_income            2.5634       3.5348       4.74325      15.0001  \n",
       "median_house_value  119600.0000  179700.0000  264725.00000  500001.0000  "
      ]
     },
     "execution_count": 6,
     "metadata": {},
     "output_type": "execute_result"
    }
   ],
   "source": [
    "df_housing.toPandas().describe().transpose()"
   ]
  },
  {
   "cell_type": "code",
   "execution_count": 7,
   "id": "5ad10358",
   "metadata": {},
   "outputs": [
    {
     "name": "stderr",
     "output_type": "stream",
     "text": [
      "                                                                                \r"
     ]
    },
    {
     "name": "stdout",
     "output_type": "stream",
     "text": [
      "-RECORD 0---------------------------------\n",
      " summary            | count               \n",
      " longitude          | 20640               \n",
      " latitude           | 20640               \n",
      " housing_median_age | 20640               \n",
      " total_rooms        | 20640               \n",
      " total_bedrooms     | 20433               \n",
      " population         | 20640               \n",
      " households         | 20640               \n",
      " median_income      | 20640               \n",
      " median_house_value | 20640               \n",
      " ocean_proximity    | 20640               \n",
      "-RECORD 1---------------------------------\n",
      " summary            | mean                \n",
      " longitude          | -119.56970445736148 \n",
      " latitude           | 35.6318614341087    \n",
      " housing_median_age | 28.639486434108527  \n",
      " total_rooms        | 2635.7630813953488  \n",
      " total_bedrooms     | 537.8705525375618   \n",
      " population         | 1425.4767441860465  \n",
      " households         | 499.5396802325581   \n",
      " median_income      | 3.8706710029070246  \n",
      " median_house_value | 206855.81690891474  \n",
      " ocean_proximity    | null                \n",
      "-RECORD 2---------------------------------\n",
      " summary            | stddev              \n",
      " longitude          | 2.003531723502584   \n",
      " latitude           | 2.135952397457101   \n",
      " housing_median_age | 12.58555761211163   \n",
      " total_rooms        | 2181.6152515827944  \n",
      " total_bedrooms     | 421.38507007403115  \n",
      " population         | 1132.46212176534    \n",
      " households         | 382.3297528316098   \n",
      " median_income      | 1.899821717945263   \n",
      " median_house_value | 115395.61587441359  \n",
      " ocean_proximity    | null                \n",
      "-RECORD 3---------------------------------\n",
      " summary            | min                 \n",
      " longitude          | -124.35             \n",
      " latitude           | 32.54               \n",
      " housing_median_age | 1.0                 \n",
      " total_rooms        | 2.0                 \n",
      " total_bedrooms     | 1.0                 \n",
      " population         | 3.0                 \n",
      " households         | 1.0                 \n",
      " median_income      | 0.4999              \n",
      " median_house_value | 14999.0             \n",
      " ocean_proximity    | <1H OCEAN           \n",
      "-RECORD 4---------------------------------\n",
      " summary            | max                 \n",
      " longitude          | -114.31             \n",
      " latitude           | 41.95               \n",
      " housing_median_age | 52.0                \n",
      " total_rooms        | 39320.0             \n",
      " total_bedrooms     | 6445.0              \n",
      " population         | 35682.0             \n",
      " households         | 6082.0              \n",
      " median_income      | 15.0001             \n",
      " median_house_value | 500001.0            \n",
      " ocean_proximity    | NEAR OCEAN          \n",
      "\n"
     ]
    }
   ],
   "source": [
    "\n",
    "df_housing.describe().show(vertical=True)"
   ]
  },
  {
   "cell_type": "markdown",
   "id": "bd306f29",
   "metadata": {},
   "source": [
    "Проверим, есть ли пропущенные значения в датасете. Найдём их количество в каждой колонке."
   ]
  },
  {
   "cell_type": "code",
   "execution_count": 8,
   "id": "a9285cb9",
   "metadata": {},
   "outputs": [
    {
     "name": "stdout",
     "output_type": "stream",
     "text": [
      "longitude 0\n",
      "latitude 0\n",
      "housing_median_age 0\n",
      "total_rooms 0\n",
      "total_bedrooms 207\n",
      "population 0\n",
      "households 0\n",
      "median_income 0\n",
      "median_house_value 0\n",
      "ocean_proximity 0\n"
     ]
    }
   ],
   "source": [
    "columns = df_housing.columns\n",
    "\n",
    "for column in columns:\n",
    "    print(column, df_housing.where(F.isnan(column) | F.col(column).isNull()).count())"
   ]
  },
  {
   "cell_type": "markdown",
   "id": "a3c33b0d",
   "metadata": {},
   "source": [
    "Столбец `total_bedrooms` имеет 207 пропущенных значений. Заменим пропущенные значения средним."
   ]
  },
  {
   "cell_type": "code",
   "execution_count": 9,
   "id": "e06b5482",
   "metadata": {},
   "outputs": [
    {
     "name": "stdout",
     "output_type": "stream",
     "text": [
      "Среднее значение колонки total_bedrooms: 537.8705525375618\n"
     ]
    }
   ],
   "source": [
    "mean_total_bedrooms = df_housing.select(F.mean('total_bedrooms')).collect()[0][0]\n",
    "print('Среднее значение колонки total_bedrooms:', mean_total_bedrooms)"
   ]
  },
  {
   "cell_type": "code",
   "execution_count": 10,
   "id": "7c566edb",
   "metadata": {
    "scrolled": false
   },
   "outputs": [
    {
     "data": {
      "text/html": [
       "<div>\n",
       "<style scoped>\n",
       "    .dataframe tbody tr th:only-of-type {\n",
       "        vertical-align: middle;\n",
       "    }\n",
       "\n",
       "    .dataframe tbody tr th {\n",
       "        vertical-align: top;\n",
       "    }\n",
       "\n",
       "    .dataframe thead th {\n",
       "        text-align: right;\n",
       "    }\n",
       "</style>\n",
       "<table border=\"1\" class=\"dataframe\">\n",
       "  <thead>\n",
       "    <tr style=\"text-align: right;\">\n",
       "      <th></th>\n",
       "      <th>count</th>\n",
       "      <th>mean</th>\n",
       "      <th>std</th>\n",
       "      <th>min</th>\n",
       "      <th>25%</th>\n",
       "      <th>50%</th>\n",
       "      <th>75%</th>\n",
       "      <th>max</th>\n",
       "    </tr>\n",
       "  </thead>\n",
       "  <tbody>\n",
       "    <tr>\n",
       "      <th>longitude</th>\n",
       "      <td>20640.0</td>\n",
       "      <td>-119.569704</td>\n",
       "      <td>2.003532</td>\n",
       "      <td>-124.3500</td>\n",
       "      <td>-121.8000</td>\n",
       "      <td>-118.4900</td>\n",
       "      <td>-118.01000</td>\n",
       "      <td>-114.3100</td>\n",
       "    </tr>\n",
       "    <tr>\n",
       "      <th>latitude</th>\n",
       "      <td>20640.0</td>\n",
       "      <td>35.631861</td>\n",
       "      <td>2.135952</td>\n",
       "      <td>32.5400</td>\n",
       "      <td>33.9300</td>\n",
       "      <td>34.2600</td>\n",
       "      <td>37.71000</td>\n",
       "      <td>41.9500</td>\n",
       "    </tr>\n",
       "    <tr>\n",
       "      <th>housing_median_age</th>\n",
       "      <td>20640.0</td>\n",
       "      <td>28.639486</td>\n",
       "      <td>12.585558</td>\n",
       "      <td>1.0000</td>\n",
       "      <td>18.0000</td>\n",
       "      <td>29.0000</td>\n",
       "      <td>37.00000</td>\n",
       "      <td>52.0000</td>\n",
       "    </tr>\n",
       "    <tr>\n",
       "      <th>total_rooms</th>\n",
       "      <td>20640.0</td>\n",
       "      <td>2635.763081</td>\n",
       "      <td>2181.615252</td>\n",
       "      <td>2.0000</td>\n",
       "      <td>1447.7500</td>\n",
       "      <td>2127.0000</td>\n",
       "      <td>3148.00000</td>\n",
       "      <td>39320.0000</td>\n",
       "    </tr>\n",
       "    <tr>\n",
       "      <th>total_bedrooms</th>\n",
       "      <td>20640.0</td>\n",
       "      <td>537.870553</td>\n",
       "      <td>419.266592</td>\n",
       "      <td>1.0000</td>\n",
       "      <td>297.0000</td>\n",
       "      <td>438.0000</td>\n",
       "      <td>643.25000</td>\n",
       "      <td>6445.0000</td>\n",
       "    </tr>\n",
       "    <tr>\n",
       "      <th>population</th>\n",
       "      <td>20640.0</td>\n",
       "      <td>1425.476744</td>\n",
       "      <td>1132.462122</td>\n",
       "      <td>3.0000</td>\n",
       "      <td>787.0000</td>\n",
       "      <td>1166.0000</td>\n",
       "      <td>1725.00000</td>\n",
       "      <td>35682.0000</td>\n",
       "    </tr>\n",
       "    <tr>\n",
       "      <th>households</th>\n",
       "      <td>20640.0</td>\n",
       "      <td>499.539680</td>\n",
       "      <td>382.329753</td>\n",
       "      <td>1.0000</td>\n",
       "      <td>280.0000</td>\n",
       "      <td>409.0000</td>\n",
       "      <td>605.00000</td>\n",
       "      <td>6082.0000</td>\n",
       "    </tr>\n",
       "    <tr>\n",
       "      <th>median_income</th>\n",
       "      <td>20640.0</td>\n",
       "      <td>3.870671</td>\n",
       "      <td>1.899822</td>\n",
       "      <td>0.4999</td>\n",
       "      <td>2.5634</td>\n",
       "      <td>3.5348</td>\n",
       "      <td>4.74325</td>\n",
       "      <td>15.0001</td>\n",
       "    </tr>\n",
       "    <tr>\n",
       "      <th>median_house_value</th>\n",
       "      <td>20640.0</td>\n",
       "      <td>206855.816909</td>\n",
       "      <td>115395.615874</td>\n",
       "      <td>14999.0000</td>\n",
       "      <td>119600.0000</td>\n",
       "      <td>179700.0000</td>\n",
       "      <td>264725.00000</td>\n",
       "      <td>500001.0000</td>\n",
       "    </tr>\n",
       "  </tbody>\n",
       "</table>\n",
       "</div>"
      ],
      "text/plain": [
       "                      count           mean            std         min  \\\n",
       "longitude           20640.0    -119.569704       2.003532   -124.3500   \n",
       "latitude            20640.0      35.631861       2.135952     32.5400   \n",
       "housing_median_age  20640.0      28.639486      12.585558      1.0000   \n",
       "total_rooms         20640.0    2635.763081    2181.615252      2.0000   \n",
       "total_bedrooms      20640.0     537.870553     419.266592      1.0000   \n",
       "population          20640.0    1425.476744    1132.462122      3.0000   \n",
       "households          20640.0     499.539680     382.329753      1.0000   \n",
       "median_income       20640.0       3.870671       1.899822      0.4999   \n",
       "median_house_value  20640.0  206855.816909  115395.615874  14999.0000   \n",
       "\n",
       "                            25%          50%           75%          max  \n",
       "longitude             -121.8000    -118.4900    -118.01000    -114.3100  \n",
       "latitude                33.9300      34.2600      37.71000      41.9500  \n",
       "housing_median_age      18.0000      29.0000      37.00000      52.0000  \n",
       "total_rooms           1447.7500    2127.0000    3148.00000   39320.0000  \n",
       "total_bedrooms         297.0000     438.0000     643.25000    6445.0000  \n",
       "population             787.0000    1166.0000    1725.00000   35682.0000  \n",
       "households             280.0000     409.0000     605.00000    6082.0000  \n",
       "median_income            2.5634       3.5348       4.74325      15.0001  \n",
       "median_house_value  119600.0000  179700.0000  264725.00000  500001.0000  "
      ]
     },
     "execution_count": 10,
     "metadata": {},
     "output_type": "execute_result"
    }
   ],
   "source": [
    "df = df_housing.na.fill({'total_bedrooms': mean_total_bedrooms})\n",
    "df.toPandas().describe().transpose()"
   ]
  },
  {
   "cell_type": "markdown",
   "id": "4fdf02de",
   "metadata": {},
   "source": [
    "\n",
    "Визуализируем жилые массивы, в которых живут самые обеспеченные люди"
   ]
  },
  {
   "cell_type": "code",
   "execution_count": 11,
   "id": "9c92fdb4",
   "metadata": {
    "scrolled": true
   },
   "outputs": [
    {
     "name": "stderr",
     "output_type": "stream",
     "text": [
      "                                                                                \r"
     ]
    },
    {
     "data": {
      "text/plain": [
       "<AxesSubplot:xlabel='ocean_proximity', ylabel='avg(median_income)'>"
      ]
     },
     "execution_count": 11,
     "metadata": {},
     "output_type": "execute_result"
    },
    {
     "data": {
      "image/png": "[encoded data removed]",
      "text/plain": [
       "<Figure size 432x288 with 1 Axes>"
      ]
     },
     "metadata": {
      "needs_background": "light"
     },
     "output_type": "display_data"
    }
   ],
   "source": [
    "df_wealthy = df_housing.groupBy('ocean_proximity').agg(F.avg('median_income')).toPandas()\n",
    "sns.barplot(x=df_wealthy['ocean_proximity'], y=df_wealthy['avg(median_income)'])"
   ]
  },
  {
   "cell_type": "markdown",
   "id": "03d6e2ca",
   "metadata": {},
   "source": [
    "Ожидаемый результат: люди с высоким доходом предпочитают селиться в жилых массивах, которые находятся не более чем в часе езды до океана или около залива.\n",
    "\n",
    "\n",
    "Посмотрим на карту расположения домов в жилых массивах по их стоимости"
   ]
  },
  {
   "cell_type": "code",
   "execution_count": 12,
   "id": "67e8941a",
   "metadata": {
    "scrolled": false
   },
   "outputs": [
    {
     "data": {
      "image/png": "[encoded data removed]",
      "text/plain": [
       "<Figure size 1080x504 with 2 Axes>"
      ]
     },
     "metadata": {
      "needs_background": "light"
     },
     "output_type": "display_data"
    }
   ],
   "source": [
    "df_h = df.toPandas()\n",
    "df_h.plot(kind='scatter', x=\"longitude\", y=\"latitude\", figsize=(15,7), alpha=0.5,\n",
    "          label=\"population\", c=\"median_house_value\",\n",
    "         cmap=plt.get_cmap(\"jet\"), colorbar=True)\n",
    "plt.legend(loc=\"best\")\n",
    "plt.show()"
   ]
  },
  {
   "cell_type": "markdown",
   "id": "2da3ecc7",
   "metadata": {},
   "source": [
    "Вспоминая урок географии и расположение Калифорнии на глобусе, можно смело сказать, и это подтверждает наш график, что самые дорогие дома находятся на побережье океана."
   ]
  },
  {
   "cell_type": "code",
   "execution_count": 13,
   "id": "7e939220",
   "metadata": {},
   "outputs": [
    {
     "data": {
      "text/plain": [
       "array([[<AxesSubplot:title={'center':'longitude'}>,\n",
       "        <AxesSubplot:title={'center':'latitude'}>,\n",
       "        <AxesSubplot:title={'center':'housing_median_age'}>],\n",
       "       [<AxesSubplot:title={'center':'total_rooms'}>,\n",
       "        <AxesSubplot:title={'center':'total_bedrooms'}>,\n",
       "        <AxesSubplot:title={'center':'population'}>],\n",
       "       [<AxesSubplot:title={'center':'households'}>,\n",
       "        <AxesSubplot:title={'center':'median_income'}>,\n",
       "        <AxesSubplot:title={'center':'median_house_value'}>]],\n",
       "      dtype=object)"
      ]
     },
     "execution_count": 13,
     "metadata": {},
     "output_type": "execute_result"
    },
    {
     "data": {
      "image/png": "[encoded data removed]",
      "text/plain": [
       "<Figure size 1440x1080 with 9 Axes>"
      ]
     },
     "metadata": {
      "needs_background": "light"
     },
     "output_type": "display_data"
    }
   ],
   "source": [
    "df_h.hist(figsize=(20,15))"
   ]
  },
  {
   "cell_type": "markdown",
   "id": "ffb35069",
   "metadata": {},
   "source": [
    "Исходя из гистограмм следует, что только столбец ` housing_median_age` распределен нормально, остальные все искажены вправо"
   ]
  },
  {
   "cell_type": "markdown",
   "id": "abfb6bcd",
   "metadata": {},
   "source": [
    "Построим корреляционную матрицу, предварительно удалив категориальный столбец и преобразуя данные в векторный вид"
   ]
  },
  {
   "cell_type": "code",
   "execution_count": 14,
   "id": "33a04988",
   "metadata": {
    "scrolled": false
   },
   "outputs": [
    {
     "name": "stderr",
     "output_type": "stream",
     "text": [
      "22/05/28 07:25:19 WARN BLAS: Failed to load implementation from: com.github.fommil.netlib.NativeSystemBLAS\n",
      "22/05/28 07:25:19 WARN BLAS: Failed to load implementation from: com.github.fommil.netlib.NativeRefBLAS\n",
      "                                                                                \r"
     ]
    }
   ],
   "source": [
    "df_h_num = df.drop('ocean_proximity')\n",
    "columns = ['longitude', 'latitude', 'housing_median_age', 'total_rooms',\n",
    "       'total_bedrooms', 'population', 'households', 'median_income',\n",
    "       'median_house_value']\n",
    "assembler = VectorAssembler(\n",
    "    inputCols=columns,\n",
    "    outputCol=\"features\")\n",
    "df_h_vector = assembler.transform(df_h_num)\n",
    "matrix = Correlation.corr(df_h_vector, 'features').collect()[0][0]\n",
    "corrmatrix = matrix.toArray().tolist()\n"
   ]
  },
  {
   "cell_type": "code",
   "execution_count": 15,
   "id": "9059b581",
   "metadata": {},
   "outputs": [
    {
     "data": {
      "image/png": "[encoded data removed]",
      "text/plain": [
       "<Figure size 1080x576 with 2 Axes>"
      ]
     },
     "metadata": {
      "needs_background": "light"
     },
     "output_type": "display_data"
    }
   ],
   "source": [
    "plt.figure(figsize=(15, 8))\n",
    "sns.heatmap(corrmatrix, annot=True, fmt='0.2f', annot_kws={\n",
    "    'size': 10}, cmap=plt.get_cmap(\"jet\"), xticklabels=df_h_num.columns, yticklabels=df_h_num.columns)\n",
    "plt.title('Корреляционная матрица', fontsize=22)\n",
    "plt.xticks(fontsize=12)\n",
    "plt.yticks(fontsize=12)\n",
    "plt.show()"
   ]
  },
  {
   "cell_type": "markdown",
   "id": "e9438fdd",
   "metadata": {},
   "source": [
    "Корреляционная матрица ярко выделяет высокую коллинеарность между `households` и `total_bedrooms`, а также `households` и `total_rooms`, `households` и `population`. Так как эти переменные сильно коррелированы, создадим новые столбцы с их соотношением, чтобы коллинеарность не  играла существенную роль в наших моделях, но они важны, поскольку они обычно влияют на ценообразование домов. "
   ]
  },
  {
   "cell_type": "markdown",
   "id": "0dc0891c",
   "metadata": {},
   "source": [
    "Создадим несколько новых столбцов с признаками: \n",
    "\n",
    "- Отношение количества комнат `total_rooms` к количеству домовладений `households`. Назовём столбец `rooms_per_household`.\n",
    "- Отношение количества жителей `population` к количеству домовладений `households`. Назовём столбец `population_in_household`.\n",
    "- Отношение количества спален `total_bedrooms` к общему количеству комнат `total_rooms`. Назовём столбец `bedroom_index`."
   ]
  },
  {
   "cell_type": "code",
   "execution_count": 16,
   "id": "9ccc302e",
   "metadata": {},
   "outputs": [
    {
     "data": {
      "text/html": [
       "<div>\n",
       "<style scoped>\n",
       "    .dataframe tbody tr th:only-of-type {\n",
       "        vertical-align: middle;\n",
       "    }\n",
       "\n",
       "    .dataframe tbody tr th {\n",
       "        vertical-align: top;\n",
       "    }\n",
       "\n",
       "    .dataframe thead th {\n",
       "        text-align: right;\n",
       "    }\n",
       "</style>\n",
       "<table border=\"1\" class=\"dataframe\">\n",
       "  <thead>\n",
       "    <tr style=\"text-align: right;\">\n",
       "      <th></th>\n",
       "      <th>longitude</th>\n",
       "      <th>latitude</th>\n",
       "      <th>housing_median_age</th>\n",
       "      <th>total_rooms</th>\n",
       "      <th>total_bedrooms</th>\n",
       "      <th>population</th>\n",
       "      <th>households</th>\n",
       "      <th>median_income</th>\n",
       "      <th>median_house_value</th>\n",
       "      <th>ocean_proximity</th>\n",
       "      <th>rooms_per_household</th>\n",
       "      <th>population_in_household</th>\n",
       "      <th>bedroom_index</th>\n",
       "    </tr>\n",
       "  </thead>\n",
       "  <tbody>\n",
       "    <tr>\n",
       "      <th>0</th>\n",
       "      <td>-122.23</td>\n",
       "      <td>37.88</td>\n",
       "      <td>41.0</td>\n",
       "      <td>880.0</td>\n",
       "      <td>129.0</td>\n",
       "      <td>322.0</td>\n",
       "      <td>126.0</td>\n",
       "      <td>8.3252</td>\n",
       "      <td>452600.0</td>\n",
       "      <td>NEAR BAY</td>\n",
       "      <td>6.984127</td>\n",
       "      <td>2.555556</td>\n",
       "      <td>0.146591</td>\n",
       "    </tr>\n",
       "    <tr>\n",
       "      <th>1</th>\n",
       "      <td>-122.22</td>\n",
       "      <td>37.86</td>\n",
       "      <td>21.0</td>\n",
       "      <td>7099.0</td>\n",
       "      <td>1106.0</td>\n",
       "      <td>2401.0</td>\n",
       "      <td>1138.0</td>\n",
       "      <td>8.3014</td>\n",
       "      <td>358500.0</td>\n",
       "      <td>NEAR BAY</td>\n",
       "      <td>6.238137</td>\n",
       "      <td>2.109842</td>\n",
       "      <td>0.155797</td>\n",
       "    </tr>\n",
       "    <tr>\n",
       "      <th>2</th>\n",
       "      <td>-122.24</td>\n",
       "      <td>37.85</td>\n",
       "      <td>52.0</td>\n",
       "      <td>1467.0</td>\n",
       "      <td>190.0</td>\n",
       "      <td>496.0</td>\n",
       "      <td>177.0</td>\n",
       "      <td>7.2574</td>\n",
       "      <td>352100.0</td>\n",
       "      <td>NEAR BAY</td>\n",
       "      <td>8.288136</td>\n",
       "      <td>2.802260</td>\n",
       "      <td>0.129516</td>\n",
       "    </tr>\n",
       "    <tr>\n",
       "      <th>3</th>\n",
       "      <td>-122.25</td>\n",
       "      <td>37.85</td>\n",
       "      <td>52.0</td>\n",
       "      <td>1274.0</td>\n",
       "      <td>235.0</td>\n",
       "      <td>558.0</td>\n",
       "      <td>219.0</td>\n",
       "      <td>5.6431</td>\n",
       "      <td>341300.0</td>\n",
       "      <td>NEAR BAY</td>\n",
       "      <td>5.817352</td>\n",
       "      <td>2.547945</td>\n",
       "      <td>0.184458</td>\n",
       "    </tr>\n",
       "    <tr>\n",
       "      <th>4</th>\n",
       "      <td>-122.25</td>\n",
       "      <td>37.85</td>\n",
       "      <td>52.0</td>\n",
       "      <td>1627.0</td>\n",
       "      <td>280.0</td>\n",
       "      <td>565.0</td>\n",
       "      <td>259.0</td>\n",
       "      <td>3.8462</td>\n",
       "      <td>342200.0</td>\n",
       "      <td>NEAR BAY</td>\n",
       "      <td>6.281853</td>\n",
       "      <td>2.181467</td>\n",
       "      <td>0.172096</td>\n",
       "    </tr>\n",
       "    <tr>\n",
       "      <th>...</th>\n",
       "      <td>...</td>\n",
       "      <td>...</td>\n",
       "      <td>...</td>\n",
       "      <td>...</td>\n",
       "      <td>...</td>\n",
       "      <td>...</td>\n",
       "      <td>...</td>\n",
       "      <td>...</td>\n",
       "      <td>...</td>\n",
       "      <td>...</td>\n",
       "      <td>...</td>\n",
       "      <td>...</td>\n",
       "      <td>...</td>\n",
       "    </tr>\n",
       "    <tr>\n",
       "      <th>20635</th>\n",
       "      <td>-121.09</td>\n",
       "      <td>39.48</td>\n",
       "      <td>25.0</td>\n",
       "      <td>1665.0</td>\n",
       "      <td>374.0</td>\n",
       "      <td>845.0</td>\n",
       "      <td>330.0</td>\n",
       "      <td>1.5603</td>\n",
       "      <td>78100.0</td>\n",
       "      <td>INLAND</td>\n",
       "      <td>5.045455</td>\n",
       "      <td>2.560606</td>\n",
       "      <td>0.224625</td>\n",
       "    </tr>\n",
       "    <tr>\n",
       "      <th>20636</th>\n",
       "      <td>-121.21</td>\n",
       "      <td>39.49</td>\n",
       "      <td>18.0</td>\n",
       "      <td>697.0</td>\n",
       "      <td>150.0</td>\n",
       "      <td>356.0</td>\n",
       "      <td>114.0</td>\n",
       "      <td>2.5568</td>\n",
       "      <td>77100.0</td>\n",
       "      <td>INLAND</td>\n",
       "      <td>6.114035</td>\n",
       "      <td>3.122807</td>\n",
       "      <td>0.215208</td>\n",
       "    </tr>\n",
       "    <tr>\n",
       "      <th>20637</th>\n",
       "      <td>-121.22</td>\n",
       "      <td>39.43</td>\n",
       "      <td>17.0</td>\n",
       "      <td>2254.0</td>\n",
       "      <td>485.0</td>\n",
       "      <td>1007.0</td>\n",
       "      <td>433.0</td>\n",
       "      <td>1.7000</td>\n",
       "      <td>92300.0</td>\n",
       "      <td>INLAND</td>\n",
       "      <td>5.205543</td>\n",
       "      <td>2.325635</td>\n",
       "      <td>0.215173</td>\n",
       "    </tr>\n",
       "    <tr>\n",
       "      <th>20638</th>\n",
       "      <td>-121.32</td>\n",
       "      <td>39.43</td>\n",
       "      <td>18.0</td>\n",
       "      <td>1860.0</td>\n",
       "      <td>409.0</td>\n",
       "      <td>741.0</td>\n",
       "      <td>349.0</td>\n",
       "      <td>1.8672</td>\n",
       "      <td>84700.0</td>\n",
       "      <td>INLAND</td>\n",
       "      <td>5.329513</td>\n",
       "      <td>2.123209</td>\n",
       "      <td>0.219892</td>\n",
       "    </tr>\n",
       "    <tr>\n",
       "      <th>20639</th>\n",
       "      <td>-121.24</td>\n",
       "      <td>39.37</td>\n",
       "      <td>16.0</td>\n",
       "      <td>2785.0</td>\n",
       "      <td>616.0</td>\n",
       "      <td>1387.0</td>\n",
       "      <td>530.0</td>\n",
       "      <td>2.3886</td>\n",
       "      <td>89400.0</td>\n",
       "      <td>INLAND</td>\n",
       "      <td>5.254717</td>\n",
       "      <td>2.616981</td>\n",
       "      <td>0.221185</td>\n",
       "    </tr>\n",
       "  </tbody>\n",
       "</table>\n",
       "<p>20640 rows × 13 columns</p>\n",
       "</div>"
      ],
      "text/plain": [
       "       longitude  latitude  housing_median_age  total_rooms  total_bedrooms  \\\n",
       "0        -122.23     37.88                41.0        880.0           129.0   \n",
       "1        -122.22     37.86                21.0       7099.0          1106.0   \n",
       "2        -122.24     37.85                52.0       1467.0           190.0   \n",
       "3        -122.25     37.85                52.0       1274.0           235.0   \n",
       "4        -122.25     37.85                52.0       1627.0           280.0   \n",
       "...          ...       ...                 ...          ...             ...   \n",
       "20635    -121.09     39.48                25.0       1665.0           374.0   \n",
       "20636    -121.21     39.49                18.0        697.0           150.0   \n",
       "20637    -121.22     39.43                17.0       2254.0           485.0   \n",
       "20638    -121.32     39.43                18.0       1860.0           409.0   \n",
       "20639    -121.24     39.37                16.0       2785.0           616.0   \n",
       "\n",
       "       population  households  median_income  median_house_value  \\\n",
       "0           322.0       126.0         8.3252            452600.0   \n",
       "1          2401.0      1138.0         8.3014            358500.0   \n",
       "2           496.0       177.0         7.2574            352100.0   \n",
       "3           558.0       219.0         5.6431            341300.0   \n",
       "4           565.0       259.0         3.8462            342200.0   \n",
       "...           ...         ...            ...                 ...   \n",
       "20635       845.0       330.0         1.5603             78100.0   \n",
       "20636       356.0       114.0         2.5568             77100.0   \n",
       "20637      1007.0       433.0         1.7000             92300.0   \n",
       "20638       741.0       349.0         1.8672             84700.0   \n",
       "20639      1387.0       530.0         2.3886             89400.0   \n",
       "\n",
       "      ocean_proximity  rooms_per_household  population_in_household  \\\n",
       "0            NEAR BAY             6.984127                 2.555556   \n",
       "1            NEAR BAY             6.238137                 2.109842   \n",
       "2            NEAR BAY             8.288136                 2.802260   \n",
       "3            NEAR BAY             5.817352                 2.547945   \n",
       "4            NEAR BAY             6.281853                 2.181467   \n",
       "...               ...                  ...                      ...   \n",
       "20635          INLAND             5.045455                 2.560606   \n",
       "20636          INLAND             6.114035                 3.122807   \n",
       "20637          INLAND             5.205543                 2.325635   \n",
       "20638          INLAND             5.329513                 2.123209   \n",
       "20639          INLAND             5.254717                 2.616981   \n",
       "\n",
       "       bedroom_index  \n",
       "0           0.146591  \n",
       "1           0.155797  \n",
       "2           0.129516  \n",
       "3           0.184458  \n",
       "4           0.172096  \n",
       "...              ...  \n",
       "20635       0.224625  \n",
       "20636       0.215208  \n",
       "20637       0.215173  \n",
       "20638       0.219892  \n",
       "20639       0.221185  \n",
       "\n",
       "[20640 rows x 13 columns]"
      ]
     },
     "execution_count": 16,
     "metadata": {},
     "output_type": "execute_result"
    }
   ],
   "source": [
    "df = df.withColumn('rooms_per_household', F.col('total_rooms')/F.col('households'))\\\n",
    ".withColumn('population_in_household', F.col('population')/F.col('households'))\\\n",
    ".withColumn('bedroom_index', F.col('total_bedrooms')/F.col('total_rooms'))\n",
    "\n",
    "df.toPandas()"
   ]
  },
  {
   "cell_type": "markdown",
   "id": "96bcad8f",
   "metadata": {},
   "source": [
    "Удалим такие столбцы, как `longitude`, `latitude`, `total_rooms`, `total_bedrooms`, `population`. Для дальнейшего анализа они не понадобятся. Используем метод select() для выбора и изменения порядка необходимых столбцов в фрейме данных."
   ]
  },
  {
   "cell_type": "code",
   "execution_count": 17,
   "id": "738c8caa",
   "metadata": {},
   "outputs": [
    {
     "data": {
      "text/plain": [
       "['longitude',\n",
       " 'latitude',\n",
       " 'housing_median_age',\n",
       " 'total_rooms',\n",
       " 'total_bedrooms',\n",
       " 'population',\n",
       " 'households',\n",
       " 'median_income',\n",
       " 'median_house_value',\n",
       " 'ocean_proximity',\n",
       " 'rooms_per_household',\n",
       " 'population_in_household',\n",
       " 'bedroom_index']"
      ]
     },
     "execution_count": 17,
     "metadata": {},
     "output_type": "execute_result"
    }
   ],
   "source": [
    "df.columns\n"
   ]
  },
  {
   "cell_type": "code",
   "execution_count": 18,
   "id": "74e41207",
   "metadata": {},
   "outputs": [],
   "source": [
    "df = df.select('median_house_value', 'housing_median_age',  \n",
    "               'households', 'median_income', 'ocean_proximity', 'rooms_per_household', 'population_in_household',\n",
    "               'bedroom_index')"
   ]
  },
  {
   "cell_type": "code",
   "execution_count": 19,
   "id": "b5d6ed76",
   "metadata": {
    "scrolled": true
   },
   "outputs": [
    {
     "data": {
      "text/html": [
       "<div>\n",
       "<style scoped>\n",
       "    .dataframe tbody tr th:only-of-type {\n",
       "        vertical-align: middle;\n",
       "    }\n",
       "\n",
       "    .dataframe tbody tr th {\n",
       "        vertical-align: top;\n",
       "    }\n",
       "\n",
       "    .dataframe thead th {\n",
       "        text-align: right;\n",
       "    }\n",
       "</style>\n",
       "<table border=\"1\" class=\"dataframe\">\n",
       "  <thead>\n",
       "    <tr style=\"text-align: right;\">\n",
       "      <th></th>\n",
       "      <th>median_house_value</th>\n",
       "      <th>housing_median_age</th>\n",
       "      <th>households</th>\n",
       "      <th>median_income</th>\n",
       "      <th>ocean_proximity</th>\n",
       "      <th>rooms_per_household</th>\n",
       "      <th>population_in_household</th>\n",
       "      <th>bedroom_index</th>\n",
       "    </tr>\n",
       "  </thead>\n",
       "  <tbody>\n",
       "    <tr>\n",
       "      <th>0</th>\n",
       "      <td>452600.0</td>\n",
       "      <td>41.0</td>\n",
       "      <td>126.0</td>\n",
       "      <td>8.3252</td>\n",
       "      <td>NEAR BAY</td>\n",
       "      <td>6.984127</td>\n",
       "      <td>2.555556</td>\n",
       "      <td>0.146591</td>\n",
       "    </tr>\n",
       "    <tr>\n",
       "      <th>1</th>\n",
       "      <td>358500.0</td>\n",
       "      <td>21.0</td>\n",
       "      <td>1138.0</td>\n",
       "      <td>8.3014</td>\n",
       "      <td>NEAR BAY</td>\n",
       "      <td>6.238137</td>\n",
       "      <td>2.109842</td>\n",
       "      <td>0.155797</td>\n",
       "    </tr>\n",
       "    <tr>\n",
       "      <th>2</th>\n",
       "      <td>352100.0</td>\n",
       "      <td>52.0</td>\n",
       "      <td>177.0</td>\n",
       "      <td>7.2574</td>\n",
       "      <td>NEAR BAY</td>\n",
       "      <td>8.288136</td>\n",
       "      <td>2.802260</td>\n",
       "      <td>0.129516</td>\n",
       "    </tr>\n",
       "    <tr>\n",
       "      <th>3</th>\n",
       "      <td>341300.0</td>\n",
       "      <td>52.0</td>\n",
       "      <td>219.0</td>\n",
       "      <td>5.6431</td>\n",
       "      <td>NEAR BAY</td>\n",
       "      <td>5.817352</td>\n",
       "      <td>2.547945</td>\n",
       "      <td>0.184458</td>\n",
       "    </tr>\n",
       "    <tr>\n",
       "      <th>4</th>\n",
       "      <td>342200.0</td>\n",
       "      <td>52.0</td>\n",
       "      <td>259.0</td>\n",
       "      <td>3.8462</td>\n",
       "      <td>NEAR BAY</td>\n",
       "      <td>6.281853</td>\n",
       "      <td>2.181467</td>\n",
       "      <td>0.172096</td>\n",
       "    </tr>\n",
       "    <tr>\n",
       "      <th>...</th>\n",
       "      <td>...</td>\n",
       "      <td>...</td>\n",
       "      <td>...</td>\n",
       "      <td>...</td>\n",
       "      <td>...</td>\n",
       "      <td>...</td>\n",
       "      <td>...</td>\n",
       "      <td>...</td>\n",
       "    </tr>\n",
       "    <tr>\n",
       "      <th>20635</th>\n",
       "      <td>78100.0</td>\n",
       "      <td>25.0</td>\n",
       "      <td>330.0</td>\n",
       "      <td>1.5603</td>\n",
       "      <td>INLAND</td>\n",
       "      <td>5.045455</td>\n",
       "      <td>2.560606</td>\n",
       "      <td>0.224625</td>\n",
       "    </tr>\n",
       "    <tr>\n",
       "      <th>20636</th>\n",
       "      <td>77100.0</td>\n",
       "      <td>18.0</td>\n",
       "      <td>114.0</td>\n",
       "      <td>2.5568</td>\n",
       "      <td>INLAND</td>\n",
       "      <td>6.114035</td>\n",
       "      <td>3.122807</td>\n",
       "      <td>0.215208</td>\n",
       "    </tr>\n",
       "    <tr>\n",
       "      <th>20637</th>\n",
       "      <td>92300.0</td>\n",
       "      <td>17.0</td>\n",
       "      <td>433.0</td>\n",
       "      <td>1.7000</td>\n",
       "      <td>INLAND</td>\n",
       "      <td>5.205543</td>\n",
       "      <td>2.325635</td>\n",
       "      <td>0.215173</td>\n",
       "    </tr>\n",
       "    <tr>\n",
       "      <th>20638</th>\n",
       "      <td>84700.0</td>\n",
       "      <td>18.0</td>\n",
       "      <td>349.0</td>\n",
       "      <td>1.8672</td>\n",
       "      <td>INLAND</td>\n",
       "      <td>5.329513</td>\n",
       "      <td>2.123209</td>\n",
       "      <td>0.219892</td>\n",
       "    </tr>\n",
       "    <tr>\n",
       "      <th>20639</th>\n",
       "      <td>89400.0</td>\n",
       "      <td>16.0</td>\n",
       "      <td>530.0</td>\n",
       "      <td>2.3886</td>\n",
       "      <td>INLAND</td>\n",
       "      <td>5.254717</td>\n",
       "      <td>2.616981</td>\n",
       "      <td>0.221185</td>\n",
       "    </tr>\n",
       "  </tbody>\n",
       "</table>\n",
       "<p>20640 rows × 8 columns</p>\n",
       "</div>"
      ],
      "text/plain": [
       "       median_house_value  housing_median_age  households  median_income  \\\n",
       "0                452600.0                41.0       126.0         8.3252   \n",
       "1                358500.0                21.0      1138.0         8.3014   \n",
       "2                352100.0                52.0       177.0         7.2574   \n",
       "3                341300.0                52.0       219.0         5.6431   \n",
       "4                342200.0                52.0       259.0         3.8462   \n",
       "...                   ...                 ...         ...            ...   \n",
       "20635             78100.0                25.0       330.0         1.5603   \n",
       "20636             77100.0                18.0       114.0         2.5568   \n",
       "20637             92300.0                17.0       433.0         1.7000   \n",
       "20638             84700.0                18.0       349.0         1.8672   \n",
       "20639             89400.0                16.0       530.0         2.3886   \n",
       "\n",
       "      ocean_proximity  rooms_per_household  population_in_household  \\\n",
       "0            NEAR BAY             6.984127                 2.555556   \n",
       "1            NEAR BAY             6.238137                 2.109842   \n",
       "2            NEAR BAY             8.288136                 2.802260   \n",
       "3            NEAR BAY             5.817352                 2.547945   \n",
       "4            NEAR BAY             6.281853                 2.181467   \n",
       "...               ...                  ...                      ...   \n",
       "20635          INLAND             5.045455                 2.560606   \n",
       "20636          INLAND             6.114035                 3.122807   \n",
       "20637          INLAND             5.205543                 2.325635   \n",
       "20638          INLAND             5.329513                 2.123209   \n",
       "20639          INLAND             5.254717                 2.616981   \n",
       "\n",
       "       bedroom_index  \n",
       "0           0.146591  \n",
       "1           0.155797  \n",
       "2           0.129516  \n",
       "3           0.184458  \n",
       "4           0.172096  \n",
       "...              ...  \n",
       "20635       0.224625  \n",
       "20636       0.215208  \n",
       "20637       0.215173  \n",
       "20638       0.219892  \n",
       "20639       0.221185  \n",
       "\n",
       "[20640 rows x 8 columns]"
      ]
     },
     "execution_count": 19,
     "metadata": {},
     "output_type": "execute_result"
    }
   ],
   "source": [
    "df.toPandas()"
   ]
  },
  {
   "cell_type": "markdown",
   "id": "4cb1a714",
   "metadata": {},
   "source": [
    "**Преобразование категориальных значений**\n",
    "\n",
    "Преобразуем столбец `ocean_proximity` с категориальными значениями техникой StringIndexer и One hot encoding.\n",
    "Сначала трансформируем категориальные признаки в числовое представление с помощью трансформера StringIndexer"
   ]
  },
  {
   "cell_type": "code",
   "execution_count": 20,
   "id": "f304402c",
   "metadata": {},
   "outputs": [],
   "source": [
    "categorical_cols = ['ocean_proximity']"
   ]
  },
  {
   "cell_type": "code",
   "execution_count": 21,
   "id": "f4bec20f",
   "metadata": {},
   "outputs": [
    {
     "name": "stderr",
     "output_type": "stream",
     "text": [
      "                                                                                \r"
     ]
    }
   ],
   "source": [
    "indexer = StringIndexer(inputCol='ocean_proximity',\n",
    "                        outputCol='ocean_proximity_idx')\n",
    "df_idx = indexer.fit(df).transform(df)\n",
    "df_idx = df_idx.drop('ocean_proximity')"
   ]
  },
  {
   "cell_type": "markdown",
   "id": "ebdc4e1f",
   "metadata": {},
   "source": [
    "Далее выполним OHE-кодирование для категорий"
   ]
  },
  {
   "cell_type": "code",
   "execution_count": 22,
   "id": "bcb309cc",
   "metadata": {
    "scrolled": true
   },
   "outputs": [],
   "source": [
    "encoder = OneHotEncoder(inputCol='ocean_proximity_idx',\n",
    "                        outputCol='ocean_proximity_ohe')\n",
    "df_ohe = encoder.fit(df_idx)\n",
    "df_ohe = df_ohe.transform(df_idx)"
   ]
  },
  {
   "cell_type": "code",
   "execution_count": 23,
   "id": "b9ab69df",
   "metadata": {
    "scrolled": true
   },
   "outputs": [
    {
     "data": {
      "text/html": [
       "<div>\n",
       "<style scoped>\n",
       "    .dataframe tbody tr th:only-of-type {\n",
       "        vertical-align: middle;\n",
       "    }\n",
       "\n",
       "    .dataframe tbody tr th {\n",
       "        vertical-align: top;\n",
       "    }\n",
       "\n",
       "    .dataframe thead th {\n",
       "        text-align: right;\n",
       "    }\n",
       "</style>\n",
       "<table border=\"1\" class=\"dataframe\">\n",
       "  <thead>\n",
       "    <tr style=\"text-align: right;\">\n",
       "      <th></th>\n",
       "      <th>median_house_value</th>\n",
       "      <th>housing_median_age</th>\n",
       "      <th>households</th>\n",
       "      <th>median_income</th>\n",
       "      <th>rooms_per_household</th>\n",
       "      <th>population_in_household</th>\n",
       "      <th>bedroom_index</th>\n",
       "      <th>ocean_proximity_idx</th>\n",
       "      <th>ocean_proximity_ohe</th>\n",
       "    </tr>\n",
       "  </thead>\n",
       "  <tbody>\n",
       "    <tr>\n",
       "      <th>0</th>\n",
       "      <td>452600.0</td>\n",
       "      <td>41.0</td>\n",
       "      <td>126.0</td>\n",
       "      <td>8.3252</td>\n",
       "      <td>6.984127</td>\n",
       "      <td>2.555556</td>\n",
       "      <td>0.146591</td>\n",
       "      <td>3.0</td>\n",
       "      <td>(0.0, 0.0, 0.0, 1.0)</td>\n",
       "    </tr>\n",
       "    <tr>\n",
       "      <th>1</th>\n",
       "      <td>358500.0</td>\n",
       "      <td>21.0</td>\n",
       "      <td>1138.0</td>\n",
       "      <td>8.3014</td>\n",
       "      <td>6.238137</td>\n",
       "      <td>2.109842</td>\n",
       "      <td>0.155797</td>\n",
       "      <td>3.0</td>\n",
       "      <td>(0.0, 0.0, 0.0, 1.0)</td>\n",
       "    </tr>\n",
       "    <tr>\n",
       "      <th>2</th>\n",
       "      <td>352100.0</td>\n",
       "      <td>52.0</td>\n",
       "      <td>177.0</td>\n",
       "      <td>7.2574</td>\n",
       "      <td>8.288136</td>\n",
       "      <td>2.802260</td>\n",
       "      <td>0.129516</td>\n",
       "      <td>3.0</td>\n",
       "      <td>(0.0, 0.0, 0.0, 1.0)</td>\n",
       "    </tr>\n",
       "    <tr>\n",
       "      <th>3</th>\n",
       "      <td>341300.0</td>\n",
       "      <td>52.0</td>\n",
       "      <td>219.0</td>\n",
       "      <td>5.6431</td>\n",
       "      <td>5.817352</td>\n",
       "      <td>2.547945</td>\n",
       "      <td>0.184458</td>\n",
       "      <td>3.0</td>\n",
       "      <td>(0.0, 0.0, 0.0, 1.0)</td>\n",
       "    </tr>\n",
       "    <tr>\n",
       "      <th>4</th>\n",
       "      <td>342200.0</td>\n",
       "      <td>52.0</td>\n",
       "      <td>259.0</td>\n",
       "      <td>3.8462</td>\n",
       "      <td>6.281853</td>\n",
       "      <td>2.181467</td>\n",
       "      <td>0.172096</td>\n",
       "      <td>3.0</td>\n",
       "      <td>(0.0, 0.0, 0.0, 1.0)</td>\n",
       "    </tr>\n",
       "  </tbody>\n",
       "</table>\n",
       "</div>"
      ],
      "text/plain": [
       "   median_house_value  housing_median_age  households  median_income  \\\n",
       "0            452600.0                41.0       126.0         8.3252   \n",
       "1            358500.0                21.0      1138.0         8.3014   \n",
       "2            352100.0                52.0       177.0         7.2574   \n",
       "3            341300.0                52.0       219.0         5.6431   \n",
       "4            342200.0                52.0       259.0         3.8462   \n",
       "\n",
       "   rooms_per_household  population_in_household  bedroom_index  \\\n",
       "0             6.984127                 2.555556       0.146591   \n",
       "1             6.238137                 2.109842       0.155797   \n",
       "2             8.288136                 2.802260       0.129516   \n",
       "3             5.817352                 2.547945       0.184458   \n",
       "4             6.281853                 2.181467       0.172096   \n",
       "\n",
       "   ocean_proximity_idx   ocean_proximity_ohe  \n",
       "0                  3.0  (0.0, 0.0, 0.0, 1.0)  \n",
       "1                  3.0  (0.0, 0.0, 0.0, 1.0)  \n",
       "2                  3.0  (0.0, 0.0, 0.0, 1.0)  \n",
       "3                  3.0  (0.0, 0.0, 0.0, 1.0)  \n",
       "4                  3.0  (0.0, 0.0, 0.0, 1.0)  "
      ]
     },
     "execution_count": 23,
     "metadata": {},
     "output_type": "execute_result"
    }
   ],
   "source": [
    "df_ohe.toPandas().head()"
   ]
  },
  {
   "cell_type": "markdown",
   "id": "4de2e9b1",
   "metadata": {},
   "source": [
    "Объединим признаки в один вектор с помощью VectorAssembler"
   ]
  },
  {
   "cell_type": "code",
   "execution_count": 24,
   "id": "4b52d432",
   "metadata": {},
   "outputs": [],
   "source": [
    "categorical_cols = ['ocean_proximity_ohe']\n",
    "categorical_assembler = VectorAssembler(inputCols=categorical_cols, outputCol=\"categorical_features\")\n",
    "df = categorical_assembler.transform(df_ohe)"
   ]
  },
  {
   "cell_type": "markdown",
   "id": "610f5770",
   "metadata": {},
   "source": [
    "**Преобразование числовых признаков**"
   ]
  },
  {
   "cell_type": "code",
   "execution_count": 25,
   "id": "cbec8038",
   "metadata": {},
   "outputs": [],
   "source": [
    "numerical_cols = ['housing_median_age',  \n",
    "               'households', 'median_income', 'rooms_per_household', 'population_in_household',\n",
    "               'bedroom_index']\n",
    "numerical_assembler = VectorAssembler(inputCols=numerical_cols, outputCol=\"numerical_features\")\n",
    "df = numerical_assembler.transform(df) "
   ]
  },
  {
   "cell_type": "code",
   "execution_count": 26,
   "id": "29afaa50",
   "metadata": {},
   "outputs": [],
   "source": [
    "standardScaler = StandardScaler(inputCol='numerical_features', outputCol=\"numerical_features_scaled\")\n",
    "df = standardScaler.fit(df).transform(df) "
   ]
  },
  {
   "cell_type": "code",
   "execution_count": 27,
   "id": "3638113f",
   "metadata": {},
   "outputs": [
    {
     "data": {
      "text/html": [
       "<div>\n",
       "<style scoped>\n",
       "    .dataframe tbody tr th:only-of-type {\n",
       "        vertical-align: middle;\n",
       "    }\n",
       "\n",
       "    .dataframe tbody tr th {\n",
       "        vertical-align: top;\n",
       "    }\n",
       "\n",
       "    .dataframe thead th {\n",
       "        text-align: right;\n",
       "    }\n",
       "</style>\n",
       "<table border=\"1\" class=\"dataframe\">\n",
       "  <thead>\n",
       "    <tr style=\"text-align: right;\">\n",
       "      <th></th>\n",
       "      <th>median_house_value</th>\n",
       "      <th>housing_median_age</th>\n",
       "      <th>households</th>\n",
       "      <th>median_income</th>\n",
       "      <th>rooms_per_household</th>\n",
       "      <th>population_in_household</th>\n",
       "      <th>bedroom_index</th>\n",
       "      <th>ocean_proximity_idx</th>\n",
       "      <th>ocean_proximity_ohe</th>\n",
       "      <th>categorical_features</th>\n",
       "      <th>numerical_features</th>\n",
       "      <th>numerical_features_scaled</th>\n",
       "    </tr>\n",
       "  </thead>\n",
       "  <tbody>\n",
       "    <tr>\n",
       "      <th>0</th>\n",
       "      <td>452600.0</td>\n",
       "      <td>41.0</td>\n",
       "      <td>126.0</td>\n",
       "      <td>8.3252</td>\n",
       "      <td>6.984127</td>\n",
       "      <td>2.555556</td>\n",
       "      <td>0.146591</td>\n",
       "      <td>3.0</td>\n",
       "      <td>(0.0, 0.0, 0.0, 1.0)</td>\n",
       "      <td>(0.0, 0.0, 0.0, 1.0)</td>\n",
       "      <td>[41.0, 126.0, 8.3252, 6.984126984126984, 2.555...</td>\n",
       "      <td>[3.2577023016083064, 0.3295584480852433, 4.382...</td>\n",
       "    </tr>\n",
       "    <tr>\n",
       "      <th>1</th>\n",
       "      <td>358500.0</td>\n",
       "      <td>21.0</td>\n",
       "      <td>1138.0</td>\n",
       "      <td>8.3014</td>\n",
       "      <td>6.238137</td>\n",
       "      <td>2.109842</td>\n",
       "      <td>0.155797</td>\n",
       "      <td>3.0</td>\n",
       "      <td>(0.0, 0.0, 0.0, 1.0)</td>\n",
       "      <td>(0.0, 0.0, 0.0, 1.0)</td>\n",
       "      <td>[21.0, 1138.0, 8.3014, 6.238137082601054, 2.10...</td>\n",
       "      <td>[1.668579227653035, 2.9764882057222772, 4.3695...</td>\n",
       "    </tr>\n",
       "    <tr>\n",
       "      <th>2</th>\n",
       "      <td>352100.0</td>\n",
       "      <td>52.0</td>\n",
       "      <td>177.0</td>\n",
       "      <td>7.2574</td>\n",
       "      <td>8.288136</td>\n",
       "      <td>2.802260</td>\n",
       "      <td>0.129516</td>\n",
       "      <td>3.0</td>\n",
       "      <td>(0.0, 0.0, 0.0, 1.0)</td>\n",
       "      <td>(0.0, 0.0, 0.0, 1.0)</td>\n",
       "      <td>[52.0, 177.0, 7.2574, 8.288135593220339, 2.802...</td>\n",
       "      <td>[4.131719992283705, 0.4629511532626037, 3.8200...</td>\n",
       "    </tr>\n",
       "    <tr>\n",
       "      <th>3</th>\n",
       "      <td>341300.0</td>\n",
       "      <td>52.0</td>\n",
       "      <td>219.0</td>\n",
       "      <td>5.6431</td>\n",
       "      <td>5.817352</td>\n",
       "      <td>2.547945</td>\n",
       "      <td>0.184458</td>\n",
       "      <td>3.0</td>\n",
       "      <td>(0.0, 0.0, 0.0, 1.0)</td>\n",
       "      <td>(0.0, 0.0, 0.0, 1.0)</td>\n",
       "      <td>[52.0, 219.0, 5.6431, 5.8173515981735155, 2.54...</td>\n",
       "      <td>[4.131719992283705, 0.5728039692910182, 2.9703...</td>\n",
       "    </tr>\n",
       "    <tr>\n",
       "      <th>4</th>\n",
       "      <td>342200.0</td>\n",
       "      <td>52.0</td>\n",
       "      <td>259.0</td>\n",
       "      <td>3.8462</td>\n",
       "      <td>6.281853</td>\n",
       "      <td>2.181467</td>\n",
       "      <td>0.172096</td>\n",
       "      <td>3.0</td>\n",
       "      <td>(0.0, 0.0, 0.0, 1.0)</td>\n",
       "      <td>(0.0, 0.0, 0.0, 1.0)</td>\n",
       "      <td>[52.0, 259.0, 3.8462, 6.281853281853282, 2.181...</td>\n",
       "      <td>[4.131719992283705, 0.6774256988418891, 2.0245...</td>\n",
       "    </tr>\n",
       "  </tbody>\n",
       "</table>\n",
       "</div>"
      ],
      "text/plain": [
       "   median_house_value  housing_median_age  households  median_income  \\\n",
       "0            452600.0                41.0       126.0         8.3252   \n",
       "1            358500.0                21.0      1138.0         8.3014   \n",
       "2            352100.0                52.0       177.0         7.2574   \n",
       "3            341300.0                52.0       219.0         5.6431   \n",
       "4            342200.0                52.0       259.0         3.8462   \n",
       "\n",
       "   rooms_per_household  population_in_household  bedroom_index  \\\n",
       "0             6.984127                 2.555556       0.146591   \n",
       "1             6.238137                 2.109842       0.155797   \n",
       "2             8.288136                 2.802260       0.129516   \n",
       "3             5.817352                 2.547945       0.184458   \n",
       "4             6.281853                 2.181467       0.172096   \n",
       "\n",
       "   ocean_proximity_idx   ocean_proximity_ohe  categorical_features  \\\n",
       "0                  3.0  (0.0, 0.0, 0.0, 1.0)  (0.0, 0.0, 0.0, 1.0)   \n",
       "1                  3.0  (0.0, 0.0, 0.0, 1.0)  (0.0, 0.0, 0.0, 1.0)   \n",
       "2                  3.0  (0.0, 0.0, 0.0, 1.0)  (0.0, 0.0, 0.0, 1.0)   \n",
       "3                  3.0  (0.0, 0.0, 0.0, 1.0)  (0.0, 0.0, 0.0, 1.0)   \n",
       "4                  3.0  (0.0, 0.0, 0.0, 1.0)  (0.0, 0.0, 0.0, 1.0)   \n",
       "\n",
       "                                  numerical_features  \\\n",
       "0  [41.0, 126.0, 8.3252, 6.984126984126984, 2.555...   \n",
       "1  [21.0, 1138.0, 8.3014, 6.238137082601054, 2.10...   \n",
       "2  [52.0, 177.0, 7.2574, 8.288135593220339, 2.802...   \n",
       "3  [52.0, 219.0, 5.6431, 5.8173515981735155, 2.54...   \n",
       "4  [52.0, 259.0, 3.8462, 6.281853281853282, 2.181...   \n",
       "\n",
       "                           numerical_features_scaled  \n",
       "0  [3.2577023016083064, 0.3295584480852433, 4.382...  \n",
       "1  [1.668579227653035, 2.9764882057222772, 4.3695...  \n",
       "2  [4.131719992283705, 0.4629511532626037, 3.8200...  \n",
       "3  [4.131719992283705, 0.5728039692910182, 2.9703...  \n",
       "4  [4.131719992283705, 0.6774256988418891, 2.0245...  "
      ]
     },
     "execution_count": 27,
     "metadata": {},
     "output_type": "execute_result"
    }
   ],
   "source": [
    "df.toPandas().head()"
   ]
  },
  {
   "cell_type": "markdown",
   "id": "be4e25c1",
   "metadata": {},
   "source": [
    "Так как обучение модели будем проводить на двух группах признаков: все признаки и только числовые, соберем полученные категорийные и числовые признаки с помощью VectorAssembler"
   ]
  },
  {
   "cell_type": "code",
   "execution_count": 28,
   "id": "8cc3fedb",
   "metadata": {},
   "outputs": [],
   "source": [
    "all_features = ['categorical_features','numerical_features_scaled']\n",
    "\n",
    "final_assembler = VectorAssembler(inputCols=all_features, outputCol=\"features\") \n",
    "df = final_assembler.transform(df)"
   ]
  },
  {
   "cell_type": "code",
   "execution_count": 29,
   "id": "46c3dad9",
   "metadata": {},
   "outputs": [
    {
     "name": "stdout",
     "output_type": "stream",
     "text": [
      "+--------------------+-------------------------+\n",
      "|categorical_features|numerical_features_scaled|\n",
      "+--------------------+-------------------------+\n",
      "|       (4,[3],[1.0])|     [3.25770230160830...|\n",
      "|       (4,[3],[1.0])|     [1.66857922765303...|\n",
      "|       (4,[3],[1.0])|     [4.13171999228370...|\n",
      "+--------------------+-------------------------+\n",
      "only showing top 3 rows\n",
      "\n"
     ]
    }
   ],
   "source": [
    "df.select(all_features).show(3)"
   ]
  },
  {
   "cell_type": "markdown",
   "id": "fe8cd447",
   "metadata": {},
   "source": [
    "**Вывод**\n",
    "\n",
    "\n",
    "При подготовке данных выяснили, что в датасете  20640 строк.\n",
    "\n",
    "Столбец `ocean_proximity` имеет тип данных - str  с категориальными значениями. Все остальные столбцы хранят количественные данные и имеют тип данных - float. \n",
    "\n",
    "Столбец `total_bedrooms` имел пропущенные значения, заменили их на среднее. \n",
    "\n",
    "Создали три новых столбца, заменив их на сильно коррелирующие удаленные столбцы `total_rooms`, `total_bedrooms`, `population`. Также удалили столбцы с данными о широте и долготе, т.к. они малозначимы для построения моделей. \n",
    "\n",
    "Преобразовали столбцы с категориальными значениями и числовыми с помощью базовых трансформеров признаков — StringIndexer и OneHotEncoder. Объединили признаки в один вектор с помощью VectorAssembler.\n",
    "\n",
    "Визуально увидели, что люди с высоким доходом предпочитают селиться в жилых массивах, которые находятся не более чем в часе езды до океана или около залива. Соответственно, и стоимость домов в жилых массивах значительно выше, чем вглубь Калифорнии.\n",
    "\n",
    "Столбец `housing_median_age` единственный распределен нормально, остальные все искажены вправо."
   ]
  },
  {
   "cell_type": "markdown",
   "id": "9f0a82f3",
   "metadata": {
    "id": "9f0a82f3"
   },
   "source": [
    "# Обучение моделей\n",
    "\n",
    "Присвоим целевому признаку значение переменной target"
   ]
  },
  {
   "cell_type": "markdown",
   "id": "07d32104",
   "metadata": {},
   "source": [
    "После завершения всей предварительной обработки приступим к построению нашей модели линейной регрессии. Сначала разделим данные на обучающие и тестовые наборы  с помощью метода randomSplit()\n",
    "\n",
    "Присвоим целевому признаку значение переменной target"
   ]
  },
  {
   "cell_type": "code",
   "execution_count": 30,
   "id": "54327707",
   "metadata": {},
   "outputs": [],
   "source": [
    "target = \"median_house_value\" "
   ]
  },
  {
   "cell_type": "code",
   "execution_count": 31,
   "id": "bddb08c4",
   "metadata": {
    "id": "bddb08c4",
    "scrolled": true
   },
   "outputs": [
    {
     "name": "stderr",
     "output_type": "stream",
     "text": [
      "                                                                                \r"
     ]
    },
    {
     "name": "stdout",
     "output_type": "stream",
     "text": [
      "Количество объектов в обучающей выборке: 16431\n",
      "Количество объектов в тестовой выборке: 4209\n"
     ]
    },
    {
     "name": "stderr",
     "output_type": "stream",
     "text": [
      "                                                                                \r"
     ]
    }
   ],
   "source": [
    "train, test = df.randomSplit([.8,.2], seed=RANDOM_SEED)\n",
    "print('Количество объектов в обучающей выборке:', train.count())\n",
    "print('Количество объектов в тестовой выборке:', test.count())"
   ]
  },
  {
   "cell_type": "markdown",
   "id": "7f318c53",
   "metadata": {},
   "source": [
    "Первая модель линейной регрессии будет использовать все данные"
   ]
  },
  {
   "cell_type": "code",
   "execution_count": 32,
   "id": "a8d25d26",
   "metadata": {},
   "outputs": [],
   "source": [
    "lr_1 = LinearRegression(labelCol=target, featuresCol='features', predictionCol='predmedhv', \n",
    "                               maxIter=10, regParam=0.3, elasticNetParam=0.8, standardization=False)"
   ]
  },
  {
   "cell_type": "code",
   "execution_count": 33,
   "id": "ed9ac8a5",
   "metadata": {},
   "outputs": [
    {
     "name": "stderr",
     "output_type": "stream",
     "text": [
      "                                                                                \r"
     ]
    }
   ],
   "source": [
    "lr_all_features = lr_1.fit(train)"
   ]
  },
  {
   "cell_type": "markdown",
   "id": "61e47ba6",
   "metadata": {},
   "source": [
    "Сохраним трансформированную таблицу с колонкой предсказания первой модели в переменной `predictions`"
   ]
  },
  {
   "cell_type": "code",
   "execution_count": 34,
   "id": "f5d37b5e",
   "metadata": {},
   "outputs": [],
   "source": [
    "predictions = lr_all_features.transform(test)"
   ]
  },
  {
   "cell_type": "markdown",
   "id": "05e32a5a",
   "metadata": {},
   "source": [
    "Извлечем предсказания и целевой признак"
   ]
  },
  {
   "cell_type": "code",
   "execution_count": 35,
   "id": "303cb3ca",
   "metadata": {},
   "outputs": [
    {
     "name": "stdout",
     "output_type": "stream",
     "text": [
      "+------------------+------------------+\n",
      "|         predmedhv|median_house_value|\n",
      "+------------------+------------------+\n",
      "| 183848.3670792777|           22500.0|\n",
      "| 71380.71196307341|           34600.0|\n",
      "|138250.17863214947|           35000.0|\n",
      "|162453.90539968316|           37500.0|\n",
      "| 60824.08915600174|           39400.0|\n",
      "|119856.42064673093|           41300.0|\n",
      "| 48492.21375435353|           41700.0|\n",
      "|  73992.1066902338|           43000.0|\n",
      "| 85750.38524202286|           44800.0|\n",
      "|173889.98731819325|           45000.0|\n",
      "| 62586.25766265536|           45000.0|\n",
      "| 44914.59712734589|           46500.0|\n",
      "|61633.481857174695|           46700.0|\n",
      "|   66535.866472981|           46700.0|\n",
      "|64959.027550942534|           46900.0|\n",
      "| 51892.99966153394|           47000.0|\n",
      "| 49272.01523806477|           47100.0|\n",
      "| 72946.72047682616|           47500.0|\n",
      "| 73531.94645842619|           47500.0|\n",
      "| 77644.29928399067|           47500.0|\n",
      "+------------------+------------------+\n",
      "only showing top 20 rows\n",
      "\n"
     ]
    }
   ],
   "source": [
    "predandlabels = predictions.select(\"predmedhv\", target)\n",
    "predandlabels.show()"
   ]
  },
  {
   "cell_type": "markdown",
   "id": "f8b2ef14",
   "metadata": {},
   "source": [
    "Аналогично построим и обучим вторую модель, но используя только числовые переменные, исключив категориальные"
   ]
  },
  {
   "cell_type": "code",
   "execution_count": 36,
   "id": "aeb09770",
   "metadata": {},
   "outputs": [],
   "source": [
    "lr_2 = LinearRegression(labelCol=target, featuresCol='numerical_features_scaled', predictionCol='predmedhv_num', \n",
    "                               maxIter=10, regParam=0.3, elasticNetParam=0.8, standardization=False)"
   ]
  },
  {
   "cell_type": "code",
   "execution_count": 37,
   "id": "cde327d5",
   "metadata": {},
   "outputs": [],
   "source": [
    "lr_numerical_features = lr_2.fit(train)"
   ]
  },
  {
   "cell_type": "code",
   "execution_count": 38,
   "id": "19916839",
   "metadata": {},
   "outputs": [],
   "source": [
    "predictions_num = lr_numerical_features.transform(test)"
   ]
  },
  {
   "cell_type": "code",
   "execution_count": 39,
   "id": "78b143f6",
   "metadata": {},
   "outputs": [
    {
     "name": "stdout",
     "output_type": "stream",
     "text": [
      "+------------------+------------------+\n",
      "|     predmedhv_num|median_house_value|\n",
      "+------------------+------------------+\n",
      "|  150562.571328439|           22500.0|\n",
      "| 96612.31817162407|           34600.0|\n",
      "|193840.47113950542|           35000.0|\n",
      "|112971.66226189907|           37500.0|\n",
      "| 96771.86891975041|           39400.0|\n",
      "| 145588.5155685932|           41300.0|\n",
      "| 83375.12873089378|           41700.0|\n",
      "|119253.22681438658|           43000.0|\n",
      "| 134818.6733585835|           44800.0|\n",
      "|148006.30605598298|           45000.0|\n",
      "|111528.24624013333|           45000.0|\n",
      "| 73597.48452690983|           46500.0|\n",
      "| 95633.81298534592|           46700.0|\n",
      "|102786.18676641711|           46700.0|\n",
      "|106292.44979144362|           46900.0|\n",
      "| 85001.78538958592|           47000.0|\n",
      "|  86069.6470607442|           47100.0|\n",
      "|108032.57141397314|           47500.0|\n",
      "| 112067.1834388625|           47500.0|\n",
      "|124360.66696991396|           47500.0|\n",
      "+------------------+------------------+\n",
      "only showing top 20 rows\n",
      "\n"
     ]
    }
   ],
   "source": [
    "predandlabels_num = predictions_num.select(\"predmedhv_num\", target)\n",
    "predandlabels_num.show()"
   ]
  },
  {
   "cell_type": "markdown",
   "id": "174070af",
   "metadata": {},
   "source": [
    "**Вывод**\n",
    "\n",
    "Получили предсказание `median_house_value` медианной стоимости дома, используя все данные датасета и  только на числовых признаках. Сравнивая две таблицы предсказаний, видно, что предсказания, сделанные на числовых переменных, ниже."
   ]
  },
  {
   "cell_type": "markdown",
   "id": "757fd103",
   "metadata": {
    "id": "757fd103"
   },
   "source": [
    "# Анализ результатов"
   ]
  },
  {
   "cell_type": "markdown",
   "id": "0e80d7dd",
   "metadata": {},
   "source": [
    "Смотреть на прогнозируемые значения - это одно, но другое и лучшее - это смотреть на некоторые показатели, чтобы получить лучшее представление о том, насколько хороши модели на самом деле."
   ]
  },
  {
   "cell_type": "markdown",
   "id": "a96c061a",
   "metadata": {},
   "source": [
    "Для оценки  качества модели используем RegressionEvaluator. \n",
    "\n",
    "Сравним результаты работы линейной регрессии на двух наборах данных по следующим метрикам:\n",
    "- Корень от средней квадратической ошибки - **RMSE**. В свою очередь средняя квадратическая ошибка - это величина равная сумме квадратов отклонений (разница между предсказанием и фактической величиной целевого признака), разделенной на количество объектов. Чем точнее модель, тем больше значение RMSE будет стремиться к нулю.\n",
    "- Среднее абсолютное значение или **MAE** - это величина, равная сумме всех модулей отклонений (разница между предсказанием и фактическим значением целевого признака), разделенная на количество объектов в выборке. Соответственно, для модели, которая идеально работает, MAE будет равен 0. Поэтому, чем меньше будет значение этой метрики, тем точнее модель.\n",
    "- **R2**(\"R squared\") или коэффициент детерминации - это показатель, который показывает, насколько данные близки к установленной линии регрессии. Этот показатель всегда будет находиться в диапазоне от 0 до 100% (или в данном случае от 0 до 1), где 0% указывает на то, что модель не объясняет ни одной изменчивости данных ответов относительно ее среднего значения, а 100% указывает на обратное: она объясняет всю изменчивость. Это означает, что, как правило, чем выше R-squared, тем лучше модель соответствует нашим данным."
   ]
  },
  {
   "cell_type": "markdown",
   "id": "5a8cf57b",
   "metadata": {},
   "source": [
    "**На всех признаках**"
   ]
  },
  {
   "cell_type": "code",
   "execution_count": 40,
   "id": "e1457cf0",
   "metadata": {},
   "outputs": [
    {
     "name": "stderr",
     "output_type": "stream",
     "text": [
      "                                                                                \r"
     ]
    }
   ],
   "source": [
    "evaluator = RegressionEvaluator(predictionCol='predmedhv',\n",
    "                                labelCol=target)\n",
    "RMSE_1 = evaluator.evaluate(predandlabels, {evaluator.metricName: \"rmse\"})"
   ]
  },
  {
   "cell_type": "code",
   "execution_count": 41,
   "id": "7c540457",
   "metadata": {},
   "outputs": [],
   "source": [
    "\n",
    "MAE_1 = evaluator.evaluate(predandlabels, {evaluator.metricName: \"mae\"})"
   ]
  },
  {
   "cell_type": "code",
   "execution_count": 42,
   "id": "c9fad49f",
   "metadata": {},
   "outputs": [],
   "source": [
    "R2_1 = evaluator.evaluate(predandlabels, {evaluator.metricName: \"r2\"})"
   ]
  },
  {
   "cell_type": "code",
   "execution_count": 43,
   "id": "5f92329a",
   "metadata": {},
   "outputs": [
    {
     "data": {
      "text/html": [
       "<div>\n",
       "<style scoped>\n",
       "    .dataframe tbody tr th:only-of-type {\n",
       "        vertical-align: middle;\n",
       "    }\n",
       "\n",
       "    .dataframe tbody tr th {\n",
       "        vertical-align: top;\n",
       "    }\n",
       "\n",
       "    .dataframe thead th {\n",
       "        text-align: right;\n",
       "    }\n",
       "</style>\n",
       "<table border=\"1\" class=\"dataframe\">\n",
       "  <thead>\n",
       "    <tr style=\"text-align: right;\">\n",
       "      <th></th>\n",
       "      <th>MODEL</th>\n",
       "      <th>RMSE</th>\n",
       "      <th>MAE</th>\n",
       "      <th>R-SQUARE</th>\n",
       "    </tr>\n",
       "  </thead>\n",
       "  <tbody>\n",
       "    <tr>\n",
       "      <th>0</th>\n",
       "      <td>lr_all_features</td>\n",
       "      <td>72185.523291</td>\n",
       "      <td>52340.53258</td>\n",
       "      <td>0.613988</td>\n",
       "    </tr>\n",
       "  </tbody>\n",
       "</table>\n",
       "</div>"
      ],
      "text/plain": [
       "             MODEL          RMSE          MAE  R-SQUARE\n",
       "0  lr_all_features  72185.523291  52340.53258  0.613988"
      ]
     },
     "execution_count": 43,
     "metadata": {},
     "output_type": "execute_result"
    }
   ],
   "source": [
    "cols = [\"MODEL\",\"RMSE\",\"MAE\", \"R-SQUARE\"]\n",
    "model_report1 = pd.DataFrame(columns = cols)\n",
    "\n",
    "tmp1 = pd.Series({ \"MODEL\" : \"lr_all_features\",\n",
    "                  \"RMSE\" : RMSE_1,\n",
    "                  \"MAE\" : MAE_1,\n",
    "                  \"R-SQUARE\" : R2_1})\n",
    "model_lr1_report = model_report1.append(tmp1, ignore_index=True)\n",
    "model_lr1_report"
   ]
  },
  {
   "cell_type": "markdown",
   "id": "8ecdc95f",
   "metadata": {},
   "source": [
    "**Только на числовых признаках**"
   ]
  },
  {
   "cell_type": "code",
   "execution_count": 44,
   "id": "9808a69d",
   "metadata": {},
   "outputs": [
    {
     "name": "stderr",
     "output_type": "stream",
     "text": [
      "                                                                                \r"
     ]
    }
   ],
   "source": [
    "evaluator = RegressionEvaluator(predictionCol='predmedhv_num',\n",
    "                                labelCol=target)\n",
    "RMSE_2 = evaluator.evaluate(predandlabels_num, {evaluator.metricName: \"rmse\"})\n",
    "MAE_2 = evaluator.evaluate(predandlabels_num, {evaluator.metricName: \"mae\"})\n",
    "R2_2 = evaluator.evaluate(predandlabels_num, {evaluator.metricName: \"r2\"})"
   ]
  },
  {
   "cell_type": "code",
   "execution_count": 45,
   "id": "31cd5d47",
   "metadata": {},
   "outputs": [
    {
     "data": {
      "text/html": [
       "<div>\n",
       "<style scoped>\n",
       "    .dataframe tbody tr th:only-of-type {\n",
       "        vertical-align: middle;\n",
       "    }\n",
       "\n",
       "    .dataframe tbody tr th {\n",
       "        vertical-align: top;\n",
       "    }\n",
       "\n",
       "    .dataframe thead th {\n",
       "        text-align: right;\n",
       "    }\n",
       "</style>\n",
       "<table border=\"1\" class=\"dataframe\">\n",
       "  <thead>\n",
       "    <tr style=\"text-align: right;\">\n",
       "      <th></th>\n",
       "      <th>MODEL</th>\n",
       "      <th>RMSE</th>\n",
       "      <th>MAE</th>\n",
       "      <th>R-SQUARE</th>\n",
       "    </tr>\n",
       "  </thead>\n",
       "  <tbody>\n",
       "    <tr>\n",
       "      <th>0</th>\n",
       "      <td>lr_numerical_features</td>\n",
       "      <td>78024.679632</td>\n",
       "      <td>57907.231033</td>\n",
       "      <td>0.549012</td>\n",
       "    </tr>\n",
       "  </tbody>\n",
       "</table>\n",
       "</div>"
      ],
      "text/plain": [
       "                   MODEL          RMSE           MAE  R-SQUARE\n",
       "0  lr_numerical_features  78024.679632  57907.231033  0.549012"
      ]
     },
     "execution_count": 45,
     "metadata": {},
     "output_type": "execute_result"
    }
   ],
   "source": [
    "cols = [\"MODEL\",\"RMSE\",\"MAE\", \"R-SQUARE\"]\n",
    "model_report2 = pd.DataFrame(columns = cols)\n",
    "\n",
    "tmp2 = pd.Series({ \"MODEL\" : \"lr_numerical_features\",\n",
    "                  \"RMSE\" : RMSE_2,\n",
    "                  \"MAE\" : MAE_2,\n",
    "                  \"R-SQUARE\" : R2_2})\n",
    "model_lr2_report = model_report2.append(tmp2, ignore_index=True)\n",
    "model_lr2_report"
   ]
  },
  {
   "cell_type": "markdown",
   "id": "d5cd68c6",
   "metadata": {},
   "source": [
    "**Вывод** \n",
    "\n",
    "Как видим, согласно значениям  всех метрик первая модель, обученная на всех признаках, работает точнее."
   ]
  },
  {
   "cell_type": "markdown",
   "id": "4181f386",
   "metadata": {},
   "source": [
    "# Общий вывод"
   ]
  },
  {
   "cell_type": "code",
   "execution_count": 46,
   "id": "8ff163fa",
   "metadata": {
    "scrolled": true
   },
   "outputs": [
    {
     "data": {
      "text/html": [
       "<div>\n",
       "<style scoped>\n",
       "    .dataframe tbody tr th:only-of-type {\n",
       "        vertical-align: middle;\n",
       "    }\n",
       "\n",
       "    .dataframe tbody tr th {\n",
       "        vertical-align: top;\n",
       "    }\n",
       "\n",
       "    .dataframe thead th {\n",
       "        text-align: right;\n",
       "    }\n",
       "</style>\n",
       "<table border=\"1\" class=\"dataframe\">\n",
       "  <thead>\n",
       "    <tr style=\"text-align: right;\">\n",
       "      <th></th>\n",
       "      <th>MODEL</th>\n",
       "      <th>RMSE</th>\n",
       "      <th>MAE</th>\n",
       "      <th>R-SQUARE</th>\n",
       "    </tr>\n",
       "  </thead>\n",
       "  <tbody>\n",
       "    <tr>\n",
       "      <th>0</th>\n",
       "      <td>lr_all_features</td>\n",
       "      <td>72185.523291</td>\n",
       "      <td>52340.532580</td>\n",
       "      <td>0.613988</td>\n",
       "    </tr>\n",
       "    <tr>\n",
       "      <th>1</th>\n",
       "      <td>lr_numerical_features</td>\n",
       "      <td>78024.679632</td>\n",
       "      <td>57907.231033</td>\n",
       "      <td>0.549012</td>\n",
       "    </tr>\n",
       "  </tbody>\n",
       "</table>\n",
       "</div>"
      ],
      "text/plain": [
       "                   MODEL          RMSE           MAE  R-SQUARE\n",
       "0        lr_all_features  72185.523291  52340.532580  0.613988\n",
       "1  lr_numerical_features  78024.679632  57907.231033  0.549012"
      ]
     },
     "execution_count": 46,
     "metadata": {},
     "output_type": "execute_result"
    }
   ],
   "source": [
    "cols = [\"MODEL\",\"RMSE\",\"MAE\", \"R-SQUARE\"]\n",
    "model_report = pd.DataFrame(columns = cols)\n",
    "final_report = pd.concat([model_lr1_report, model_lr2_report], ignore_index=True)\n",
    "final_report"
   ]
  },
  {
   "cell_type": "markdown",
   "id": "55d61710",
   "metadata": {},
   "source": [
    "Целью данного проекта была необходимость обучить модель линейной регрессии на данных о жилье в Калифорнии в 1990 году.\n",
    "В ходе работы инициализировали локальную Spark-сессию, провели предобработку данных, используя методы pySpark,исследовали данные на наличие пропусков и избавились от них, заменив пропущенные значения на среднее.\n",
    "\n",
    "Преобразовали колонку с категориальными значениями техникой One hot encoding.\n",
    "\n",
    "Провели стандартизацию количественных признаков.\n",
    "\n",
    "Построили две модели линейной регрессии на разных наборах данных:\n",
    "\n",
    " - используя все данные из файла;\n",
    " - используя только числовые переменные, исключив категориальные.\n",
    "\n",
    "На основе данных  из двух наборов предсказали медианную стоимость дома в жилом массиве — median_house_value.  Для оценки качества модели использовали метрики RMSE, MAE и R2.\n",
    " Лучшей показала себя модель, обученная на всех признаках. Это видно из сводной таблицы. В процентном соотношении разница составила всего 0,05%.\n",
    " "
   ]
  },
  {
   "cell_type": "code",
   "execution_count": 47,
   "id": "48f6abcf",
   "metadata": {},
   "outputs": [],
   "source": [
    "spark.stop()"
   ]
  }
 ],
 "metadata": {
  "ExecuteTimeLog": [
   {
    "duration": 714,
    "start_time": "2022-05-22T22:02:28.044Z"
   },
   {
    "duration": 14377,
    "start_time": "2022-05-22T22:20:24.484Z"
   },
   {
    "duration": 8383,
    "start_time": "2022-05-22T22:23:12.045Z"
   },
   {
    "duration": 407,
    "start_time": "2022-05-22T22:24:50.668Z"
   },
   {
    "duration": 14367,
    "start_time": "2022-05-22T22:24:51.078Z"
   },
   {
    "duration": 8092,
    "start_time": "2022-05-22T22:25:05.447Z"
   },
   {
    "duration": 623,
    "start_time": "2022-05-22T22:26:16.513Z"
   },
   {
    "duration": 75,
    "start_time": "2022-05-22T22:27:50.492Z"
   },
   {
    "duration": 984,
    "start_time": "2022-05-22T22:29:02.761Z"
   },
   {
    "duration": 655,
    "start_time": "2022-05-22T22:30:29.584Z"
   },
   {
    "duration": 2491,
    "start_time": "2022-05-22T22:33:38.569Z"
   },
   {
    "duration": 6,
    "start_time": "2022-05-22T22:53:51.919Z"
   },
   {
    "duration": 3809,
    "start_time": "2022-05-22T22:59:04.133Z"
   },
   {
    "duration": 1272,
    "start_time": "2022-05-22T22:59:24.555Z"
   },
   {
    "duration": 2755,
    "start_time": "2022-05-22T22:59:45.872Z"
   },
   {
    "duration": 5,
    "start_time": "2022-05-22T23:03:35.952Z"
   },
   {
    "duration": 2473,
    "start_time": "2022-05-22T23:03:45.419Z"
   },
   {
    "duration": 6,
    "start_time": "2022-05-22T23:03:49.113Z"
   },
   {
    "duration": 10,
    "start_time": "2022-05-22T23:04:02.397Z"
   },
   {
    "duration": 30,
    "start_time": "2022-05-22T23:05:28.993Z"
   },
   {
    "duration": 2296,
    "start_time": "2022-05-22T23:05:43.750Z"
   },
   {
    "duration": 5,
    "start_time": "2022-05-22T23:05:58.583Z"
   },
   {
    "duration": 2757,
    "start_time": "2022-05-22T23:08:59.675Z"
   },
   {
    "duration": 1927,
    "start_time": "2022-05-22T23:10:10.222Z"
   },
   {
    "duration": 2324,
    "start_time": "2022-05-22T23:10:26.321Z"
   },
   {
    "duration": 62,
    "start_time": "2022-05-23T20:49:06.819Z"
   },
   {
    "duration": 8,
    "start_time": "2022-05-23T20:49:21.044Z"
   },
   {
    "duration": 484,
    "start_time": "2022-05-23T20:49:25.724Z"
   },
   {
    "duration": 16393,
    "start_time": "2022-05-23T20:49:26.214Z"
   },
   {
    "duration": 10519,
    "start_time": "2022-05-23T20:49:42.613Z"
   },
   {
    "duration": 94,
    "start_time": "2022-05-23T20:49:53.133Z"
   },
   {
    "duration": 884,
    "start_time": "2022-05-23T20:49:53.229Z"
   },
   {
    "duration": 1456,
    "start_time": "2022-05-23T20:49:54.115Z"
   },
   {
    "duration": 5950,
    "start_time": "2022-05-23T20:49:55.573Z"
   },
   {
    "duration": 598,
    "start_time": "2022-05-23T20:50:01.525Z"
   },
   {
    "duration": 81,
    "start_time": "2022-05-23T20:50:09.537Z"
   },
   {
    "duration": 72,
    "start_time": "2022-05-23T20:50:17.923Z"
   },
   {
    "duration": 58,
    "start_time": "2022-05-23T20:50:42.458Z"
   },
   {
    "duration": 1337,
    "start_time": "2022-05-23T20:50:59.240Z"
   },
   {
    "duration": 830,
    "start_time": "2022-05-23T20:51:20.939Z"
   },
   {
    "duration": 625,
    "start_time": "2022-05-23T21:08:20.051Z"
   },
   {
    "duration": 677,
    "start_time": "2022-05-23T21:09:45.035Z"
   },
   {
    "duration": 8,
    "start_time": "2022-05-23T21:14:40.985Z"
   },
   {
    "duration": 381,
    "start_time": "2022-05-23T21:16:06.132Z"
   },
   {
    "duration": 920,
    "start_time": "2022-05-23T21:16:37.008Z"
   },
   {
    "duration": 671,
    "start_time": "2022-05-23T21:16:48.350Z"
   },
   {
    "duration": 510,
    "start_time": "2022-05-23T21:27:18.559Z"
   },
   {
    "duration": 659,
    "start_time": "2022-05-23T21:27:25.630Z"
   },
   {
    "duration": 518,
    "start_time": "2022-05-23T21:27:31.152Z"
   },
   {
    "duration": 652,
    "start_time": "2022-05-23T21:27:37.689Z"
   },
   {
    "duration": 555,
    "start_time": "2022-05-23T21:27:47.163Z"
   },
   {
    "duration": 503,
    "start_time": "2022-05-23T21:27:55.861Z"
   },
   {
    "duration": 15952,
    "start_time": "2022-05-23T21:27:56.366Z"
   },
   {
    "duration": 10405,
    "start_time": "2022-05-23T21:28:12.321Z"
   },
   {
    "duration": 96,
    "start_time": "2022-05-23T21:28:22.728Z"
   },
   {
    "duration": 888,
    "start_time": "2022-05-23T21:28:22.826Z"
   },
   {
    "duration": 1792,
    "start_time": "2022-05-23T21:28:23.718Z"
   },
   {
    "duration": 5816,
    "start_time": "2022-05-23T21:28:25.513Z"
   },
   {
    "duration": 587,
    "start_time": "2022-05-23T21:28:31.331Z"
   },
   {
    "duration": 1420,
    "start_time": "2022-05-23T21:28:31.920Z"
   },
   {
    "duration": 1074,
    "start_time": "2022-05-23T21:28:33.343Z"
   },
   {
    "duration": 833,
    "start_time": "2022-05-23T21:28:42.834Z"
   },
   {
    "duration": 816,
    "start_time": "2022-05-23T21:28:53.441Z"
   },
   {
    "duration": 88,
    "start_time": "2022-05-23T21:33:48.710Z"
   },
   {
    "duration": 250,
    "start_time": "2022-05-23T21:35:32.665Z"
   },
   {
    "duration": 98,
    "start_time": "2022-05-23T21:35:53.112Z"
   },
   {
    "duration": 38,
    "start_time": "2022-05-23T21:36:12.253Z"
   },
   {
    "duration": 339,
    "start_time": "2022-05-23T21:36:39.679Z"
   },
   {
    "duration": 394,
    "start_time": "2022-05-23T21:36:50.168Z"
   },
   {
    "duration": 1182,
    "start_time": "2022-05-23T21:37:04.840Z"
   },
   {
    "duration": 694,
    "start_time": "2022-05-23T21:37:40.455Z"
   },
   {
    "duration": 1344,
    "start_time": "2022-05-23T21:48:20.109Z"
   },
   {
    "duration": 541,
    "start_time": "2022-05-23T21:49:15.428Z"
   },
   {
    "duration": 1789,
    "start_time": "2022-05-23T21:56:52.888Z"
   },
   {
    "duration": 34,
    "start_time": "2022-05-23T21:59:31.153Z"
   },
   {
    "duration": 772,
    "start_time": "2022-05-23T21:59:39.881Z"
   },
   {
    "duration": 372,
    "start_time": "2022-05-23T22:00:02.950Z"
   },
   {
    "duration": 32,
    "start_time": "2022-05-23T22:00:16.205Z"
   },
   {
    "duration": 477,
    "start_time": "2022-05-23T22:00:17.604Z"
   },
   {
    "duration": 512,
    "start_time": "2022-05-23T22:00:23.625Z"
   },
   {
    "duration": 15160,
    "start_time": "2022-05-23T22:00:24.139Z"
   },
   {
    "duration": 8711,
    "start_time": "2022-05-23T22:00:39.301Z"
   },
   {
    "duration": 92,
    "start_time": "2022-05-23T22:00:48.015Z"
   },
   {
    "duration": 692,
    "start_time": "2022-05-23T22:00:48.109Z"
   },
   {
    "duration": 1226,
    "start_time": "2022-05-23T22:00:48.803Z"
   },
   {
    "duration": 5003,
    "start_time": "2022-05-23T22:00:50.031Z"
   },
   {
    "duration": 423,
    "start_time": "2022-05-23T22:00:55.094Z"
   },
   {
    "duration": 1220,
    "start_time": "2022-05-23T22:00:55.519Z"
   },
   {
    "duration": 729,
    "start_time": "2022-05-23T22:00:56.742Z"
   },
   {
    "duration": 1296,
    "start_time": "2022-05-23T22:00:57.473Z"
   },
   {
    "duration": 38,
    "start_time": "2022-05-23T22:00:58.770Z"
   },
   {
    "duration": 650,
    "start_time": "2022-05-23T22:00:58.810Z"
   },
   {
    "duration": 1923,
    "start_time": "2022-05-23T22:00:59.462Z"
   },
   {
    "duration": 45,
    "start_time": "2022-05-23T22:07:47.562Z"
   },
   {
    "duration": 649,
    "start_time": "2022-05-23T22:07:50.710Z"
   },
   {
    "duration": 26,
    "start_time": "2022-05-23T22:08:38.817Z"
   },
   {
    "duration": 897,
    "start_time": "2022-05-23T22:08:41.618Z"
   },
   {
    "duration": 5,
    "start_time": "2022-05-23T22:11:04.823Z"
   },
   {
    "duration": 37,
    "start_time": "2022-05-23T22:12:16.679Z"
   },
   {
    "duration": 591,
    "start_time": "2022-05-23T22:12:18.375Z"
   },
   {
    "duration": 627,
    "start_time": "2022-05-23T22:12:23.242Z"
   },
   {
    "duration": 8,
    "start_time": "2022-05-23T22:17:42.736Z"
   },
   {
    "duration": 3,
    "start_time": "2022-05-23T22:18:07.714Z"
   },
   {
    "duration": 1570,
    "start_time": "2022-05-23T22:18:12.344Z"
   },
   {
    "duration": 7,
    "start_time": "2022-05-23T22:18:41.821Z"
   },
   {
    "duration": 11,
    "start_time": "2022-05-23T22:19:08.961Z"
   },
   {
    "duration": 28,
    "start_time": "2022-05-23T22:19:14.006Z"
   },
   {
    "duration": 13,
    "start_time": "2022-05-23T22:20:34.307Z"
   },
   {
    "duration": 11,
    "start_time": "2022-05-23T22:33:58.752Z"
   },
   {
    "duration": 12,
    "start_time": "2022-05-23T22:34:42.748Z"
   },
   {
    "duration": 15,
    "start_time": "2022-05-23T22:35:16.292Z"
   },
   {
    "duration": 86,
    "start_time": "2022-05-23T22:37:42.921Z"
   },
   {
    "duration": 539,
    "start_time": "2022-05-23T22:38:00.616Z"
   },
   {
    "duration": 15038,
    "start_time": "2022-05-23T22:38:01.157Z"
   },
   {
    "duration": 9014,
    "start_time": "2022-05-23T22:38:16.198Z"
   },
   {
    "duration": 83,
    "start_time": "2022-05-23T22:38:25.214Z"
   },
   {
    "duration": 800,
    "start_time": "2022-05-23T22:38:25.299Z"
   },
   {
    "duration": 1324,
    "start_time": "2022-05-23T22:38:26.101Z"
   },
   {
    "duration": 5305,
    "start_time": "2022-05-23T22:38:27.427Z"
   },
   {
    "duration": 464,
    "start_time": "2022-05-23T22:38:32.735Z"
   },
   {
    "duration": 1040,
    "start_time": "2022-05-23T22:38:33.201Z"
   },
   {
    "duration": 687,
    "start_time": "2022-05-23T22:38:34.243Z"
   },
   {
    "duration": 1124,
    "start_time": "2022-05-23T22:38:34.931Z"
   },
   {
    "duration": 4,
    "start_time": "2022-05-23T22:38:36.057Z"
   },
   {
    "duration": 59,
    "start_time": "2022-05-23T22:38:36.063Z"
   },
   {
    "duration": 974,
    "start_time": "2022-05-23T22:38:36.124Z"
   },
   {
    "duration": 181,
    "start_time": "2022-05-23T22:38:37.100Z"
   },
   {
    "duration": 0,
    "start_time": "2022-05-23T22:38:37.294Z"
   },
   {
    "duration": 0,
    "start_time": "2022-05-23T22:38:37.295Z"
   },
   {
    "duration": 72,
    "start_time": "2022-05-23T22:41:59.857Z"
   },
   {
    "duration": 79,
    "start_time": "2022-05-23T22:42:48.016Z"
   },
   {
    "duration": 81,
    "start_time": "2022-05-23T22:43:29.108Z"
   },
   {
    "duration": 1397,
    "start_time": "2022-05-23T22:46:57.407Z"
   },
   {
    "duration": 13,
    "start_time": "2022-05-23T22:47:23.039Z"
   },
   {
    "duration": 13,
    "start_time": "2022-05-23T22:49:16.561Z"
   },
   {
    "duration": 2043,
    "start_time": "2022-05-23T22:49:30.015Z"
   },
   {
    "duration": 230,
    "start_time": "2022-05-23T22:50:48.034Z"
   },
   {
    "duration": 236,
    "start_time": "2022-05-23T22:51:11.823Z"
   },
   {
    "duration": 258,
    "start_time": "2022-05-23T22:51:21.841Z"
   },
   {
    "duration": 250,
    "start_time": "2022-05-23T22:51:45.515Z"
   },
   {
    "duration": 257,
    "start_time": "2022-05-23T22:52:01.480Z"
   },
   {
    "duration": 302,
    "start_time": "2022-05-23T22:52:08.901Z"
   },
   {
    "duration": 324,
    "start_time": "2022-05-23T22:53:17.174Z"
   },
   {
    "duration": 204,
    "start_time": "2022-05-23T22:53:29.432Z"
   },
   {
    "duration": 8,
    "start_time": "2022-05-23T22:53:56.655Z"
   },
   {
    "duration": 32,
    "start_time": "2022-05-23T22:54:29.857Z"
   },
   {
    "duration": 1250,
    "start_time": "2022-05-23T22:54:34.600Z"
   },
   {
    "duration": 8,
    "start_time": "2022-05-23T22:55:55.184Z"
   },
   {
    "duration": 2,
    "start_time": "2022-05-23T22:55:58.951Z"
   },
   {
    "duration": 421,
    "start_time": "2022-05-23T22:55:59.784Z"
   },
   {
    "duration": 1390,
    "start_time": "2022-05-23T22:56:47.281Z"
   },
   {
    "duration": 469,
    "start_time": "2022-05-23T22:57:57.926Z"
   },
   {
    "duration": 28,
    "start_time": "2022-05-23T22:57:59.288Z"
   },
   {
    "duration": 1011,
    "start_time": "2022-05-23T22:58:02.319Z"
   },
   {
    "duration": 41,
    "start_time": "2022-05-23T23:01:35.498Z"
   },
   {
    "duration": 36,
    "start_time": "2022-05-23T23:18:11.336Z"
   },
   {
    "duration": 1849,
    "start_time": "2022-05-23T23:18:47.486Z"
   },
   {
    "duration": 16,
    "start_time": "2022-05-23T23:24:25.987Z"
   },
   {
    "duration": 18,
    "start_time": "2022-05-23T23:25:03.991Z"
   },
   {
    "duration": 1923,
    "start_time": "2022-05-23T23:26:35.826Z"
   },
   {
    "duration": 1011,
    "start_time": "2022-05-23T23:27:14.626Z"
   },
   {
    "duration": 53,
    "start_time": "2022-05-24T08:57:33.335Z"
   },
   {
    "duration": 631,
    "start_time": "2022-05-24T08:57:38.444Z"
   },
   {
    "duration": 15471,
    "start_time": "2022-05-24T08:57:39.077Z"
   },
   {
    "duration": 8982,
    "start_time": "2022-05-24T08:57:54.551Z"
   },
   {
    "duration": 94,
    "start_time": "2022-05-24T08:58:03.535Z"
   },
   {
    "duration": 792,
    "start_time": "2022-05-24T08:58:03.631Z"
   },
   {
    "duration": 1377,
    "start_time": "2022-05-24T08:58:04.425Z"
   },
   {
    "duration": 5911,
    "start_time": "2022-05-24T08:58:05.804Z"
   },
   {
    "duration": 510,
    "start_time": "2022-05-24T08:58:11.718Z"
   },
   {
    "duration": 1328,
    "start_time": "2022-05-24T08:58:12.230Z"
   },
   {
    "duration": 739,
    "start_time": "2022-05-24T08:58:13.560Z"
   },
   {
    "duration": 962,
    "start_time": "2022-05-24T08:58:14.301Z"
   },
   {
    "duration": 4,
    "start_time": "2022-05-24T08:58:15.265Z"
   },
   {
    "duration": 68,
    "start_time": "2022-05-24T08:58:15.271Z"
   },
   {
    "duration": 710,
    "start_time": "2022-05-24T08:58:15.341Z"
   },
   {
    "duration": 2,
    "start_time": "2022-05-24T08:58:16.053Z"
   },
   {
    "duration": 1584,
    "start_time": "2022-05-24T08:58:16.057Z"
   },
   {
    "duration": 306,
    "start_time": "2022-05-24T08:58:17.695Z"
   },
   {
    "duration": 2157,
    "start_time": "2022-05-24T08:58:18.002Z"
   },
   {
    "duration": 63,
    "start_time": "2022-05-24T08:58:20.160Z"
   },
   {
    "duration": 97,
    "start_time": "2022-05-24T08:58:20.224Z"
   },
   {
    "duration": 1328,
    "start_time": "2022-05-24T08:59:04.578Z"
   },
   {
    "duration": 3578,
    "start_time": "2022-05-24T08:59:24.033Z"
   },
   {
    "duration": 1058,
    "start_time": "2022-05-24T09:07:21.213Z"
   },
   {
    "duration": 4402,
    "start_time": "2022-05-24T09:07:44.909Z"
   },
   {
    "duration": 22,
    "start_time": "2022-05-24T09:13:54.754Z"
   },
   {
    "duration": 60,
    "start_time": "2022-05-24T09:14:48.679Z"
   },
   {
    "duration": 47,
    "start_time": "2022-05-24T09:15:22.073Z"
   },
   {
    "duration": 35,
    "start_time": "2022-05-24T09:15:48.014Z"
   },
   {
    "duration": 59,
    "start_time": "2022-05-24T09:16:10.908Z"
   },
   {
    "duration": 122,
    "start_time": "2022-05-24T12:45:35.615Z"
   },
   {
    "duration": 17,
    "start_time": "2022-05-24T12:46:11.539Z"
   },
   {
    "duration": 1251,
    "start_time": "2022-05-24T12:46:40.168Z"
   },
   {
    "duration": 15598,
    "start_time": "2022-05-24T12:46:41.421Z"
   },
   {
    "duration": 668,
    "start_time": "2022-05-24T12:47:40.364Z"
   },
   {
    "duration": 7,
    "start_time": "2022-05-24T12:47:42.977Z"
   },
   {
    "duration": 264,
    "start_time": "2022-05-24T12:47:44.945Z"
   },
   {
    "duration": 662,
    "start_time": "2022-05-24T12:47:46.853Z"
   },
   {
    "duration": 3165,
    "start_time": "2022-05-24T12:47:49.288Z"
   },
   {
    "duration": 27,
    "start_time": "2022-05-24T12:47:54.086Z"
   },
   {
    "duration": 14,
    "start_time": "2022-05-24T12:48:25.423Z"
   },
   {
    "duration": 465,
    "start_time": "2022-05-24T12:49:47.972Z"
   },
   {
    "duration": 84,
    "start_time": "2022-05-24T12:55:00.331Z"
   },
   {
    "duration": 7,
    "start_time": "2022-05-24T12:55:05.582Z"
   },
   {
    "duration": 170,
    "start_time": "2022-05-24T12:55:14.535Z"
   },
   {
    "duration": 287,
    "start_time": "2022-05-24T12:58:32.521Z"
   },
   {
    "duration": 1001,
    "start_time": "2022-05-24T13:06:05.611Z"
   },
   {
    "duration": 292,
    "start_time": "2022-05-24T13:06:09.005Z"
   },
   {
    "duration": 130,
    "start_time": "2022-05-24T13:06:21.785Z"
   },
   {
    "duration": 5038,
    "start_time": "2022-05-24T13:06:58.056Z"
   },
   {
    "duration": 612,
    "start_time": "2022-05-24T13:07:15.552Z"
   },
   {
    "duration": 941,
    "start_time": "2022-05-24T13:07:18.208Z"
   },
   {
    "duration": 4,
    "start_time": "2022-05-24T13:07:21.861Z"
   },
   {
    "duration": 22,
    "start_time": "2022-05-24T13:07:25.131Z"
   },
   {
    "duration": 723,
    "start_time": "2022-05-24T13:07:27.095Z"
   },
   {
    "duration": 3,
    "start_time": "2022-05-24T13:07:29.597Z"
   },
   {
    "duration": 1510,
    "start_time": "2022-05-24T13:07:30.318Z"
   },
   {
    "duration": 226,
    "start_time": "2022-05-24T13:07:34.710Z"
   },
   {
    "duration": 1914,
    "start_time": "2022-05-24T13:07:35.608Z"
   },
   {
    "duration": 71,
    "start_time": "2022-05-24T13:07:37.524Z"
   },
   {
    "duration": 37,
    "start_time": "2022-05-24T13:07:39.886Z"
   },
   {
    "duration": 1137,
    "start_time": "2022-05-24T13:07:41.278Z"
   },
   {
    "duration": 3848,
    "start_time": "2022-05-24T13:07:43.740Z"
   },
   {
    "duration": 32,
    "start_time": "2022-05-24T13:09:28.096Z"
   },
   {
    "duration": 270,
    "start_time": "2022-05-24T13:09:50.535Z"
   },
   {
    "duration": 9,
    "start_time": "2022-05-24T14:24:51.463Z"
   },
   {
    "duration": 1290,
    "start_time": "2022-05-24T14:28:35.656Z"
   },
   {
    "duration": 15654,
    "start_time": "2022-05-24T14:28:36.948Z"
   },
   {
    "duration": 9122,
    "start_time": "2022-05-24T14:28:52.605Z"
   },
   {
    "duration": 116,
    "start_time": "2022-05-24T14:29:01.729Z"
   },
   {
    "duration": 774,
    "start_time": "2022-05-24T14:29:01.847Z"
   },
   {
    "duration": 1412,
    "start_time": "2022-05-24T14:29:02.623Z"
   },
   {
    "duration": 5571,
    "start_time": "2022-05-24T14:29:04.037Z"
   },
   {
    "duration": 414,
    "start_time": "2022-05-24T14:29:09.616Z"
   },
   {
    "duration": 1309,
    "start_time": "2022-05-24T14:29:10.032Z"
   },
   {
    "duration": 5126,
    "start_time": "2022-05-24T14:29:11.400Z"
   },
   {
    "duration": 747,
    "start_time": "2022-05-24T14:29:16.528Z"
   },
   {
    "duration": 1073,
    "start_time": "2022-05-24T14:29:17.278Z"
   },
   {
    "duration": 4,
    "start_time": "2022-05-24T14:29:18.352Z"
   },
   {
    "duration": 51,
    "start_time": "2022-05-24T14:29:18.358Z"
   },
   {
    "duration": 1020,
    "start_time": "2022-05-24T14:29:18.411Z"
   },
   {
    "duration": 60,
    "start_time": "2022-05-24T14:29:19.434Z"
   },
   {
    "duration": 1399,
    "start_time": "2022-05-24T14:29:19.496Z"
   },
   {
    "duration": 328,
    "start_time": "2022-05-24T14:29:20.899Z"
   },
   {
    "duration": 2161,
    "start_time": "2022-05-24T14:29:21.229Z"
   },
   {
    "duration": 53,
    "start_time": "2022-05-24T14:29:23.394Z"
   },
   {
    "duration": 106,
    "start_time": "2022-05-24T14:29:23.494Z"
   },
   {
    "duration": 1232,
    "start_time": "2022-05-24T14:29:23.601Z"
   },
   {
    "duration": 3898,
    "start_time": "2022-05-24T14:29:24.835Z"
   },
   {
    "duration": 64,
    "start_time": "2022-05-24T14:29:28.735Z"
   },
   {
    "duration": 415,
    "start_time": "2022-05-24T14:29:28.801Z"
   },
   {
    "duration": 173,
    "start_time": "2022-05-24T14:29:29.217Z"
   },
   {
    "duration": 104,
    "start_time": "2022-05-24T14:30:38.329Z"
   },
   {
    "duration": 1302,
    "start_time": "2022-05-24T14:31:53.530Z"
   },
   {
    "duration": 15584,
    "start_time": "2022-05-24T14:31:54.834Z"
   },
   {
    "duration": 9307,
    "start_time": "2022-05-24T14:32:10.421Z"
   },
   {
    "duration": 90,
    "start_time": "2022-05-24T14:32:19.730Z"
   },
   {
    "duration": 780,
    "start_time": "2022-05-24T14:32:19.821Z"
   },
   {
    "duration": 1325,
    "start_time": "2022-05-24T14:32:20.603Z"
   },
   {
    "duration": 6085,
    "start_time": "2022-05-24T14:32:21.930Z"
   },
   {
    "duration": 505,
    "start_time": "2022-05-24T14:32:28.018Z"
   },
   {
    "duration": 1431,
    "start_time": "2022-05-24T14:32:28.525Z"
   },
   {
    "duration": 5233,
    "start_time": "2022-05-24T14:32:29.995Z"
   },
   {
    "duration": 832,
    "start_time": "2022-05-24T14:32:35.230Z"
   },
   {
    "duration": 949,
    "start_time": "2022-05-24T14:32:36.064Z"
   },
   {
    "duration": 4,
    "start_time": "2022-05-24T14:32:37.014Z"
   },
   {
    "duration": 80,
    "start_time": "2022-05-24T14:32:37.020Z"
   },
   {
    "duration": 892,
    "start_time": "2022-05-24T14:32:37.104Z"
   },
   {
    "duration": 3,
    "start_time": "2022-05-24T14:32:37.998Z"
   },
   {
    "duration": 1444,
    "start_time": "2022-05-24T14:32:38.002Z"
   },
   {
    "duration": 314,
    "start_time": "2022-05-24T14:32:39.497Z"
   },
   {
    "duration": 2023,
    "start_time": "2022-05-24T14:32:39.814Z"
   },
   {
    "duration": 76,
    "start_time": "2022-05-24T14:32:41.839Z"
   },
   {
    "duration": 89,
    "start_time": "2022-05-24T14:32:41.917Z"
   },
   {
    "duration": 1315,
    "start_time": "2022-05-24T14:32:42.010Z"
   },
   {
    "duration": 3950,
    "start_time": "2022-05-24T14:32:43.326Z"
   },
   {
    "duration": 36,
    "start_time": "2022-05-24T14:32:47.278Z"
   },
   {
    "duration": 378,
    "start_time": "2022-05-24T14:32:47.316Z"
   },
   {
    "duration": 131,
    "start_time": "2022-05-24T14:32:47.695Z"
   },
   {
    "duration": 208,
    "start_time": "2022-05-24T14:36:52.246Z"
   },
   {
    "duration": 16,
    "start_time": "2022-05-24T14:36:57.690Z"
   },
   {
    "duration": 31,
    "start_time": "2022-05-24T14:41:56.925Z"
   },
   {
    "duration": 2718,
    "start_time": "2022-05-24T14:42:37.881Z"
   },
   {
    "duration": 11,
    "start_time": "2022-05-24T14:46:01.424Z"
   },
   {
    "duration": 4,
    "start_time": "2022-05-24T14:46:04.228Z"
   },
   {
    "duration": 215,
    "start_time": "2022-05-24T14:46:05.216Z"
   },
   {
    "duration": 11,
    "start_time": "2022-05-24T14:46:23.448Z"
   },
   {
    "duration": 10,
    "start_time": "2022-05-24T14:46:37.420Z"
   },
   {
    "duration": 3,
    "start_time": "2022-05-24T14:46:54.987Z"
   },
   {
    "duration": 9,
    "start_time": "2022-05-24T14:47:25.755Z"
   },
   {
    "duration": 38968,
    "start_time": "2022-05-24T14:47:48.685Z"
   },
   {
    "duration": 5,
    "start_time": "2022-05-24T14:48:29.461Z"
   },
   {
    "duration": 44,
    "start_time": "2022-05-24T14:53:55.574Z"
   },
   {
    "duration": 13,
    "start_time": "2022-05-24T14:54:03.386Z"
   },
   {
    "duration": 9,
    "start_time": "2022-05-24T15:53:12.941Z"
   },
   {
    "duration": 22578,
    "start_time": "2022-05-24T15:53:13.854Z"
   },
   {
    "duration": 12,
    "start_time": "2022-05-24T15:57:36.461Z"
   },
   {
    "duration": 1529,
    "start_time": "2022-05-24T15:57:47.828Z"
   },
   {
    "duration": 18,
    "start_time": "2022-05-24T16:51:30.550Z"
   },
   {
    "duration": 3575,
    "start_time": "2022-05-24T16:59:13.293Z"
   },
   {
    "duration": 3433,
    "start_time": "2022-05-24T17:00:06.411Z"
   },
   {
    "duration": 4,
    "start_time": "2022-05-24T17:00:45.108Z"
   },
   {
    "duration": 4185,
    "start_time": "2022-05-24T17:00:49.619Z"
   },
   {
    "duration": 1295,
    "start_time": "2022-05-24T17:01:06.042Z"
   },
   {
    "duration": 15676,
    "start_time": "2022-05-24T17:01:07.338Z"
   },
   {
    "duration": 9202,
    "start_time": "2022-05-24T17:01:23.016Z"
   },
   {
    "duration": 95,
    "start_time": "2022-05-24T17:01:32.220Z"
   },
   {
    "duration": 888,
    "start_time": "2022-05-24T17:01:32.317Z"
   },
   {
    "duration": 1430,
    "start_time": "2022-05-24T17:01:33.211Z"
   },
   {
    "duration": 5928,
    "start_time": "2022-05-24T17:01:34.699Z"
   },
   {
    "duration": 603,
    "start_time": "2022-05-24T17:01:40.629Z"
   },
   {
    "duration": 1355,
    "start_time": "2022-05-24T17:01:41.234Z"
   },
   {
    "duration": 5185,
    "start_time": "2022-05-24T17:01:42.591Z"
   },
   {
    "duration": 4397,
    "start_time": "2022-05-24T17:01:47.777Z"
   },
   {
    "duration": 0,
    "start_time": "2022-05-24T17:01:52.177Z"
   },
   {
    "duration": 0,
    "start_time": "2022-05-24T17:01:52.178Z"
   },
   {
    "duration": 0,
    "start_time": "2022-05-24T17:01:52.179Z"
   },
   {
    "duration": 0,
    "start_time": "2022-05-24T17:01:52.194Z"
   },
   {
    "duration": 0,
    "start_time": "2022-05-24T17:01:52.196Z"
   },
   {
    "duration": 0,
    "start_time": "2022-05-24T17:01:52.197Z"
   },
   {
    "duration": 0,
    "start_time": "2022-05-24T17:01:52.198Z"
   },
   {
    "duration": 1,
    "start_time": "2022-05-24T17:01:52.199Z"
   },
   {
    "duration": 0,
    "start_time": "2022-05-24T17:01:52.201Z"
   },
   {
    "duration": 0,
    "start_time": "2022-05-24T17:01:52.203Z"
   },
   {
    "duration": 0,
    "start_time": "2022-05-24T17:01:52.204Z"
   },
   {
    "duration": 0,
    "start_time": "2022-05-24T17:01:52.206Z"
   },
   {
    "duration": 0,
    "start_time": "2022-05-24T17:01:52.207Z"
   },
   {
    "duration": 0,
    "start_time": "2022-05-24T17:01:52.208Z"
   },
   {
    "duration": 0,
    "start_time": "2022-05-24T17:01:52.209Z"
   },
   {
    "duration": 0,
    "start_time": "2022-05-24T17:01:52.211Z"
   },
   {
    "duration": 0,
    "start_time": "2022-05-24T17:01:52.212Z"
   },
   {
    "duration": 0,
    "start_time": "2022-05-24T17:01:52.213Z"
   },
   {
    "duration": 0,
    "start_time": "2022-05-24T17:01:52.215Z"
   },
   {
    "duration": 0,
    "start_time": "2022-05-24T17:01:52.215Z"
   },
   {
    "duration": 0,
    "start_time": "2022-05-24T17:01:52.216Z"
   },
   {
    "duration": 0,
    "start_time": "2022-05-24T17:01:52.217Z"
   },
   {
    "duration": 0,
    "start_time": "2022-05-24T17:01:52.617Z"
   },
   {
    "duration": 0,
    "start_time": "2022-05-24T17:01:52.619Z"
   },
   {
    "duration": 728,
    "start_time": "2022-05-24T17:04:26.698Z"
   },
   {
    "duration": 2367,
    "start_time": "2022-05-24T17:04:54.179Z"
   },
   {
    "duration": 830,
    "start_time": "2022-05-24T17:10:30.181Z"
   },
   {
    "duration": 1484,
    "start_time": "2022-05-24T17:11:57.671Z"
   },
   {
    "duration": 976,
    "start_time": "2022-05-24T17:13:31.320Z"
   },
   {
    "duration": 1006,
    "start_time": "2022-05-24T17:13:40.233Z"
   },
   {
    "duration": 1210,
    "start_time": "2022-05-24T19:59:33.320Z"
   },
   {
    "duration": 5,
    "start_time": "2022-05-24T20:16:14.272Z"
   },
   {
    "duration": 17,
    "start_time": "2022-05-24T20:17:42.331Z"
   },
   {
    "duration": 17,
    "start_time": "2022-05-24T20:18:51.360Z"
   },
   {
    "duration": 6,
    "start_time": "2022-05-24T20:19:11.380Z"
   },
   {
    "duration": 44,
    "start_time": "2022-05-24T20:19:18.422Z"
   },
   {
    "duration": 588,
    "start_time": "2022-05-24T21:01:05.887Z"
   },
   {
    "duration": 1206,
    "start_time": "2022-05-24T21:44:54.124Z"
   },
   {
    "duration": 17078,
    "start_time": "2022-05-24T21:44:55.332Z"
   },
   {
    "duration": 9517,
    "start_time": "2022-05-24T21:45:12.413Z"
   },
   {
    "duration": 32,
    "start_time": "2022-05-24T21:45:21.997Z"
   },
   {
    "duration": 673,
    "start_time": "2022-05-24T21:45:22.031Z"
   },
   {
    "duration": 1396,
    "start_time": "2022-05-24T21:45:22.706Z"
   },
   {
    "duration": 6190,
    "start_time": "2022-05-24T21:45:24.104Z"
   },
   {
    "duration": 501,
    "start_time": "2022-05-24T21:45:30.298Z"
   },
   {
    "duration": 1255,
    "start_time": "2022-05-24T21:45:30.801Z"
   },
   {
    "duration": 4843,
    "start_time": "2022-05-24T21:45:32.059Z"
   },
   {
    "duration": 1121,
    "start_time": "2022-05-24T21:45:36.904Z"
   },
   {
    "duration": 1340,
    "start_time": "2022-05-24T21:45:38.027Z"
   },
   {
    "duration": 740,
    "start_time": "2022-05-24T21:45:39.369Z"
   },
   {
    "duration": 845,
    "start_time": "2022-05-24T21:45:40.112Z"
   },
   {
    "duration": 1092,
    "start_time": "2022-05-24T21:45:40.959Z"
   },
   {
    "duration": 3,
    "start_time": "2022-05-24T21:45:42.053Z"
   },
   {
    "duration": 44,
    "start_time": "2022-05-24T21:45:42.058Z"
   },
   {
    "duration": 623,
    "start_time": "2022-05-24T21:45:42.104Z"
   },
   {
    "duration": 3,
    "start_time": "2022-05-24T21:45:42.728Z"
   },
   {
    "duration": 1300,
    "start_time": "2022-05-24T21:45:42.732Z"
   },
   {
    "duration": 300,
    "start_time": "2022-05-24T21:45:44.094Z"
   },
   {
    "duration": 1624,
    "start_time": "2022-05-24T21:45:44.397Z"
   },
   {
    "duration": 76,
    "start_time": "2022-05-24T21:45:46.023Z"
   },
   {
    "duration": 179,
    "start_time": "2022-05-24T21:45:46.101Z"
   },
   {
    "duration": 0,
    "start_time": "2022-05-24T21:45:46.283Z"
   },
   {
    "duration": 0,
    "start_time": "2022-05-24T21:45:46.284Z"
   },
   {
    "duration": 0,
    "start_time": "2022-05-24T21:45:46.285Z"
   },
   {
    "duration": 0,
    "start_time": "2022-05-24T21:45:46.294Z"
   },
   {
    "duration": 0,
    "start_time": "2022-05-24T21:45:46.295Z"
   },
   {
    "duration": 0,
    "start_time": "2022-05-24T21:45:46.296Z"
   },
   {
    "duration": 0,
    "start_time": "2022-05-24T21:45:46.297Z"
   },
   {
    "duration": 0,
    "start_time": "2022-05-24T21:45:46.299Z"
   },
   {
    "duration": 0,
    "start_time": "2022-05-24T21:45:46.300Z"
   },
   {
    "duration": 0,
    "start_time": "2022-05-24T21:45:46.301Z"
   },
   {
    "duration": 0,
    "start_time": "2022-05-24T21:45:46.303Z"
   },
   {
    "duration": 0,
    "start_time": "2022-05-24T21:45:46.304Z"
   },
   {
    "duration": 0,
    "start_time": "2022-05-24T21:45:46.305Z"
   },
   {
    "duration": 36,
    "start_time": "2022-05-24T21:47:04.253Z"
   },
   {
    "duration": 1321,
    "start_time": "2022-05-24T21:47:06.910Z"
   },
   {
    "duration": 3337,
    "start_time": "2022-05-24T21:47:10.331Z"
   },
   {
    "duration": 25,
    "start_time": "2022-05-24T21:47:23.642Z"
   },
   {
    "duration": 281,
    "start_time": "2022-05-24T21:47:25.129Z"
   },
   {
    "duration": 3,
    "start_time": "2022-05-24T21:47:29.038Z"
   },
   {
    "duration": 2598,
    "start_time": "2022-05-24T21:47:29.904Z"
   },
   {
    "duration": 65,
    "start_time": "2022-05-24T21:47:37.936Z"
   },
   {
    "duration": 4,
    "start_time": "2022-05-24T21:47:39.520Z"
   },
   {
    "duration": 10,
    "start_time": "2022-05-24T21:47:40.928Z"
   },
   {
    "duration": 36528,
    "start_time": "2022-05-24T21:47:42.721Z"
   },
   {
    "duration": 5,
    "start_time": "2022-05-24T21:48:19.251Z"
   },
   {
    "duration": 3,
    "start_time": "2022-05-24T22:00:16.583Z"
   },
   {
    "duration": 1768,
    "start_time": "2022-05-25T10:17:31.060Z"
   },
   {
    "duration": 20011,
    "start_time": "2022-05-25T10:17:32.830Z"
   },
   {
    "duration": 10612,
    "start_time": "2022-05-25T10:17:52.843Z"
   },
   {
    "duration": 99,
    "start_time": "2022-05-25T10:18:03.457Z"
   },
   {
    "duration": 687,
    "start_time": "2022-05-25T10:18:03.558Z"
   },
   {
    "duration": 1407,
    "start_time": "2022-05-25T10:18:04.247Z"
   },
   {
    "duration": 6007,
    "start_time": "2022-05-25T10:18:05.655Z"
   },
   {
    "duration": 677,
    "start_time": "2022-05-25T10:18:11.664Z"
   },
   {
    "duration": 1209,
    "start_time": "2022-05-25T10:18:12.343Z"
   },
   {
    "duration": 5372,
    "start_time": "2022-05-25T10:18:13.555Z"
   },
   {
    "duration": 949,
    "start_time": "2022-05-25T10:18:18.929Z"
   },
   {
    "duration": 1357,
    "start_time": "2022-05-25T10:18:19.880Z"
   },
   {
    "duration": 781,
    "start_time": "2022-05-25T10:18:21.240Z"
   },
   {
    "duration": 913,
    "start_time": "2022-05-25T10:18:22.041Z"
   },
   {
    "duration": 1451,
    "start_time": "2022-05-25T10:18:22.955Z"
   },
   {
    "duration": 34,
    "start_time": "2022-05-25T10:18:24.408Z"
   },
   {
    "duration": 26,
    "start_time": "2022-05-25T10:18:24.444Z"
   },
   {
    "duration": 723,
    "start_time": "2022-05-25T10:18:24.473Z"
   },
   {
    "duration": 2,
    "start_time": "2022-05-25T10:18:25.198Z"
   },
   {
    "duration": 1370,
    "start_time": "2022-05-25T10:18:25.202Z"
   },
   {
    "duration": 281,
    "start_time": "2022-05-25T10:18:26.575Z"
   },
   {
    "duration": 2236,
    "start_time": "2022-05-25T10:18:26.858Z"
   },
   {
    "duration": 78,
    "start_time": "2022-05-25T10:18:29.097Z"
   },
   {
    "duration": 70,
    "start_time": "2022-05-25T10:18:29.177Z"
   },
   {
    "duration": 1228,
    "start_time": "2022-05-25T10:18:29.249Z"
   },
   {
    "duration": 3303,
    "start_time": "2022-05-25T10:18:30.541Z"
   },
   {
    "duration": 24,
    "start_time": "2022-05-25T10:18:33.845Z"
   },
   {
    "duration": 379,
    "start_time": "2022-05-25T10:18:33.872Z"
   },
   {
    "duration": 3,
    "start_time": "2022-05-25T10:18:34.253Z"
   },
   {
    "duration": 2997,
    "start_time": "2022-05-25T10:18:34.258Z"
   },
   {
    "duration": 193,
    "start_time": "2022-05-25T10:18:37.257Z"
   },
   {
    "duration": 4,
    "start_time": "2022-05-25T10:18:37.452Z"
   },
   {
    "duration": 17,
    "start_time": "2022-05-25T10:18:37.458Z"
   },
   {
    "duration": 35835,
    "start_time": "2022-05-25T10:18:37.476Z"
   },
   {
    "duration": 31,
    "start_time": "2022-05-25T10:19:13.313Z"
   },
   {
    "duration": 18,
    "start_time": "2022-05-25T10:19:13.345Z"
   },
   {
    "duration": 1583,
    "start_time": "2022-05-25T10:19:13.365Z"
   },
   {
    "duration": 113,
    "start_time": "2022-05-25T10:20:50.890Z"
   },
   {
    "duration": 900,
    "start_time": "2022-05-25T10:22:13.397Z"
   },
   {
    "duration": 7,
    "start_time": "2022-05-25T10:25:40.169Z"
   },
   {
    "duration": 4,
    "start_time": "2022-05-25T10:33:27.500Z"
   },
   {
    "duration": 4,
    "start_time": "2022-05-25T10:33:32.930Z"
   },
   {
    "duration": 13,
    "start_time": "2022-05-25T10:34:30.040Z"
   },
   {
    "duration": 26583,
    "start_time": "2022-05-25T10:34:33.889Z"
   },
   {
    "duration": 8,
    "start_time": "2022-05-25T10:35:01.171Z"
   },
   {
    "duration": 9,
    "start_time": "2022-05-25T10:36:33.365Z"
   },
   {
    "duration": 1428,
    "start_time": "2022-05-25T10:37:03.752Z"
   },
   {
    "duration": 796,
    "start_time": "2022-05-25T10:38:06.670Z"
   },
   {
    "duration": 8,
    "start_time": "2022-05-25T10:46:11.470Z"
   },
   {
    "duration": 6,
    "start_time": "2022-05-25T12:16:14.793Z"
   },
   {
    "duration": 24,
    "start_time": "2022-05-25T12:18:12.080Z"
   },
   {
    "duration": 9,
    "start_time": "2022-05-25T12:18:30.434Z"
   },
   {
    "duration": 6,
    "start_time": "2022-05-25T12:22:59.046Z"
   },
   {
    "duration": 18,
    "start_time": "2022-05-25T12:25:51.904Z"
   },
   {
    "duration": 13,
    "start_time": "2022-05-25T12:27:09.206Z"
   },
   {
    "duration": 13,
    "start_time": "2022-05-25T12:27:59.433Z"
   },
   {
    "duration": 15,
    "start_time": "2022-05-25T12:28:17.260Z"
   },
   {
    "duration": 14,
    "start_time": "2022-05-25T12:29:11.763Z"
   },
   {
    "duration": 9,
    "start_time": "2022-05-25T12:29:14.007Z"
   },
   {
    "duration": 14,
    "start_time": "2022-05-25T12:29:36.816Z"
   },
   {
    "duration": 9,
    "start_time": "2022-05-25T12:29:39.245Z"
   },
   {
    "duration": 18,
    "start_time": "2022-05-25T12:29:42.069Z"
   },
   {
    "duration": 8,
    "start_time": "2022-05-25T12:29:44.159Z"
   },
   {
    "duration": 9,
    "start_time": "2022-05-25T12:30:43.038Z"
   },
   {
    "duration": 12,
    "start_time": "2022-05-25T12:38:15.000Z"
   },
   {
    "duration": 12,
    "start_time": "2022-05-25T12:39:06.569Z"
   },
   {
    "duration": 10,
    "start_time": "2022-05-25T12:41:42.546Z"
   },
   {
    "duration": 10,
    "start_time": "2022-05-25T12:41:42.643Z"
   },
   {
    "duration": 5,
    "start_time": "2022-05-25T12:42:55.546Z"
   },
   {
    "duration": 11,
    "start_time": "2022-05-25T12:43:06.699Z"
   },
   {
    "duration": 272,
    "start_time": "2022-05-25T12:52:51.857Z"
   },
   {
    "duration": 6,
    "start_time": "2022-05-25T12:54:41.266Z"
   },
   {
    "duration": 14,
    "start_time": "2022-05-25T12:55:02.349Z"
   },
   {
    "duration": 9,
    "start_time": "2022-05-25T12:58:30.809Z"
   },
   {
    "duration": 16,
    "start_time": "2022-05-25T12:58:53.212Z"
   },
   {
    "duration": 12,
    "start_time": "2022-05-25T12:59:25.464Z"
   },
   {
    "duration": 13,
    "start_time": "2022-05-25T12:59:54.230Z"
   },
   {
    "duration": 55,
    "start_time": "2022-05-25T13:08:01.097Z"
   },
   {
    "duration": 29,
    "start_time": "2022-05-25T13:08:23.695Z"
   },
   {
    "duration": 37,
    "start_time": "2022-05-25T13:08:46.676Z"
   },
   {
    "duration": 31,
    "start_time": "2022-05-25T13:08:54.400Z"
   },
   {
    "duration": 25,
    "start_time": "2022-05-25T13:09:05.734Z"
   },
   {
    "duration": 14,
    "start_time": "2022-05-25T13:11:12.204Z"
   },
   {
    "duration": 25,
    "start_time": "2022-05-25T13:11:51.009Z"
   },
   {
    "duration": 18,
    "start_time": "2022-05-25T13:12:57.049Z"
   },
   {
    "duration": 6,
    "start_time": "2022-05-25T14:08:25.403Z"
   },
   {
    "duration": 6,
    "start_time": "2022-05-25T14:08:33.732Z"
   },
   {
    "duration": 8,
    "start_time": "2022-05-25T14:08:39.867Z"
   },
   {
    "duration": 7,
    "start_time": "2022-05-25T15:01:03.221Z"
   },
   {
    "duration": 68,
    "start_time": "2022-05-25T15:05:53.865Z"
   },
   {
    "duration": 14,
    "start_time": "2022-05-25T15:06:00.168Z"
   },
   {
    "duration": 12,
    "start_time": "2022-05-25T15:07:00.674Z"
   },
   {
    "duration": 128,
    "start_time": "2022-05-25T15:07:01.472Z"
   },
   {
    "duration": 6,
    "start_time": "2022-05-25T15:08:26.711Z"
   },
   {
    "duration": 2370,
    "start_time": "2022-05-25T15:08:27.724Z"
   },
   {
    "duration": 9,
    "start_time": "2022-05-25T15:09:44.917Z"
   },
   {
    "duration": 11,
    "start_time": "2022-05-25T15:10:12.298Z"
   },
   {
    "duration": 18,
    "start_time": "2022-05-25T15:10:20.453Z"
   },
   {
    "duration": 12,
    "start_time": "2022-05-25T15:10:28.182Z"
   },
   {
    "duration": 9,
    "start_time": "2022-05-25T15:10:37.115Z"
   },
   {
    "duration": 5,
    "start_time": "2022-05-25T15:11:02.914Z"
   },
   {
    "duration": 10,
    "start_time": "2022-05-25T15:11:44.923Z"
   },
   {
    "duration": 9,
    "start_time": "2022-05-25T15:12:14.698Z"
   },
   {
    "duration": 10,
    "start_time": "2022-05-25T15:12:24.094Z"
   },
   {
    "duration": 8,
    "start_time": "2022-05-25T15:12:27.509Z"
   },
   {
    "duration": 9,
    "start_time": "2022-05-25T15:12:28.725Z"
   },
   {
    "duration": 4,
    "start_time": "2022-05-25T15:14:19.114Z"
   },
   {
    "duration": 25,
    "start_time": "2022-05-25T15:20:26.435Z"
   },
   {
    "duration": 17,
    "start_time": "2022-05-25T15:21:02.233Z"
   },
   {
    "duration": 712,
    "start_time": "2022-05-25T15:21:15.568Z"
   },
   {
    "duration": 8,
    "start_time": "2022-05-25T15:24:21.623Z"
   },
   {
    "duration": 1257,
    "start_time": "2022-05-25T15:24:22.872Z"
   },
   {
    "duration": 20,
    "start_time": "2022-05-25T15:24:55.213Z"
   },
   {
    "duration": 666,
    "start_time": "2022-05-25T15:25:49.904Z"
   },
   {
    "duration": 369,
    "start_time": "2022-05-25T15:35:03.372Z"
   },
   {
    "duration": 7,
    "start_time": "2022-05-25T15:51:25.684Z"
   },
   {
    "duration": 7,
    "start_time": "2022-05-25T15:52:41.977Z"
   },
   {
    "duration": 74,
    "start_time": "2022-05-25T15:53:29.122Z"
   },
   {
    "duration": 546,
    "start_time": "2022-05-25T15:53:59.925Z"
   },
   {
    "duration": 455,
    "start_time": "2022-05-25T15:54:48.802Z"
   },
   {
    "duration": 413,
    "start_time": "2022-05-25T15:55:11.334Z"
   },
   {
    "duration": 3,
    "start_time": "2022-05-25T15:59:15.048Z"
   },
   {
    "duration": 4,
    "start_time": "2022-05-25T15:59:19.923Z"
   },
   {
    "duration": 429,
    "start_time": "2022-05-25T15:59:23.853Z"
   },
   {
    "duration": 374,
    "start_time": "2022-05-25T16:01:46.206Z"
   },
   {
    "duration": 262,
    "start_time": "2022-05-25T16:02:57.684Z"
   },
   {
    "duration": 337,
    "start_time": "2022-05-25T16:02:58.614Z"
   },
   {
    "duration": 3,
    "start_time": "2022-05-25T16:02:59.619Z"
   },
   {
    "duration": 6,
    "start_time": "2022-05-25T16:03:02.916Z"
   },
   {
    "duration": 25,
    "start_time": "2022-05-25T16:05:56.878Z"
   },
   {
    "duration": 262,
    "start_time": "2022-05-25T16:06:53.864Z"
   },
   {
    "duration": 4,
    "start_time": "2022-05-25T16:06:55.196Z"
   },
   {
    "duration": 15,
    "start_time": "2022-05-25T16:06:57.981Z"
   },
   {
    "duration": 15,
    "start_time": "2022-05-25T16:10:37.681Z"
   },
   {
    "duration": 12,
    "start_time": "2022-05-25T16:11:01.728Z"
   },
   {
    "duration": 14,
    "start_time": "2022-05-25T16:11:31.987Z"
   },
   {
    "duration": 20,
    "start_time": "2022-05-25T17:20:36.570Z"
   },
   {
    "duration": 15,
    "start_time": "2022-05-25T17:20:42.390Z"
   },
   {
    "duration": 15,
    "start_time": "2022-05-25T17:21:37.955Z"
   },
   {
    "duration": 17,
    "start_time": "2022-05-25T17:21:51.297Z"
   },
   {
    "duration": 15,
    "start_time": "2022-05-25T17:37:17.571Z"
   },
   {
    "duration": 15,
    "start_time": "2022-05-25T17:37:21.718Z"
   },
   {
    "duration": 1338,
    "start_time": "2022-05-25T18:06:42.219Z"
   },
   {
    "duration": 14924,
    "start_time": "2022-05-25T18:06:43.559Z"
   },
   {
    "duration": 9558,
    "start_time": "2022-05-25T18:06:58.485Z"
   },
   {
    "duration": 37,
    "start_time": "2022-05-25T18:07:08.046Z"
   },
   {
    "duration": 712,
    "start_time": "2022-05-25T18:07:08.141Z"
   },
   {
    "duration": 1415,
    "start_time": "2022-05-25T18:07:08.855Z"
   },
   {
    "duration": 5404,
    "start_time": "2022-05-25T18:07:10.273Z"
   },
   {
    "duration": 562,
    "start_time": "2022-05-25T18:07:15.679Z"
   },
   {
    "duration": 1130,
    "start_time": "2022-05-25T18:07:16.243Z"
   },
   {
    "duration": 5458,
    "start_time": "2022-05-25T18:07:17.376Z"
   },
   {
    "duration": 1109,
    "start_time": "2022-05-25T18:07:22.840Z"
   },
   {
    "duration": 1424,
    "start_time": "2022-05-25T18:07:23.951Z"
   },
   {
    "duration": 679,
    "start_time": "2022-05-25T18:07:25.376Z"
   },
   {
    "duration": 836,
    "start_time": "2022-05-25T18:07:26.057Z"
   },
   {
    "duration": 1355,
    "start_time": "2022-05-25T18:07:26.895Z"
   },
   {
    "duration": 4,
    "start_time": "2022-05-25T18:07:28.252Z"
   },
   {
    "duration": 28,
    "start_time": "2022-05-25T18:07:28.257Z"
   },
   {
    "duration": 662,
    "start_time": "2022-05-25T18:07:28.286Z"
   },
   {
    "duration": 3,
    "start_time": "2022-05-25T18:07:28.950Z"
   },
   {
    "duration": 1394,
    "start_time": "2022-05-25T18:07:28.954Z"
   },
   {
    "duration": 409,
    "start_time": "2022-05-25T18:07:30.350Z"
   },
   {
    "duration": 1920,
    "start_time": "2022-05-25T18:07:30.761Z"
   },
   {
    "duration": 72,
    "start_time": "2022-05-25T18:07:32.683Z"
   },
   {
    "duration": 91,
    "start_time": "2022-05-25T18:07:32.758Z"
   },
   {
    "duration": 1097,
    "start_time": "2022-05-25T18:07:32.851Z"
   },
   {
    "duration": 3366,
    "start_time": "2022-05-25T18:07:33.950Z"
   },
   {
    "duration": 40,
    "start_time": "2022-05-25T18:07:37.320Z"
   },
   {
    "duration": 448,
    "start_time": "2022-05-25T18:07:37.365Z"
   },
   {
    "duration": 3,
    "start_time": "2022-05-25T18:07:37.814Z"
   },
   {
    "duration": 2523,
    "start_time": "2022-05-25T18:07:37.819Z"
   },
   {
    "duration": 100,
    "start_time": "2022-05-25T18:07:40.345Z"
   },
   {
    "duration": 4326,
    "start_time": "2022-05-25T18:07:40.446Z"
   },
   {
    "duration": 89,
    "start_time": "2022-05-25T18:07:44.773Z"
   },
   {
    "duration": 955,
    "start_time": "2022-05-25T18:07:44.864Z"
   },
   {
    "duration": 27,
    "start_time": "2022-05-25T18:07:45.821Z"
   },
   {
    "duration": 2925,
    "start_time": "2022-05-25T18:07:45.849Z"
   },
   {
    "duration": 91,
    "start_time": "2022-05-25T18:07:48.776Z"
   },
   {
    "duration": 1089,
    "start_time": "2022-05-25T18:07:48.870Z"
   },
   {
    "duration": 913,
    "start_time": "2022-05-25T18:07:49.961Z"
   },
   {
    "duration": 770,
    "start_time": "2022-05-25T18:07:50.875Z"
   },
   {
    "duration": 757,
    "start_time": "2022-05-25T18:07:51.647Z"
   },
   {
    "duration": 22,
    "start_time": "2022-05-25T18:07:52.442Z"
   },
   {
    "duration": 2078,
    "start_time": "2022-05-25T18:07:52.466Z"
   },
   {
    "duration": 112,
    "start_time": "2022-05-25T18:07:54.546Z"
   },
   {
    "duration": 0,
    "start_time": "2022-05-25T18:07:54.660Z"
   },
   {
    "duration": 0,
    "start_time": "2022-05-25T18:07:54.661Z"
   },
   {
    "duration": 15,
    "start_time": "2022-05-25T18:16:59.846Z"
   },
   {
    "duration": 1362,
    "start_time": "2022-05-25T18:17:20.120Z"
   },
   {
    "duration": 15670,
    "start_time": "2022-05-25T18:17:21.484Z"
   },
   {
    "duration": 9515,
    "start_time": "2022-05-25T18:17:37.156Z"
   },
   {
    "duration": 104,
    "start_time": "2022-05-25T18:17:46.673Z"
   },
   {
    "duration": 870,
    "start_time": "2022-05-25T18:17:46.779Z"
   },
   {
    "duration": 1227,
    "start_time": "2022-05-25T18:17:47.652Z"
   },
   {
    "duration": 5934,
    "start_time": "2022-05-25T18:17:48.880Z"
   },
   {
    "duration": 514,
    "start_time": "2022-05-25T18:17:54.843Z"
   },
   {
    "duration": 1040,
    "start_time": "2022-05-25T18:17:55.359Z"
   },
   {
    "duration": 5345,
    "start_time": "2022-05-25T18:17:56.401Z"
   },
   {
    "duration": 1225,
    "start_time": "2022-05-25T18:18:01.748Z"
   },
   {
    "duration": 1717,
    "start_time": "2022-05-25T18:18:02.976Z"
   },
   {
    "duration": 611,
    "start_time": "2022-05-25T18:18:04.694Z"
   },
   {
    "duration": 867,
    "start_time": "2022-05-25T18:18:05.307Z"
   },
   {
    "duration": 1140,
    "start_time": "2022-05-25T18:18:06.175Z"
   },
   {
    "duration": 4,
    "start_time": "2022-05-25T18:18:07.316Z"
   },
   {
    "duration": 35,
    "start_time": "2022-05-25T18:18:07.322Z"
   },
   {
    "duration": 641,
    "start_time": "2022-05-25T18:18:07.359Z"
   },
   {
    "duration": 3,
    "start_time": "2022-05-25T18:18:08.002Z"
   },
   {
    "duration": 1447,
    "start_time": "2022-05-25T18:18:08.006Z"
   },
   {
    "duration": 297,
    "start_time": "2022-05-25T18:18:09.456Z"
   },
   {
    "duration": 1838,
    "start_time": "2022-05-25T18:18:09.756Z"
   },
   {
    "duration": 76,
    "start_time": "2022-05-25T18:18:11.596Z"
   },
   {
    "duration": 95,
    "start_time": "2022-05-25T18:18:11.674Z"
   },
   {
    "duration": 1387,
    "start_time": "2022-05-25T18:18:11.771Z"
   },
   {
    "duration": 3724,
    "start_time": "2022-05-25T18:18:13.159Z"
   },
   {
    "duration": 32,
    "start_time": "2022-05-25T18:18:16.891Z"
   },
   {
    "duration": 409,
    "start_time": "2022-05-25T18:18:16.944Z"
   },
   {
    "duration": 4,
    "start_time": "2022-05-25T18:18:17.355Z"
   },
   {
    "duration": 2994,
    "start_time": "2022-05-25T18:18:17.361Z"
   },
   {
    "duration": 112,
    "start_time": "2022-05-25T18:18:20.358Z"
   },
   {
    "duration": 4489,
    "start_time": "2022-05-25T18:18:20.474Z"
   },
   {
    "duration": 83,
    "start_time": "2022-05-25T18:18:24.965Z"
   },
   {
    "duration": 797,
    "start_time": "2022-05-25T18:18:25.050Z"
   },
   {
    "duration": 14,
    "start_time": "2022-05-25T18:18:25.849Z"
   },
   {
    "duration": 3504,
    "start_time": "2022-05-25T18:18:25.865Z"
   },
   {
    "duration": 90,
    "start_time": "2022-05-25T18:18:29.371Z"
   },
   {
    "duration": 999,
    "start_time": "2022-05-25T18:18:29.463Z"
   },
   {
    "duration": 914,
    "start_time": "2022-05-25T18:18:30.464Z"
   },
   {
    "duration": 751,
    "start_time": "2022-05-25T18:18:31.379Z"
   },
   {
    "duration": 658,
    "start_time": "2022-05-25T18:18:32.132Z"
   },
   {
    "duration": 64,
    "start_time": "2022-05-25T18:18:32.792Z"
   },
   {
    "duration": 2101,
    "start_time": "2022-05-25T18:18:32.858Z"
   },
   {
    "duration": 15,
    "start_time": "2022-05-25T18:18:34.961Z"
   },
   {
    "duration": 15,
    "start_time": "2022-05-25T18:18:34.978Z"
   },
   {
    "duration": 259,
    "start_time": "2022-05-25T18:18:34.995Z"
   },
   {
    "duration": 15,
    "start_time": "2022-05-25T18:20:18.353Z"
   },
   {
    "duration": 14,
    "start_time": "2022-05-25T18:20:26.035Z"
   },
   {
    "duration": 14,
    "start_time": "2022-05-25T18:20:32.461Z"
   },
   {
    "duration": 1234,
    "start_time": "2022-05-25T18:33:41.678Z"
   },
   {
    "duration": 14768,
    "start_time": "2022-05-25T18:33:42.914Z"
   },
   {
    "duration": 9387,
    "start_time": "2022-05-25T18:33:57.684Z"
   },
   {
    "duration": 90,
    "start_time": "2022-05-25T18:34:07.074Z"
   },
   {
    "duration": 676,
    "start_time": "2022-05-25T18:34:07.166Z"
   },
   {
    "duration": 1305,
    "start_time": "2022-05-25T18:34:07.844Z"
   },
   {
    "duration": 4997,
    "start_time": "2022-05-25T18:34:09.151Z"
   },
   {
    "duration": 409,
    "start_time": "2022-05-25T18:34:14.150Z"
   },
   {
    "duration": 1114,
    "start_time": "2022-05-25T18:34:14.561Z"
   },
   {
    "duration": 4804,
    "start_time": "2022-05-25T18:34:15.678Z"
   },
   {
    "duration": 1174,
    "start_time": "2022-05-25T18:34:20.542Z"
   },
   {
    "duration": 1349,
    "start_time": "2022-05-25T18:34:21.717Z"
   },
   {
    "duration": 607,
    "start_time": "2022-05-25T18:34:23.067Z"
   },
   {
    "duration": 834,
    "start_time": "2022-05-25T18:34:23.676Z"
   },
   {
    "duration": 994,
    "start_time": "2022-05-25T18:34:24.511Z"
   },
   {
    "duration": 5,
    "start_time": "2022-05-25T18:34:25.507Z"
   },
   {
    "duration": 48,
    "start_time": "2022-05-25T18:34:25.514Z"
   },
   {
    "duration": 700,
    "start_time": "2022-05-25T18:34:25.563Z"
   },
   {
    "duration": 3,
    "start_time": "2022-05-25T18:34:26.265Z"
   },
   {
    "duration": 1513,
    "start_time": "2022-05-25T18:34:26.270Z"
   },
   {
    "duration": 244,
    "start_time": "2022-05-25T18:34:27.843Z"
   },
   {
    "duration": 1799,
    "start_time": "2022-05-25T18:34:28.088Z"
   },
   {
    "duration": 73,
    "start_time": "2022-05-25T18:34:29.889Z"
   },
   {
    "duration": 240,
    "start_time": "2022-05-25T18:34:29.967Z"
   },
   {
    "duration": 1159,
    "start_time": "2022-05-25T18:34:30.209Z"
   },
   {
    "duration": 3289,
    "start_time": "2022-05-25T18:34:31.370Z"
   },
   {
    "duration": 22,
    "start_time": "2022-05-25T18:34:34.661Z"
   },
   {
    "duration": 356,
    "start_time": "2022-05-25T18:34:34.687Z"
   },
   {
    "duration": 2,
    "start_time": "2022-05-25T18:34:35.045Z"
   },
   {
    "duration": 2198,
    "start_time": "2022-05-25T18:34:35.049Z"
   },
   {
    "duration": 95,
    "start_time": "2022-05-25T18:34:37.249Z"
   },
   {
    "duration": 3703,
    "start_time": "2022-05-25T18:34:37.346Z"
   },
   {
    "duration": 20,
    "start_time": "2022-05-25T18:34:41.050Z"
   },
   {
    "duration": 777,
    "start_time": "2022-05-25T18:34:41.072Z"
   },
   {
    "duration": 8,
    "start_time": "2022-05-25T18:34:41.851Z"
   },
   {
    "duration": 2793,
    "start_time": "2022-05-25T18:34:41.861Z"
   },
   {
    "duration": 86,
    "start_time": "2022-05-25T18:34:44.655Z"
   },
   {
    "duration": 813,
    "start_time": "2022-05-25T18:34:44.744Z"
   },
   {
    "duration": 896,
    "start_time": "2022-05-25T18:34:45.560Z"
   },
   {
    "duration": 788,
    "start_time": "2022-05-25T18:34:46.458Z"
   },
   {
    "duration": 518,
    "start_time": "2022-05-25T18:34:47.248Z"
   },
   {
    "duration": 16,
    "start_time": "2022-05-25T18:34:47.768Z"
   },
   {
    "duration": 2031,
    "start_time": "2022-05-25T18:34:47.786Z"
   },
   {
    "duration": 16,
    "start_time": "2022-05-25T18:34:49.840Z"
   },
   {
    "duration": 15,
    "start_time": "2022-05-25T18:34:49.858Z"
   },
   {
    "duration": 486,
    "start_time": "2022-05-25T18:34:49.875Z"
   },
   {
    "duration": 186,
    "start_time": "2022-05-27T07:17:23.672Z"
   },
   {
    "duration": 23,
    "start_time": "2022-05-27T07:23:58.687Z"
   },
   {
    "duration": 35,
    "start_time": "2022-05-27T07:31:27.390Z"
   },
   {
    "duration": 40,
    "start_time": "2022-05-27T07:40:09.628Z"
   },
   {
    "duration": 57,
    "start_time": "2022-05-27T08:20:48.909Z"
   },
   {
    "duration": 1787,
    "start_time": "2022-05-27T08:20:59.543Z"
   },
   {
    "duration": 17057,
    "start_time": "2022-05-27T08:21:01.333Z"
   },
   {
    "duration": 11457,
    "start_time": "2022-05-27T08:21:18.392Z"
   },
   {
    "duration": 81,
    "start_time": "2022-05-27T08:21:29.852Z"
   },
   {
    "duration": 855,
    "start_time": "2022-05-27T08:21:29.935Z"
   },
   {
    "duration": 1828,
    "start_time": "2022-05-27T08:21:30.792Z"
   },
   {
    "duration": 5283,
    "start_time": "2022-05-27T08:21:32.621Z"
   },
   {
    "duration": 5536,
    "start_time": "2022-05-27T08:21:37.906Z"
   },
   {
    "duration": 518,
    "start_time": "2022-05-27T08:21:43.490Z"
   },
   {
    "duration": 1417,
    "start_time": "2022-05-27T08:30:08.622Z"
   },
   {
    "duration": 16591,
    "start_time": "2022-05-27T08:30:10.042Z"
   },
   {
    "duration": 10591,
    "start_time": "2022-05-27T08:30:26.636Z"
   },
   {
    "duration": 59,
    "start_time": "2022-05-27T08:30:37.287Z"
   },
   {
    "duration": 844,
    "start_time": "2022-05-27T08:30:37.347Z"
   },
   {
    "duration": 1831,
    "start_time": "2022-05-27T08:30:38.193Z"
   },
   {
    "duration": 5698,
    "start_time": "2022-05-27T08:30:40.026Z"
   },
   {
    "duration": 0,
    "start_time": "2022-05-27T08:30:45.728Z"
   },
   {
    "duration": 0,
    "start_time": "2022-05-27T08:30:45.731Z"
   },
   {
    "duration": 0,
    "start_time": "2022-05-27T08:30:45.732Z"
   },
   {
    "duration": 0,
    "start_time": "2022-05-27T08:30:45.734Z"
   },
   {
    "duration": 1,
    "start_time": "2022-05-27T08:30:45.735Z"
   },
   {
    "duration": 0,
    "start_time": "2022-05-27T08:30:45.784Z"
   },
   {
    "duration": 0,
    "start_time": "2022-05-27T08:30:45.790Z"
   },
   {
    "duration": 0,
    "start_time": "2022-05-27T08:30:45.791Z"
   },
   {
    "duration": 0,
    "start_time": "2022-05-27T08:30:45.793Z"
   },
   {
    "duration": 0,
    "start_time": "2022-05-27T08:30:45.800Z"
   },
   {
    "duration": 0,
    "start_time": "2022-05-27T08:30:45.802Z"
   },
   {
    "duration": 0,
    "start_time": "2022-05-27T08:30:45.804Z"
   },
   {
    "duration": 0,
    "start_time": "2022-05-27T08:30:45.806Z"
   },
   {
    "duration": 0,
    "start_time": "2022-05-27T08:30:45.808Z"
   },
   {
    "duration": 0,
    "start_time": "2022-05-27T08:30:45.810Z"
   },
   {
    "duration": 0,
    "start_time": "2022-05-27T08:30:45.812Z"
   },
   {
    "duration": 0,
    "start_time": "2022-05-27T08:30:45.813Z"
   },
   {
    "duration": 0,
    "start_time": "2022-05-27T08:30:45.815Z"
   },
   {
    "duration": 0,
    "start_time": "2022-05-27T08:30:45.826Z"
   },
   {
    "duration": 0,
    "start_time": "2022-05-27T08:30:45.828Z"
   },
   {
    "duration": 0,
    "start_time": "2022-05-27T08:30:45.829Z"
   },
   {
    "duration": 0,
    "start_time": "2022-05-27T08:30:45.830Z"
   },
   {
    "duration": 0,
    "start_time": "2022-05-27T08:30:45.831Z"
   },
   {
    "duration": 0,
    "start_time": "2022-05-27T08:30:45.885Z"
   },
   {
    "duration": 0,
    "start_time": "2022-05-27T08:30:45.886Z"
   },
   {
    "duration": 0,
    "start_time": "2022-05-27T08:30:45.887Z"
   },
   {
    "duration": 0,
    "start_time": "2022-05-27T08:30:45.889Z"
   },
   {
    "duration": 0,
    "start_time": "2022-05-27T08:30:45.891Z"
   },
   {
    "duration": 0,
    "start_time": "2022-05-27T08:30:45.893Z"
   },
   {
    "duration": 0,
    "start_time": "2022-05-27T08:30:45.894Z"
   },
   {
    "duration": 0,
    "start_time": "2022-05-27T08:30:45.895Z"
   },
   {
    "duration": 0,
    "start_time": "2022-05-27T08:30:45.897Z"
   },
   {
    "duration": 0,
    "start_time": "2022-05-27T08:30:45.898Z"
   },
   {
    "duration": 0,
    "start_time": "2022-05-27T08:30:45.899Z"
   },
   {
    "duration": 0,
    "start_time": "2022-05-27T08:30:45.901Z"
   },
   {
    "duration": 0,
    "start_time": "2022-05-27T08:30:45.902Z"
   },
   {
    "duration": 0,
    "start_time": "2022-05-27T08:30:45.904Z"
   },
   {
    "duration": 0,
    "start_time": "2022-05-27T08:30:45.906Z"
   },
   {
    "duration": 0,
    "start_time": "2022-05-27T08:30:45.907Z"
   },
   {
    "duration": 0,
    "start_time": "2022-05-27T08:30:45.908Z"
   },
   {
    "duration": 1953,
    "start_time": "2022-05-27T08:32:07.759Z"
   },
   {
    "duration": 4,
    "start_time": "2022-05-27T08:43:34.543Z"
   },
   {
    "duration": 3976,
    "start_time": "2022-05-27T08:43:39.020Z"
   },
   {
    "duration": 14,
    "start_time": "2022-05-27T08:44:31.402Z"
   },
   {
    "duration": 2078,
    "start_time": "2022-05-27T08:44:44.206Z"
   },
   {
    "duration": 41,
    "start_time": "2022-05-27T08:48:20.361Z"
   },
   {
    "duration": 1248,
    "start_time": "2022-05-27T08:50:10.160Z"
   },
   {
    "duration": 13,
    "start_time": "2022-05-27T08:54:15.398Z"
   },
   {
    "duration": 16,
    "start_time": "2022-05-27T08:54:40.607Z"
   },
   {
    "duration": 985,
    "start_time": "2022-05-27T08:57:12.713Z"
   },
   {
    "duration": 10,
    "start_time": "2022-05-27T09:13:30.743Z"
   },
   {
    "duration": 1326,
    "start_time": "2022-05-27T09:16:50.696Z"
   },
   {
    "duration": 15905,
    "start_time": "2022-05-27T09:16:52.024Z"
   },
   {
    "duration": 10160,
    "start_time": "2022-05-27T09:17:07.932Z"
   },
   {
    "duration": 93,
    "start_time": "2022-05-27T09:17:18.096Z"
   },
   {
    "duration": 700,
    "start_time": "2022-05-27T09:17:18.191Z"
   },
   {
    "duration": 1415,
    "start_time": "2022-05-27T09:17:18.895Z"
   },
   {
    "duration": 4876,
    "start_time": "2022-05-27T09:17:20.312Z"
   },
   {
    "duration": 5323,
    "start_time": "2022-05-27T09:17:25.190Z"
   },
   {
    "duration": 413,
    "start_time": "2022-05-27T09:17:30.515Z"
   },
   {
    "duration": 1251,
    "start_time": "2022-05-27T09:17:30.983Z"
   },
   {
    "duration": 4698,
    "start_time": "2022-05-27T09:17:32.236Z"
   },
   {
    "duration": 1264,
    "start_time": "2022-05-27T09:17:36.935Z"
   },
   {
    "duration": 1387,
    "start_time": "2022-05-27T09:17:38.201Z"
   },
   {
    "duration": 848,
    "start_time": "2022-05-27T09:17:39.591Z"
   },
   {
    "duration": 131,
    "start_time": "2022-05-27T09:17:40.441Z"
   },
   {
    "duration": 0,
    "start_time": "2022-05-27T09:17:40.574Z"
   },
   {
    "duration": 0,
    "start_time": "2022-05-27T09:17:40.576Z"
   },
   {
    "duration": 0,
    "start_time": "2022-05-27T09:17:40.584Z"
   },
   {
    "duration": 0,
    "start_time": "2022-05-27T09:17:40.585Z"
   },
   {
    "duration": 0,
    "start_time": "2022-05-27T09:17:40.587Z"
   },
   {
    "duration": 0,
    "start_time": "2022-05-27T09:17:40.590Z"
   },
   {
    "duration": 1,
    "start_time": "2022-05-27T09:17:40.591Z"
   },
   {
    "duration": 0,
    "start_time": "2022-05-27T09:17:40.593Z"
   },
   {
    "duration": 0,
    "start_time": "2022-05-27T09:17:40.595Z"
   },
   {
    "duration": 0,
    "start_time": "2022-05-27T09:17:40.596Z"
   },
   {
    "duration": 0,
    "start_time": "2022-05-27T09:17:40.598Z"
   },
   {
    "duration": 0,
    "start_time": "2022-05-27T09:17:40.600Z"
   },
   {
    "duration": 0,
    "start_time": "2022-05-27T09:17:40.601Z"
   },
   {
    "duration": 0,
    "start_time": "2022-05-27T09:17:40.603Z"
   },
   {
    "duration": 0,
    "start_time": "2022-05-27T09:17:40.604Z"
   },
   {
    "duration": 0,
    "start_time": "2022-05-27T09:17:40.606Z"
   },
   {
    "duration": 0,
    "start_time": "2022-05-27T09:17:40.607Z"
   },
   {
    "duration": 0,
    "start_time": "2022-05-27T09:17:40.609Z"
   },
   {
    "duration": 0,
    "start_time": "2022-05-27T09:17:40.611Z"
   },
   {
    "duration": 0,
    "start_time": "2022-05-27T09:17:40.612Z"
   },
   {
    "duration": 0,
    "start_time": "2022-05-27T09:17:40.614Z"
   },
   {
    "duration": 0,
    "start_time": "2022-05-27T09:17:40.615Z"
   },
   {
    "duration": 0,
    "start_time": "2022-05-27T09:17:40.617Z"
   },
   {
    "duration": 0,
    "start_time": "2022-05-27T09:17:40.619Z"
   },
   {
    "duration": 0,
    "start_time": "2022-05-27T09:17:40.620Z"
   },
   {
    "duration": 0,
    "start_time": "2022-05-27T09:17:40.622Z"
   },
   {
    "duration": 0,
    "start_time": "2022-05-27T09:17:40.623Z"
   },
   {
    "duration": 0,
    "start_time": "2022-05-27T09:17:40.684Z"
   },
   {
    "duration": 0,
    "start_time": "2022-05-27T09:17:40.685Z"
   },
   {
    "duration": 0,
    "start_time": "2022-05-27T09:17:40.686Z"
   },
   {
    "duration": 0,
    "start_time": "2022-05-27T09:17:40.688Z"
   },
   {
    "duration": 0,
    "start_time": "2022-05-27T09:17:40.689Z"
   },
   {
    "duration": 6,
    "start_time": "2022-05-27T09:22:43.451Z"
   },
   {
    "duration": 26,
    "start_time": "2022-05-27T09:23:28.360Z"
   },
   {
    "duration": 398,
    "start_time": "2022-05-27T09:23:43.892Z"
   },
   {
    "duration": 83,
    "start_time": "2022-05-27T09:30:39.401Z"
   },
   {
    "duration": 22,
    "start_time": "2022-05-27T09:32:46.913Z"
   },
   {
    "duration": 20,
    "start_time": "2022-05-27T09:41:11.156Z"
   },
   {
    "duration": 22,
    "start_time": "2022-05-27T09:41:57.337Z"
   },
   {
    "duration": 1735,
    "start_time": "2022-05-27T09:42:28.261Z"
   },
   {
    "duration": 16119,
    "start_time": "2022-05-27T09:42:29.999Z"
   },
   {
    "duration": 10384,
    "start_time": "2022-05-27T09:42:46.121Z"
   },
   {
    "duration": 97,
    "start_time": "2022-05-27T09:42:56.507Z"
   },
   {
    "duration": 790,
    "start_time": "2022-05-27T09:42:56.607Z"
   },
   {
    "duration": 1589,
    "start_time": "2022-05-27T09:42:57.400Z"
   },
   {
    "duration": 4800,
    "start_time": "2022-05-27T09:42:58.991Z"
   },
   {
    "duration": 4800,
    "start_time": "2022-05-27T09:43:03.793Z"
   },
   {
    "duration": 494,
    "start_time": "2022-05-27T09:43:08.595Z"
   },
   {
    "duration": 1026,
    "start_time": "2022-05-27T09:43:09.091Z"
   },
   {
    "duration": 5229,
    "start_time": "2022-05-27T09:43:10.119Z"
   },
   {
    "duration": 1315,
    "start_time": "2022-05-27T09:43:15.350Z"
   },
   {
    "duration": 1548,
    "start_time": "2022-05-27T09:43:16.667Z"
   },
   {
    "duration": 926,
    "start_time": "2022-05-27T09:43:18.219Z"
   },
   {
    "duration": 5,
    "start_time": "2022-05-27T09:43:19.147Z"
   },
   {
    "duration": 135,
    "start_time": "2022-05-27T09:43:19.153Z"
   },
   {
    "duration": 0,
    "start_time": "2022-05-27T09:43:19.290Z"
   },
   {
    "duration": 0,
    "start_time": "2022-05-27T09:43:19.291Z"
   },
   {
    "duration": 0,
    "start_time": "2022-05-27T09:43:19.293Z"
   },
   {
    "duration": 0,
    "start_time": "2022-05-27T09:43:19.294Z"
   },
   {
    "duration": 0,
    "start_time": "2022-05-27T09:43:19.295Z"
   },
   {
    "duration": 0,
    "start_time": "2022-05-27T09:43:19.296Z"
   },
   {
    "duration": 0,
    "start_time": "2022-05-27T09:43:19.297Z"
   },
   {
    "duration": 0,
    "start_time": "2022-05-27T09:43:19.298Z"
   },
   {
    "duration": 0,
    "start_time": "2022-05-27T09:43:19.299Z"
   },
   {
    "duration": 0,
    "start_time": "2022-05-27T09:43:19.300Z"
   },
   {
    "duration": 0,
    "start_time": "2022-05-27T09:43:19.301Z"
   },
   {
    "duration": 0,
    "start_time": "2022-05-27T09:43:19.302Z"
   },
   {
    "duration": 0,
    "start_time": "2022-05-27T09:43:19.303Z"
   },
   {
    "duration": 0,
    "start_time": "2022-05-27T09:43:19.305Z"
   },
   {
    "duration": 0,
    "start_time": "2022-05-27T09:43:19.306Z"
   },
   {
    "duration": 0,
    "start_time": "2022-05-27T09:43:19.308Z"
   },
   {
    "duration": 0,
    "start_time": "2022-05-27T09:43:19.309Z"
   },
   {
    "duration": 0,
    "start_time": "2022-05-27T09:43:19.310Z"
   },
   {
    "duration": 0,
    "start_time": "2022-05-27T09:43:19.311Z"
   },
   {
    "duration": 0,
    "start_time": "2022-05-27T09:43:19.312Z"
   },
   {
    "duration": 0,
    "start_time": "2022-05-27T09:43:19.314Z"
   },
   {
    "duration": 0,
    "start_time": "2022-05-27T09:43:19.315Z"
   },
   {
    "duration": 0,
    "start_time": "2022-05-27T09:43:19.316Z"
   },
   {
    "duration": 0,
    "start_time": "2022-05-27T09:43:19.317Z"
   },
   {
    "duration": 0,
    "start_time": "2022-05-27T09:43:19.318Z"
   },
   {
    "duration": 0,
    "start_time": "2022-05-27T09:43:19.319Z"
   },
   {
    "duration": 0,
    "start_time": "2022-05-27T09:43:19.320Z"
   },
   {
    "duration": 0,
    "start_time": "2022-05-27T09:43:19.321Z"
   },
   {
    "duration": 0,
    "start_time": "2022-05-27T09:43:19.322Z"
   },
   {
    "duration": 0,
    "start_time": "2022-05-27T09:43:19.323Z"
   },
   {
    "duration": 0,
    "start_time": "2022-05-27T09:43:19.324Z"
   },
   {
    "duration": 0,
    "start_time": "2022-05-27T09:43:19.325Z"
   },
   {
    "duration": 0,
    "start_time": "2022-05-27T09:43:19.326Z"
   },
   {
    "duration": 0,
    "start_time": "2022-05-27T09:43:19.327Z"
   },
   {
    "duration": 20,
    "start_time": "2022-05-27T09:46:46.525Z"
   },
   {
    "duration": 15,
    "start_time": "2022-05-27T09:47:11.753Z"
   },
   {
    "duration": 15,
    "start_time": "2022-05-27T09:47:32.057Z"
   },
   {
    "duration": 651,
    "start_time": "2022-05-27T09:48:11.793Z"
   },
   {
    "duration": 57,
    "start_time": "2022-05-27T09:48:24.561Z"
   },
   {
    "duration": 39,
    "start_time": "2022-05-27T09:49:02.117Z"
   },
   {
    "duration": 238,
    "start_time": "2022-05-27T09:51:24.053Z"
   },
   {
    "duration": 526,
    "start_time": "2022-05-27T09:51:50.792Z"
   },
   {
    "duration": 311,
    "start_time": "2022-05-27T09:52:01.593Z"
   },
   {
    "duration": 1022,
    "start_time": "2022-05-27T09:53:19.192Z"
   },
   {
    "duration": 192,
    "start_time": "2022-05-27T09:53:50.517Z"
   },
   {
    "duration": 311,
    "start_time": "2022-05-27T09:53:58.876Z"
   },
   {
    "duration": 166,
    "start_time": "2022-05-27T09:54:58.992Z"
   },
   {
    "duration": 6,
    "start_time": "2022-05-27T09:55:04.313Z"
   },
   {
    "duration": 12,
    "start_time": "2022-05-27T09:55:31.753Z"
   },
   {
    "duration": 40,
    "start_time": "2022-05-27T09:56:38.240Z"
   },
   {
    "duration": 82,
    "start_time": "2022-05-27T09:56:44.240Z"
   },
   {
    "duration": 71,
    "start_time": "2022-05-27T09:57:21.560Z"
   },
   {
    "duration": 71,
    "start_time": "2022-05-27T09:58:05.400Z"
   },
   {
    "duration": 1374,
    "start_time": "2022-05-27T09:58:56.679Z"
   },
   {
    "duration": 14857,
    "start_time": "2022-05-27T09:58:58.056Z"
   },
   {
    "duration": 8783,
    "start_time": "2022-05-27T09:59:12.915Z"
   },
   {
    "duration": 89,
    "start_time": "2022-05-27T09:59:21.702Z"
   },
   {
    "duration": 909,
    "start_time": "2022-05-27T09:59:21.792Z"
   },
   {
    "duration": 1310,
    "start_time": "2022-05-27T09:59:22.703Z"
   },
   {
    "duration": 4379,
    "start_time": "2022-05-27T09:59:24.015Z"
   },
   {
    "duration": 4529,
    "start_time": "2022-05-27T09:59:28.396Z"
   },
   {
    "duration": 464,
    "start_time": "2022-05-27T09:59:32.926Z"
   },
   {
    "duration": 1004,
    "start_time": "2022-05-27T09:59:33.393Z"
   },
   {
    "duration": 4856,
    "start_time": "2022-05-27T09:59:34.398Z"
   },
   {
    "duration": 1187,
    "start_time": "2022-05-27T09:59:39.257Z"
   },
   {
    "duration": 1394,
    "start_time": "2022-05-27T09:59:40.446Z"
   },
   {
    "duration": 887,
    "start_time": "2022-05-27T09:59:41.842Z"
   },
   {
    "duration": 7,
    "start_time": "2022-05-27T09:59:42.731Z"
   },
   {
    "duration": 261,
    "start_time": "2022-05-27T09:59:42.740Z"
   },
   {
    "duration": 3880,
    "start_time": "2022-05-27T09:59:43.004Z"
   },
   {
    "duration": 357,
    "start_time": "2022-05-27T09:59:46.886Z"
   },
   {
    "duration": 0,
    "start_time": "2022-05-27T09:59:47.245Z"
   },
   {
    "duration": 0,
    "start_time": "2022-05-27T09:59:47.246Z"
   },
   {
    "duration": 0,
    "start_time": "2022-05-27T09:59:47.247Z"
   },
   {
    "duration": 0,
    "start_time": "2022-05-27T09:59:47.248Z"
   },
   {
    "duration": 0,
    "start_time": "2022-05-27T09:59:47.249Z"
   },
   {
    "duration": 0,
    "start_time": "2022-05-27T09:59:47.250Z"
   },
   {
    "duration": 0,
    "start_time": "2022-05-27T09:59:47.251Z"
   },
   {
    "duration": 0,
    "start_time": "2022-05-27T09:59:47.252Z"
   },
   {
    "duration": 0,
    "start_time": "2022-05-27T09:59:47.254Z"
   },
   {
    "duration": 0,
    "start_time": "2022-05-27T09:59:47.255Z"
   },
   {
    "duration": 0,
    "start_time": "2022-05-27T09:59:47.256Z"
   },
   {
    "duration": 0,
    "start_time": "2022-05-27T09:59:47.257Z"
   },
   {
    "duration": 0,
    "start_time": "2022-05-27T09:59:47.283Z"
   },
   {
    "duration": 0,
    "start_time": "2022-05-27T09:59:47.285Z"
   },
   {
    "duration": 0,
    "start_time": "2022-05-27T09:59:47.286Z"
   },
   {
    "duration": 0,
    "start_time": "2022-05-27T09:59:47.287Z"
   },
   {
    "duration": 0,
    "start_time": "2022-05-27T09:59:47.289Z"
   },
   {
    "duration": 0,
    "start_time": "2022-05-27T09:59:47.290Z"
   },
   {
    "duration": 0,
    "start_time": "2022-05-27T09:59:47.297Z"
   },
   {
    "duration": 0,
    "start_time": "2022-05-27T09:59:47.298Z"
   },
   {
    "duration": 0,
    "start_time": "2022-05-27T09:59:47.299Z"
   },
   {
    "duration": 0,
    "start_time": "2022-05-27T09:59:47.304Z"
   },
   {
    "duration": 0,
    "start_time": "2022-05-27T09:59:47.305Z"
   },
   {
    "duration": 0,
    "start_time": "2022-05-27T09:59:47.307Z"
   },
   {
    "duration": 0,
    "start_time": "2022-05-27T09:59:47.308Z"
   },
   {
    "duration": 0,
    "start_time": "2022-05-27T09:59:47.309Z"
   },
   {
    "duration": 0,
    "start_time": "2022-05-27T09:59:47.310Z"
   },
   {
    "duration": 0,
    "start_time": "2022-05-27T09:59:47.311Z"
   },
   {
    "duration": 0,
    "start_time": "2022-05-27T09:59:47.312Z"
   },
   {
    "duration": 0,
    "start_time": "2022-05-27T09:59:47.313Z"
   },
   {
    "duration": 0,
    "start_time": "2022-05-27T09:59:47.314Z"
   },
   {
    "duration": 0,
    "start_time": "2022-05-27T09:59:47.316Z"
   },
   {
    "duration": 467,
    "start_time": "2022-05-27T10:00:24.162Z"
   },
   {
    "duration": 21,
    "start_time": "2022-05-27T10:01:18.801Z"
   },
   {
    "duration": 492,
    "start_time": "2022-05-27T10:01:25.439Z"
   },
   {
    "duration": 524,
    "start_time": "2022-05-27T10:01:34.518Z"
   },
   {
    "duration": 516,
    "start_time": "2022-05-27T10:02:35.841Z"
   },
   {
    "duration": 531,
    "start_time": "2022-05-27T10:04:59.318Z"
   },
   {
    "duration": 447,
    "start_time": "2022-05-27T10:06:16.077Z"
   },
   {
    "duration": 488,
    "start_time": "2022-05-27T10:06:43.958Z"
   },
   {
    "duration": 614,
    "start_time": "2022-05-27T10:06:53.722Z"
   },
   {
    "duration": 671,
    "start_time": "2022-05-27T10:07:01.078Z"
   },
   {
    "duration": 507,
    "start_time": "2022-05-27T10:07:10.361Z"
   },
   {
    "duration": 5,
    "start_time": "2022-05-27T10:08:08.842Z"
   },
   {
    "duration": 791,
    "start_time": "2022-05-27T10:08:14.242Z"
   },
   {
    "duration": 713,
    "start_time": "2022-05-27T10:09:23.714Z"
   },
   {
    "duration": 418,
    "start_time": "2022-05-27T10:11:21.322Z"
   },
   {
    "duration": 955,
    "start_time": "2022-05-27T10:11:39.042Z"
   },
   {
    "duration": 697,
    "start_time": "2022-05-27T10:13:55.517Z"
   },
   {
    "duration": 1023,
    "start_time": "2022-05-27T10:14:25.289Z"
   },
   {
    "duration": 1264,
    "start_time": "2022-05-27T10:14:56.885Z"
   },
   {
    "duration": 1206,
    "start_time": "2022-05-27T10:15:43.481Z"
   },
   {
    "duration": 970,
    "start_time": "2022-05-27T10:42:22.448Z"
   },
   {
    "duration": 129,
    "start_time": "2022-05-27T10:43:50.660Z"
   },
   {
    "duration": 969,
    "start_time": "2022-05-27T10:44:57.568Z"
   },
   {
    "duration": 955,
    "start_time": "2022-05-27T10:45:12.091Z"
   },
   {
    "duration": 22,
    "start_time": "2022-05-27T10:48:58.772Z"
   },
   {
    "duration": 949,
    "start_time": "2022-05-27T10:49:07.324Z"
   },
   {
    "duration": 1470,
    "start_time": "2022-05-27T10:51:42.042Z"
   },
   {
    "duration": 30,
    "start_time": "2022-05-27T10:51:52.444Z"
   },
   {
    "duration": 511,
    "start_time": "2022-05-27T10:54:02.329Z"
   },
   {
    "duration": 153,
    "start_time": "2022-05-27T10:54:52.485Z"
   },
   {
    "duration": 756,
    "start_time": "2022-05-27T10:55:19.048Z"
   },
   {
    "duration": 544,
    "start_time": "2022-05-27T10:57:32.085Z"
   },
   {
    "duration": 31,
    "start_time": "2022-05-27T10:57:44.047Z"
   },
   {
    "duration": 474,
    "start_time": "2022-05-27T10:57:58.965Z"
   },
   {
    "duration": 517,
    "start_time": "2022-05-27T10:58:06.216Z"
   },
   {
    "duration": 513,
    "start_time": "2022-05-27T10:58:14.725Z"
   },
   {
    "duration": 531,
    "start_time": "2022-05-27T10:58:20.889Z"
   },
   {
    "duration": 550,
    "start_time": "2022-05-27T10:58:52.364Z"
   },
   {
    "duration": 642,
    "start_time": "2022-05-27T10:59:52.017Z"
   },
   {
    "duration": 625,
    "start_time": "2022-05-27T11:00:00.089Z"
   },
   {
    "duration": 592,
    "start_time": "2022-05-27T11:00:06.356Z"
   },
   {
    "duration": 154,
    "start_time": "2022-05-27T11:00:19.857Z"
   },
   {
    "duration": 491,
    "start_time": "2022-05-27T11:05:57.355Z"
   },
   {
    "duration": 889,
    "start_time": "2022-05-27T11:09:59.360Z"
   },
   {
    "duration": 840,
    "start_time": "2022-05-27T11:10:17.499Z"
   },
   {
    "duration": 366,
    "start_time": "2022-05-27T11:11:38.871Z"
   },
   {
    "duration": 942,
    "start_time": "2022-05-27T11:11:52.000Z"
   },
   {
    "duration": 811,
    "start_time": "2022-05-27T11:12:07.864Z"
   },
   {
    "duration": 175,
    "start_time": "2022-05-27T11:12:44.748Z"
   },
   {
    "duration": 731,
    "start_time": "2022-05-27T11:12:58.595Z"
   },
   {
    "duration": 163,
    "start_time": "2022-05-27T11:14:10.996Z"
   },
   {
    "duration": 179,
    "start_time": "2022-05-27T11:14:28.259Z"
   },
   {
    "duration": 785,
    "start_time": "2022-05-27T11:14:36.916Z"
   },
   {
    "duration": 758,
    "start_time": "2022-05-27T11:15:32.903Z"
   },
   {
    "duration": 15,
    "start_time": "2022-05-27T11:20:54.704Z"
   },
   {
    "duration": 856,
    "start_time": "2022-05-27T11:21:41.384Z"
   },
   {
    "duration": 491,
    "start_time": "2022-05-27T11:25:38.432Z"
   },
   {
    "duration": 517,
    "start_time": "2022-05-27T11:25:59.353Z"
   },
   {
    "duration": 491,
    "start_time": "2022-05-27T11:27:02.873Z"
   },
   {
    "duration": 149,
    "start_time": "2022-05-27T11:27:24.597Z"
   },
   {
    "duration": 489,
    "start_time": "2022-05-27T11:27:41.465Z"
   },
   {
    "duration": 581,
    "start_time": "2022-05-27T11:27:59.580Z"
   },
   {
    "duration": 532,
    "start_time": "2022-05-27T11:28:40.156Z"
   },
   {
    "duration": 608,
    "start_time": "2022-05-27T11:34:31.776Z"
   },
   {
    "duration": 506,
    "start_time": "2022-05-27T14:03:22.560Z"
   },
   {
    "duration": 1084,
    "start_time": "2022-05-27T14:11:05.447Z"
   },
   {
    "duration": 503,
    "start_time": "2022-05-27T14:11:45.459Z"
   },
   {
    "duration": 511,
    "start_time": "2022-05-27T14:12:28.343Z"
   },
   {
    "duration": 492,
    "start_time": "2022-05-27T14:20:03.359Z"
   },
   {
    "duration": 533,
    "start_time": "2022-05-27T14:27:29.114Z"
   },
   {
    "duration": 841,
    "start_time": "2022-05-27T14:29:15.070Z"
   },
   {
    "duration": 755,
    "start_time": "2022-05-27T14:30:16.867Z"
   },
   {
    "duration": 179,
    "start_time": "2022-05-27T14:31:37.758Z"
   },
   {
    "duration": 891,
    "start_time": "2022-05-27T14:31:44.026Z"
   },
   {
    "duration": 723,
    "start_time": "2022-05-27T14:32:00.746Z"
   },
   {
    "duration": 696,
    "start_time": "2022-05-27T14:34:39.790Z"
   },
   {
    "duration": 705,
    "start_time": "2022-05-27T14:35:26.147Z"
   },
   {
    "duration": 12,
    "start_time": "2022-05-27T14:35:55.558Z"
   },
   {
    "duration": 683,
    "start_time": "2022-05-27T14:36:06.567Z"
   },
   {
    "duration": 715,
    "start_time": "2022-05-27T14:36:46.794Z"
   },
   {
    "duration": 884,
    "start_time": "2022-05-27T14:37:05.473Z"
   },
   {
    "duration": 1312,
    "start_time": "2022-05-27T14:43:20.194Z"
   },
   {
    "duration": 15717,
    "start_time": "2022-05-27T14:43:21.508Z"
   },
   {
    "duration": 9485,
    "start_time": "2022-05-27T14:43:37.228Z"
   },
   {
    "duration": 92,
    "start_time": "2022-05-27T14:43:46.715Z"
   },
   {
    "duration": 782,
    "start_time": "2022-05-27T14:43:46.809Z"
   },
   {
    "duration": 1442,
    "start_time": "2022-05-27T14:43:47.592Z"
   },
   {
    "duration": 4526,
    "start_time": "2022-05-27T14:43:49.088Z"
   },
   {
    "duration": 4689,
    "start_time": "2022-05-27T14:43:53.616Z"
   },
   {
    "duration": 416,
    "start_time": "2022-05-27T14:43:58.307Z"
   },
   {
    "duration": 860,
    "start_time": "2022-05-27T14:43:58.786Z"
   },
   {
    "duration": 4850,
    "start_time": "2022-05-27T14:43:59.648Z"
   },
   {
    "duration": 1446,
    "start_time": "2022-05-27T14:44:04.500Z"
   },
   {
    "duration": 1354,
    "start_time": "2022-05-27T14:44:05.947Z"
   },
   {
    "duration": 3407,
    "start_time": "2022-05-27T14:44:07.303Z"
   },
   {
    "duration": 759,
    "start_time": "2022-05-27T14:44:10.711Z"
   },
   {
    "duration": 1359,
    "start_time": "2022-05-27T14:44:11.471Z"
   },
   {
    "duration": 56,
    "start_time": "2022-05-27T14:44:12.831Z"
   },
   {
    "duration": 37,
    "start_time": "2022-05-27T14:44:12.891Z"
   },
   {
    "duration": 861,
    "start_time": "2022-05-27T14:44:12.931Z"
   },
   {
    "duration": 4,
    "start_time": "2022-05-27T14:44:13.794Z"
   },
   {
    "duration": 1115,
    "start_time": "2022-05-27T14:44:13.800Z"
   },
   {
    "duration": 174,
    "start_time": "2022-05-27T14:44:14.917Z"
   },
   {
    "duration": 1763,
    "start_time": "2022-05-27T14:44:15.092Z"
   },
   {
    "duration": 40,
    "start_time": "2022-05-27T14:44:16.857Z"
   },
   {
    "duration": 24,
    "start_time": "2022-05-27T14:44:16.899Z"
   },
   {
    "duration": 970,
    "start_time": "2022-05-27T14:44:16.925Z"
   },
   {
    "duration": 3408,
    "start_time": "2022-05-27T14:44:17.897Z"
   },
   {
    "duration": 25,
    "start_time": "2022-05-27T14:44:21.308Z"
   },
   {
    "duration": 399,
    "start_time": "2022-05-27T14:44:21.335Z"
   },
   {
    "duration": 3,
    "start_time": "2022-05-27T14:44:21.736Z"
   },
   {
    "duration": 2679,
    "start_time": "2022-05-27T14:44:21.741Z"
   },
   {
    "duration": 94,
    "start_time": "2022-05-27T14:44:24.421Z"
   },
   {
    "duration": 3894,
    "start_time": "2022-05-27T14:44:24.517Z"
   },
   {
    "duration": 83,
    "start_time": "2022-05-27T14:44:28.413Z"
   },
   {
    "duration": 1009,
    "start_time": "2022-05-27T14:44:28.498Z"
   },
   {
    "duration": 10,
    "start_time": "2022-05-27T14:44:29.509Z"
   },
   {
    "duration": 2768,
    "start_time": "2022-05-27T14:44:29.521Z"
   },
   {
    "duration": 33,
    "start_time": "2022-05-27T14:44:32.291Z"
   },
   {
    "duration": 867,
    "start_time": "2022-05-27T14:44:32.326Z"
   },
   {
    "duration": 1021,
    "start_time": "2022-05-27T14:44:33.195Z"
   },
   {
    "duration": 886,
    "start_time": "2022-05-27T14:44:34.218Z"
   },
   {
    "duration": 607,
    "start_time": "2022-05-27T14:44:35.105Z"
   },
   {
    "duration": 87,
    "start_time": "2022-05-27T14:44:35.713Z"
   },
   {
    "duration": 1814,
    "start_time": "2022-05-27T14:44:35.802Z"
   },
   {
    "duration": 14,
    "start_time": "2022-05-27T14:44:37.618Z"
   },
   {
    "duration": 17,
    "start_time": "2022-05-27T14:44:37.687Z"
   },
   {
    "duration": 322,
    "start_time": "2022-05-27T14:44:37.706Z"
   },
   {
    "duration": 189,
    "start_time": "2022-05-27T14:49:31.795Z"
   },
   {
    "duration": 21,
    "start_time": "2022-05-27T14:51:38.838Z"
   },
   {
    "duration": 28,
    "start_time": "2022-05-27T14:52:47.695Z"
   },
   {
    "duration": 112,
    "start_time": "2022-05-27T14:53:36.787Z"
   },
   {
    "duration": 1277,
    "start_time": "2022-05-27T14:53:42.781Z"
   },
   {
    "duration": 14464,
    "start_time": "2022-05-27T14:53:44.060Z"
   },
   {
    "duration": 8088,
    "start_time": "2022-05-27T14:53:58.526Z"
   },
   {
    "duration": 93,
    "start_time": "2022-05-27T14:54:06.616Z"
   },
   {
    "duration": 679,
    "start_time": "2022-05-27T14:54:06.711Z"
   },
   {
    "duration": 1147,
    "start_time": "2022-05-27T14:54:07.392Z"
   },
   {
    "duration": 3869,
    "start_time": "2022-05-27T14:54:08.541Z"
   },
   {
    "duration": 4279,
    "start_time": "2022-05-27T14:54:12.412Z"
   },
   {
    "duration": 395,
    "start_time": "2022-05-27T14:54:16.693Z"
   },
   {
    "duration": 823,
    "start_time": "2022-05-27T14:54:17.091Z"
   },
   {
    "duration": 4317,
    "start_time": "2022-05-27T14:54:17.916Z"
   },
   {
    "duration": 1471,
    "start_time": "2022-05-27T14:54:22.235Z"
   },
   {
    "duration": 1279,
    "start_time": "2022-05-27T14:54:23.708Z"
   },
   {
    "duration": 2727,
    "start_time": "2022-05-27T14:54:24.988Z"
   },
   {
    "duration": 1044,
    "start_time": "2022-05-27T14:54:27.718Z"
   },
   {
    "duration": 989,
    "start_time": "2022-05-27T14:54:28.764Z"
   },
   {
    "duration": 4,
    "start_time": "2022-05-27T14:54:29.754Z"
   },
   {
    "duration": 44,
    "start_time": "2022-05-27T14:54:29.759Z"
   },
   {
    "duration": 290,
    "start_time": "2022-05-27T14:54:29.805Z"
   },
   {
    "duration": 2,
    "start_time": "2022-05-27T14:54:30.098Z"
   },
   {
    "duration": 1108,
    "start_time": "2022-05-27T14:54:30.102Z"
   },
   {
    "duration": 191,
    "start_time": "2022-05-27T14:54:31.212Z"
   },
   {
    "duration": 1453,
    "start_time": "2022-05-27T14:54:31.405Z"
   },
   {
    "duration": 39,
    "start_time": "2022-05-27T14:54:32.860Z"
   },
   {
    "duration": 21,
    "start_time": "2022-05-27T14:54:32.900Z"
   },
   {
    "duration": 771,
    "start_time": "2022-05-27T14:54:32.923Z"
   },
   {
    "duration": 4006,
    "start_time": "2022-05-27T14:54:33.696Z"
   },
   {
    "duration": 23,
    "start_time": "2022-05-27T14:54:37.705Z"
   },
   {
    "duration": 357,
    "start_time": "2022-05-27T14:54:37.730Z"
   },
   {
    "duration": 3,
    "start_time": "2022-05-27T14:54:38.090Z"
   },
   {
    "duration": 2308,
    "start_time": "2022-05-27T14:54:38.095Z"
   },
   {
    "duration": 91,
    "start_time": "2022-05-27T14:54:40.405Z"
   },
   {
    "duration": 3409,
    "start_time": "2022-05-27T14:54:40.498Z"
   },
   {
    "duration": 94,
    "start_time": "2022-05-27T14:54:43.910Z"
   },
   {
    "duration": 802,
    "start_time": "2022-05-27T14:54:44.006Z"
   },
   {
    "duration": 12,
    "start_time": "2022-05-27T14:54:44.810Z"
   },
   {
    "duration": 2869,
    "start_time": "2022-05-27T14:54:44.824Z"
   },
   {
    "duration": 22,
    "start_time": "2022-05-27T14:54:47.695Z"
   },
   {
    "duration": 775,
    "start_time": "2022-05-27T14:54:47.784Z"
   },
   {
    "duration": 727,
    "start_time": "2022-05-27T14:54:48.560Z"
   },
   {
    "duration": 814,
    "start_time": "2022-05-27T14:54:49.289Z"
   },
   {
    "duration": 804,
    "start_time": "2022-05-27T14:54:50.105Z"
   },
   {
    "duration": 74,
    "start_time": "2022-05-27T14:54:50.911Z"
   },
   {
    "duration": 1861,
    "start_time": "2022-05-27T14:54:50.987Z"
   },
   {
    "duration": 36,
    "start_time": "2022-05-27T14:54:52.849Z"
   },
   {
    "duration": 12,
    "start_time": "2022-05-27T14:54:52.887Z"
   },
   {
    "duration": 405,
    "start_time": "2022-05-27T14:54:52.901Z"
   },
   {
    "duration": 1640,
    "start_time": "2022-05-27T20:15:50.716Z"
   },
   {
    "duration": 19640,
    "start_time": "2022-05-27T20:15:52.359Z"
   },
   {
    "duration": 8748,
    "start_time": "2022-05-27T20:16:12.001Z"
   },
   {
    "duration": 108,
    "start_time": "2022-05-27T20:16:20.751Z"
   },
   {
    "duration": 876,
    "start_time": "2022-05-27T20:16:20.861Z"
   },
   {
    "duration": 1350,
    "start_time": "2022-05-27T20:16:21.740Z"
   },
   {
    "duration": 4162,
    "start_time": "2022-05-27T20:16:23.092Z"
   },
   {
    "duration": 1745,
    "start_time": "2022-05-27T20:16:40.990Z"
   },
   {
    "duration": 1412,
    "start_time": "2022-05-27T20:17:01.241Z"
   },
   {
    "duration": 1388,
    "start_time": "2022-05-27T20:17:31.849Z"
   },
   {
    "duration": 822,
    "start_time": "2022-05-27T20:17:43.315Z"
   },
   {
    "duration": 3365,
    "start_time": "2022-05-27T20:19:11.582Z"
   },
   {
    "duration": 983,
    "start_time": "2022-05-27T20:19:30.140Z"
   },
   {
    "duration": 741,
    "start_time": "2022-05-27T20:19:37.410Z"
   },
   {
    "duration": 1003,
    "start_time": "2022-05-27T20:22:06.124Z"
   },
   {
    "duration": 796,
    "start_time": "2022-05-27T20:22:42.944Z"
   },
   {
    "duration": 767,
    "start_time": "2022-05-27T20:22:55.670Z"
   },
   {
    "duration": 47,
    "start_time": "2022-05-27T20:26:29.228Z"
   },
   {
    "duration": 1490,
    "start_time": "2022-05-28T07:01:13.915Z"
   },
   {
    "duration": 15167,
    "start_time": "2022-05-28T07:01:15.408Z"
   },
   {
    "duration": 8794,
    "start_time": "2022-05-28T07:01:30.578Z"
   },
   {
    "duration": 104,
    "start_time": "2022-05-28T07:01:39.375Z"
   },
   {
    "duration": 781,
    "start_time": "2022-05-28T07:01:39.481Z"
   },
   {
    "duration": 1313,
    "start_time": "2022-05-28T07:01:40.263Z"
   },
   {
    "duration": 4411,
    "start_time": "2022-05-28T07:01:41.577Z"
   },
   {
    "duration": 4472,
    "start_time": "2022-05-28T07:01:45.989Z"
   },
   {
    "duration": 399,
    "start_time": "2022-05-28T07:01:50.462Z"
   },
   {
    "duration": 895,
    "start_time": "2022-05-28T07:01:50.865Z"
   },
   {
    "duration": 4329,
    "start_time": "2022-05-28T07:01:51.761Z"
   },
   {
    "duration": 1177,
    "start_time": "2022-05-28T07:01:56.091Z"
   },
   {
    "duration": 1349,
    "start_time": "2022-05-28T07:01:57.270Z"
   },
   {
    "duration": 3486,
    "start_time": "2022-05-28T07:01:58.621Z"
   },
   {
    "duration": 1038,
    "start_time": "2022-05-28T07:02:02.109Z"
   },
   {
    "duration": 1634,
    "start_time": "2022-05-28T07:02:03.149Z"
   },
   {
    "duration": 5,
    "start_time": "2022-05-28T07:02:04.784Z"
   },
   {
    "duration": 24,
    "start_time": "2022-05-28T07:02:04.791Z"
   },
   {
    "duration": 883,
    "start_time": "2022-05-28T07:02:04.817Z"
   },
   {
    "duration": 3,
    "start_time": "2022-05-28T07:02:05.702Z"
   },
   {
    "duration": 1384,
    "start_time": "2022-05-28T07:02:05.706Z"
   },
   {
    "duration": 278,
    "start_time": "2022-05-28T07:02:07.092Z"
   },
   {
    "duration": 1719,
    "start_time": "2022-05-28T07:02:07.372Z"
   },
   {
    "duration": 24,
    "start_time": "2022-05-28T07:02:09.093Z"
   },
   {
    "duration": 72,
    "start_time": "2022-05-28T07:02:09.119Z"
   },
   {
    "duration": 1078,
    "start_time": "2022-05-28T07:02:09.193Z"
   },
   {
    "duration": 3596,
    "start_time": "2022-05-28T07:02:10.273Z"
   },
   {
    "duration": 26,
    "start_time": "2022-05-28T07:02:13.874Z"
   },
   {
    "duration": 375,
    "start_time": "2022-05-28T07:02:13.902Z"
   },
   {
    "duration": 5,
    "start_time": "2022-05-28T07:02:14.280Z"
   },
   {
    "duration": 3085,
    "start_time": "2022-05-28T07:02:14.286Z"
   },
   {
    "duration": 102,
    "start_time": "2022-05-28T07:02:17.373Z"
   },
   {
    "duration": 4809,
    "start_time": "2022-05-28T07:02:17.478Z"
   },
   {
    "duration": 93,
    "start_time": "2022-05-28T07:02:22.289Z"
   },
   {
    "duration": 1278,
    "start_time": "2022-05-28T07:02:22.384Z"
   },
   {
    "duration": 15,
    "start_time": "2022-05-28T07:02:23.664Z"
   },
   {
    "duration": 3708,
    "start_time": "2022-05-28T07:02:23.682Z"
   },
   {
    "duration": 102,
    "start_time": "2022-05-28T07:02:27.391Z"
   },
   {
    "duration": 1006,
    "start_time": "2022-05-28T07:02:27.494Z"
   },
   {
    "duration": 1201,
    "start_time": "2022-05-28T07:02:28.559Z"
   },
   {
    "duration": 735,
    "start_time": "2022-05-28T07:02:29.763Z"
   },
   {
    "duration": 864,
    "start_time": "2022-05-28T07:02:30.500Z"
   },
   {
    "duration": 29,
    "start_time": "2022-05-28T07:02:31.367Z"
   },
   {
    "duration": 2779,
    "start_time": "2022-05-28T07:02:31.397Z"
   },
   {
    "duration": 82,
    "start_time": "2022-05-28T07:02:34.178Z"
   },
   {
    "duration": 12,
    "start_time": "2022-05-28T07:02:34.262Z"
   },
   {
    "duration": 519,
    "start_time": "2022-05-28T07:02:34.276Z"
   },
   {
    "duration": 532,
    "start_time": "2022-05-28T07:03:37.982Z"
   },
   {
    "duration": 434,
    "start_time": "2022-05-28T07:05:38.842Z"
   },
   {
    "duration": 1267,
    "start_time": "2022-05-28T07:14:58.122Z"
   },
   {
    "duration": 15709,
    "start_time": "2022-05-28T07:14:59.391Z"
   },
   {
    "duration": 9991,
    "start_time": "2022-05-28T07:15:15.102Z"
   },
   {
    "duration": 103,
    "start_time": "2022-05-28T07:15:25.096Z"
   },
   {
    "duration": 880,
    "start_time": "2022-05-28T07:15:25.201Z"
   },
   {
    "duration": 1513,
    "start_time": "2022-05-28T07:15:26.083Z"
   },
   {
    "duration": 4673,
    "start_time": "2022-05-28T07:15:27.598Z"
   },
   {
    "duration": 4799,
    "start_time": "2022-05-28T07:15:32.272Z"
   },
   {
    "duration": 598,
    "start_time": "2022-05-28T07:15:37.073Z"
   },
   {
    "duration": 885,
    "start_time": "2022-05-28T07:15:37.675Z"
   },
   {
    "duration": 4586,
    "start_time": "2022-05-28T07:15:38.562Z"
   },
   {
    "duration": 1078,
    "start_time": "2022-05-28T07:15:43.150Z"
   },
   {
    "duration": 1356,
    "start_time": "2022-05-28T07:15:44.229Z"
   },
   {
    "duration": 3379,
    "start_time": "2022-05-28T07:15:45.587Z"
   },
   {
    "duration": 834,
    "start_time": "2022-05-28T07:15:48.968Z"
   },
   {
    "duration": 1201,
    "start_time": "2022-05-28T07:15:49.803Z"
   },
   {
    "duration": 66,
    "start_time": "2022-05-28T07:15:51.005Z"
   },
   {
    "duration": 99,
    "start_time": "2022-05-28T07:15:51.076Z"
   },
   {
    "duration": 769,
    "start_time": "2022-05-28T07:15:51.177Z"
   },
   {
    "duration": 11,
    "start_time": "2022-05-28T07:15:51.947Z"
   },
   {
    "duration": 1216,
    "start_time": "2022-05-28T07:15:51.965Z"
   },
   {
    "duration": 196,
    "start_time": "2022-05-28T07:15:53.182Z"
   },
   {
    "duration": 1668,
    "start_time": "2022-05-28T07:15:53.380Z"
   },
   {
    "duration": 36,
    "start_time": "2022-05-28T07:15:55.050Z"
   },
   {
    "duration": 76,
    "start_time": "2022-05-28T07:15:55.088Z"
   },
   {
    "duration": 1021,
    "start_time": "2022-05-28T07:15:55.167Z"
   },
   {
    "duration": 3312,
    "start_time": "2022-05-28T07:15:56.190Z"
   },
   {
    "duration": 26,
    "start_time": "2022-05-28T07:15:59.507Z"
   },
   {
    "duration": 339,
    "start_time": "2022-05-28T07:15:59.534Z"
   },
   {
    "duration": 4,
    "start_time": "2022-05-28T07:15:59.874Z"
   },
   {
    "duration": 2609,
    "start_time": "2022-05-28T07:15:59.880Z"
   },
   {
    "duration": 105,
    "start_time": "2022-05-28T07:16:02.490Z"
   },
   {
    "duration": 3666,
    "start_time": "2022-05-28T07:16:02.597Z"
   },
   {
    "duration": 23,
    "start_time": "2022-05-28T07:16:06.265Z"
   },
   {
    "duration": 1082,
    "start_time": "2022-05-28T07:16:06.290Z"
   },
   {
    "duration": 15,
    "start_time": "2022-05-28T07:16:07.374Z"
   },
   {
    "duration": 2799,
    "start_time": "2022-05-28T07:16:07.394Z"
   },
   {
    "duration": 85,
    "start_time": "2022-05-28T07:16:10.195Z"
   },
   {
    "duration": 933,
    "start_time": "2022-05-28T07:16:10.282Z"
   },
   {
    "duration": 880,
    "start_time": "2022-05-28T07:16:11.217Z"
   },
   {
    "duration": 684,
    "start_time": "2022-05-28T07:16:12.100Z"
   },
   {
    "duration": 682,
    "start_time": "2022-05-28T07:16:12.786Z"
   },
   {
    "duration": 22,
    "start_time": "2022-05-28T07:16:13.470Z"
   },
   {
    "duration": 2475,
    "start_time": "2022-05-28T07:16:13.495Z"
   },
   {
    "duration": 14,
    "start_time": "2022-05-28T07:16:15.972Z"
   },
   {
    "duration": 16,
    "start_time": "2022-05-28T07:16:15.988Z"
   },
   {
    "duration": 573,
    "start_time": "2022-05-28T07:16:16.006Z"
   },
   {
    "duration": 123,
    "start_time": "2022-05-28T07:18:01.527Z"
   },
   {
    "duration": 1457,
    "start_time": "2022-05-28T07:18:24.714Z"
   },
   {
    "duration": 16033,
    "start_time": "2022-05-28T07:18:26.174Z"
   },
   {
    "duration": 9169,
    "start_time": "2022-05-28T07:18:42.210Z"
   },
   {
    "duration": 92,
    "start_time": "2022-05-28T07:18:51.381Z"
   },
   {
    "duration": 803,
    "start_time": "2022-05-28T07:18:51.476Z"
   },
   {
    "duration": 1280,
    "start_time": "2022-05-28T07:18:52.281Z"
   },
   {
    "duration": 4305,
    "start_time": "2022-05-28T07:18:53.563Z"
   },
   {
    "duration": 3902,
    "start_time": "2022-05-28T07:18:57.870Z"
   },
   {
    "duration": 496,
    "start_time": "2022-05-28T07:19:01.773Z"
   },
   {
    "duration": 840,
    "start_time": "2022-05-28T07:19:02.271Z"
   },
   {
    "duration": 4667,
    "start_time": "2022-05-28T07:19:03.113Z"
   },
   {
    "duration": 1010,
    "start_time": "2022-05-28T07:19:07.782Z"
   },
   {
    "duration": 1305,
    "start_time": "2022-05-28T07:19:08.794Z"
   },
   {
    "duration": 3156,
    "start_time": "2022-05-28T07:19:10.103Z"
   },
   {
    "duration": 818,
    "start_time": "2022-05-28T07:19:13.262Z"
   },
   {
    "duration": 978,
    "start_time": "2022-05-28T07:19:14.082Z"
   },
   {
    "duration": 4,
    "start_time": "2022-05-28T07:19:15.061Z"
   },
   {
    "duration": 38,
    "start_time": "2022-05-28T07:19:15.067Z"
   },
   {
    "duration": 699,
    "start_time": "2022-05-28T07:19:15.107Z"
   },
   {
    "duration": 3,
    "start_time": "2022-05-28T07:19:15.808Z"
   },
   {
    "duration": 1147,
    "start_time": "2022-05-28T07:19:15.812Z"
   },
   {
    "duration": 121,
    "start_time": "2022-05-28T07:19:16.962Z"
   },
   {
    "duration": 1504,
    "start_time": "2022-05-28T07:19:17.085Z"
   },
   {
    "duration": 22,
    "start_time": "2022-05-28T07:19:18.590Z"
   },
   {
    "duration": 61,
    "start_time": "2022-05-28T07:19:18.614Z"
   },
   {
    "duration": 810,
    "start_time": "2022-05-28T07:19:18.677Z"
   },
   {
    "duration": 3985,
    "start_time": "2022-05-28T07:19:19.488Z"
   },
   {
    "duration": 22,
    "start_time": "2022-05-28T07:19:23.475Z"
   },
   {
    "duration": 373,
    "start_time": "2022-05-28T07:19:23.499Z"
   },
   {
    "duration": 3,
    "start_time": "2022-05-28T07:19:23.873Z"
   },
   {
    "duration": 2788,
    "start_time": "2022-05-28T07:19:23.877Z"
   },
   {
    "duration": 92,
    "start_time": "2022-05-28T07:19:26.667Z"
   },
   {
    "duration": 3932,
    "start_time": "2022-05-28T07:19:26.761Z"
   },
   {
    "duration": 80,
    "start_time": "2022-05-28T07:19:30.694Z"
   },
   {
    "duration": 705,
    "start_time": "2022-05-28T07:19:30.780Z"
   },
   {
    "duration": 7,
    "start_time": "2022-05-28T07:19:31.487Z"
   },
   {
    "duration": 3194,
    "start_time": "2022-05-28T07:19:31.496Z"
   },
   {
    "duration": 83,
    "start_time": "2022-05-28T07:19:34.692Z"
   },
   {
    "duration": 745,
    "start_time": "2022-05-28T07:19:34.777Z"
   },
   {
    "duration": 906,
    "start_time": "2022-05-28T07:19:35.560Z"
   },
   {
    "duration": 650,
    "start_time": "2022-05-28T07:19:36.470Z"
   },
   {
    "duration": 556,
    "start_time": "2022-05-28T07:19:37.122Z"
   },
   {
    "duration": 80,
    "start_time": "2022-05-28T07:19:37.680Z"
   },
   {
    "duration": 2139,
    "start_time": "2022-05-28T07:19:37.763Z"
   },
   {
    "duration": 61,
    "start_time": "2022-05-28T07:19:39.904Z"
   },
   {
    "duration": 13,
    "start_time": "2022-05-28T07:19:39.966Z"
   },
   {
    "duration": 197,
    "start_time": "2022-05-28T07:19:39.981Z"
   },
   {
    "duration": 1277,
    "start_time": "2022-05-28T07:24:33.881Z"
   },
   {
    "duration": 15440,
    "start_time": "2022-05-28T07:24:35.161Z"
   },
   {
    "duration": 8567,
    "start_time": "2022-05-28T07:24:50.604Z"
   },
   {
    "duration": 90,
    "start_time": "2022-05-28T07:24:59.174Z"
   },
   {
    "duration": 798,
    "start_time": "2022-05-28T07:24:59.267Z"
   },
   {
    "duration": 1157,
    "start_time": "2022-05-28T07:25:00.066Z"
   },
   {
    "duration": 4055,
    "start_time": "2022-05-28T07:25:01.224Z"
   },
   {
    "duration": 3844,
    "start_time": "2022-05-28T07:25:05.281Z"
   },
   {
    "duration": 355,
    "start_time": "2022-05-28T07:25:09.159Z"
   },
   {
    "duration": 843,
    "start_time": "2022-05-28T07:25:09.560Z"
   },
   {
    "duration": 4409,
    "start_time": "2022-05-28T07:25:10.405Z"
   },
   {
    "duration": 1117,
    "start_time": "2022-05-28T07:25:14.817Z"
   },
   {
    "duration": 1327,
    "start_time": "2022-05-28T07:25:15.935Z"
   },
   {
    "duration": 3303,
    "start_time": "2022-05-28T07:25:17.264Z"
   },
   {
    "duration": 774,
    "start_time": "2022-05-28T07:25:20.570Z"
   },
   {
    "duration": 1429,
    "start_time": "2022-05-28T07:25:21.346Z"
   },
   {
    "duration": 4,
    "start_time": "2022-05-28T07:25:22.776Z"
   },
   {
    "duration": 111,
    "start_time": "2022-05-28T07:25:22.782Z"
   },
   {
    "duration": 725,
    "start_time": "2022-05-28T07:25:22.895Z"
   },
   {
    "duration": 3,
    "start_time": "2022-05-28T07:25:23.621Z"
   },
   {
    "duration": 1235,
    "start_time": "2022-05-28T07:25:23.625Z"
   },
   {
    "duration": 124,
    "start_time": "2022-05-28T07:25:24.863Z"
   },
   {
    "duration": 2272,
    "start_time": "2022-05-28T07:25:24.989Z"
   },
   {
    "duration": 95,
    "start_time": "2022-05-28T07:25:27.264Z"
   },
   {
    "duration": 36,
    "start_time": "2022-05-28T07:25:27.362Z"
   },
   {
    "duration": 897,
    "start_time": "2022-05-28T07:25:27.400Z"
   },
   {
    "duration": 3322,
    "start_time": "2022-05-28T07:25:28.359Z"
   },
   {
    "duration": 28,
    "start_time": "2022-05-28T07:25:31.684Z"
   },
   {
    "duration": 445,
    "start_time": "2022-05-28T07:25:31.714Z"
   },
   {
    "duration": 3,
    "start_time": "2022-05-28T07:25:32.162Z"
   },
   {
    "duration": 2332,
    "start_time": "2022-05-28T07:25:32.167Z"
   },
   {
    "duration": 102,
    "start_time": "2022-05-28T07:25:34.560Z"
   },
   {
    "duration": 3138,
    "start_time": "2022-05-28T07:25:34.664Z"
   },
   {
    "duration": 21,
    "start_time": "2022-05-28T07:25:37.859Z"
   },
   {
    "duration": 736,
    "start_time": "2022-05-28T07:25:37.882Z"
   },
   {
    "duration": 42,
    "start_time": "2022-05-28T07:25:38.620Z"
   },
   {
    "duration": 2625,
    "start_time": "2022-05-28T07:25:38.664Z"
   },
   {
    "duration": 86,
    "start_time": "2022-05-28T07:25:41.291Z"
   },
   {
    "duration": 882,
    "start_time": "2022-05-28T07:25:41.379Z"
   },
   {
    "duration": 938,
    "start_time": "2022-05-28T07:25:42.262Z"
   },
   {
    "duration": 798,
    "start_time": "2022-05-28T07:25:43.201Z"
   },
   {
    "duration": 517,
    "start_time": "2022-05-28T07:25:44.001Z"
   },
   {
    "duration": 45,
    "start_time": "2022-05-28T07:25:44.519Z"
   },
   {
    "duration": 2196,
    "start_time": "2022-05-28T07:25:44.566Z"
   },
   {
    "duration": 15,
    "start_time": "2022-05-28T07:25:46.764Z"
   },
   {
    "duration": 10,
    "start_time": "2022-05-28T07:25:46.781Z"
   },
   {
    "duration": 317,
    "start_time": "2022-05-28T07:25:46.793Z"
   }
  ],
  "colab": {
   "name": "PySparkSprint.ipynb",
   "provenance": []
  },
  "kernelspec": {
   "display_name": "Python 3 (ipykernel)",
   "language": "python",
   "name": "python3"
  },
  "language_info": {
   "codemirror_mode": {
    "name": "ipython",
    "version": 3
   },
   "file_extension": ".py",
   "mimetype": "text/x-python",
   "name": "python",
   "nbconvert_exporter": "python",
   "pygments_lexer": "ipython3",
   "version": "3.9.7"
  },
  "toc": {
   "base_numbering": 1,
   "nav_menu": {},
   "number_sections": true,
   "sideBar": true,
   "skip_h1_title": true,
   "title_cell": "Table of Contents",
   "title_sidebar": "Contents",
   "toc_cell": false,
   "toc_position": {},
   "toc_section_display": true,
   "toc_window_display": false
  }
 },
 "nbformat": 4,
 "nbformat_minor": 5
}
