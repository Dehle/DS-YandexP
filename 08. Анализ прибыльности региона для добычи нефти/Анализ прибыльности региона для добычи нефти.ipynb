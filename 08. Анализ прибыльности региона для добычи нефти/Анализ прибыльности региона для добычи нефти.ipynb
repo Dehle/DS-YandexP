{
 "cells": [
  {
   "cell_type": "markdown",
   "id": "921f920f",
   "metadata": {},
   "source": [
    "# Анализ прибыльности региона для добычи нефти\n",
    "\n",
    "**Заказчик** - добывающая компания «ГлавРосГосНефть».\n",
    "\n",
    "**Цель** -   Необходимо определить в каком из трех регионов бурить новые скважины.\n",
    "\n",
    "**Входные данные от Заказчика**: \n",
    "\n",
    "Предоставлены пробы нефти в трёх регионах: в каждом 100 000 месторождений, где измерили качество нефти и объём её запасов. Необходимо построить модель машинного обучения, которая поможет определить регион, где добыча принесёт наибольшую прибыль, и наименьшую вероятность убытка. Проанализируем возможную прибыль и риски техникой Bootstrap.\n",
    "\n",
    "- Данные геологоразведки трёх регионов находятся в файлах:\n",
    "\n",
    "  - `/datasets/geo_data_0.csv`\n",
    "  \n",
    "  - `/datasets/geo_data_1.csv`\n",
    "  \n",
    "  - `/datasets/geo_data_2.csv`\n"
   ]
  },
  {
   "cell_type": "markdown",
   "id": "c82b5f13",
   "metadata": {},
   "source": [
    "#### Описание данных\n",
    "\n",
    " Известно:\n",
    " \n",
    "`id` — уникальный идентификатор скважины;\n",
    "\n",
    "`f0, f1, f2` — три признака точек (неважно, что они означают, но сами признаки значимы);\n",
    "\n",
    "`product` — объём запасов в скважине (тыс. баррелей)."
   ]
  },
  {
   "cell_type": "markdown",
   "id": "75794ce0",
   "metadata": {},
   "source": [
    "#### Условия:\n",
    "\n",
    "Для обучения модели подходит только линейная регрессия (остальные — недостаточно предсказуемые).\n",
    "\n",
    "При разведке региона исследуют 500 точек, из которых с помощью машинного обучения выбирают 200 лучших для разработки.\n",
    "Бюджет на разработку скважин в регионе — 10 млрд рублей.\n",
    "\n",
    "При нынешних ценах один баррель сырья приносит 450 рублей дохода. Доход с каждой единицы продукта составляет 450 тыс. рублей, поскольку объём указан в тысячах баррелей.\n",
    "\n",
    "После оценки рисков нужно оставить лишь те регионы, в которых вероятность убытков меньше 2.5%. Среди них выбирают регион с наибольшей средней прибылью."
   ]
  },
  {
   "cell_type": "markdown",
   "id": "d478a6ab",
   "metadata": {},
   "source": [
    "#### Для достижения поставленной цели необходимо выполнить следующие шаги:\n",
    "\n",
    " - В каждом регионе собрать характеристики для скважин: качество нефти и объём её запасов;\n",
    "\n",
    " - Построить модель для предсказания объёма запасов в новых скважинах для каждого региона;\n",
    " \n",
    " - Выполнить эксперимент с помощью технологии Bootstrap: выбрать топ-200 из 500 выбранных наугад скважин с самыми высокими оценками значений. Эксперимент проводится 1000 раз;\n",
    " \n",
    " - Посчитать распределение прибыли от разработки. Найти среднее значение прибыли от разработки и 95%-й доверительный интервал для каждого региона;\n",
    " \n",
    " - Расчитать вероятность убыточности разработки для каждого региона;\n",
    " \n",
    " - Определить регион с минимальной вероятностью (меньше 2.5%) убыточности и максимальной суммарной прибылью отобранных скважин."
   ]
  },
  {
   "cell_type": "markdown",
   "id": "77911bc1",
   "metadata": {},
   "source": [
    "### План исследования:\n",
    "\n",
    "- Изучение файлов с данными и Предобработка данных\n",
    "- Обучение и проверка модели для каждого региона:\n",
    "     - Разбить данные на обучающую и валидационную выборки в соотношении 75:25.\n",
    "     - Обучение модели и формулирование предсказания на валидационной выборке.\n",
    "     - Сохранение предсказания и правильные ответы на валидационной выборке.\n",
    "     - Напечатать на экране средний запас предсказанного сырья и RMSE модели.\n",
    "     - Анализ результатов.\n",
    "- Подготовка к расчёту прибыли:\n",
    "     - Все ключевые значения для расчётов сохранить в отдельных переменных.\n",
    "     - Рассчитать достаточный объём сырья для безубыточной разработки новой скважины. Сравнить полученный объём сырья со средним запасом в каждом регионе.\n",
    "     - Описать выводы по этапу подготовки расчёта прибыли.\n",
    "- Создать функцию для расчета прибыли и рисков  по выбранным скважинам и предсказаниям модели:\n",
    "     - Выбрать скважины с максимальными значениями предсказаний.\n",
    "     - Просуммировать целевое значение объёма сырья, соответствующее этим предсказаниям.\n",
    "     - Рассчитать прибыль для полученного объёма сырья.\n",
    "- Расчет рисков и прибыли для каждого региона:\n",
    "     - Применить технику Bootstrap с 1000 выборок, чтобы найти распределение прибыли.\n",
    "     - Найти среднюю прибыль, 95%-й доверительный интервал и риск убытков. Убыток — это отрицательная прибыль.\n",
    "     - Написать выводы: предложите регион для разработки скважин и обосновать выбор."
   ]
  },
  {
   "cell_type": "markdown",
   "id": "c54fa7c4",
   "metadata": {},
   "source": [
    "### Изучение файлов с данными и предобработка"
   ]
  },
  {
   "cell_type": "markdown",
   "id": "9a440846",
   "metadata": {},
   "source": [
    "Начнем изучение наших данных с импортирования необходимых для выполнения исследования библиотек и распаковки файлов"
   ]
  },
  {
   "cell_type": "code",
   "execution_count": 1,
   "id": "9e1438aa",
   "metadata": {},
   "outputs": [],
   "source": [
    "pip install pandas-profiling[notebook,html]"
   ]
  },
  {
   "cell_type": "code",
   "execution_count": 2,
   "id": "e176d058",
   "metadata": {},
   "outputs": [],
   "source": [
    "import math\n",
    "import numpy as np\n",
    "import pandas as pd\n",
    "import seaborn as sns\n",
    "import matplotlib.pyplot as plt\n",
    "from numpy.random import RandomState\n",
    "from sklearn.model_selection import train_test_split\n",
    "from sklearn.preprocessing import StandardScaler\n",
    "from sklearn.linear_model import LinearRegression\n",
    "from sklearn.metrics import mean_squared_error, r2_score, mean_absolute_error\n",
    "from sklearn.model_selection import GridSearchCV\n",
    "import sweetviz as sv\n",
    "import pandas_profiling\n",
    "from pandas_profiling import ProfileReport\n",
    "from scipy import stats as st\n",
    "from pathlib import Path\n",
    "path = Path.cwd()"
   ]
  },
  {
   "cell_type": "code",
   "execution_count": 3,
   "id": "39de1df4",
   "metadata": {},
   "outputs": [],
   "source": [
    "#распакуем файлы\n",
    "df_0 = pd.read_csv('datasets/geo_data_0.csv')\n",
    "df_1 = pd.read_csv('datasets/geo_data_1.csv')\n",
    "df_2 = pd.read_csv('datasets/geo_data_2.csv')"
   ]
  },
  {
   "cell_type": "markdown",
   "id": "825dbb4e",
   "metadata": {},
   "source": [
    "Изучим данные с помощью pandas-profiling"
   ]
  },
  {
   "cell_type": "code",
   "execution_count": 4,
   "id": "487e06f2",
   "metadata": {
    "scrolled": true
   },
   "outputs": [
    {
     "data": {
      "application/vnd.jupyter.widget-view+json": {
       "model_id": "7fa3f8127a2c47cf819e8210c7d1057c",
       "version_major": 2,
       "version_minor": 0
      }
     },
     "metadata": {},
     "output_type": "display_data"
    },
    {
     "data": {
      "application/vnd.jupyter.widget-view+json": {
       "model_id": "d94cf7d670d745af9f7072fcb7734542",
       "version_major": 2,
       "version_minor": 0
      }
     },
     "metadata": {},
     "output_type": "display_data"
    },
    {
     "data": {
      "application/vnd.jupyter.widget-view+json": {
       "model_id": "1869cea5967c478ca9e27ea3602d689d",
       "version_major": 2,
       "version_minor": 0
      }
     },
     "metadata": {},
     "output_type": "display_data"
    },
    {
     "data": {},
     "metadata": {},
     "output_type": "display_data"
    },
    {
     "data": {},
     "execution_count": 4,
     "metadata": {},
     "output_type": "execute_result"
    }
   ],
   "source": [
    "pandas_profiling.ProfileReport(df_0)"
   ]
  },
  {
   "cell_type": "code",
   "execution_count": 5,
   "id": "a12a70d2",
   "metadata": {},
   "outputs": [
    {
     "data": {
      "application/vnd.jupyter.widget-view+json": {
       "model_id": "434baca8e09547d0a4aa917fbf66e024",
       "version_major": 2,
       "version_minor": 0
      }
     },
     "metadata": {},
     "output_type": "display_data"
    },
    {
     "data": {
      "application/vnd.jupyter.widget-view+json": {
       "model_id": "8f6959a6c21a48fa9ad266f90d1f5619",
       "version_major": 2,
       "version_minor": 0
      }
     },
     "metadata": {},
     "output_type": "display_data"
    },
    {
     "data": {
      "application/vnd.jupyter.widget-view+json": {
       "model_id": "9c4c9e44027c4e25ad0a1720c41b45b9",
       "version_major": 2,
       "version_minor": 0
      }
     },
     "metadata": {},
     "output_type": "display_data"
    },
    {
     "data": {},
     "metadata": {},
     "output_type": "display_data"
    },
    {
     "data": {},
     "execution_count": 5,
     "metadata": {},
     "output_type": "execute_result"
    }
   ],
   "source": [
    "pandas_profiling.ProfileReport(df_1)"
   ]
  },
  {
   "cell_type": "code",
   "execution_count": 6,
   "id": "b8924716",
   "metadata": {
    "scrolled": true
   },
   "outputs": [
    {
     "data": {
      "application/vnd.jupyter.widget-view+json": {
       "model_id": "38e1eb48b4f842b5a4951388ace0f77e",
       "version_major": 2,
       "version_minor": 0
      }
     },
     "metadata": {},
     "output_type": "display_data"
    },
    {
     "data": {
      "application/vnd.jupyter.widget-view+json": {
       "model_id": "6deae0730f1d4b32bb3a9a64dd11c454",
       "version_major": 2,
       "version_minor": 0
      }
     },
     "metadata": {},
     "output_type": "display_data"
    },
    {
     "data": {
      "application/vnd.jupyter.widget-view+json": {
       "model_id": "17cbb16cfdc0455f93297ae3777421ae",
       "version_major": 2,
       "version_minor": 0
      }
     },
     "metadata": {},
     "output_type": "display_data"
    },
    {
     "data": {},
     "metadata": {},
     "output_type": "display_data"
    },
    {
     "data": {},
     "execution_count": 6,
     "metadata": {},
     "output_type": "execute_result"
    }
   ],
   "source": [
    "pandas_profiling.ProfileReport(df_2)"
   ]
  },
  {
   "cell_type": "markdown",
   "id": "458b546a",
   "metadata": {},
   "source": [
    "Посмотрим, что за неуникальные id находятся в столбце `id`"
   ]
  },
  {
   "cell_type": "code",
   "execution_count": 7,
   "id": "6e6c598e",
   "metadata": {},
   "outputs": [
    {
     "data": {},
     "execution_count": 7,
     "metadata": {},
     "output_type": "execute_result"
    }
   ],
   "source": [
    "df_0[df_0['id'].isin(['fiKDv', 'QcMuo'])]\n"
   ]
  },
  {
   "cell_type": "markdown",
   "id": "e36f1b6a",
   "metadata": {},
   "source": [
    "Удалим эти неуникальные id"
   ]
  },
  {
   "cell_type": "code",
   "execution_count": 8,
   "id": "2df8e41f",
   "metadata": {},
   "outputs": [],
   "source": [
    "df_0 = df_0.drop_duplicates(subset=['id'], keep='first').reset_index(drop=True)\n",
    "df_1 = df_1.drop_duplicates(subset=['id'], keep='first').reset_index(drop=True)\n",
    "df_2 = df_2.drop_duplicates(subset=['id'], keep='first').reset_index(drop=True)"
   ]
  },
  {
   "cell_type": "markdown",
   "id": "eaf9dc0f",
   "metadata": {},
   "source": [
    "Проверим"
   ]
  },
  {
   "cell_type": "code",
   "execution_count": 9,
   "id": "61d5cfae",
   "metadata": {},
   "outputs": [
    {
     "data": {},
     "execution_count": 9,
     "metadata": {},
     "output_type": "execute_result"
    }
   ],
   "source": [
    "df_0[df_0['id'].isin(['fiKDv', 'QcMuo'])]"
   ]
  },
  {
   "cell_type": "markdown",
   "id": "35980995",
   "metadata": {},
   "source": [
    "**Вывод**\n",
    "\n",
    "При изучении всех трёх файлов выявлено, что пропуски  и дубликаты в данных отсутствуют. Есть несколько неуникальных id во всех трёх регионах, но признаки у них разные, возможно, что либо техническая ошибка при записи, либо специально делались замеры дважды. Т.к. количество этих неуникальных id в каждом регионе ничтожно мало, то просто удалили их, чтобы они не мешали дальнейшему исследованию.\n",
    "\n",
    "\n",
    "В датасете df_0 признаки f0 и f1(в отличии от признака f2), а так же в датасете df_1 признак f0 не имеют нормального распределения. Возможно, данные признаки зависят от процесса, который постоянно меняется. Медианы и средние в двух данных регионах по признаку `product` схожи (91.85 и 92.5, 94.95 и 95 соответственно).\n",
    "\n",
    "В датасете df_2  все признаки имеют нормальное распределение. \n",
    "\n",
    " Данные региона df_1 по объёму запасов (столбец `product`) в скважине (тыс. баррелей) сильно отличается от других регионов. f2 и `product` имеют очень высокую корреляцию, так как уникальных значений всего 12 (возможно, что только 12, но очень перспективных скважин?) и f2 имеет маленький разброс значений от 0 до 5. Т.к. регион df_1 сильно выбивается от двух других регионов по данным с 12ю уникальными значениями, то смею предположить, что, возможно, данные собирались иначе, с другим оборудованием либо по другой схеме. Медина и среднее по признаку `product`: 57.08 и 68.83 соответственно."
   ]
  },
  {
   "cell_type": "markdown",
   "id": "c07cfd7d",
   "metadata": {},
   "source": [
    "### Обучение и проверка модели для каждого региона:\n",
    "\n",
    "#### Разбивка данных на обучающую и валидационную выборки в соотношении 75:25.\n"
   ]
  },
  {
   "cell_type": "markdown",
   "id": "e09ab15c",
   "metadata": {},
   "source": [
    "Создадим функции для обучения модели линейной регрессии и вывода среднего всего фактического сырья\n",
    "и среднего предсказанного сырья"
   ]
  },
  {
   "cell_type": "code",
   "execution_count": 10,
   "id": "d1ebabe5",
   "metadata": {},
   "outputs": [],
   "source": [
    "def make_predictictions(data):\n",
    "    features = data.drop(['id', 'product'], axis=1)\n",
    "    target = data['product']\n",
    "    features_train, features_valid, target_train, target_valid = train_test_split(\n",
    "        features, target, test_size=.25, random_state=12345)\n",
    "    model = LinearRegression()\n",
    "    model.fit(features_train, target_train)\n",
    "    return pd.Series(model.predict(features_valid)), target_valid"
   ]
  },
  {
   "cell_type": "code",
   "execution_count": 11,
   "id": "f688c3d2",
   "metadata": {},
   "outputs": [],
   "source": [
    "predicted_0, target_0 = make_predictictions(df_0)\n",
    "predicted_1, target_1 = make_predictictions(df_1)\n",
    "predicted_2, target_2 = make_predictictions(df_2)"
   ]
  },
  {
   "cell_type": "code",
   "execution_count": 12,
   "id": "56d814d3",
   "metadata": {},
   "outputs": [],
   "source": [
    "def show_rmse(answers, predictions):\n",
    "    mse = mean_squared_error(answers, predictions)\n",
    "    r2 = round(r2_score(answers, predictions), 4)\n",
    "    print('Реальное среднее значение, тыс. баррелей:', answers.mean())\n",
    "    print('Предсказанное среднее значение модели, тыс. баррелей:', predictions.mean())\n",
    "    print('RMSE модели:', mse ** 0.5)\n",
    "    print('Коэффициент детерминации R2 модели:', r2)"
   ]
  },
  {
   "cell_type": "code",
   "execution_count": 13,
   "id": "0091a5dc",
   "metadata": {},
   "outputs": [],
   "source": [
    "print('Регион 0')\n",
    "show_rmse(target_0, predicted_0)"
   ]
  },
  {
   "cell_type": "code",
   "execution_count": 14,
   "id": "e9d0af30",
   "metadata": {},
   "outputs": [],
   "source": [
    "print('Регион 1')\n",
    "show_rmse(target_1, predicted_1)"
   ]
  },
  {
   "cell_type": "code",
   "execution_count": 15,
   "id": "4c244323",
   "metadata": {},
   "outputs": [],
   "source": [
    "print('Регион 2')\n",
    "show_rmse(target_2, predicted_2)"
   ]
  },
  {
   "cell_type": "markdown",
   "id": "00305a86",
   "metadata": {},
   "source": [
    "**Вывод**\n",
    "\n",
    "Данные фактического  количества нефти по сумме примерно совпадают по сумме с предсказанными значениями. Лучше всего модель предсказала запасы в регионе_1 (RMSE - 0.89), далее в регион_0 и регион_2 соответственно. \n",
    "\n",
    "Это потверждает коэффициент детерминации R2.  Чем R2 ближе к единице, тем лучше."
   ]
  },
  {
   "cell_type": "markdown",
   "id": "b516f738",
   "metadata": {},
   "source": [
    "### Подготовка к расчёту прибыли\n",
    "\n",
    "Сохраним все ключевые значения для расчётов в отдельных переменных.\n",
    "\n",
    "\n",
    "\n",
    "При разведке региона исследуют 500 точек, из которых с помощью машинного обучения выбирают 200 лучших для разработки."
   ]
  },
  {
   "cell_type": "code",
   "execution_count": 16,
   "id": "bf2c2f35",
   "metadata": {},
   "outputs": [],
   "source": [
    "COUNT_OF_WELLS = 500  \n",
    "BEST_WELLS = 200"
   ]
  },
  {
   "cell_type": "markdown",
   "id": "df4240db",
   "metadata": {},
   "source": [
    "Бюджет на разработку скважин в регионе — 10 млрд рублей."
   ]
  },
  {
   "cell_type": "code",
   "execution_count": 17,
   "id": "bd5404d5",
   "metadata": {},
   "outputs": [],
   "source": [
    "BUDGET = 10_000_000_000"
   ]
  },
  {
   "cell_type": "markdown",
   "id": "03155ae0",
   "metadata": {},
   "source": [
    "Цена разработки одной скважины — 50 млн рублей."
   ]
  },
  {
   "cell_type": "code",
   "execution_count": 18,
   "id": "fdccf0d1",
   "metadata": {},
   "outputs": [],
   "source": [
    "well_price = BUDGET / BEST_WELLS"
   ]
  },
  {
   "cell_type": "markdown",
   "id": "b6c4a558",
   "metadata": {},
   "source": [
    "При нынешних ценах один баррель сырья приносит 450 рублей дохода. Доход с каждой единицы продукта составляет 450 тыс. рублей, поскольку объём указан в тысячах баррелей."
   ]
  },
  {
   "cell_type": "code",
   "execution_count": 19,
   "id": "b1156ae0",
   "metadata": {},
   "outputs": [],
   "source": [
    "PRICE_ONE_THOUSAND_BARRELS = 450_000"
   ]
  },
  {
   "cell_type": "markdown",
   "id": "a4fafb21",
   "metadata": {},
   "source": [
    "Рассчитаем достаточный объём сырья для безубыточной разработки новой скважины."
   ]
  },
  {
   "cell_type": "code",
   "execution_count": 20,
   "id": "1befa6ee",
   "metadata": {
    "scrolled": true
   },
   "outputs": [],
   "source": [
    "necessary_product = well_price / PRICE_ONE_THOUSAND_BARRELS\n",
    "print('Необходимый объём сырья на одну скважину для безубыточной разработки новой скважины: {:.2f} тыс. баррелей'.\n",
    "      format(necessary_product))"
   ]
  },
  {
   "cell_type": "code",
   "execution_count": 21,
   "id": "b6c7cf34",
   "metadata": {},
   "outputs": [],
   "source": [
    "print(\"Средний истинный запас сырья в регионах, тыс. баррелей:\")\n",
    "print()\n",
    "count = -1\n",
    "targets = [target_0, target_1, target_2]\n",
    "for target in targets:\n",
    "    count += 1\n",
    "    print('Регион ', count, ': ',  target.mean())\n",
    "    if target.mean() < necessary_product:\n",
    "        print(\n",
    "            f'Средний предсказанный запас сырья в регионе меньше объёма достаточного'\n",
    "            f' для безубыточной разработки на {round(necessary_product - target.mean(), 2)} тыс. баррелей')\n",
    "    else:\n",
    "        print(\n",
    "            f'Средний предсказанный запас сырья в регионе  больше объёма достаточного'\n",
    "            f' для безубыточной разработки на {round(target.mean() - necessary_product, 2)} тыс. баррелей')"
   ]
  },
  {
   "cell_type": "markdown",
   "id": "3de68af7",
   "metadata": {},
   "source": [
    "Создадим функцию для расчета прибыли"
   ]
  },
  {
   "cell_type": "code",
   "execution_count": 22,
   "id": "78c93f68",
   "metadata": {},
   "outputs": [],
   "source": [
    "def profit(target, probabilities):\n",
    "    target = pd.Series(target).reset_index(drop=True)\n",
    "    probabilities = pd.Series(probabilities).reset_index(drop=True)\n",
    "    probs_sorted = probabilities.sort_values(ascending=False)\n",
    "    selected = target[probs_sorted.index][:BEST_WELLS]\n",
    "    mlrd = 1000000000\n",
    "    return ((PRICE_ONE_THOUSAND_BARRELS * selected.sum()) - BUDGET) / mlrd"
   ]
  },
  {
   "cell_type": "code",
   "execution_count": 23,
   "id": "a0358bf3",
   "metadata": {},
   "outputs": [
    {
     "data": {},
     "execution_count": 23,
     "metadata": {},
     "output_type": "execute_result"
    }
   ],
   "source": [
    "print('Регион 0')\n",
    "profit(target_0, predicted_0)"
   ]
  },
  {
   "cell_type": "code",
   "execution_count": 24,
   "id": "bfc0069d",
   "metadata": {},
   "outputs": [
    {
     "data": {},
     "execution_count": 24,
     "metadata": {},
     "output_type": "execute_result"
    }
   ],
   "source": [
    "print('Регион 1')\n",
    "profit(target_1, predicted_1)"
   ]
  },
  {
   "cell_type": "code",
   "execution_count": 25,
   "id": "68ee4d66",
   "metadata": {},
   "outputs": [
    {
     "data": {},
     "execution_count": 25,
     "metadata": {},
     "output_type": "execute_result"
    }
   ],
   "source": [
    "print('Регион 2')\n",
    "profit(target_2, predicted_2)"
   ]
  },
  {
   "cell_type": "markdown",
   "id": "d74d2d9f",
   "metadata": {},
   "source": [
    "**Вывод**\n",
    "\n",
    "Самый прибыльный регион - Регион 0, так как может принести прибыль больше трех миллиардов рублей. Но средний запас сырья в скважинах меньше, чем точка безубыточности. Возможно, что, если рассмотреть не все 500 скважин, а только 200 лучших, риск убытка будет меньше. "
   ]
  },
  {
   "cell_type": "markdown",
   "id": "0ad2e81f",
   "metadata": {},
   "source": [
    "### Расчет рисков и прибыли для каждого региона\n",
    "\n",
    "\n",
    "Посчитаем риски и прибыль для каждого региона. Найдем распределение прибыли с помощью техники Bootstrap."
   ]
  },
  {
   "cell_type": "code",
   "execution_count": 26,
   "id": "3b0e9481",
   "metadata": {},
   "outputs": [],
   "source": [
    "BOOTHSTR_SAMPLS = 1000\n",
    "RND = np.random.RandomState(12345)\n",
    "\n",
    "\n",
    "def bootstrap(target, predictions):\n",
    "    values = []\n",
    "    for i in range(BOOTHSTR_SAMPLS):\n",
    "        target_subsample = target.reset_index(drop=True).sample(\n",
    "            n=COUNT_OF_WELLS, replace=True, random_state=RND)\n",
    "        probs_subsample = predictions[target_subsample.index]\n",
    "        rev = profit(target_subsample, probs_subsample)\n",
    "        values.append(rev)\n",
    "\n",
    "    values = pd.Series(values)\n",
    "    risk = (values < 0).mean()\n",
    "    lower = values.quantile(0.025)\n",
    "    upper = values.quantile(0.975)\n",
    "    mean = values.mean()\n",
    "\n",
    "    print('Средняя прибыль по региону = {:.2f} млрд.руб.'.format(mean))\n",
    "    print('95% доверительный интервал от {:.2f} до {:.2f} млрд.руб.'.format(\n",
    "        lower, upper))\n",
    "\n",
    "    print('Процент риска {:.2%}'.format(risk))"
   ]
  },
  {
   "cell_type": "code",
   "execution_count": 27,
   "id": "2ad3d2a9",
   "metadata": {
    "scrolled": true
   },
   "outputs": [],
   "source": [
    "print('Регион 0')\n",
    "bootstrap(target_0, predicted_0)"
   ]
  },
  {
   "cell_type": "code",
   "execution_count": 28,
   "id": "74555545",
   "metadata": {},
   "outputs": [],
   "source": [
    "print('Регион 1')\n",
    "bootstrap(target_1, predicted_1)"
   ]
  },
  {
   "cell_type": "code",
   "execution_count": 29,
   "id": "1b92fc64",
   "metadata": {},
   "outputs": [],
   "source": [
    "print('Регион 2')\n",
    "bootstrap(target_2, predicted_2)"
   ]
  },
  {
   "cell_type": "markdown",
   "id": "03d9b481",
   "metadata": {},
   "source": [
    "**Вывод**\n",
    "\n",
    "Согласно прогнозам, сделанным с помощью техники Bootstrap, наиболее прибыльным будет разработка месторождений в Регионе_1 у него самые высокие показатели средней выручки и 95%-ного доверительного интервала. Также у этого региона самый низкий риск убытков. Кроме того доверительный интервал показывает, что даже при не очень удачном выборе разработка скважин окупится"
   ]
  },
  {
   "cell_type": "markdown",
   "id": "6277ef72",
   "metadata": {},
   "source": [
    "### Общий вывод"
   ]
  },
  {
   "cell_type": "code",
   "execution_count": 30,
   "id": "26215853",
   "metadata": {},
   "outputs": [
    {
     "data": {},
     "execution_count": 30,
     "metadata": {},
     "output_type": "execute_result"
    }
   ],
   "source": [
    "rezult = {'RMSE': np.array([37.85, 0.89, 40.08]), 'R2': np.array(\n",
    "    [0.28, 0.99, 0.20]), 'Среднее фактическое, тыс.баррелей': np.array(\n",
    "    [92.16, 69.19, 94.79]), 'Среднее предсказанное, тыс.баррелей': np.array(\n",
    "    [92.79, 69.18, 94.87]), 'Безубыточное отклонение, %': np.array(\n",
    "    [20.56, 37.74, 14.70]), 'Прибыль, млрд.руб ': np.array(\n",
    "    [0.38, 0.48, 0.32]),  'Риск, %': np.array(\n",
    "    [7.70, 0.60, 12.40])}\n",
    "rezult_df = pd.DataFrame(\n",
    "    rezult, index=['Регион_0', 'Регион_1', 'Регион_2'])\n",
    "rezult_df"
   ]
  },
  {
   "cell_type": "markdown",
   "id": "06d64e5b",
   "metadata": {},
   "source": [
    "Целью исследования было определить в каком из трех регионов бурить новые скважины. В нашем распоряжении были предоставлены пробы нефти в трёх регионах: в каждом 100 000 месторождений, где измерили качество нефти и объём её запасов.\n",
    "\n",
    "На этапе подготовки данных было выявлено, что пропуски и дубликаты в датасетах отсутствуют. Изучили распределение, выяснили, что медианы и средние в двух  регионах (0 и 2) по признаку `product` схожи (91.85 и 92.5, 94.95 и 95 соответственно), а Регион_1 сильно выбивается от двух других регионов по данным с 12ю уникальными значениями, и предположили, что, возможно, данные собирались иначе, с другим оборудованием либо по другой схеме. Медиана и среднее по признаку `product`: 57.08 и 68.83 соответственно.\n",
    "\n",
    " Затем создали функции для обучения модели линейной регрессии и вывели среднее всего фактического сырья и среднее  предсказанного сырья. Выяснили, что данные фактического  количества нефти по сумме примерно совпадают по сумме с предсказанными значениями. Лучше всего модель предсказала запасы в регионе_1 (RMSE - 0.89), далее в Регион_0 и Регион_2 соответственно. Самым безубыточным регионом  при разработке всех 500 скважин показал себя Регион_2 (14.70%), далее Регион_0 и Регион_1 соответственно.\n",
    " \n",
    " Составили функцию расчета прибыли в регионе. Посчитали прибыль и риски за каждый регион на 200 самых перспективных скважин\n",
    "\n",
    "После оценки рисков нужно было оставить лишь те регионы, в которых вероятность убытков меньше 2.5%. Такому условию удовлетворяет лишь один регион - Регион_1."
   ]
  }
 ],
 "metadata": {
  "kernelspec": {
   "display_name": "Python 3 (ipykernel)",
   "language": "python",
   "name": "python3"
  },
  "language_info": {
   "codemirror_mode": {
    "name": "ipython",
    "version": 3
   },
   "file_extension": ".py",
   "mimetype": "text/x-python",
   "name": "python",
   "nbconvert_exporter": "python",
   "pygments_lexer": "ipython3",
   "version": "3.9.13"
  },
  "toc": {
   "base_numbering": "1",
   "nav_menu": {},
   "number_sections": true,
   "sideBar": true,
   "skip_h1_title": true,
   "title_cell": "Table of Contents",
   "title_sidebar": "Contents",
   "toc_cell": false,
   "toc_position": {},
   "toc_section_display": true,
   "toc_window_display": false
  }
 },
 "nbformat": 4,
 "nbformat_minor": 5
}
