{
 "cells": [
  {
   "cell_type": "markdown",
   "id": "05329175",
   "metadata": {},
   "source": [
    "# Анализ прибыльности региона для добычи нефти\n",
    "\n",
    "**Заказчик** - добывающая компания «ГлавРосГосНефть».\n",
    "\n",
    "**Цель** -   Необходимо определить в каком из трех регионов бурить новые скважины.\n",
    "\n",
    "**Входные данные от Заказчика**: \n",
    "\n",
    "Предоставлены пробы нефти в трёх регионах: в каждом 100 000 месторождений, где измерили качество нефти и объём её запасов. Необходимо построить модель машинного обучения, которая поможет определить регион, где добыча принесёт наибольшую прибыль, и наименьшую вероятность убытка. Проанализируем возможную прибыль и риски техникой Bootstrap.\n",
    "\n",
    "- Данные геологоразведки трёх регионов находятся в файлах:\n",
    "\n",
    "  - `/datasets/geo_data_0.csv`\n",
    "  \n",
    "  - `/datasets/geo_data_1.csv`\n",
    "  \n",
    "  - `/datasets/geo_data_2.csv`\n",
    "\n",
    "\n",
    "\n",
    "***\n",
    "#### Описание данных\n",
    "\n",
    " Известно:\n",
    " \n",
    "`id` — уникальный идентификатор скважины;\n",
    "\n",
    "`f0, f1, f2` — три признака точек (неважно, что они означают, но сами признаки значимы);\n",
    "\n",
    "`product` — объём запасов в скважине (тыс. баррелей).\n",
    "***\n",
    "\n",
    "**Используемые инструменты**\n",
    "\n",
    "Pandas, sklearn, math, numpy, Seaborn, Matplotlib, SciPy, Bootstrap, машинное обучение\n"
   ]
  }
 ],
 "metadata": {
  "kernelspec": {
   "display_name": "Python 3 (ipykernel)",
   "language": "python",
   "name": "python3"
  },
  "language_info": {
   "codemirror_mode": {
    "name": "ipython",
    "version": 3
   },
   "file_extension": ".py",
   "mimetype": "text/x-python",
   "name": "python",
   "nbconvert_exporter": "python",
   "pygments_lexer": "ipython3",
   "version": "3.9.7"
  },
  "toc": {
   "base_numbering": 1,
   "nav_menu": {},
   "number_sections": false,
   "sideBar": true,
   "skip_h1_title": false,
   "title_cell": "Table of Contents",
   "title_sidebar": "Contents",
   "toc_cell": false,
   "toc_position": {},
   "toc_section_display": true,
   "toc_window_display": true
  }
 },
 "nbformat": 4,
 "nbformat_minor": 5
}
