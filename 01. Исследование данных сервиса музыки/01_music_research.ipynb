{
 "cells": [
  {
   "cell_type": "markdown",
   "metadata": {
    "id": "E0vqbgi9ay0H"
   },
   "source": [
    "# Яндекс.Музыка"
   ]
  },
  {
   "cell_type": "markdown",
   "metadata": {
    "id": "VUC88oWjTJw2"
   },
   "source": [
    "Сравнение Москвы и Петербурга окружено мифами. Например:\n",
    " * Москва — мегаполис, подчинённый жёсткому ритму рабочей недели;\n",
    " * Петербург — культурная столица, со своими вкусами.\n",
    "\n",
    "На данных Яндекс.Музыки  сравним поведение пользователей двух столиц.\n",
    "\n",
    "**Цель исследования** — проверить три гипотезы:\n",
    "1. Активность пользователей зависит от дня недели. Причём в Москве и Петербурге это проявляется по-разному.\n",
    "2. В понедельник утром в Москве преобладают одни жанры, а в Петербурге — другие. Так же и вечером пятницы преобладают разные жанры — в зависимости от города. \n",
    "3. Москва и Петербург предпочитают разные жанры музыки. В Москве чаще слушают поп-музыку, в Петербурге — русский рэп.\n",
    "\n",
    "**Ход исследования**\n",
    "\n",
    "Данные о поведении пользователей получим из файла `yandex_music_project.csv`. О качестве данных ничего не известно. Поэтому перед проверкой гипотез понадобится обзор данных. \n",
    "\n",
    "Проверим данные на ошибки и оценим их влияние на исследование. Затем, на этапе предобработки поищем возможность исправить самые критичные ошибки данных.\n",
    " \n",
    "Таким образом, исследование пройдёт в три этапа:\n",
    " 1. Обзор данных.\n",
    " 2. Предобработка данных.\n",
    " 3. Проверка гипотез.\n",
    "\n"
   ]
  },
  {
   "cell_type": "markdown",
   "metadata": {
    "id": "Ml1hmfXC_Zcs"
   },
   "source": [
    "## Обзор данных\n",
    "\n",
    "Составим первое представление о данных Яндекс.Музыки.\n",
    "\n",
    "\n"
   ]
  },
  {
   "cell_type": "markdown",
   "metadata": {
    "id": "57eAOGIz_Zcs"
   },
   "source": [
    "Основной инструмент аналитика — `pandas`. Импортируйте эту библиотеку."
   ]
  },
  {
   "cell_type": "code",
   "execution_count": 1,
   "metadata": {
    "id": "AXN7PHPN_Zcs"
   },
   "outputs": [],
   "source": [
    "import pandas as pd # импорт библиотеки pandas\n"
   ]
  },
  {
   "cell_type": "markdown",
   "metadata": {
    "id": "SG23P8tt_Zcs"
   },
   "source": [
    "Прочитаем файл `yandex_music_project.csv` из папки `/datasets` и сохраним его в переменной `df`:"
   ]
  },
  {
   "cell_type": "code",
   "execution_count": 2,
   "metadata": {},
   "outputs": [],
   "source": [
    "#распакуем файлы\n",
    "df = pd.read_csv('datasets/yandex_music_project.csv')\n"
   ]
  },
  {
   "cell_type": "markdown",
   "metadata": {
    "id": "rDoOMd3uTqnZ"
   },
   "source": [
    "Выведем на экран первые десять строк таблицы:"
   ]
  },
  {
   "cell_type": "code",
   "execution_count": 3,
   "metadata": {
    "id": "oWTVX3gW_Zct"
   },
   "outputs": [
    {
     "data": {
      "text/html": [
       "<div>\n",
       "<style scoped>\n",
       "    .dataframe tbody tr th:only-of-type {\n",
       "        vertical-align: middle;\n",
       "    }\n",
       "\n",
       "    .dataframe tbody tr th {\n",
       "        vertical-align: top;\n",
       "    }\n",
       "\n",
       "    .dataframe thead th {\n",
       "        text-align: right;\n",
       "    }\n",
       "</style>\n",
       "<table border=\"1\" class=\"dataframe\">\n",
       "  <thead>\n",
       "    <tr style=\"text-align: right;\">\n",
       "      <th></th>\n",
       "      <th>userID</th>\n",
       "      <th>Track</th>\n",
       "      <th>artist</th>\n",
       "      <th>genre</th>\n",
       "      <th>City</th>\n",
       "      <th>time</th>\n",
       "      <th>Day</th>\n",
       "    </tr>\n",
       "  </thead>\n",
       "  <tbody>\n",
       "    <tr>\n",
       "      <th>0</th>\n",
       "      <td>FFB692EC</td>\n",
       "      <td>Kamigata To Boots</td>\n",
       "      <td>The Mass Missile</td>\n",
       "      <td>rock</td>\n",
       "      <td>Saint-Petersburg</td>\n",
       "      <td>20:28:33</td>\n",
       "      <td>Wednesday</td>\n",
       "    </tr>\n",
       "    <tr>\n",
       "      <th>1</th>\n",
       "      <td>55204538</td>\n",
       "      <td>Delayed Because of Accident</td>\n",
       "      <td>Andreas Rönnberg</td>\n",
       "      <td>rock</td>\n",
       "      <td>Moscow</td>\n",
       "      <td>14:07:09</td>\n",
       "      <td>Friday</td>\n",
       "    </tr>\n",
       "    <tr>\n",
       "      <th>2</th>\n",
       "      <td>20EC38</td>\n",
       "      <td>Funiculì funiculà</td>\n",
       "      <td>Mario Lanza</td>\n",
       "      <td>pop</td>\n",
       "      <td>Saint-Petersburg</td>\n",
       "      <td>20:58:07</td>\n",
       "      <td>Wednesday</td>\n",
       "    </tr>\n",
       "    <tr>\n",
       "      <th>3</th>\n",
       "      <td>A3DD03C9</td>\n",
       "      <td>Dragons in the Sunset</td>\n",
       "      <td>Fire + Ice</td>\n",
       "      <td>folk</td>\n",
       "      <td>Saint-Petersburg</td>\n",
       "      <td>08:37:09</td>\n",
       "      <td>Monday</td>\n",
       "    </tr>\n",
       "    <tr>\n",
       "      <th>4</th>\n",
       "      <td>E2DC1FAE</td>\n",
       "      <td>Soul People</td>\n",
       "      <td>Space Echo</td>\n",
       "      <td>dance</td>\n",
       "      <td>Moscow</td>\n",
       "      <td>08:34:34</td>\n",
       "      <td>Monday</td>\n",
       "    </tr>\n",
       "    <tr>\n",
       "      <th>5</th>\n",
       "      <td>842029A1</td>\n",
       "      <td>Преданная</td>\n",
       "      <td>IMPERVTOR</td>\n",
       "      <td>rusrap</td>\n",
       "      <td>Saint-Petersburg</td>\n",
       "      <td>13:09:41</td>\n",
       "      <td>Friday</td>\n",
       "    </tr>\n",
       "    <tr>\n",
       "      <th>6</th>\n",
       "      <td>4CB90AA5</td>\n",
       "      <td>True</td>\n",
       "      <td>Roman Messer</td>\n",
       "      <td>dance</td>\n",
       "      <td>Moscow</td>\n",
       "      <td>13:00:07</td>\n",
       "      <td>Wednesday</td>\n",
       "    </tr>\n",
       "    <tr>\n",
       "      <th>7</th>\n",
       "      <td>F03E1C1F</td>\n",
       "      <td>Feeling This Way</td>\n",
       "      <td>Polina Griffith</td>\n",
       "      <td>dance</td>\n",
       "      <td>Moscow</td>\n",
       "      <td>20:47:49</td>\n",
       "      <td>Wednesday</td>\n",
       "    </tr>\n",
       "    <tr>\n",
       "      <th>8</th>\n",
       "      <td>8FA1D3BE</td>\n",
       "      <td>И вновь продолжается бой</td>\n",
       "      <td>NaN</td>\n",
       "      <td>ruspop</td>\n",
       "      <td>Moscow</td>\n",
       "      <td>09:17:40</td>\n",
       "      <td>Friday</td>\n",
       "    </tr>\n",
       "    <tr>\n",
       "      <th>9</th>\n",
       "      <td>E772D5C0</td>\n",
       "      <td>Pessimist</td>\n",
       "      <td>NaN</td>\n",
       "      <td>dance</td>\n",
       "      <td>Saint-Petersburg</td>\n",
       "      <td>21:20:49</td>\n",
       "      <td>Wednesday</td>\n",
       "    </tr>\n",
       "  </tbody>\n",
       "</table>\n",
       "</div>"
      ],
      "text/plain": [
       "     userID                        Track            artist   genre  \\\n",
       "0  FFB692EC            Kamigata To Boots  The Mass Missile    rock   \n",
       "1  55204538  Delayed Because of Accident  Andreas Rönnberg    rock   \n",
       "2    20EC38            Funiculì funiculà       Mario Lanza     pop   \n",
       "3  A3DD03C9        Dragons in the Sunset        Fire + Ice    folk   \n",
       "4  E2DC1FAE                  Soul People        Space Echo   dance   \n",
       "5  842029A1                    Преданная         IMPERVTOR  rusrap   \n",
       "6  4CB90AA5                         True      Roman Messer   dance   \n",
       "7  F03E1C1F             Feeling This Way   Polina Griffith   dance   \n",
       "8  8FA1D3BE     И вновь продолжается бой               NaN  ruspop   \n",
       "9  E772D5C0                    Pessimist               NaN   dance   \n",
       "\n",
       "             City        time        Day  \n",
       "0  Saint-Petersburg  20:28:33  Wednesday  \n",
       "1            Moscow  14:07:09     Friday  \n",
       "2  Saint-Petersburg  20:58:07  Wednesday  \n",
       "3  Saint-Petersburg  08:37:09     Monday  \n",
       "4            Moscow  08:34:34     Monday  \n",
       "5  Saint-Petersburg  13:09:41     Friday  \n",
       "6            Moscow  13:00:07  Wednesday  \n",
       "7            Moscow  20:47:49  Wednesday  \n",
       "8            Moscow  09:17:40     Friday  \n",
       "9  Saint-Petersburg  21:20:49  Wednesday  "
      ]
     },
     "execution_count": 3,
     "metadata": {},
     "output_type": "execute_result"
    }
   ],
   "source": [
    "df.head(10)# получение первых 10 строк таблицы df"
   ]
  },
  {
   "cell_type": "markdown",
   "metadata": {
    "id": "EO73Kwic_Zct"
   },
   "source": [
    "Одной командой получим общую информацию о таблице:"
   ]
  },
  {
   "cell_type": "code",
   "execution_count": 4,
   "metadata": {
    "id": "DSf2kIb-_Zct"
   },
   "outputs": [
    {
     "name": "stdout",
     "output_type": "stream",
     "text": [
      "<class 'pandas.core.frame.DataFrame'>\n",
      "RangeIndex: 65079 entries, 0 to 65078\n",
      "Data columns (total 7 columns):\n",
      " #   Column    Non-Null Count  Dtype \n",
      "---  ------    --------------  ----- \n",
      " 0     userID  65079 non-null  object\n",
      " 1   Track     63848 non-null  object\n",
      " 2   artist    57876 non-null  object\n",
      " 3   genre     63881 non-null  object\n",
      " 4     City    65079 non-null  object\n",
      " 5   time      65079 non-null  object\n",
      " 6   Day       65079 non-null  object\n",
      "dtypes: object(7)\n",
      "memory usage: 3.5+ MB\n"
     ]
    }
   ],
   "source": [
    "df.info()# получение общей информации о данных в таблице df"
   ]
  },
  {
   "cell_type": "markdown",
   "metadata": {
    "id": "TaQ2Iwbr_Zct"
   },
   "source": [
    "Итак, в таблице семь столбцов. Тип данных во всех столбцах — `object`.\n",
    "\n",
    "Согласно документации к данным:\n",
    "* `userID` — идентификатор пользователя;\n",
    "* `Track` — название трека;  \n",
    "* `artist` — имя исполнителя;\n",
    "* `genre` — название жанра;\n",
    "* `City` — город пользователя;\n",
    "* `time` — время начала прослушивания;\n",
    "* `Day` — день недели.\n",
    "\n",
    "В названиях колонок видны три нарушения стиля:\n",
    "1. Строчные буквы сочетаются с прописными.\n",
    "2. Встречаются пробелы.\n",
    "3. В названиях столбцов несколько слов разделяются нижним подчеркиванием. В данном случае, столбец 'userID' написан слитно. Необходимо его заменить.\n",
    "\n",
    "\n",
    "Количество значений в столбцах различается. Значит, в данных есть пропущенные значения.\n"
   ]
  },
  {
   "cell_type": "markdown",
   "metadata": {
    "id": "MCB6-dXG_Zct"
   },
   "source": [
    "**Выводы**\n",
    "\n",
    "В каждой строке таблицы — данные о прослушанном треке. Часть колонок описывает саму композицию: название, исполнителя и жанр. Остальные данные рассказывают о пользователе: из какого он города, когда он слушал музыку. \n",
    "\n",
    "Предварительно можно утверждать, что, данных достаточно для проверки гипотез. Но встречаются пропуски в данных, а в названиях колонок — расхождения с хорошим стилем.\n",
    "\n",
    "Чтобы двигаться дальше, нужно устранить проблемы в данных."
   ]
  },
  {
   "cell_type": "markdown",
   "metadata": {
    "id": "SjYF6Ub9_Zct"
   },
   "source": [
    "## Предобработка данных\n",
    "Исправим стиль в заголовках столбцов, исключим пропуски. Затем проверим данные на дубликаты."
   ]
  },
  {
   "cell_type": "markdown",
   "metadata": {
    "id": "dIaKXr29_Zct"
   },
   "source": [
    "### Стиль заголовков\n",
    "Выведем на экран названия столбцов:"
   ]
  },
  {
   "cell_type": "code",
   "execution_count": 5,
   "metadata": {
    "id": "oKOTdF_Q_Zct"
   },
   "outputs": [
    {
     "data": {
      "text/plain": [
       "Index(['  userID', 'Track', 'artist', 'genre', '  City  ', 'time', 'Day'], dtype='object')"
      ]
     },
     "execution_count": 5,
     "metadata": {},
     "output_type": "execute_result"
    }
   ],
   "source": [
    "df.columns# перечень названий столбцов таблицы df"
   ]
  },
  {
   "cell_type": "markdown",
   "metadata": {
    "id": "zj5534cv_Zct"
   },
   "source": [
    "Приведем названия в соответствие с хорошим стилем:\n",
    "* несколько слов в названии запишите в «змеином_регистре»,\n",
    "* все символы сделайте строчными,\n",
    "* устраните пробелы.\n",
    "\n",
    "Для этого переименуем колонки так:\n",
    "* `'  userID'` → `'user_id'`;\n",
    "* `'Track'` → `'track'`;\n",
    "* `'  City  '` → `'city'`;\n",
    "* `'Day'` → `'day'`."
   ]
  },
  {
   "cell_type": "code",
   "execution_count": 6,
   "metadata": {
    "id": "ISlFqs5y_Zct"
   },
   "outputs": [],
   "source": [
    "df = df.rename(columns = {'  userID': 'user_id', 'Track': 'track', '  City  ': 'city', 'Day':'day'}) # переименование столбцов"
   ]
  },
  {
   "cell_type": "markdown",
   "metadata": {
    "id": "1dqbh00J_Zct"
   },
   "source": [
    "Проверим результат. Для этого ещё раз выведем на экран названия столбцов:"
   ]
  },
  {
   "cell_type": "code",
   "execution_count": 7,
   "metadata": {
    "id": "d4NOAmTW_Zct"
   },
   "outputs": [
    {
     "data": {
      "text/plain": [
       "Index(['user_id', 'track', 'artist', 'genre', 'city', 'time', 'day'], dtype='object')"
      ]
     },
     "execution_count": 7,
     "metadata": {},
     "output_type": "execute_result"
    }
   ],
   "source": [
    "df.columns# проверка результатов - перечень названий столбцов"
   ]
  },
  {
   "cell_type": "markdown",
   "metadata": {
    "id": "5ISfbcfY_Zct"
   },
   "source": [
    "### Пропуски значений\n",
    "Сначала посчитаем, сколько в таблице пропущенных значений. Для этого достаточно двух методов `pandas`:"
   ]
  },
  {
   "cell_type": "code",
   "execution_count": 8,
   "metadata": {
    "id": "RskX29qr_Zct"
   },
   "outputs": [
    {
     "data": {
      "text/plain": [
       "user_id       0\n",
       "track      1231\n",
       "artist     7203\n",
       "genre      1198\n",
       "city          0\n",
       "time          0\n",
       "day           0\n",
       "dtype: int64"
      ]
     },
     "execution_count": 8,
     "metadata": {},
     "output_type": "execute_result"
    }
   ],
   "source": [
    "df.isna().sum() # подсчёт пропусков"
   ]
  },
  {
   "cell_type": "markdown",
   "metadata": {
    "id": "qubhgnlO_Zct"
   },
   "source": [
    "Не все пропущенные значения влияют на исследование. Так в `track` и `artist` пропуски не важны для вашей работы. Достаточно заменить их явными обозначениями.\n",
    " Придётся:  \n",
    "* заполнить и эти пропуски явными обозначениями,\n",
    "* оценить, насколько они повредят расчётам. "
   ]
  },
  {
   "cell_type": "markdown",
   "metadata": {
    "id": "fSv2laPA_Zct"
   },
   "source": [
    "Заменим пропущенные значения в столбцах `track`, `artist` и `genre` на строку `'unknown'`. Для этого создадим список `columns_to_replace`, переберем его элементы циклом `for` и для каждого столбца выполним замену пропущенных значений:"
   ]
  },
  {
   "cell_type": "code",
   "execution_count": 9,
   "metadata": {
    "id": "KplB5qWs_Zct"
   },
   "outputs": [],
   "source": [
    "columns_to_replace = ['track', 'artist', 'genre'] #создание списка\n",
    "for column in columns_to_replace: # перебор названий столбцов в цикле и замена пропущенных значений на 'unknown'\n",
    "    df[column] = df[column].fillna('unknown') "
   ]
  },
  {
   "cell_type": "markdown",
   "metadata": {
    "id": "Ilsm-MZo_Zct"
   },
   "source": [
    "Убедимся, что в таблице не осталось пропусков. Для этого ещё раз посчитаем пропущенные значения."
   ]
  },
  {
   "cell_type": "code",
   "execution_count": 10,
   "metadata": {
    "id": "Tq4nYRX4_Zct"
   },
   "outputs": [
    {
     "data": {
      "text/plain": [
       "user_id    0\n",
       "track      0\n",
       "artist     0\n",
       "genre      0\n",
       "city       0\n",
       "time       0\n",
       "day        0\n",
       "dtype: int64"
      ]
     },
     "execution_count": 10,
     "metadata": {},
     "output_type": "execute_result"
    }
   ],
   "source": [
    "df.isna().sum() # подсчёт пропусков"
   ]
  },
  {
   "cell_type": "markdown",
   "metadata": {
    "id": "BWKRtBJ3_Zct"
   },
   "source": [
    "### Дубликаты\n",
    "Посчитаем явные дубликаты в таблице одной командой:"
   ]
  },
  {
   "cell_type": "code",
   "execution_count": 11,
   "metadata": {
    "id": "36eES_S0_Zct"
   },
   "outputs": [
    {
     "data": {
      "text/plain": [
       "3826"
      ]
     },
     "execution_count": 11,
     "metadata": {},
     "output_type": "execute_result"
    }
   ],
   "source": [
    "df.duplicated().sum() # подсчёт явных дубликатов"
   ]
  },
  {
   "cell_type": "markdown",
   "metadata": {
    "id": "Ot25h6XR_Zct"
   },
   "source": [
    "Вызовем специальный метод `pandas`, чтобы удалить явные дубликаты:"
   ]
  },
  {
   "cell_type": "code",
   "execution_count": 12,
   "metadata": {
    "id": "exFHq6tt_Zct"
   },
   "outputs": [],
   "source": [
    "df = df.drop_duplicates().reset_index(drop=True) # удаление явных дубликатов (с удалением старых индексов и формированием новых)"
   ]
  },
  {
   "cell_type": "markdown",
   "metadata": {
    "id": "Im2YwBEG_Zct"
   },
   "source": [
    "Ещё раз посчитаем явные дубликаты в таблице — убедимся, что полностью от них избавились:"
   ]
  },
  {
   "cell_type": "code",
   "execution_count": 13,
   "metadata": {
    "id": "-8PuNWQ0_Zct"
   },
   "outputs": [
    {
     "data": {
      "text/plain": [
       "0"
      ]
     },
     "execution_count": 13,
     "metadata": {},
     "output_type": "execute_result"
    }
   ],
   "source": [
    "df.duplicated().sum() # проверка на отсутствие дубликатов"
   ]
  },
  {
   "cell_type": "markdown",
   "metadata": {
    "id": "QlFBsxAr_Zct"
   },
   "source": [
    "Теперь избавимся от неявных дубликатов в колонке `genre`. Например, название одного и того же жанра может быть записано немного по-разному. Такие ошибки тоже повлияют на результат исследования."
   ]
  },
  {
   "cell_type": "markdown",
   "metadata": {
    "id": "eSjWwsOh_Zct"
   },
   "source": [
    "Выведем на экран список уникальных названий жанров, отсортированный в алфавитном порядке. Для этого:\n",
    "* извлечем нужный столбец датафрейма, \n",
    "* применим к нему метод сортировки,\n",
    "* для отсортированного столбца вызовем метод, который вернёт уникальные значения из столбца."
   ]
  },
  {
   "cell_type": "code",
   "execution_count": 14,
   "metadata": {
    "id": "JIUcqzZN_Zct"
   },
   "outputs": [
    {
     "data": {
      "text/plain": [
       "array(['rock', 'pop', 'folk', 'dance', 'rusrap', 'ruspop', 'world',\n",
       "       'electronic', 'unknown', 'alternative', 'children', 'rnb', 'hip',\n",
       "       'jazz', 'postrock', 'latin', 'classical', 'metal', 'reggae',\n",
       "       'tatar', 'blues', 'instrumental', 'rusrock', 'dnb', 'türk', 'post',\n",
       "       'country', 'psychedelic', 'conjazz', 'indie', 'posthardcore',\n",
       "       'local', 'avantgarde', 'punk', 'videogame', 'techno', 'house',\n",
       "       'christmas', 'melodic', 'caucasian', 'reggaeton', 'soundtrack',\n",
       "       'singer', 'ska', 'shanson', 'ambient', 'film', 'western', 'rap',\n",
       "       'beats', \"hard'n'heavy\", 'progmetal', 'minimal', 'contemporary',\n",
       "       'new', 'soul', 'holiday', 'german', 'tropical', 'fairytail',\n",
       "       'spiritual', 'urban', 'gospel', 'nujazz', 'folkmetal', 'trance',\n",
       "       'miscellaneous', 'anime', 'hardcore', 'progressive', 'chanson',\n",
       "       'numetal', 'vocal', 'estrada', 'russian', 'classicmetal',\n",
       "       'dubstep', 'club', 'deep', 'southern', 'black', 'folkrock',\n",
       "       'fitness', 'french', 'disco', 'religious', 'hiphop', 'drum',\n",
       "       'extrememetal', 'türkçe', 'experimental', 'easy', 'metalcore',\n",
       "       'modern', 'argentinetango', 'old', 'breaks', 'eurofolk',\n",
       "       'stonerrock', 'industrial', 'funk', 'jpop', 'middle', 'variété',\n",
       "       'other', 'adult', 'christian', 'gothic', 'international', 'muslim',\n",
       "       'relax', 'schlager', 'caribbean', 'ukrrock', 'nu', 'breakbeat',\n",
       "       'comedy', 'chill', 'newage', 'specialty', 'uzbek', 'k-pop',\n",
       "       'balkan', 'chinese', 'meditative', 'dub', 'power', 'death',\n",
       "       'grime', 'arabesk', 'romance', 'flamenco', 'leftfield', 'european',\n",
       "       'tech', 'newwave', 'dancehall', 'mpb', 'piano', 'top', 'bigroom',\n",
       "       'opera', 'celtic', 'tradjazz', 'acoustic', 'epicmetal', 'hip-hop',\n",
       "       'historisch', 'downbeat', 'downtempo', 'africa', 'audiobook',\n",
       "       'jewish', 'sängerportrait', 'deutschrock', 'eastern', 'action',\n",
       "       'future', 'electropop', 'folklore', 'bollywood', 'marschmusik',\n",
       "       'rnr', 'karaoke', 'indian', 'rancheras', 'электроника',\n",
       "       'afrikaans', 'tango', 'rhythm', 'sound', 'deutschspr', 'trip',\n",
       "       'lovers', 'choral', 'dancepop', 'podcasts', 'retro', 'smooth',\n",
       "       'mexican', 'brazilian', 'ïîï', 'mood', 'surf', 'author', 'gangsta',\n",
       "       'triphop', 'inspirational', 'idm', 'ethnic', 'bluegrass',\n",
       "       'broadway', 'animated', 'americana', 'karadeniz', 'rockabilly',\n",
       "       'colombian', 'self', 'hop', 'synthrock', 'sertanejo', 'japanese',\n",
       "       'canzone', 'swing', 'lounge', 'sport', 'korean', 'ragga',\n",
       "       'traditional', 'gitarre', 'frankreich', 'alternativepunk', 'emo',\n",
       "       'laiko', 'cantopop', 'glitch', 'documentary', 'rockalternative',\n",
       "       'thrash', 'hymn', 'oceania', 'rockother', 'popeurodance', 'dark',\n",
       "       'vi', 'grunge', 'hardstyle', 'samba', 'garage', 'soft', 'art',\n",
       "       'folktronica', 'entehno', 'mediterranean', 'chamber', 'cuban',\n",
       "       'taraftar', 'rockindie', 'gypsy', 'hardtechno', 'shoegazing',\n",
       "       'skarock', 'bossa', 'salsa', 'latino', 'worldbeat', 'malaysian',\n",
       "       'baile', 'ghazal', 'loungeelectronic', 'arabic', 'popelectronic',\n",
       "       'acid', 'kayokyoku', 'neoklassik', 'tribal', 'tanzorchester',\n",
       "       'native', 'independent', 'cantautori', 'handsup', 'poprussian',\n",
       "       'punjabi', 'synthpop', 'rave', 'französisch', 'quebecois',\n",
       "       'speech', 'soulful', 'teen', 'jam', 'ram', 'horror', 'scenic',\n",
       "       'orchestral', 'neue', 'roots', 'slow', 'jungle', 'indipop', 'axé',\n",
       "       'fado', 'showtunes', 'arena', 'irish', 'mandopop', 'forró',\n",
       "       'popdance', 'dirty', 'regional'], dtype=object)"
      ]
     },
     "metadata": {},
     "output_type": "display_data"
    },
    {
     "data": {
      "text/plain": [
       "['acid',\n",
       " 'acoustic',\n",
       " 'action',\n",
       " 'adult',\n",
       " 'africa',\n",
       " 'afrikaans',\n",
       " 'alternative',\n",
       " 'alternativepunk',\n",
       " 'ambient',\n",
       " 'americana',\n",
       " 'animated',\n",
       " 'anime',\n",
       " 'arabesk',\n",
       " 'arabic',\n",
       " 'arena',\n",
       " 'argentinetango',\n",
       " 'art',\n",
       " 'audiobook',\n",
       " 'author',\n",
       " 'avantgarde',\n",
       " 'axé',\n",
       " 'baile',\n",
       " 'balkan',\n",
       " 'beats',\n",
       " 'bigroom',\n",
       " 'black',\n",
       " 'bluegrass',\n",
       " 'blues',\n",
       " 'bollywood',\n",
       " 'bossa',\n",
       " 'brazilian',\n",
       " 'breakbeat',\n",
       " 'breaks',\n",
       " 'broadway',\n",
       " 'cantautori',\n",
       " 'cantopop',\n",
       " 'canzone',\n",
       " 'caribbean',\n",
       " 'caucasian',\n",
       " 'celtic',\n",
       " 'chamber',\n",
       " 'chanson',\n",
       " 'children',\n",
       " 'chill',\n",
       " 'chinese',\n",
       " 'choral',\n",
       " 'christian',\n",
       " 'christmas',\n",
       " 'classical',\n",
       " 'classicmetal',\n",
       " 'club',\n",
       " 'colombian',\n",
       " 'comedy',\n",
       " 'conjazz',\n",
       " 'contemporary',\n",
       " 'country',\n",
       " 'cuban',\n",
       " 'dance',\n",
       " 'dancehall',\n",
       " 'dancepop',\n",
       " 'dark',\n",
       " 'death',\n",
       " 'deep',\n",
       " 'deutschrock',\n",
       " 'deutschspr',\n",
       " 'dirty',\n",
       " 'disco',\n",
       " 'dnb',\n",
       " 'documentary',\n",
       " 'downbeat',\n",
       " 'downtempo',\n",
       " 'drum',\n",
       " 'dub',\n",
       " 'dubstep',\n",
       " 'eastern',\n",
       " 'easy',\n",
       " 'electronic',\n",
       " 'electropop',\n",
       " 'emo',\n",
       " 'entehno',\n",
       " 'epicmetal',\n",
       " 'estrada',\n",
       " 'ethnic',\n",
       " 'eurofolk',\n",
       " 'european',\n",
       " 'experimental',\n",
       " 'extrememetal',\n",
       " 'fado',\n",
       " 'fairytail',\n",
       " 'film',\n",
       " 'fitness',\n",
       " 'flamenco',\n",
       " 'folk',\n",
       " 'folklore',\n",
       " 'folkmetal',\n",
       " 'folkrock',\n",
       " 'folktronica',\n",
       " 'forró',\n",
       " 'frankreich',\n",
       " 'französisch',\n",
       " 'french',\n",
       " 'funk',\n",
       " 'future',\n",
       " 'gangsta',\n",
       " 'garage',\n",
       " 'german',\n",
       " 'ghazal',\n",
       " 'gitarre',\n",
       " 'glitch',\n",
       " 'gospel',\n",
       " 'gothic',\n",
       " 'grime',\n",
       " 'grunge',\n",
       " 'gypsy',\n",
       " 'handsup',\n",
       " \"hard'n'heavy\",\n",
       " 'hardcore',\n",
       " 'hardstyle',\n",
       " 'hardtechno',\n",
       " 'hip',\n",
       " 'hip-hop',\n",
       " 'hiphop',\n",
       " 'historisch',\n",
       " 'holiday',\n",
       " 'hop',\n",
       " 'horror',\n",
       " 'house',\n",
       " 'hymn',\n",
       " 'idm',\n",
       " 'independent',\n",
       " 'indian',\n",
       " 'indie',\n",
       " 'indipop',\n",
       " 'industrial',\n",
       " 'inspirational',\n",
       " 'instrumental',\n",
       " 'international',\n",
       " 'irish',\n",
       " 'jam',\n",
       " 'japanese',\n",
       " 'jazz',\n",
       " 'jewish',\n",
       " 'jpop',\n",
       " 'jungle',\n",
       " 'k-pop',\n",
       " 'karadeniz',\n",
       " 'karaoke',\n",
       " 'kayokyoku',\n",
       " 'korean',\n",
       " 'laiko',\n",
       " 'latin',\n",
       " 'latino',\n",
       " 'leftfield',\n",
       " 'local',\n",
       " 'lounge',\n",
       " 'loungeelectronic',\n",
       " 'lovers',\n",
       " 'malaysian',\n",
       " 'mandopop',\n",
       " 'marschmusik',\n",
       " 'meditative',\n",
       " 'mediterranean',\n",
       " 'melodic',\n",
       " 'metal',\n",
       " 'metalcore',\n",
       " 'mexican',\n",
       " 'middle',\n",
       " 'minimal',\n",
       " 'miscellaneous',\n",
       " 'modern',\n",
       " 'mood',\n",
       " 'mpb',\n",
       " 'muslim',\n",
       " 'native',\n",
       " 'neoklassik',\n",
       " 'neue',\n",
       " 'new',\n",
       " 'newage',\n",
       " 'newwave',\n",
       " 'nu',\n",
       " 'nujazz',\n",
       " 'numetal',\n",
       " 'oceania',\n",
       " 'old',\n",
       " 'opera',\n",
       " 'orchestral',\n",
       " 'other',\n",
       " 'piano',\n",
       " 'podcasts',\n",
       " 'pop',\n",
       " 'popdance',\n",
       " 'popelectronic',\n",
       " 'popeurodance',\n",
       " 'poprussian',\n",
       " 'post',\n",
       " 'posthardcore',\n",
       " 'postrock',\n",
       " 'power',\n",
       " 'progmetal',\n",
       " 'progressive',\n",
       " 'psychedelic',\n",
       " 'punjabi',\n",
       " 'punk',\n",
       " 'quebecois',\n",
       " 'ragga',\n",
       " 'ram',\n",
       " 'rancheras',\n",
       " 'rap',\n",
       " 'rave',\n",
       " 'reggae',\n",
       " 'reggaeton',\n",
       " 'regional',\n",
       " 'relax',\n",
       " 'religious',\n",
       " 'retro',\n",
       " 'rhythm',\n",
       " 'rnb',\n",
       " 'rnr',\n",
       " 'rock',\n",
       " 'rockabilly',\n",
       " 'rockalternative',\n",
       " 'rockindie',\n",
       " 'rockother',\n",
       " 'romance',\n",
       " 'roots',\n",
       " 'ruspop',\n",
       " 'rusrap',\n",
       " 'rusrock',\n",
       " 'russian',\n",
       " 'salsa',\n",
       " 'samba',\n",
       " 'scenic',\n",
       " 'schlager',\n",
       " 'self',\n",
       " 'sertanejo',\n",
       " 'shanson',\n",
       " 'shoegazing',\n",
       " 'showtunes',\n",
       " 'singer',\n",
       " 'ska',\n",
       " 'skarock',\n",
       " 'slow',\n",
       " 'smooth',\n",
       " 'soft',\n",
       " 'soul',\n",
       " 'soulful',\n",
       " 'sound',\n",
       " 'soundtrack',\n",
       " 'southern',\n",
       " 'specialty',\n",
       " 'speech',\n",
       " 'spiritual',\n",
       " 'sport',\n",
       " 'stonerrock',\n",
       " 'surf',\n",
       " 'swing',\n",
       " 'synthpop',\n",
       " 'synthrock',\n",
       " 'sängerportrait',\n",
       " 'tango',\n",
       " 'tanzorchester',\n",
       " 'taraftar',\n",
       " 'tatar',\n",
       " 'tech',\n",
       " 'techno',\n",
       " 'teen',\n",
       " 'thrash',\n",
       " 'top',\n",
       " 'traditional',\n",
       " 'tradjazz',\n",
       " 'trance',\n",
       " 'tribal',\n",
       " 'trip',\n",
       " 'triphop',\n",
       " 'tropical',\n",
       " 'türk',\n",
       " 'türkçe',\n",
       " 'ukrrock',\n",
       " 'unknown',\n",
       " 'urban',\n",
       " 'uzbek',\n",
       " 'variété',\n",
       " 'vi',\n",
       " 'videogame',\n",
       " 'vocal',\n",
       " 'western',\n",
       " 'world',\n",
       " 'worldbeat',\n",
       " 'ïîï',\n",
       " 'электроника']"
      ]
     },
     "execution_count": 14,
     "metadata": {},
     "output_type": "execute_result"
    }
   ],
   "source": [
    "display(df['genre'].unique())\n",
    "\n",
    "sorted(df['genre'].unique())\n"
   ]
  },
  {
   "cell_type": "markdown",
   "metadata": {
    "id": "qej-Qmuo_Zct"
   },
   "source": [
    "\n",
    "Напишем функцию `replace_wrong_genres()` с двумя параметрами: \n",
    "* `wrong_genres` — список дубликатов,\n",
    "* `correct_genre` — строка с правильным значением.\n",
    "\n",
    "Функция должна исправить колонку `genre` в таблице `df`: заменить каждое значение из списка `wrong_genres` на значение из `correct_genre`."
   ]
  },
  {
   "cell_type": "code",
   "execution_count": 15,
   "metadata": {
    "id": "ErNDkmns_Zct"
   },
   "outputs": [],
   "source": [
    "#Функция для замены неявных дубликатов\n",
    "def replace_wrong_genres (wrong_genres,correct_genre):\n",
    "    for wrong_genre in wrong_genres:\n",
    "        df['genre'] = df['genre'].replace(wrong_genre,correct_genre)\n",
    "        \n"
   ]
  },
  {
   "cell_type": "markdown",
   "metadata": {
    "id": "aDoBJxbA_Zct"
   },
   "source": [
    "Вызовем `replace_wrong_genres()` и передадим ей такие аргументы, чтобы она устранила неявные дубликаты: вместо `hip`, `hop` и `hip-hop` в таблице должно быть значение `hiphop`:"
   ]
  },
  {
   "cell_type": "code",
   "execution_count": 16,
   "metadata": {
    "id": "YN5i2hpmSo09"
   },
   "outputs": [],
   "source": [
    "duplicates = ['hip', 'hop','hip-hop']# Устранение неявных дубликатов\n",
    "name = 'hiphop'\n",
    "replace_wrong_genres(duplicates, name)"
   ]
  },
  {
   "cell_type": "markdown",
   "metadata": {
    "id": "zQKF16_RG15m"
   },
   "source": [
    "Проверим, что заменили неправильные названия:\n",
    "\n",
    "*   hip\n",
    "*   hop\n",
    "*   hip-hop\n",
    "\n",
    "Выведем отсортированный список уникальных значений столбца `genre`:"
   ]
  },
  {
   "cell_type": "code",
   "execution_count": 17,
   "metadata": {
    "id": "wvixALnFG15m"
   },
   "outputs": [
    {
     "data": {
      "text/plain": [
       "['acid',\n",
       " 'acoustic',\n",
       " 'action',\n",
       " 'adult',\n",
       " 'africa',\n",
       " 'afrikaans',\n",
       " 'alternative',\n",
       " 'alternativepunk',\n",
       " 'ambient',\n",
       " 'americana',\n",
       " 'animated',\n",
       " 'anime',\n",
       " 'arabesk',\n",
       " 'arabic',\n",
       " 'arena',\n",
       " 'argentinetango',\n",
       " 'art',\n",
       " 'audiobook',\n",
       " 'author',\n",
       " 'avantgarde',\n",
       " 'axé',\n",
       " 'baile',\n",
       " 'balkan',\n",
       " 'beats',\n",
       " 'bigroom',\n",
       " 'black',\n",
       " 'bluegrass',\n",
       " 'blues',\n",
       " 'bollywood',\n",
       " 'bossa',\n",
       " 'brazilian',\n",
       " 'breakbeat',\n",
       " 'breaks',\n",
       " 'broadway',\n",
       " 'cantautori',\n",
       " 'cantopop',\n",
       " 'canzone',\n",
       " 'caribbean',\n",
       " 'caucasian',\n",
       " 'celtic',\n",
       " 'chamber',\n",
       " 'chanson',\n",
       " 'children',\n",
       " 'chill',\n",
       " 'chinese',\n",
       " 'choral',\n",
       " 'christian',\n",
       " 'christmas',\n",
       " 'classical',\n",
       " 'classicmetal',\n",
       " 'club',\n",
       " 'colombian',\n",
       " 'comedy',\n",
       " 'conjazz',\n",
       " 'contemporary',\n",
       " 'country',\n",
       " 'cuban',\n",
       " 'dance',\n",
       " 'dancehall',\n",
       " 'dancepop',\n",
       " 'dark',\n",
       " 'death',\n",
       " 'deep',\n",
       " 'deutschrock',\n",
       " 'deutschspr',\n",
       " 'dirty',\n",
       " 'disco',\n",
       " 'dnb',\n",
       " 'documentary',\n",
       " 'downbeat',\n",
       " 'downtempo',\n",
       " 'drum',\n",
       " 'dub',\n",
       " 'dubstep',\n",
       " 'eastern',\n",
       " 'easy',\n",
       " 'electronic',\n",
       " 'electropop',\n",
       " 'emo',\n",
       " 'entehno',\n",
       " 'epicmetal',\n",
       " 'estrada',\n",
       " 'ethnic',\n",
       " 'eurofolk',\n",
       " 'european',\n",
       " 'experimental',\n",
       " 'extrememetal',\n",
       " 'fado',\n",
       " 'fairytail',\n",
       " 'film',\n",
       " 'fitness',\n",
       " 'flamenco',\n",
       " 'folk',\n",
       " 'folklore',\n",
       " 'folkmetal',\n",
       " 'folkrock',\n",
       " 'folktronica',\n",
       " 'forró',\n",
       " 'frankreich',\n",
       " 'französisch',\n",
       " 'french',\n",
       " 'funk',\n",
       " 'future',\n",
       " 'gangsta',\n",
       " 'garage',\n",
       " 'german',\n",
       " 'ghazal',\n",
       " 'gitarre',\n",
       " 'glitch',\n",
       " 'gospel',\n",
       " 'gothic',\n",
       " 'grime',\n",
       " 'grunge',\n",
       " 'gypsy',\n",
       " 'handsup',\n",
       " \"hard'n'heavy\",\n",
       " 'hardcore',\n",
       " 'hardstyle',\n",
       " 'hardtechno',\n",
       " 'hiphop',\n",
       " 'historisch',\n",
       " 'holiday',\n",
       " 'horror',\n",
       " 'house',\n",
       " 'hymn',\n",
       " 'idm',\n",
       " 'independent',\n",
       " 'indian',\n",
       " 'indie',\n",
       " 'indipop',\n",
       " 'industrial',\n",
       " 'inspirational',\n",
       " 'instrumental',\n",
       " 'international',\n",
       " 'irish',\n",
       " 'jam',\n",
       " 'japanese',\n",
       " 'jazz',\n",
       " 'jewish',\n",
       " 'jpop',\n",
       " 'jungle',\n",
       " 'k-pop',\n",
       " 'karadeniz',\n",
       " 'karaoke',\n",
       " 'kayokyoku',\n",
       " 'korean',\n",
       " 'laiko',\n",
       " 'latin',\n",
       " 'latino',\n",
       " 'leftfield',\n",
       " 'local',\n",
       " 'lounge',\n",
       " 'loungeelectronic',\n",
       " 'lovers',\n",
       " 'malaysian',\n",
       " 'mandopop',\n",
       " 'marschmusik',\n",
       " 'meditative',\n",
       " 'mediterranean',\n",
       " 'melodic',\n",
       " 'metal',\n",
       " 'metalcore',\n",
       " 'mexican',\n",
       " 'middle',\n",
       " 'minimal',\n",
       " 'miscellaneous',\n",
       " 'modern',\n",
       " 'mood',\n",
       " 'mpb',\n",
       " 'muslim',\n",
       " 'native',\n",
       " 'neoklassik',\n",
       " 'neue',\n",
       " 'new',\n",
       " 'newage',\n",
       " 'newwave',\n",
       " 'nu',\n",
       " 'nujazz',\n",
       " 'numetal',\n",
       " 'oceania',\n",
       " 'old',\n",
       " 'opera',\n",
       " 'orchestral',\n",
       " 'other',\n",
       " 'piano',\n",
       " 'podcasts',\n",
       " 'pop',\n",
       " 'popdance',\n",
       " 'popelectronic',\n",
       " 'popeurodance',\n",
       " 'poprussian',\n",
       " 'post',\n",
       " 'posthardcore',\n",
       " 'postrock',\n",
       " 'power',\n",
       " 'progmetal',\n",
       " 'progressive',\n",
       " 'psychedelic',\n",
       " 'punjabi',\n",
       " 'punk',\n",
       " 'quebecois',\n",
       " 'ragga',\n",
       " 'ram',\n",
       " 'rancheras',\n",
       " 'rap',\n",
       " 'rave',\n",
       " 'reggae',\n",
       " 'reggaeton',\n",
       " 'regional',\n",
       " 'relax',\n",
       " 'religious',\n",
       " 'retro',\n",
       " 'rhythm',\n",
       " 'rnb',\n",
       " 'rnr',\n",
       " 'rock',\n",
       " 'rockabilly',\n",
       " 'rockalternative',\n",
       " 'rockindie',\n",
       " 'rockother',\n",
       " 'romance',\n",
       " 'roots',\n",
       " 'ruspop',\n",
       " 'rusrap',\n",
       " 'rusrock',\n",
       " 'russian',\n",
       " 'salsa',\n",
       " 'samba',\n",
       " 'scenic',\n",
       " 'schlager',\n",
       " 'self',\n",
       " 'sertanejo',\n",
       " 'shanson',\n",
       " 'shoegazing',\n",
       " 'showtunes',\n",
       " 'singer',\n",
       " 'ska',\n",
       " 'skarock',\n",
       " 'slow',\n",
       " 'smooth',\n",
       " 'soft',\n",
       " 'soul',\n",
       " 'soulful',\n",
       " 'sound',\n",
       " 'soundtrack',\n",
       " 'southern',\n",
       " 'specialty',\n",
       " 'speech',\n",
       " 'spiritual',\n",
       " 'sport',\n",
       " 'stonerrock',\n",
       " 'surf',\n",
       " 'swing',\n",
       " 'synthpop',\n",
       " 'synthrock',\n",
       " 'sängerportrait',\n",
       " 'tango',\n",
       " 'tanzorchester',\n",
       " 'taraftar',\n",
       " 'tatar',\n",
       " 'tech',\n",
       " 'techno',\n",
       " 'teen',\n",
       " 'thrash',\n",
       " 'top',\n",
       " 'traditional',\n",
       " 'tradjazz',\n",
       " 'trance',\n",
       " 'tribal',\n",
       " 'trip',\n",
       " 'triphop',\n",
       " 'tropical',\n",
       " 'türk',\n",
       " 'türkçe',\n",
       " 'ukrrock',\n",
       " 'unknown',\n",
       " 'urban',\n",
       " 'uzbek',\n",
       " 'variété',\n",
       " 'vi',\n",
       " 'videogame',\n",
       " 'vocal',\n",
       " 'western',\n",
       " 'world',\n",
       " 'worldbeat',\n",
       " 'ïîï',\n",
       " 'электроника']"
      ]
     },
     "execution_count": 17,
     "metadata": {},
     "output_type": "execute_result"
    }
   ],
   "source": [
    "sorted(df['genre'].unique())\n",
    "# Проверка на неявные дубликаты"
   ]
  },
  {
   "cell_type": "markdown",
   "metadata": {
    "id": "jz6a9-7HQUDd"
   },
   "source": [
    "**Выводы**\n",
    "\n",
    "Предобработка обнаружила три проблемы в данных:\n",
    "\n",
    "- нарушения в стиле заголовков,\n",
    "- пропущенные значения,\n",
    "- дубликаты — явные и неявные.\n",
    "\n",
    "Мы исправили заголовки, чтобы упростить работу с таблицей. Без дубликатов исследование станет более точным.\n",
    "\n",
    "Пропущенные значения мы заменили на `'unknown'`. Ещё предстоит увидеть, не повредят ли исследованию пропуски в колонке `genre`.\n",
    "\n",
    "Теперь можно перейти к проверке гипотез. "
   ]
  },
  {
   "cell_type": "markdown",
   "metadata": {
    "id": "WttZHXH0SqKk"
   },
   "source": [
    "## Проверка гипотез"
   ]
  },
  {
   "cell_type": "markdown",
   "metadata": {
    "id": "Im936VVi_Zcu"
   },
   "source": [
    "### Сравнение поведения пользователей двух столиц"
   ]
  },
  {
   "cell_type": "markdown",
   "metadata": {
    "id": "nwt_MuaL_Zcu"
   },
   "source": [
    "Первая гипотеза утверждает, что пользователи по-разному слушают музыку в Москве и Санкт-Петербурге. Проверим это предположение по данным о трёх днях недели — понедельнике, среде и пятнице. Для этого:\n",
    "\n",
    "* Разделим пользователей Москвы и Санкт-Петербурга\n",
    "* Сравним, сколько треков послушала каждая группа пользователей в понедельник, среду и пятницу.\n"
   ]
  },
  {
   "cell_type": "code",
   "execution_count": 18,
   "metadata": {
    "id": "0_Qs96oh_Zcu"
   },
   "outputs": [
    {
     "data": {
      "text/plain": [
       "city\n",
       "Moscow              42741\n",
       "Saint-Petersburg    18512\n",
       "Name: track, dtype: int64"
      ]
     },
     "execution_count": 18,
     "metadata": {},
     "output_type": "execute_result"
    }
   ],
   "source": [
    "df.groupby('city')['track'].count() # Подсчёт прослушиваний в каждом городе"
   ]
  },
  {
   "cell_type": "markdown",
   "metadata": {
    "id": "dzli3w8o_Zcu"
   },
   "source": [
    "В Москве прослушиваний больше, чем в Петербурге. Из этого не следует, что московские пользователи чаще слушают музыку. Просто самих пользователей в Москве больше.\n",
    "\n",
    "Теперь сгруппируем данные по дню недели и подсчитаем прослушивания в понедельник, среду и пятницу. Учтём, что в данных есть информация только о прослушиваниях только за эти дни.\n"
   ]
  },
  {
   "cell_type": "code",
   "execution_count": 19,
   "metadata": {},
   "outputs": [
    {
     "data": {
      "text/html": [
       "<div>\n",
       "<style scoped>\n",
       "    .dataframe tbody tr th:only-of-type {\n",
       "        vertical-align: middle;\n",
       "    }\n",
       "\n",
       "    .dataframe tbody tr th {\n",
       "        vertical-align: top;\n",
       "    }\n",
       "\n",
       "    .dataframe thead th {\n",
       "        text-align: right;\n",
       "    }\n",
       "</style>\n",
       "<table border=\"1\" class=\"dataframe\">\n",
       "  <thead>\n",
       "    <tr style=\"text-align: right;\">\n",
       "      <th></th>\n",
       "      <th>track</th>\n",
       "    </tr>\n",
       "    <tr>\n",
       "      <th>day</th>\n",
       "      <th></th>\n",
       "    </tr>\n",
       "  </thead>\n",
       "  <tbody>\n",
       "    <tr>\n",
       "      <th>Friday</th>\n",
       "      <td>21840</td>\n",
       "    </tr>\n",
       "    <tr>\n",
       "      <th>Monday</th>\n",
       "      <td>21354</td>\n",
       "    </tr>\n",
       "    <tr>\n",
       "      <th>Wednesday</th>\n",
       "      <td>18059</td>\n",
       "    </tr>\n",
       "  </tbody>\n",
       "</table>\n",
       "</div>"
      ],
      "text/plain": [
       "           track\n",
       "day             \n",
       "Friday     21840\n",
       "Monday     21354\n",
       "Wednesday  18059"
      ]
     },
     "execution_count": 19,
     "metadata": {},
     "output_type": "execute_result"
    }
   ],
   "source": [
    "df.groupby('day')[['track']].count()"
   ]
  },
  {
   "cell_type": "markdown",
   "metadata": {
    "id": "cC2tNrlL_Zcu"
   },
   "source": [
    "В среднем пользователи из двух городов менее активны по средам. Но картина может измениться, если рассмотреть каждый город в отдельности."
   ]
  },
  {
   "cell_type": "markdown",
   "metadata": {
    "id": "POzs8bGa_Zcu"
   },
   "source": [
    "\n",
    "\n",
    "Создадим функцию `number_tracks()`, которая посчитает прослушивания для заданного дня и города. Ей понадобятся два параметра:\n",
    "* день недели,\n",
    "* название города.\n",
    "\n",
    "В функции сохраним в переменную строки исходной таблицы, у которых значение:\n",
    "  * в колонке `day` равно параметру `day`,\n",
    "  * в колонке `city` равно параметру `city`.\n",
    "\n",
    "Для этого применим последовательную фильтрацию с логической индексацией.\n",
    "\n",
    "Затем посчитаем значения в столбце `user_id` получившейся таблицы. Результат сохраним в новую переменную. Вернём эту переменную из функции."
   ]
  },
  {
   "cell_type": "code",
   "execution_count": 20,
   "metadata": {
    "id": "Nz3GdQB1_Zcu"
   },
   "outputs": [],
   "source": [
    "def number_tracks(day, city):\n",
    "    track_list = df[(df['day']==day) & (df['city']== city)]\n",
    "    track_list_count = track_list['user_id'].count()\n",
    "    return track_list_count\n",
    "\n"
   ]
  },
  {
   "cell_type": "markdown",
   "metadata": {
    "id": "ytf7xFrFJQ2r"
   },
   "source": [
    "Вызовем `number_tracks()` шесть раз, меняя значение параметров — так, чтобы получить данные для каждого города в каждый из трёх дней."
   ]
  },
  {
   "cell_type": "code",
   "execution_count": 21,
   "metadata": {
    "id": "rJcRATNQ_Zcu"
   },
   "outputs": [
    {
     "data": {
      "text/plain": [
       "15740"
      ]
     },
     "execution_count": 21,
     "metadata": {},
     "output_type": "execute_result"
    }
   ],
   "source": [
    "number_tracks('Monday', 'Moscow') # количество прослушиваний в Москве по понедельникам"
   ]
  },
  {
   "cell_type": "code",
   "execution_count": 22,
   "metadata": {
    "id": "hq_ncZ5T_Zcu"
   },
   "outputs": [
    {
     "data": {
      "text/plain": [
       "5614"
      ]
     },
     "execution_count": 22,
     "metadata": {},
     "output_type": "execute_result"
    }
   ],
   "source": [
    "number_tracks('Monday', 'Saint-Petersburg')# количество прослушиваний в Санкт-Петербурге по понедельникам"
   ]
  },
  {
   "cell_type": "code",
   "execution_count": 23,
   "metadata": {
    "id": "_NTy2VPU_Zcu"
   },
   "outputs": [
    {
     "data": {
      "text/plain": [
       "11056"
      ]
     },
     "execution_count": 23,
     "metadata": {},
     "output_type": "execute_result"
    }
   ],
   "source": [
    "number_tracks('Wednesday', 'Moscow')# количество прослушиваний в Москве по средам"
   ]
  },
  {
   "cell_type": "code",
   "execution_count": 24,
   "metadata": {
    "id": "j2y3TAwo_Zcu"
   },
   "outputs": [
    {
     "data": {
      "text/plain": [
       "7003"
      ]
     },
     "execution_count": 24,
     "metadata": {},
     "output_type": "execute_result"
    }
   ],
   "source": [
    "number_tracks('Wednesday', 'Saint-Petersburg')# количество прослушиваний в Санкт-Петербурге по средам"
   ]
  },
  {
   "cell_type": "code",
   "execution_count": 25,
   "metadata": {
    "id": "vYDw5u_K_Zcu"
   },
   "outputs": [
    {
     "data": {
      "text/plain": [
       "15945"
      ]
     },
     "execution_count": 25,
     "metadata": {},
     "output_type": "execute_result"
    }
   ],
   "source": [
    "number_tracks('Friday', 'Moscow')# количество прослушиваний в Москве по пятницам"
   ]
  },
  {
   "cell_type": "code",
   "execution_count": 26,
   "metadata": {
    "id": "8_yzFtW3_Zcu"
   },
   "outputs": [
    {
     "data": {
      "text/plain": [
       "5895"
      ]
     },
     "execution_count": 26,
     "metadata": {},
     "output_type": "execute_result"
    }
   ],
   "source": [
    "number_tracks('Friday', 'Saint-Petersburg')# количество прослушиваний в Санкт-Петербурге по пятницам"
   ]
  },
  {
   "cell_type": "markdown",
   "metadata": {
    "id": "7QXffbO-_Zcu"
   },
   "source": [
    "Создадим c помощью конструктора `pd.DataFrame` таблицу, где\n",
    "* названия колонок — `['city', 'monday', 'wednesday', 'friday']`;\n",
    "* данные — результаты, которые вы получили с помощью `number_tracks`."
   ]
  },
  {
   "cell_type": "code",
   "execution_count": 27,
   "metadata": {
    "id": "APAcLpOr_Zcu"
   },
   "outputs": [
    {
     "data": {
      "text/html": [
       "<div>\n",
       "<style scoped>\n",
       "    .dataframe tbody tr th:only-of-type {\n",
       "        vertical-align: middle;\n",
       "    }\n",
       "\n",
       "    .dataframe tbody tr th {\n",
       "        vertical-align: top;\n",
       "    }\n",
       "\n",
       "    .dataframe thead th {\n",
       "        text-align: right;\n",
       "    }\n",
       "</style>\n",
       "<table border=\"1\" class=\"dataframe\">\n",
       "  <thead>\n",
       "    <tr style=\"text-align: right;\">\n",
       "      <th></th>\n",
       "      <th>city</th>\n",
       "      <th>monday</th>\n",
       "      <th>wednesday</th>\n",
       "      <th>friday</th>\n",
       "    </tr>\n",
       "  </thead>\n",
       "  <tbody>\n",
       "    <tr>\n",
       "      <th>0</th>\n",
       "      <td>Moscow</td>\n",
       "      <td>15740</td>\n",
       "      <td>11056</td>\n",
       "      <td>15945</td>\n",
       "    </tr>\n",
       "    <tr>\n",
       "      <th>1</th>\n",
       "      <td>Saint-Petersburg</td>\n",
       "      <td>5614</td>\n",
       "      <td>7003</td>\n",
       "      <td>5895</td>\n",
       "    </tr>\n",
       "  </tbody>\n",
       "</table>\n",
       "</div>"
      ],
      "text/plain": [
       "               city  monday  wednesday  friday\n",
       "0            Moscow   15740      11056   15945\n",
       "1  Saint-Petersburg    5614       7003    5895"
      ]
     },
     "execution_count": 27,
     "metadata": {},
     "output_type": "execute_result"
    }
   ],
   "source": [
    "# Таблица с результатами\n",
    "data = [['Moscow',15740,11056,15945],['Saint-Petersburg',5614,7003,5895]]\n",
    "columns = ['city', 'monday', 'wednesday', 'friday']\n",
    "table = pd.DataFrame(data = data, columns = columns)\n",
    "table\n",
    "\n"
   ]
  },
  {
   "cell_type": "markdown",
   "metadata": {
    "id": "-EgPIHYu_Zcu"
   },
   "source": [
    "**Выводы**\n",
    "\n",
    "Данные показывают разницу поведения пользователей:\n",
    "\n",
    "- В Москве пик прослушиваний приходится на понедельник и пятницу, а в среду заметен спад.\n",
    "- В Петербурге, наоборот, больше слушают музыку по средам. Активность в понедельник и пятницу здесь почти в равной мере уступает среде.\n",
    "\n",
    "Значит, данные говорят в пользу первой гипотезы."
   ]
  },
  {
   "cell_type": "markdown",
   "metadata": {
    "id": "atZAxtq4_Zcu"
   },
   "source": [
    "### Музыка в начале и в конце недели"
   ]
  },
  {
   "cell_type": "markdown",
   "metadata": {
    "id": "eXrQqXFH_Zcu"
   },
   "source": [
    "Согласно второй гипотезе, утром в понедельник в Москве преобладают одни жанры, а в Петербурге — другие. Так же и вечером пятницы преобладают разные жанры — в зависимости от города."
   ]
  },
  {
   "cell_type": "markdown",
   "metadata": {
    "id": "S8UcW6Hw_Zcu"
   },
   "source": [
    "Сохраним таблицы с данными в две переменные:\n",
    "* по Москве — в `moscow_general`;\n",
    "* по Санкт-Петербургу — в `spb_general`."
   ]
  },
  {
   "cell_type": "code",
   "execution_count": 28,
   "metadata": {
    "id": "qeaFfM_P_Zcu"
   },
   "outputs": [],
   "source": [
    "# получение таблицы moscow_general из тех строк таблицы df, \n",
    "# для которых значение в столбце 'city' равно 'Moscow'\n",
    "moscow_general = df[df['city'] == 'Moscow'] \n"
   ]
  },
  {
   "cell_type": "code",
   "execution_count": 29,
   "metadata": {
    "id": "ORaVRKto_Zcu"
   },
   "outputs": [],
   "source": [
    "# получение таблицы spb_general из тех строк таблицы df,\n",
    "# для которых значение в столбце 'city' равно 'Saint-Petersburg'\n",
    "spb_general = df[df['city'] == 'Saint-Petersburg']"
   ]
  },
  {
   "cell_type": "markdown",
   "metadata": {
    "id": "MEJV-CX2_Zcu"
   },
   "source": [
    "Создадим функцию `genre_weekday()` с четырьмя параметрами:\n",
    "* таблица (датафрейм) с данными,\n",
    "* день недели,\n",
    "* начальная временная метка в формате 'hh:mm', \n",
    "* последняя временная метка в формате 'hh:mm'.\n",
    "\n",
    "Функция должна вернуть информацию о топ-10 жанров тех треков, которые прослушивали в указанный день, в промежутке между двумя отметками времени."
   ]
  },
  {
   "cell_type": "code",
   "execution_count": 30,
   "metadata": {
    "id": "laJT9BYl_Zcu"
   },
   "outputs": [],
   "source": [
    "def genre_weekday(table, day, time1, time2):                                              \n",
    "    genre_df = table[table['day'] == day]                                                                            \n",
    "    genre_df = genre_df[(genre_df['time'] > time1) & (genre_df['time'] < time2)] \n",
    "    genre_df_count = genre_df.groupby('genre')['user_id'].count()\n",
    "    genre_df_sorted = genre_df_count.sort_values(ascending = False)\n",
    "    return(genre_df_sorted.head(10))"
   ]
  },
  {
   "cell_type": "markdown",
   "metadata": {
    "id": "la2s2_PF_Zcu"
   },
   "source": [
    "Cравним результаты функции `genre_weekday()` для Москвы и Санкт-Петербурга в понедельник утром (с 7:00 до 11:00) и в пятницу вечером (с 17:00 до 23:00):"
   ]
  },
  {
   "cell_type": "code",
   "execution_count": 31,
   "metadata": {
    "id": "yz7itPUQ_Zcu"
   },
   "outputs": [
    {
     "data": {
      "text/plain": [
       "genre\n",
       "pop            781\n",
       "dance          549\n",
       "electronic     480\n",
       "rock           474\n",
       "hiphop         286\n",
       "ruspop         186\n",
       "world          181\n",
       "rusrap         175\n",
       "alternative    164\n",
       "unknown        161\n",
       "Name: user_id, dtype: int64"
      ]
     },
     "execution_count": 31,
     "metadata": {},
     "output_type": "execute_result"
    }
   ],
   "source": [
    "genre_weekday(moscow_general, 'Monday', '07:00', '11:00')"
   ]
  },
  {
   "cell_type": "code",
   "execution_count": 32,
   "metadata": {
    "id": "kwUcHPdy_Zcu"
   },
   "outputs": [
    {
     "data": {
      "text/plain": [
       "genre\n",
       "pop            218\n",
       "dance          182\n",
       "rock           162\n",
       "electronic     147\n",
       "hiphop          80\n",
       "ruspop          64\n",
       "alternative     58\n",
       "rusrap          55\n",
       "jazz            44\n",
       "classical       40\n",
       "Name: user_id, dtype: int64"
      ]
     },
     "execution_count": 32,
     "metadata": {},
     "output_type": "execute_result"
    }
   ],
   "source": [
    "genre_weekday(spb_general, 'Monday', '07:00', '11:00')"
   ]
  },
  {
   "cell_type": "code",
   "execution_count": 33,
   "metadata": {
    "id": "EzXVRE1o_Zcu"
   },
   "outputs": [
    {
     "data": {
      "text/plain": [
       "genre\n",
       "pop            713\n",
       "rock           517\n",
       "dance          495\n",
       "electronic     482\n",
       "hiphop         273\n",
       "world          208\n",
       "ruspop         170\n",
       "alternative    163\n",
       "classical      163\n",
       "rusrap         142\n",
       "Name: user_id, dtype: int64"
      ]
     },
     "execution_count": 33,
     "metadata": {},
     "output_type": "execute_result"
    }
   ],
   "source": [
    "# вызов функции для вечера пятницы в Москве\n",
    "genre_weekday(moscow_general, 'Friday', '17:00', '23:00')"
   ]
  },
  {
   "cell_type": "code",
   "execution_count": 34,
   "metadata": {
    "id": "JZaEKu5v_Zcu"
   },
   "outputs": [
    {
     "data": {
      "text/plain": [
       "genre\n",
       "pop            256\n",
       "electronic     216\n",
       "rock           216\n",
       "dance          210\n",
       "hiphop          97\n",
       "alternative     63\n",
       "jazz            61\n",
       "classical       60\n",
       "rusrap          59\n",
       "world           54\n",
       "Name: user_id, dtype: int64"
      ]
     },
     "execution_count": 34,
     "metadata": {},
     "output_type": "execute_result"
    }
   ],
   "source": [
    "# вызов функции для вечера пятницы в Петербурге\n",
    "genre_weekday(spb_general, 'Friday', '17:00', '23:00')"
   ]
  },
  {
   "cell_type": "markdown",
   "metadata": {
    "id": "wrCe4MNX_Zcu"
   },
   "source": [
    "**Выводы**\n",
    "\n",
    "Если сравнить топ-10 жанров в понедельник утром, можно сделать такие выводы:\n",
    "\n",
    "1. В Москве и Петербурге слушают похожую музыку. Единственное отличие — в московский рейтинг вошёл жанр “world”, а в петербургский — джаз и классика.\n",
    "\n",
    "2. В Москве пропущенных значений оказалось так много, что значение `'unknown'` заняло десятое место среди самых популярных жанров. Значит, пропущенные значения занимают существенную долю в данных и угрожают достоверности исследования.\n",
    "\n",
    "Вечер пятницы не меняет эту картину. Некоторые жанры поднимаются немного выше, другие спускаются, но в целом топ-10 остаётся тем же самым.\n",
    "\n",
    "Таким образом, вторая гипотеза подтвердилась лишь частично:\n",
    "* Пользователи слушают похожую музыку в начале недели и в конце.\n",
    "* Разница между Москвой и Петербургом не слишком выражена. В Москве чаще слушают русскую популярную музыку, в Петербурге — джаз.\n",
    "\n",
    "Однако пропуски в данных ставят под сомнение этот результат. В Москве их так много, что рейтинг топ-10 мог бы выглядеть иначе, если бы не утерянные  данные о жанрах."
   ]
  },
  {
   "cell_type": "markdown",
   "metadata": {
    "id": "JolODAqr_Zcu"
   },
   "source": [
    "### Жанровые предпочтения в Москве и Петербурге\n",
    "\n",
    "Гипотеза: Петербург — столица рэпа, музыку этого жанра там слушают чаще, чем в Москве.  А Москва — город контрастов, в котором, тем не менее, преобладает поп-музыка."
   ]
  },
  {
   "cell_type": "markdown",
   "metadata": {
    "id": "DlegSvaT_Zcu"
   },
   "source": [
    "Сгруппируем таблицу `moscow_general` по жанру и посчитаем прослушивания треков каждого жанра методом `count()`. Затем отсортируем результат в порядке убывания и сохраним его в таблице `moscow_genres`."
   ]
  },
  {
   "cell_type": "code",
   "execution_count": 35,
   "metadata": {
    "id": "r19lIPke_Zcu"
   },
   "outputs": [],
   "source": [
    "moscow_genres = moscow_general.groupby('genre')['genre'].count().sort_values(ascending = False)"
   ]
  },
  {
   "cell_type": "markdown",
   "metadata": {
    "id": "6kMuomxTiIr8"
   },
   "source": [
    "Выведите на экран первые десять строк `moscow_genres`:"
   ]
  },
  {
   "cell_type": "code",
   "execution_count": 36,
   "metadata": {},
   "outputs": [
    {
     "data": {
      "text/html": [
       "<div>\n",
       "<style scoped>\n",
       "    .dataframe tbody tr th:only-of-type {\n",
       "        vertical-align: middle;\n",
       "    }\n",
       "\n",
       "    .dataframe tbody tr th {\n",
       "        vertical-align: top;\n",
       "    }\n",
       "\n",
       "    .dataframe thead th {\n",
       "        text-align: right;\n",
       "    }\n",
       "</style>\n",
       "<table border=\"1\" class=\"dataframe\">\n",
       "  <thead>\n",
       "    <tr style=\"text-align: right;\">\n",
       "      <th></th>\n",
       "      <th>genre</th>\n",
       "    </tr>\n",
       "    <tr>\n",
       "      <th>genre</th>\n",
       "      <th></th>\n",
       "    </tr>\n",
       "  </thead>\n",
       "  <tbody>\n",
       "    <tr>\n",
       "      <th>pop</th>\n",
       "      <td>5892</td>\n",
       "    </tr>\n",
       "    <tr>\n",
       "      <th>dance</th>\n",
       "      <td>4435</td>\n",
       "    </tr>\n",
       "    <tr>\n",
       "      <th>rock</th>\n",
       "      <td>3965</td>\n",
       "    </tr>\n",
       "    <tr>\n",
       "      <th>electronic</th>\n",
       "      <td>3786</td>\n",
       "    </tr>\n",
       "    <tr>\n",
       "      <th>hiphop</th>\n",
       "      <td>2096</td>\n",
       "    </tr>\n",
       "    <tr>\n",
       "      <th>classical</th>\n",
       "      <td>1616</td>\n",
       "    </tr>\n",
       "    <tr>\n",
       "      <th>world</th>\n",
       "      <td>1432</td>\n",
       "    </tr>\n",
       "    <tr>\n",
       "      <th>alternative</th>\n",
       "      <td>1379</td>\n",
       "    </tr>\n",
       "    <tr>\n",
       "      <th>ruspop</th>\n",
       "      <td>1372</td>\n",
       "    </tr>\n",
       "    <tr>\n",
       "      <th>rusrap</th>\n",
       "      <td>1161</td>\n",
       "    </tr>\n",
       "  </tbody>\n",
       "</table>\n",
       "</div>"
      ],
      "text/plain": [
       "             genre\n",
       "genre             \n",
       "pop           5892\n",
       "dance         4435\n",
       "rock          3965\n",
       "electronic    3786\n",
       "hiphop        2096\n",
       "classical     1616\n",
       "world         1432\n",
       "alternative   1379\n",
       "ruspop        1372\n",
       "rusrap        1161"
      ]
     },
     "execution_count": 36,
     "metadata": {},
     "output_type": "execute_result"
    }
   ],
   "source": [
    "moscow_genres.to_frame().head(10)"
   ]
  },
  {
   "cell_type": "markdown",
   "metadata": {
    "id": "cnPG2vnN_Zcv"
   },
   "source": [
    "\n",
    "\n",
    "Сгруппируем таблицу `spb_general` по жанру. Посчитаем прослушивания треков каждого жанра. Результат отсортируем в порядке убывания и сохраним в таблице `spb_genres`:\n"
   ]
  },
  {
   "cell_type": "code",
   "execution_count": 37,
   "metadata": {
    "id": "gluLIpE7_Zcv"
   },
   "outputs": [],
   "source": [
    "# одной строкой: группировка таблицы spb_general по столбцу 'genre', \n",
    "# подсчёт числа значений 'genre' в этой группировке методом count(), \n",
    "# сортировка получившегося Series в порядке убывания и сохранение в spb_genres\n",
    "spb_genres = spb_general.groupby('genre')['genre'].count().sort_values(ascending = False)"
   ]
  },
  {
   "cell_type": "markdown",
   "metadata": {
    "id": "5Doha_ODgyQ8"
   },
   "source": [
    "Выведем на экран первые десять строк `spb_genres`:"
   ]
  },
  {
   "cell_type": "code",
   "execution_count": 38,
   "metadata": {
    "id": "uaGJHjVU_Zcv"
   },
   "outputs": [
    {
     "data": {
      "text/plain": [
       "genre\n",
       "pop            2431\n",
       "dance          1932\n",
       "rock           1879\n",
       "electronic     1736\n",
       "hiphop          960\n",
       "alternative     649\n",
       "classical       646\n",
       "rusrap          564\n",
       "ruspop          538\n",
       "world           515\n",
       "Name: genre, dtype: int64"
      ]
     },
     "execution_count": 38,
     "metadata": {},
     "output_type": "execute_result"
    }
   ],
   "source": [
    "spb_genres.head(10) # просмотр первых 10 строк spb_genres"
   ]
  },
  {
   "cell_type": "markdown",
   "metadata": {
    "id": "RY51YJYu_Zcv"
   },
   "source": [
    "**Выводы**"
   ]
  },
  {
   "cell_type": "markdown",
   "metadata": {
    "id": "nVhnJEm__Zcv"
   },
   "source": [
    "Гипотеза частично подтвердилась:\n",
    "* Поп-музыка — самый популярный жанр в Москве, как и предполагала гипотеза. Более того, в топ-10 жанров встречается близкий жанр — русская популярная музыка.\n",
    "* Вопреки ожиданиям, рэп одинаково популярен в Москве и Петербурге. \n"
   ]
  },
  {
   "cell_type": "markdown",
   "metadata": {
    "id": "ykKQ0N65_Zcv"
   },
   "source": [
    "## Итоги исследования"
   ]
  },
  {
   "cell_type": "markdown",
   "metadata": {
    "id": "tjUwbHb3_Zcv"
   },
   "source": [
    "Мы проверили три гипотезы и установили:\n",
    "\n",
    "1. День недели по-разному влияет на активность пользователей в Москве и Петербурге. \n",
    "\n",
    "Первая гипотеза полностью подтвердилась.\n",
    "\n",
    "2. Музыкальные предпочтения не сильно меняются в течение недели — будь то Москва или Петербург. Небольшие различия заметны в начале недели, по понедельникам:\n",
    "* в Москве слушают музыку жанра “world”,\n",
    "* в Петербурге — джаз и классику.\n",
    "\n",
    "Таким образом, вторая гипотеза подтвердилась лишь отчасти. Этот результат мог оказаться иным, если бы не пропуски в данных.\n",
    "\n",
    "3. Во вкусах пользователей Москвы и Петербурга больше общего чем различий. Вопреки ожиданиям, предпочтения жанров в Петербурге напоминают московские.\n",
    "\n",
    "Третья гипотеза не подтвердилась. Если различия в предпочтениях и существуют, на основной массе пользователей они незаметны.\n"
   ]
  }
 ],
 "metadata": {
  "ExecuteTimeLog": [
   {
    "duration": 636,
    "start_time": "2021-09-23T17:32:10.037Z"
   },
   {
    "duration": 127,
    "start_time": "2021-09-28T11:43:07.569Z"
   },
   {
    "duration": 799,
    "start_time": "2021-09-28T11:43:56.606Z"
   },
   {
    "duration": 197,
    "start_time": "2021-09-28T11:44:18.014Z"
   },
   {
    "duration": 29,
    "start_time": "2021-09-28T11:45:17.079Z"
   },
   {
    "duration": 16,
    "start_time": "2021-09-28T11:45:32.856Z"
   },
   {
    "duration": 33,
    "start_time": "2021-09-28T11:46:19.975Z"
   },
   {
    "duration": 26,
    "start_time": "2021-09-28T12:07:18.126Z"
   },
   {
    "duration": 500,
    "start_time": "2021-09-28T12:07:50.214Z"
   },
   {
    "duration": 7,
    "start_time": "2021-09-28T12:08:27.494Z"
   },
   {
    "duration": 6,
    "start_time": "2021-09-28T12:08:52.181Z"
   },
   {
    "duration": 5,
    "start_time": "2021-09-28T12:09:55.322Z"
   },
   {
    "duration": 792,
    "start_time": "2021-09-28T12:10:27.077Z"
   },
   {
    "duration": 185,
    "start_time": "2021-09-28T12:10:27.872Z"
   },
   {
    "duration": 26,
    "start_time": "2021-09-28T12:10:28.062Z"
   },
   {
    "duration": 36,
    "start_time": "2021-09-28T12:10:28.091Z"
   },
   {
    "duration": 6,
    "start_time": "2021-09-28T12:10:28.129Z"
   },
   {
    "duration": 28,
    "start_time": "2021-09-28T12:10:28.137Z"
   },
   {
    "duration": 16,
    "start_time": "2021-09-28T12:10:28.168Z"
   },
   {
    "duration": 12,
    "start_time": "2021-09-28T12:10:28.188Z"
   },
   {
    "duration": 7,
    "start_time": "2021-09-28T12:10:28.203Z"
   },
   {
    "duration": 14,
    "start_time": "2021-09-28T12:10:28.213Z"
   },
   {
    "duration": 14,
    "start_time": "2021-09-28T12:10:28.230Z"
   },
   {
    "duration": 19,
    "start_time": "2021-09-28T12:10:28.246Z"
   },
   {
    "duration": 21,
    "start_time": "2021-09-28T12:10:28.267Z"
   },
   {
    "duration": 8,
    "start_time": "2021-09-28T12:10:28.291Z"
   },
   {
    "duration": 8,
    "start_time": "2021-09-28T12:10:28.301Z"
   },
   {
    "duration": 6,
    "start_time": "2021-09-28T12:10:28.312Z"
   },
   {
    "duration": 12,
    "start_time": "2021-09-28T12:10:28.320Z"
   },
   {
    "duration": 7,
    "start_time": "2021-09-28T12:10:28.334Z"
   },
   {
    "duration": 10,
    "start_time": "2021-09-28T12:10:28.344Z"
   },
   {
    "duration": 11,
    "start_time": "2021-09-28T12:10:28.356Z"
   },
   {
    "duration": 11,
    "start_time": "2021-09-28T12:10:28.369Z"
   },
   {
    "duration": 7,
    "start_time": "2021-09-28T12:10:28.383Z"
   },
   {
    "duration": 23,
    "start_time": "2021-09-28T12:10:28.394Z"
   },
   {
    "duration": 18,
    "start_time": "2021-09-28T12:10:28.420Z"
   },
   {
    "duration": 14,
    "start_time": "2021-09-28T12:10:28.441Z"
   },
   {
    "duration": 19,
    "start_time": "2021-09-28T12:10:28.457Z"
   },
   {
    "duration": 8,
    "start_time": "2021-09-28T12:10:28.478Z"
   },
   {
    "duration": 14,
    "start_time": "2021-09-28T12:10:28.489Z"
   },
   {
    "duration": 7,
    "start_time": "2021-09-28T12:10:28.505Z"
   },
   {
    "duration": 11,
    "start_time": "2021-09-28T12:10:28.515Z"
   },
   {
    "duration": 13,
    "start_time": "2021-09-28T12:10:28.528Z"
   },
   {
    "duration": 11,
    "start_time": "2021-09-28T12:10:28.543Z"
   },
   {
    "duration": 24,
    "start_time": "2021-09-28T12:10:28.556Z"
   },
   {
    "duration": 20,
    "start_time": "2021-09-28T12:10:28.582Z"
   },
   {
    "duration": 14,
    "start_time": "2021-09-28T12:10:28.605Z"
   },
   {
    "duration": 14,
    "start_time": "2021-09-28T12:10:28.622Z"
   },
   {
    "duration": 17,
    "start_time": "2021-09-28T12:10:28.639Z"
   },
   {
    "duration": 12,
    "start_time": "2021-09-28T12:10:28.658Z"
   },
   {
    "duration": 6,
    "start_time": "2021-09-28T12:11:13.455Z"
   },
   {
    "duration": 407,
    "start_time": "2021-09-28T12:12:42.353Z"
   },
   {
    "duration": 320,
    "start_time": "2021-09-28T12:13:27.026Z"
   },
   {
    "duration": 780,
    "start_time": "2021-09-28T12:36:32.263Z"
   },
   {
    "duration": 194,
    "start_time": "2021-09-28T12:36:33.046Z"
   },
   {
    "duration": 35,
    "start_time": "2021-09-28T12:36:33.243Z"
   },
   {
    "duration": 48,
    "start_time": "2021-09-28T12:36:33.281Z"
   },
   {
    "duration": 21,
    "start_time": "2021-09-28T12:36:33.331Z"
   },
   {
    "duration": 24,
    "start_time": "2021-09-28T12:36:33.355Z"
   },
   {
    "duration": 719,
    "start_time": "2021-09-28T12:36:33.382Z"
   },
   {
    "duration": 332,
    "start_time": "2021-09-28T12:36:33.773Z"
   },
   {
    "duration": 331,
    "start_time": "2021-09-28T12:36:33.776Z"
   },
   {
    "duration": 329,
    "start_time": "2021-09-28T12:36:33.779Z"
   },
   {
    "duration": 328,
    "start_time": "2021-09-28T12:36:33.782Z"
   },
   {
    "duration": 327,
    "start_time": "2021-09-28T12:36:33.784Z"
   },
   {
    "duration": 326,
    "start_time": "2021-09-28T12:36:33.786Z"
   },
   {
    "duration": 325,
    "start_time": "2021-09-28T12:36:33.789Z"
   },
   {
    "duration": 324,
    "start_time": "2021-09-28T12:36:33.791Z"
   },
   {
    "duration": 317,
    "start_time": "2021-09-28T12:36:33.799Z"
   },
   {
    "duration": 317,
    "start_time": "2021-09-28T12:36:33.801Z"
   },
   {
    "duration": 313,
    "start_time": "2021-09-28T12:36:33.806Z"
   },
   {
    "duration": 311,
    "start_time": "2021-09-28T12:36:33.809Z"
   },
   {
    "duration": 310,
    "start_time": "2021-09-28T12:36:33.812Z"
   },
   {
    "duration": 309,
    "start_time": "2021-09-28T12:36:33.815Z"
   },
   {
    "duration": 308,
    "start_time": "2021-09-28T12:36:33.817Z"
   },
   {
    "duration": 307,
    "start_time": "2021-09-28T12:36:33.820Z"
   },
   {
    "duration": 301,
    "start_time": "2021-09-28T12:36:33.827Z"
   },
   {
    "duration": 299,
    "start_time": "2021-09-28T12:36:33.830Z"
   },
   {
    "duration": 298,
    "start_time": "2021-09-28T12:36:33.832Z"
   },
   {
    "duration": 298,
    "start_time": "2021-09-28T12:36:33.834Z"
   },
   {
    "duration": 296,
    "start_time": "2021-09-28T12:36:33.837Z"
   },
   {
    "duration": 291,
    "start_time": "2021-09-28T12:36:33.843Z"
   },
   {
    "duration": 289,
    "start_time": "2021-09-28T12:36:33.846Z"
   },
   {
    "duration": 289,
    "start_time": "2021-09-28T12:36:33.848Z"
   },
   {
    "duration": 288,
    "start_time": "2021-09-28T12:36:33.850Z"
   },
   {
    "duration": 287,
    "start_time": "2021-09-28T12:36:33.852Z"
   },
   {
    "duration": 286,
    "start_time": "2021-09-28T12:36:33.855Z"
   },
   {
    "duration": 305,
    "start_time": "2021-09-28T12:36:33.857Z"
   },
   {
    "duration": 304,
    "start_time": "2021-09-28T12:36:33.859Z"
   },
   {
    "duration": 303,
    "start_time": "2021-09-28T12:36:33.862Z"
   },
   {
    "duration": 298,
    "start_time": "2021-09-28T12:36:33.869Z"
   },
   {
    "duration": 789,
    "start_time": "2021-09-28T12:40:02.047Z"
   },
   {
    "duration": 123,
    "start_time": "2021-09-28T12:45:27.010Z"
   },
   {
    "duration": 546,
    "start_time": "2021-09-28T12:46:29.959Z"
   },
   {
    "duration": 90,
    "start_time": "2021-09-28T12:46:31.371Z"
   },
   {
    "duration": 576,
    "start_time": "2021-09-28T12:46:32.366Z"
   },
   {
    "duration": 108,
    "start_time": "2021-09-28T12:46:53.147Z"
   },
   {
    "duration": 266,
    "start_time": "2021-09-28T12:47:23.500Z"
   },
   {
    "duration": 291,
    "start_time": "2021-09-28T12:50:40.335Z"
   },
   {
    "duration": 309,
    "start_time": "2021-09-28T12:51:08.605Z"
   },
   {
    "duration": 463,
    "start_time": "2021-09-28T12:55:40.026Z"
   },
   {
    "duration": 303,
    "start_time": "2021-09-28T12:56:08.055Z"
   },
   {
    "duration": 281,
    "start_time": "2021-09-28T12:56:20.312Z"
   },
   {
    "duration": 761,
    "start_time": "2021-09-28T12:56:32.360Z"
   },
   {
    "duration": 284,
    "start_time": "2021-09-28T12:56:33.124Z"
   },
   {
    "duration": 53,
    "start_time": "2021-09-28T12:56:33.413Z"
   },
   {
    "duration": 56,
    "start_time": "2021-09-28T12:56:33.469Z"
   },
   {
    "duration": 34,
    "start_time": "2021-09-28T12:56:33.528Z"
   },
   {
    "duration": 36,
    "start_time": "2021-09-28T12:56:33.565Z"
   },
   {
    "duration": 27,
    "start_time": "2021-09-28T12:56:33.604Z"
   },
   {
    "duration": 26,
    "start_time": "2021-09-28T12:56:33.636Z"
   },
   {
    "duration": 51,
    "start_time": "2021-09-28T12:56:33.666Z"
   },
   {
    "duration": 25,
    "start_time": "2021-09-28T12:56:33.720Z"
   },
   {
    "duration": 28,
    "start_time": "2021-09-28T12:56:33.747Z"
   },
   {
    "duration": 34,
    "start_time": "2021-09-28T12:56:33.778Z"
   },
   {
    "duration": 31,
    "start_time": "2021-09-28T12:56:33.815Z"
   },
   {
    "duration": 36,
    "start_time": "2021-09-28T12:56:33.849Z"
   },
   {
    "duration": 481,
    "start_time": "2021-09-28T12:56:33.888Z"
   },
   {
    "duration": 14,
    "start_time": "2021-09-28T12:56:34.372Z"
   },
   {
    "duration": 20,
    "start_time": "2021-09-28T12:56:34.389Z"
   },
   {
    "duration": 10,
    "start_time": "2021-09-28T12:56:34.411Z"
   },
   {
    "duration": 18,
    "start_time": "2021-09-28T12:56:34.423Z"
   },
   {
    "duration": 19,
    "start_time": "2021-09-28T12:56:34.443Z"
   },
   {
    "duration": 23,
    "start_time": "2021-09-28T12:56:34.465Z"
   },
   {
    "duration": 13,
    "start_time": "2021-09-28T12:56:34.490Z"
   },
   {
    "duration": 11,
    "start_time": "2021-09-28T12:56:34.508Z"
   },
   {
    "duration": 22,
    "start_time": "2021-09-28T12:56:34.522Z"
   },
   {
    "duration": 8,
    "start_time": "2021-09-28T12:56:34.548Z"
   },
   {
    "duration": 25,
    "start_time": "2021-09-28T12:56:34.559Z"
   },
   {
    "duration": 8,
    "start_time": "2021-09-28T12:56:34.587Z"
   },
   {
    "duration": 18,
    "start_time": "2021-09-28T12:56:34.598Z"
   },
   {
    "duration": 20,
    "start_time": "2021-09-28T12:56:34.618Z"
   },
   {
    "duration": 14,
    "start_time": "2021-09-28T12:56:34.640Z"
   },
   {
    "duration": 23,
    "start_time": "2021-09-28T12:56:34.656Z"
   },
   {
    "duration": 10,
    "start_time": "2021-09-28T12:56:34.681Z"
   },
   {
    "duration": 22,
    "start_time": "2021-09-28T12:56:34.693Z"
   },
   {
    "duration": 6,
    "start_time": "2021-09-28T12:56:34.718Z"
   },
   {
    "duration": 10,
    "start_time": "2021-09-28T12:56:34.726Z"
   },
   {
    "duration": 31,
    "start_time": "2021-09-28T12:56:34.738Z"
   },
   {
    "duration": 14,
    "start_time": "2021-09-28T12:56:34.772Z"
   },
   {
    "duration": 8,
    "start_time": "2021-09-28T12:56:34.788Z"
   },
   {
    "duration": 27,
    "start_time": "2021-09-28T12:56:47.126Z"
   },
   {
    "duration": 28,
    "start_time": "2021-09-28T12:56:52.255Z"
   },
   {
    "duration": 6,
    "start_time": "2021-09-28T12:57:11.105Z"
   },
   {
    "duration": 30,
    "start_time": "2021-09-28T15:39:45.219Z"
   },
   {
    "duration": 4,
    "start_time": "2021-09-28T15:42:12.894Z"
   },
   {
    "duration": 23,
    "start_time": "2021-09-28T15:42:59.798Z"
   },
   {
    "duration": 31,
    "start_time": "2021-09-28T15:43:21.109Z"
   },
   {
    "duration": 88,
    "start_time": "2021-09-28T15:46:01.120Z"
   },
   {
    "duration": 103,
    "start_time": "2021-09-28T15:46:22.559Z"
   },
   {
    "duration": 77,
    "start_time": "2021-09-28T15:46:42.296Z"
   },
   {
    "duration": 7,
    "start_time": "2021-09-28T15:48:17.282Z"
   },
   {
    "duration": 14,
    "start_time": "2021-09-28T15:50:04.522Z"
   },
   {
    "duration": 10,
    "start_time": "2021-09-28T15:54:28.958Z"
   },
   {
    "duration": 12,
    "start_time": "2021-09-28T15:54:56.237Z"
   },
   {
    "duration": 439,
    "start_time": "2021-09-28T15:56:20.863Z"
   },
   {
    "duration": 18,
    "start_time": "2021-09-28T15:56:38.415Z"
   },
   {
    "duration": 16,
    "start_time": "2021-09-28T16:06:03.518Z"
   },
   {
    "duration": 19,
    "start_time": "2021-09-28T16:06:57.914Z"
   },
   {
    "duration": 8,
    "start_time": "2021-09-28T16:38:34.698Z"
   },
   {
    "duration": 123,
    "start_time": "2021-09-28T16:40:03.444Z"
   },
   {
    "duration": 144,
    "start_time": "2021-09-28T16:42:26.285Z"
   },
   {
    "duration": 8,
    "start_time": "2021-09-28T16:43:10.477Z"
   },
   {
    "duration": 349,
    "start_time": "2021-09-28T16:48:30.480Z"
   },
   {
    "duration": 343,
    "start_time": "2021-09-28T16:49:12.480Z"
   },
   {
    "duration": 786,
    "start_time": "2021-09-28T16:49:42.018Z"
   },
   {
    "duration": 364,
    "start_time": "2021-09-28T17:22:08.807Z"
   },
   {
    "duration": 428,
    "start_time": "2021-09-28T17:24:07.719Z"
   },
   {
    "duration": 9,
    "start_time": "2021-09-28T17:44:58.453Z"
   },
   {
    "duration": 403,
    "start_time": "2021-09-28T17:47:11.902Z"
   },
   {
    "duration": 136,
    "start_time": "2021-09-28T18:57:55.262Z"
   },
   {
    "duration": 7,
    "start_time": "2021-09-28T18:58:25.230Z"
   },
   {
    "duration": 9,
    "start_time": "2021-09-28T18:59:31.191Z"
   },
   {
    "duration": 13,
    "start_time": "2021-09-28T19:00:47.559Z"
   },
   {
    "duration": 15,
    "start_time": "2021-09-28T19:02:20.664Z"
   },
   {
    "duration": 8,
    "start_time": "2021-09-28T19:05:53.978Z"
   },
   {
    "duration": 21,
    "start_time": "2021-09-28T19:24:48.528Z"
   },
   {
    "duration": 42,
    "start_time": "2021-09-28T19:25:29.559Z"
   },
   {
    "duration": 14,
    "start_time": "2021-09-28T19:25:34.198Z"
   },
   {
    "duration": 15,
    "start_time": "2021-09-28T19:27:13.312Z"
   },
   {
    "duration": 14,
    "start_time": "2021-09-28T19:27:15.876Z"
   },
   {
    "duration": 347,
    "start_time": "2021-09-28T19:33:02.328Z"
   },
   {
    "duration": 15,
    "start_time": "2021-09-28T19:33:15.899Z"
   },
   {
    "duration": 14,
    "start_time": "2021-09-28T19:34:46.638Z"
   },
   {
    "duration": 358,
    "start_time": "2021-09-28T19:50:35.288Z"
   },
   {
    "duration": 378,
    "start_time": "2021-09-28T20:04:48.464Z"
   },
   {
    "duration": 6,
    "start_time": "2021-09-28T20:05:02.865Z"
   },
   {
    "duration": 15,
    "start_time": "2021-09-28T20:05:10.880Z"
   },
   {
    "duration": 20,
    "start_time": "2021-09-28T20:07:20.066Z"
   },
   {
    "duration": 16,
    "start_time": "2021-09-28T20:07:22.785Z"
   },
   {
    "duration": 16,
    "start_time": "2021-09-28T20:07:26.121Z"
   },
   {
    "duration": 16,
    "start_time": "2021-09-28T20:07:29.825Z"
   },
   {
    "duration": 22,
    "start_time": "2021-09-28T20:07:36.665Z"
   },
   {
    "duration": 15,
    "start_time": "2021-09-28T20:12:20.005Z"
   },
   {
    "duration": 19,
    "start_time": "2021-09-28T20:13:49.070Z"
   },
   {
    "duration": 29,
    "start_time": "2021-09-28T20:17:02.560Z"
   },
   {
    "duration": 21,
    "start_time": "2021-09-28T20:17:14.456Z"
   },
   {
    "duration": 15,
    "start_time": "2021-09-28T20:18:15.744Z"
   },
   {
    "duration": 19,
    "start_time": "2021-09-28T20:18:24.576Z"
   },
   {
    "duration": 15,
    "start_time": "2021-09-28T20:22:55.228Z"
   },
   {
    "duration": 21,
    "start_time": "2021-09-28T20:23:44.868Z"
   },
   {
    "duration": 15,
    "start_time": "2021-09-28T20:39:21.383Z"
   },
   {
    "duration": 5,
    "start_time": "2021-09-28T20:46:05.099Z"
   },
   {
    "duration": 1726,
    "start_time": "2021-09-28T20:46:09.274Z"
   },
   {
    "duration": 4,
    "start_time": "2021-09-28T20:46:54.324Z"
   },
   {
    "duration": 1698,
    "start_time": "2021-09-28T20:46:58.141Z"
   },
   {
    "duration": 2314,
    "start_time": "2021-09-28T20:47:35.166Z"
   },
   {
    "duration": 4,
    "start_time": "2021-09-28T20:48:16.533Z"
   },
   {
    "duration": 1859,
    "start_time": "2021-09-28T20:48:19.996Z"
   },
   {
    "duration": 1656,
    "start_time": "2021-09-28T20:48:33.787Z"
   },
   {
    "duration": 1686,
    "start_time": "2021-09-28T20:48:41.516Z"
   },
   {
    "duration": 4,
    "start_time": "2021-09-28T20:50:06.798Z"
   },
   {
    "duration": 15,
    "start_time": "2021-09-28T20:50:09.471Z"
   },
   {
    "duration": 15,
    "start_time": "2021-09-28T20:50:15.991Z"
   },
   {
    "duration": 15,
    "start_time": "2021-09-28T20:50:20.566Z"
   },
   {
    "duration": 396,
    "start_time": "2021-09-29T07:31:17.417Z"
   },
   {
    "duration": 119,
    "start_time": "2021-09-29T07:48:20.201Z"
   },
   {
    "duration": 4,
    "start_time": "2021-09-29T08:12:18.384Z"
   },
   {
    "duration": 713,
    "start_time": "2021-09-29T08:12:22.976Z"
   },
   {
    "duration": 6,
    "start_time": "2021-09-29T08:13:27.092Z"
   },
   {
    "duration": 664,
    "start_time": "2021-09-29T08:13:32.600Z"
   },
   {
    "duration": 5,
    "start_time": "2021-09-29T08:13:48.689Z"
   },
   {
    "duration": 722,
    "start_time": "2021-09-29T08:13:51.313Z"
   },
   {
    "duration": 5,
    "start_time": "2021-09-29T08:15:10.569Z"
   },
   {
    "duration": 762,
    "start_time": "2021-09-29T08:15:13.810Z"
   },
   {
    "duration": 6,
    "start_time": "2021-09-29T08:17:37.123Z"
   },
   {
    "duration": 825,
    "start_time": "2021-09-29T08:17:39.211Z"
   },
   {
    "duration": 4,
    "start_time": "2021-09-29T08:19:22.853Z"
   },
   {
    "duration": 841,
    "start_time": "2021-09-29T08:19:26.180Z"
   },
   {
    "duration": 4,
    "start_time": "2021-09-29T08:21:11.949Z"
   },
   {
    "duration": 674,
    "start_time": "2021-09-29T08:21:15.493Z"
   },
   {
    "duration": 6,
    "start_time": "2021-09-29T08:27:58.306Z"
   },
   {
    "duration": 748,
    "start_time": "2021-09-29T08:28:00.601Z"
   },
   {
    "duration": 6,
    "start_time": "2021-09-29T08:28:35.597Z"
   },
   {
    "duration": 748,
    "start_time": "2021-09-29T08:28:38.826Z"
   },
   {
    "duration": 5,
    "start_time": "2021-09-29T10:00:15.456Z"
   },
   {
    "duration": 842,
    "start_time": "2021-09-29T10:00:32.052Z"
   },
   {
    "duration": 207,
    "start_time": "2021-09-29T10:00:32.897Z"
   },
   {
    "duration": 27,
    "start_time": "2021-09-29T10:00:33.107Z"
   },
   {
    "duration": 49,
    "start_time": "2021-09-29T10:00:33.137Z"
   },
   {
    "duration": 15,
    "start_time": "2021-09-29T10:00:33.188Z"
   },
   {
    "duration": 43,
    "start_time": "2021-09-29T10:00:33.206Z"
   },
   {
    "duration": 24,
    "start_time": "2021-09-29T10:00:33.252Z"
   },
   {
    "duration": 40,
    "start_time": "2021-09-29T10:00:33.280Z"
   },
   {
    "duration": 36,
    "start_time": "2021-09-29T10:00:33.323Z"
   },
   {
    "duration": 35,
    "start_time": "2021-09-29T10:00:33.362Z"
   },
   {
    "duration": 99,
    "start_time": "2021-09-29T10:00:33.399Z"
   },
   {
    "duration": 122,
    "start_time": "2021-09-29T10:00:33.500Z"
   },
   {
    "duration": 93,
    "start_time": "2021-09-29T10:00:33.624Z"
   },
   {
    "duration": 19,
    "start_time": "2021-09-29T10:00:33.719Z"
   },
   {
    "duration": 4,
    "start_time": "2021-09-29T10:00:33.741Z"
   },
   {
    "duration": 36,
    "start_time": "2021-09-29T10:00:33.747Z"
   },
   {
    "duration": 15,
    "start_time": "2021-09-29T10:00:33.786Z"
   },
   {
    "duration": 17,
    "start_time": "2021-09-29T10:00:33.803Z"
   },
   {
    "duration": 55,
    "start_time": "2021-09-29T10:00:33.823Z"
   },
   {
    "duration": 5,
    "start_time": "2021-09-29T10:00:33.881Z"
   },
   {
    "duration": 921,
    "start_time": "2021-09-29T10:00:33.889Z"
   },
   {
    "duration": 527,
    "start_time": "2021-09-29T10:00:34.288Z"
   },
   {
    "duration": 521,
    "start_time": "2021-09-29T10:00:34.296Z"
   },
   {
    "duration": 519,
    "start_time": "2021-09-29T10:00:34.300Z"
   },
   {
    "duration": 518,
    "start_time": "2021-09-29T10:00:34.303Z"
   },
   {
    "duration": 518,
    "start_time": "2021-09-29T10:00:34.305Z"
   },
   {
    "duration": 517,
    "start_time": "2021-09-29T10:00:34.308Z"
   },
   {
    "duration": 517,
    "start_time": "2021-09-29T10:00:34.311Z"
   },
   {
    "duration": 512,
    "start_time": "2021-09-29T10:00:34.318Z"
   },
   {
    "duration": 511,
    "start_time": "2021-09-29T10:00:34.321Z"
   },
   {
    "duration": 506,
    "start_time": "2021-09-29T10:00:34.328Z"
   },
   {
    "duration": 497,
    "start_time": "2021-09-29T10:00:34.339Z"
   },
   {
    "duration": 495,
    "start_time": "2021-09-29T10:00:34.343Z"
   },
   {
    "duration": 493,
    "start_time": "2021-09-29T10:00:34.347Z"
   },
   {
    "duration": 492,
    "start_time": "2021-09-29T10:00:34.350Z"
   },
   {
    "duration": 486,
    "start_time": "2021-09-29T10:00:34.358Z"
   },
   {
    "duration": 484,
    "start_time": "2021-09-29T10:00:34.362Z"
   },
   {
    "duration": 483,
    "start_time": "2021-09-29T10:00:34.365Z"
   },
   {
    "duration": 5,
    "start_time": "2021-09-29T10:09:28.260Z"
   },
   {
    "duration": 23,
    "start_time": "2021-09-29T10:09:32.508Z"
   },
   {
    "duration": 21,
    "start_time": "2021-09-29T10:09:43.772Z"
   },
   {
    "duration": 20,
    "start_time": "2021-09-29T10:09:46.790Z"
   },
   {
    "duration": 20,
    "start_time": "2021-09-29T10:09:49.773Z"
   },
   {
    "duration": 22,
    "start_time": "2021-09-29T10:10:09.701Z"
   },
   {
    "duration": 19,
    "start_time": "2021-09-29T10:10:13.909Z"
   },
   {
    "duration": 13,
    "start_time": "2021-09-29T10:16:45.865Z"
   },
   {
    "duration": 14,
    "start_time": "2021-09-29T10:18:37.419Z"
   },
   {
    "duration": 12,
    "start_time": "2021-09-29T10:18:39.754Z"
   },
   {
    "duration": 17,
    "start_time": "2021-09-29T10:19:01.114Z"
   },
   {
    "duration": 13,
    "start_time": "2021-09-29T10:19:03.463Z"
   },
   {
    "duration": 6,
    "start_time": "2021-09-29T10:21:44.820Z"
   },
   {
    "duration": 14,
    "start_time": "2021-09-29T10:27:23.544Z"
   },
   {
    "duration": 6,
    "start_time": "2021-09-29T10:34:30.917Z"
   },
   {
    "duration": 827,
    "start_time": "2021-09-29T10:35:04.316Z"
   },
   {
    "duration": 8,
    "start_time": "2021-09-29T10:43:06.714Z"
   },
   {
    "duration": 1115,
    "start_time": "2021-09-29T10:43:10.546Z"
   },
   {
    "duration": 6,
    "start_time": "2021-09-29T10:43:38.630Z"
   },
   {
    "duration": 772,
    "start_time": "2021-09-29T10:43:40.770Z"
   },
   {
    "duration": 6,
    "start_time": "2021-09-29T10:46:13.196Z"
   },
   {
    "duration": 773,
    "start_time": "2021-09-29T10:46:28.196Z"
   },
   {
    "duration": 816,
    "start_time": "2021-09-29T10:46:50.213Z"
   },
   {
    "duration": 9,
    "start_time": "2021-09-29T10:48:25.870Z"
   },
   {
    "duration": 27,
    "start_time": "2021-09-29T10:48:28.421Z"
   },
   {
    "duration": 6,
    "start_time": "2021-09-29T10:50:36.047Z"
   },
   {
    "duration": 22,
    "start_time": "2021-09-29T10:50:38.975Z"
   },
   {
    "duration": 6,
    "start_time": "2021-09-29T10:51:18.583Z"
   },
   {
    "duration": 25,
    "start_time": "2021-09-29T10:51:21.559Z"
   },
   {
    "duration": 17,
    "start_time": "2021-09-29T10:52:13.575Z"
   },
   {
    "duration": 23,
    "start_time": "2021-09-29T10:54:46.249Z"
   },
   {
    "duration": 17,
    "start_time": "2021-09-29T10:54:49.849Z"
   },
   {
    "duration": 11,
    "start_time": "2021-09-29T10:57:29.083Z"
   },
   {
    "duration": 7,
    "start_time": "2021-09-29T10:57:46.163Z"
   },
   {
    "duration": 10,
    "start_time": "2021-09-29T10:58:51.485Z"
   },
   {
    "duration": 7,
    "start_time": "2021-09-29T10:59:18.133Z"
   },
   {
    "duration": 21,
    "start_time": "2021-09-29T11:03:22.281Z"
   },
   {
    "duration": 769,
    "start_time": "2021-09-29T11:06:43.115Z"
   },
   {
    "duration": 201,
    "start_time": "2021-09-29T11:06:43.888Z"
   },
   {
    "duration": 26,
    "start_time": "2021-09-29T11:06:44.092Z"
   },
   {
    "duration": 55,
    "start_time": "2021-09-29T11:06:44.121Z"
   },
   {
    "duration": 7,
    "start_time": "2021-09-29T11:06:44.179Z"
   },
   {
    "duration": 29,
    "start_time": "2021-09-29T11:06:44.189Z"
   },
   {
    "duration": 13,
    "start_time": "2021-09-29T11:06:44.221Z"
   },
   {
    "duration": 63,
    "start_time": "2021-09-29T11:06:44.238Z"
   },
   {
    "duration": 36,
    "start_time": "2021-09-29T11:06:44.305Z"
   },
   {
    "duration": 53,
    "start_time": "2021-09-29T11:06:44.344Z"
   },
   {
    "duration": 119,
    "start_time": "2021-09-29T11:06:44.399Z"
   },
   {
    "duration": 123,
    "start_time": "2021-09-29T11:06:44.520Z"
   },
   {
    "duration": 93,
    "start_time": "2021-09-29T11:06:44.645Z"
   },
   {
    "duration": 29,
    "start_time": "2021-09-29T11:06:44.740Z"
   },
   {
    "duration": 4,
    "start_time": "2021-09-29T11:06:44.780Z"
   },
   {
    "duration": 18,
    "start_time": "2021-09-29T11:06:44.786Z"
   },
   {
    "duration": 13,
    "start_time": "2021-09-29T11:06:44.807Z"
   },
   {
    "duration": 16,
    "start_time": "2021-09-29T11:06:44.822Z"
   },
   {
    "duration": 46,
    "start_time": "2021-09-29T11:06:44.840Z"
   },
   {
    "duration": 6,
    "start_time": "2021-09-29T11:06:44.888Z"
   },
   {
    "duration": 37,
    "start_time": "2021-09-29T11:06:44.896Z"
   },
   {
    "duration": 37,
    "start_time": "2021-09-29T11:06:44.935Z"
   },
   {
    "duration": 23,
    "start_time": "2021-09-29T11:06:44.978Z"
   },
   {
    "duration": 22,
    "start_time": "2021-09-29T11:06:45.005Z"
   },
   {
    "duration": 55,
    "start_time": "2021-09-29T11:06:45.030Z"
   },
   {
    "duration": 19,
    "start_time": "2021-09-29T11:06:45.088Z"
   },
   {
    "duration": 13,
    "start_time": "2021-09-29T11:06:45.109Z"
   },
   {
    "duration": 59,
    "start_time": "2021-09-29T11:06:45.124Z"
   },
   {
    "duration": 12,
    "start_time": "2021-09-29T11:06:45.185Z"
   },
   {
    "duration": 24,
    "start_time": "2021-09-29T11:06:45.199Z"
   },
   {
    "duration": 49,
    "start_time": "2021-09-29T11:06:45.225Z"
   },
   {
    "duration": 20,
    "start_time": "2021-09-29T11:06:45.279Z"
   },
   {
    "duration": 34,
    "start_time": "2021-09-29T11:06:45.301Z"
   },
   {
    "duration": 35,
    "start_time": "2021-09-29T11:06:45.337Z"
   },
   {
    "duration": 14,
    "start_time": "2021-09-29T11:06:45.375Z"
   },
   {
    "duration": 10,
    "start_time": "2021-09-29T11:06:45.392Z"
   },
   {
    "duration": 17,
    "start_time": "2021-09-29T11:06:45.404Z"
   },
   {
    "duration": 10,
    "start_time": "2021-09-29T11:06:45.424Z"
   },
   {
    "duration": 869,
    "start_time": "2021-09-29T14:09:18.412Z"
   },
   {
    "duration": 227,
    "start_time": "2021-09-29T14:09:19.284Z"
   },
   {
    "duration": 35,
    "start_time": "2021-09-29T14:09:19.515Z"
   },
   {
    "duration": 45,
    "start_time": "2021-09-29T14:09:19.553Z"
   },
   {
    "duration": 4,
    "start_time": "2021-09-29T14:09:19.599Z"
   },
   {
    "duration": 50,
    "start_time": "2021-09-29T14:09:19.605Z"
   },
   {
    "duration": 6,
    "start_time": "2021-09-29T14:09:19.657Z"
   },
   {
    "duration": 28,
    "start_time": "2021-09-29T14:09:19.665Z"
   },
   {
    "duration": 20,
    "start_time": "2021-09-29T14:09:19.695Z"
   },
   {
    "duration": 49,
    "start_time": "2021-09-29T14:09:19.717Z"
   },
   {
    "duration": 84,
    "start_time": "2021-09-29T14:09:19.768Z"
   },
   {
    "duration": 76,
    "start_time": "2021-09-29T14:09:19.854Z"
   },
   {
    "duration": 70,
    "start_time": "2021-09-29T14:09:19.932Z"
   },
   {
    "duration": 14,
    "start_time": "2021-09-29T14:09:20.004Z"
   },
   {
    "duration": 5,
    "start_time": "2021-09-29T14:09:20.020Z"
   },
   {
    "duration": 30,
    "start_time": "2021-09-29T14:09:20.027Z"
   },
   {
    "duration": 23,
    "start_time": "2021-09-29T14:09:20.059Z"
   },
   {
    "duration": 18,
    "start_time": "2021-09-29T14:09:20.084Z"
   },
   {
    "duration": 13,
    "start_time": "2021-09-29T14:09:20.104Z"
   },
   {
    "duration": 4,
    "start_time": "2021-09-29T14:09:20.119Z"
   },
   {
    "duration": 34,
    "start_time": "2021-09-29T14:09:20.125Z"
   },
   {
    "duration": 16,
    "start_time": "2021-09-29T14:09:20.162Z"
   },
   {
    "duration": 22,
    "start_time": "2021-09-29T14:09:20.181Z"
   },
   {
    "duration": 20,
    "start_time": "2021-09-29T14:09:20.205Z"
   },
   {
    "duration": 39,
    "start_time": "2021-09-29T14:09:20.227Z"
   },
   {
    "duration": 18,
    "start_time": "2021-09-29T14:09:20.268Z"
   },
   {
    "duration": 9,
    "start_time": "2021-09-29T14:09:20.288Z"
   },
   {
    "duration": 13,
    "start_time": "2021-09-29T14:09:20.299Z"
   },
   {
    "duration": 40,
    "start_time": "2021-09-29T14:09:20.314Z"
   },
   {
    "duration": 5,
    "start_time": "2021-09-29T14:09:20.356Z"
   },
   {
    "duration": 27,
    "start_time": "2021-09-29T14:09:20.362Z"
   },
   {
    "duration": 14,
    "start_time": "2021-09-29T14:09:20.391Z"
   },
   {
    "duration": 43,
    "start_time": "2021-09-29T14:09:20.407Z"
   },
   {
    "duration": 16,
    "start_time": "2021-09-29T14:09:20.452Z"
   },
   {
    "duration": 9,
    "start_time": "2021-09-29T14:09:20.469Z"
   },
   {
    "duration": 6,
    "start_time": "2021-09-29T14:09:20.480Z"
   },
   {
    "duration": 10,
    "start_time": "2021-09-29T14:09:20.489Z"
   },
   {
    "duration": 7,
    "start_time": "2021-09-29T14:09:20.501Z"
   },
   {
    "duration": 17,
    "start_time": "2021-09-29T14:14:17.251Z"
   },
   {
    "duration": 8,
    "start_time": "2021-09-29T14:15:34.976Z"
   },
   {
    "duration": 5,
    "start_time": "2021-09-29T14:45:44.510Z"
   },
   {
    "duration": 239,
    "start_time": "2021-09-29T14:48:58.987Z"
   },
   {
    "duration": 231,
    "start_time": "2021-09-29T14:49:07.980Z"
   },
   {
    "duration": 201,
    "start_time": "2021-09-29T14:49:30.427Z"
   },
   {
    "duration": 259,
    "start_time": "2021-09-29T14:49:44.826Z"
   },
   {
    "duration": 229,
    "start_time": "2021-09-29T14:52:51.341Z"
   },
   {
    "duration": 213,
    "start_time": "2021-09-29T14:53:05.724Z"
   },
   {
    "duration": 232,
    "start_time": "2021-09-29T14:53:15.717Z"
   },
   {
    "duration": 312,
    "start_time": "2021-09-29T14:53:39.737Z"
   },
   {
    "duration": 600,
    "start_time": "2021-09-29T14:54:22.204Z"
   },
   {
    "duration": 196,
    "start_time": "2021-09-29T14:54:22.807Z"
   },
   {
    "duration": 18,
    "start_time": "2021-09-29T14:54:23.008Z"
   },
   {
    "duration": 31,
    "start_time": "2021-09-29T14:54:23.028Z"
   },
   {
    "duration": 5,
    "start_time": "2021-09-29T14:54:23.061Z"
   },
   {
    "duration": 50,
    "start_time": "2021-09-29T14:54:23.068Z"
   },
   {
    "duration": 5,
    "start_time": "2021-09-29T14:54:23.121Z"
   },
   {
    "duration": 24,
    "start_time": "2021-09-29T14:54:23.128Z"
   },
   {
    "duration": 54,
    "start_time": "2021-09-29T14:54:23.154Z"
   },
   {
    "duration": 24,
    "start_time": "2021-09-29T14:54:23.210Z"
   },
   {
    "duration": 89,
    "start_time": "2021-09-29T14:54:23.236Z"
   },
   {
    "duration": 85,
    "start_time": "2021-09-29T14:54:23.327Z"
   },
   {
    "duration": 53,
    "start_time": "2021-09-29T14:54:23.414Z"
   },
   {
    "duration": 33,
    "start_time": "2021-09-29T14:54:23.469Z"
   },
   {
    "duration": 3,
    "start_time": "2021-09-29T14:54:23.503Z"
   },
   {
    "duration": 12,
    "start_time": "2021-09-29T14:54:23.507Z"
   },
   {
    "duration": 9,
    "start_time": "2021-09-29T14:54:23.521Z"
   },
   {
    "duration": 12,
    "start_time": "2021-09-29T14:54:23.532Z"
   },
   {
    "duration": 64,
    "start_time": "2021-09-29T14:54:23.546Z"
   },
   {
    "duration": 14,
    "start_time": "2021-09-29T14:54:23.612Z"
   },
   {
    "duration": 3,
    "start_time": "2021-09-29T14:54:23.628Z"
   },
   {
    "duration": 19,
    "start_time": "2021-09-29T14:54:23.634Z"
   },
   {
    "duration": 50,
    "start_time": "2021-09-29T14:54:23.656Z"
   },
   {
    "duration": 16,
    "start_time": "2021-09-29T14:54:23.708Z"
   },
   {
    "duration": 14,
    "start_time": "2021-09-29T14:54:23.725Z"
   },
   {
    "duration": 64,
    "start_time": "2021-09-29T14:54:23.741Z"
   },
   {
    "duration": 15,
    "start_time": "2021-09-29T14:54:23.807Z"
   },
   {
    "duration": 9,
    "start_time": "2021-09-29T14:54:23.823Z"
   },
   {
    "duration": 13,
    "start_time": "2021-09-29T14:54:23.834Z"
   },
   {
    "duration": 9,
    "start_time": "2021-09-29T14:54:23.849Z"
   },
   {
    "duration": 43,
    "start_time": "2021-09-29T14:54:23.860Z"
   },
   {
    "duration": 23,
    "start_time": "2021-09-29T14:54:23.904Z"
   },
   {
    "duration": 11,
    "start_time": "2021-09-29T14:54:23.929Z"
   },
   {
    "duration": 17,
    "start_time": "2021-09-29T14:54:23.942Z"
   },
   {
    "duration": 49,
    "start_time": "2021-09-29T14:54:23.960Z"
   },
   {
    "duration": 7,
    "start_time": "2021-09-29T14:54:24.011Z"
   },
   {
    "duration": 5,
    "start_time": "2021-09-29T14:54:24.020Z"
   },
   {
    "duration": 9,
    "start_time": "2021-09-29T14:54:24.026Z"
   },
   {
    "duration": 7,
    "start_time": "2021-09-29T14:54:24.037Z"
   },
   {
    "duration": 56,
    "start_time": "2021-09-29T14:54:24.045Z"
   },
   {
    "duration": 10,
    "start_time": "2021-09-29T14:55:35.903Z"
   },
   {
    "duration": 14,
    "start_time": "2021-09-29T14:55:44.895Z"
   },
   {
    "duration": 11,
    "start_time": "2021-09-29T14:55:51.456Z"
   },
   {
    "duration": 11,
    "start_time": "2021-09-29T14:56:14.025Z"
   },
   {
    "duration": 14,
    "start_time": "2021-09-29T14:57:58.113Z"
   },
   {
    "duration": 13,
    "start_time": "2021-09-29T14:58:30.777Z"
   },
   {
    "duration": 597,
    "start_time": "2021-09-29T14:58:50.296Z"
   },
   {
    "duration": 139,
    "start_time": "2021-09-29T14:58:50.895Z"
   },
   {
    "duration": 17,
    "start_time": "2021-09-29T14:58:51.036Z"
   },
   {
    "duration": 46,
    "start_time": "2021-09-29T14:58:51.054Z"
   },
   {
    "duration": 4,
    "start_time": "2021-09-29T14:58:51.102Z"
   },
   {
    "duration": 22,
    "start_time": "2021-09-29T14:58:51.108Z"
   },
   {
    "duration": 4,
    "start_time": "2021-09-29T14:58:51.131Z"
   },
   {
    "duration": 22,
    "start_time": "2021-09-29T14:58:51.138Z"
   },
   {
    "duration": 17,
    "start_time": "2021-09-29T14:58:51.200Z"
   },
   {
    "duration": 21,
    "start_time": "2021-09-29T14:58:51.218Z"
   },
   {
    "duration": 90,
    "start_time": "2021-09-29T14:58:51.241Z"
   },
   {
    "duration": 80,
    "start_time": "2021-09-29T14:58:51.332Z"
   },
   {
    "duration": 48,
    "start_time": "2021-09-29T14:58:51.414Z"
   },
   {
    "duration": 13,
    "start_time": "2021-09-29T14:58:51.464Z"
   },
   {
    "duration": 3,
    "start_time": "2021-09-29T14:58:51.500Z"
   },
   {
    "duration": 11,
    "start_time": "2021-09-29T14:58:51.505Z"
   },
   {
    "duration": 9,
    "start_time": "2021-09-29T14:58:51.517Z"
   },
   {
    "duration": 10,
    "start_time": "2021-09-29T14:58:51.528Z"
   },
   {
    "duration": 65,
    "start_time": "2021-09-29T14:58:51.540Z"
   },
   {
    "duration": 21,
    "start_time": "2021-09-29T14:58:51.607Z"
   },
   {
    "duration": 3,
    "start_time": "2021-09-29T14:58:51.630Z"
   },
   {
    "duration": 21,
    "start_time": "2021-09-29T14:58:51.635Z"
   },
   {
    "duration": 46,
    "start_time": "2021-09-29T14:58:51.659Z"
   },
   {
    "duration": 15,
    "start_time": "2021-09-29T14:58:51.707Z"
   },
   {
    "duration": 14,
    "start_time": "2021-09-29T14:58:51.723Z"
   },
   {
    "duration": 16,
    "start_time": "2021-09-29T14:58:51.739Z"
   },
   {
    "duration": 55,
    "start_time": "2021-09-29T14:58:51.757Z"
   },
   {
    "duration": 8,
    "start_time": "2021-09-29T14:58:51.814Z"
   },
   {
    "duration": 11,
    "start_time": "2021-09-29T14:58:51.824Z"
   },
   {
    "duration": 9,
    "start_time": "2021-09-29T14:58:51.837Z"
   },
   {
    "duration": 4,
    "start_time": "2021-09-29T14:58:51.847Z"
   },
   {
    "duration": 63,
    "start_time": "2021-09-29T14:58:51.853Z"
   },
   {
    "duration": 12,
    "start_time": "2021-09-29T14:58:51.918Z"
   },
   {
    "duration": 16,
    "start_time": "2021-09-29T14:58:51.931Z"
   },
   {
    "duration": 53,
    "start_time": "2021-09-29T14:58:51.949Z"
   },
   {
    "duration": 8,
    "start_time": "2021-09-29T14:58:52.004Z"
   },
   {
    "duration": 8,
    "start_time": "2021-09-29T14:58:52.013Z"
   },
   {
    "duration": 14,
    "start_time": "2021-09-29T14:58:52.023Z"
   },
   {
    "duration": 14,
    "start_time": "2021-09-29T14:58:52.039Z"
   },
   {
    "duration": 11,
    "start_time": "2021-09-29T14:58:52.054Z"
   }
  ],
  "colab": {
   "collapsed_sections": [
    "E0vqbgi9ay0H",
    "VUC88oWjTJw2"
   ],
   "name": "yandex_music_project_2021.2.ipynb",
   "provenance": []
  },
  "kernelspec": {
   "display_name": "Python 3 (ipykernel)",
   "language": "python",
   "name": "python3"
  },
  "language_info": {
   "codemirror_mode": {
    "name": "ipython",
    "version": 3
   },
   "file_extension": ".py",
   "mimetype": "text/x-python",
   "name": "python",
   "nbconvert_exporter": "python",
   "pygments_lexer": "ipython3",
   "version": "3.9.7"
  },
  "toc": {
   "base_numbering": 1,
   "nav_menu": {},
   "number_sections": true,
   "sideBar": true,
   "skip_h1_title": true,
   "title_cell": "Table of Contents",
   "title_sidebar": "Contents",
   "toc_cell": false,
   "toc_position": {},
   "toc_section_display": true,
   "toc_window_display": true
  }
 },
 "nbformat": 4,
 "nbformat_minor": 1
}
